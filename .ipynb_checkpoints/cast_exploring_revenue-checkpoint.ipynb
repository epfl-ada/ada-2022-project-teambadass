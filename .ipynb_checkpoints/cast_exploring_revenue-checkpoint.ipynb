{
 "cells": [
  {
   "cell_type": "markdown",
   "id": "0fa370f5-5191-43d6-8ba8-44454131fd4d",
   "metadata": {},
   "source": [
    "# Cast\n",
    "- This notebook intends to investigate the casts of the CMU Movie Summary Corpus dataset.\n",
    "- The notebook will do some initial analyses to see how the cast and individual movie actors affects the box office revenue."
   ]
  },
  {
   "cell_type": "markdown",
   "id": "06140871-7aa4-4f2e-b1e7-d52bb95c8214",
   "metadata": {},
   "source": [
    "**Summary**"
   ]
  },
  {
   "cell_type": "markdown",
   "id": "e2f5aba1-df51-44e1-8aed-3117555f01b0",
   "metadata": {},
   "source": [
    "- By including all actors that have played in more than 15 movies, we get $R^2$=xx\n",
    "- "
   ]
  },
  {
   "cell_type": "markdown",
   "id": "9c4f575f-bfbf-47a1-bd1b-209e1f9f7b2c",
   "metadata": {},
   "source": [
    "**Contents of Notebook**"
   ]
  },
  {
   "cell_type": "markdown",
   "id": "9548e9a9-5d5f-46f6-926f-8958841f05e3",
   "metadata": {},
   "source": [
    "-"
   ]
  },
  {
   "cell_type": "code",
   "execution_count": 1,
   "id": "0043cd7e-1ec1-4f4a-9d1b-aa638a3a5eb4",
   "metadata": {},
   "outputs": [],
   "source": [
    "# imports\n",
    "import pandas as pd\n",
    "import matplotlib.pyplot as plt\n",
    "import numpy as np\n",
    "from scipy import stats\n",
    "import statsmodels.api as sm\n",
    "import statsmodels.formula.api as smf\n",
    "\n",
    "# turn off warning\n",
    "pd.options.mode.chained_assignment = None"
   ]
  },
  {
   "cell_type": "code",
   "execution_count": 2,
   "id": "095e9277-f7ca-4492-a78d-d775baf1d1a0",
   "metadata": {},
   "outputs": [],
   "source": [
    "# constants\n",
    "data_folder = './data/'\n",
    "MOVIE_PATH = data_folder + 'movie.metadata.tsv'\n",
    "CHARACTER_PATH = data_folder + 'character.metadata.tsv'\n",
    "RATING_PATH = data_folder + 'title.ratings.tsv'"
   ]
  },
  {
   "cell_type": "markdown",
   "id": "cd47db07-4825-441b-9beb-2ec3544844fa",
   "metadata": {
    "tags": []
   },
   "source": [
    "# Data Processing"
   ]
  },
  {
   "cell_type": "markdown",
   "id": "a41e1a76-356d-4eef-890c-3adceafb18cf",
   "metadata": {},
   "source": [
    "### Loading data"
   ]
  },
  {
   "cell_type": "code",
   "execution_count": 4,
   "id": "4c5de39f-84aa-427e-a990-8348638dc5be",
   "metadata": {},
   "outputs": [],
   "source": [
    "# create dataframes\n",
    "\n",
    "# define collumn names\n",
    "colnames_movies = [\n",
    "    \"wikipedia_movie_ID\",\n",
    "    \"freebase_movie_ID\",\n",
    "    \"name\",\n",
    "    \"release_date\",\n",
    "    \"box_office_revenue\",\n",
    "    \"runtime\",\n",
    "    \"languages\",\n",
    "    \"countries\",\n",
    "    \"genres\",\n",
    "]\n",
    "\n",
    "colnames_character = [\n",
    "    \"wikipedia_movie_ID\",\n",
    "    \"freebase_movie_ID\",\n",
    "    \"last_update\",\n",
    "    \"character_name\",\n",
    "    \"actor_DOB\",\n",
    "    \"actor_gender\",\n",
    "    \"actor_height\",\n",
    "    \"actor_ethnicity\",\n",
    "    \"actor_name\",\n",
    "    \"actor_age_at_movie_release\",\n",
    "    \"freebase_character/actor_map_ID\",\n",
    "    \"freebase_character_ID\",\n",
    "    \"freebase_actor_ID\",\n",
    "]\n",
    "\n",
    "\n",
    "# load data\n",
    "movies = pd.read_csv(MOVIE_PATH, sep=\"\\t\", names=colnames_movies, header=None)\n",
    "characters = pd.read_csv(\n",
    "    CHARACTER_PATH, sep=\"\\t\", names=colnames_character, header=None\n",
    ")"
   ]
  },
  {
   "cell_type": "code",
   "execution_count": null,
   "id": "408c6388-e81b-4978-a3c5-e7b5bdcf13f2",
   "metadata": {},
   "outputs": [],
   "source": [
    "# Removing movies from before 2000\n",
    "movies = movies[movies['release_date'] >= '2000']\n",
    "movies.shape"
   ]
  },
  {
   "cell_type": "code",
   "execution_count": null,
   "id": "2a8d7108-2bf0-4204-8d24-552663ea08a7",
   "metadata": {},
   "outputs": [],
   "source": [
    "movies.head(1)"
   ]
  },
  {
   "cell_type": "code",
   "execution_count": null,
   "id": "0b630d3a-d3d1-474e-921f-00288d6b125f",
   "metadata": {},
   "outputs": [],
   "source": [
    "characters.head(1)"
   ]
  },
  {
   "cell_type": "code",
   "execution_count": null,
   "id": "455cf431-50bc-4de8-9238-09bfe25a0dc3",
   "metadata": {},
   "outputs": [],
   "source": [
    "# Merging movies with characters on wiki_id. \n",
    "movies_characters = pd.merge(left=movies, right=characters, on='wikipedia_movie_ID')\n",
    "movies_characters.head(1)"
   ]
  },
  {
   "cell_type": "code",
   "execution_count": null,
   "id": "7b512749-bb90-4cb6-8cc7-e5780609345e",
   "metadata": {},
   "outputs": [],
   "source": [
    "movies_characters.isna().sum()"
   ]
  },
  {
   "cell_type": "code",
   "execution_count": null,
   "id": "9aeff5f4-b3c9-49ae-9bfc-ac8a8b2a738d",
   "metadata": {},
   "outputs": [],
   "source": [
    "# Removing movies with NULL value in freebase_actor_id\n",
    "movies_characters = movies_characters[movies_characters['freebase_actor_ID'].notna()]\n",
    "movies_characters.shape"
   ]
  },
  {
   "cell_type": "code",
   "execution_count": null,
   "id": "03b6289c-7923-45da-a197-53f1e6bb5746",
   "metadata": {},
   "outputs": [],
   "source": [
    "# Number of unique movies\n",
    "num_movies = movies_characters[\"wikipedia_movie_ID\"].nunique()\n",
    "num_movies"
   ]
  },
  {
   "cell_type": "code",
   "execution_count": null,
   "id": "7cfdc8a5-d15a-4882-b753-c220d7f5ef6a",
   "metadata": {},
   "outputs": [],
   "source": [
    "# Number of unique actors in dataset\n",
    "num_actors_unique = movies_characters[\"freebase_actor_ID\"].nunique()\n",
    "num_actors_unique"
   ]
  },
  {
   "cell_type": "code",
   "execution_count": null,
   "id": "1c70cd33-29c5-47f0-9f8e-a311bbafa1c1",
   "metadata": {},
   "outputs": [],
   "source": [
    "# Checking number of actors in dataset, counting actors multiple times if they play\n",
    "# in multiple movies\n",
    "count_actors = movies_characters[\"freebase_actor_ID\"].count()\n",
    "count_actors"
   ]
  },
  {
   "cell_type": "code",
   "execution_count": null,
   "id": "e05cbc0d-9308-4c2f-aa41-c1265429433d",
   "metadata": {},
   "outputs": [],
   "source": [
    "# Number of actors on average per movie\n",
    "count_actors / num_movies"
   ]
  },
  {
   "cell_type": "code",
   "execution_count": null,
   "id": "e9e3509b-8d72-4fbe-870a-05510225ea90",
   "metadata": {},
   "outputs": [],
   "source": [
    "# One Hot Encoding of Actors\n",
    "movies_characters_dummy = pd.get_dummies(data=movies_characters, columns=['freebase_actor_ID'])"
   ]
  },
  {
   "cell_type": "code",
   "execution_count": null,
   "id": "dbe6e913-5834-4a56-92ea-f1c164d68736",
   "metadata": {},
   "outputs": [],
   "source": [
    "movies_characters_dummy.head(1)"
   ]
  },
  {
   "cell_type": "code",
   "execution_count": null,
   "id": "53df89ad-c35d-4de6-a90f-3c11fab1462c",
   "metadata": {},
   "outputs": [],
   "source": [
    "# Only include wiki_id and one hot encoding of actors in dataframe\n",
    "del_columns = colnames_movies[1:]\n",
    "del_columns.extend(colnames_character)\n",
    "dummy_actor_columns = movies_characters_dummy.\n",
    "            loc[ : , ~movies_characters_dummy.columns.isin(del_columns)]\n",
    "dummy_actor_columns.shape"
   ]
  },
  {
   "cell_type": "code",
   "execution_count": null,
   "id": "a759902f-b2c4-428e-b18b-b4d8b10c5739",
   "metadata": {},
   "outputs": [],
   "source": [
    "# Only include actor columns that correspond to actors that have played in more than xx movies\n",
    "# Current threshold is 20. \n",
    "# TODO: Decide on threshold\n",
    "dummy_actor_columns = dummy_actor_columns.loc[:, dummy_actor_columns.sum(axis=0) > 15]"
   ]
  },
  {
   "cell_type": "code",
   "execution_count": null,
   "id": "3668ed53-f897-4e35-834f-08b467518589",
   "metadata": {},
   "outputs": [],
   "source": [
    "# Grouping movies such that every movie correspond to only one row in the dataframe\n",
    "dummy_actor_columns = dummy_actor_columns.groupby('wiki_id').agg('sum')"
   ]
  },
  {
   "cell_type": "code",
   "execution_count": null,
   "id": "93282567-3bb4-4d8a-b8f0-b638d03ffd2a",
   "metadata": {},
   "outputs": [],
   "source": [
    "dummy_actor_columns"
   ]
  },
  {
   "cell_type": "code",
   "execution_count": null,
   "id": "11c106fc-9bcf-4fa3-96dc-7f3a33ade452",
   "metadata": {},
   "outputs": [],
   "source": [
    "movies_characters = movies_characters[['wiki_id', 'release_date', 'freebase_id','name','release_date','box_office_revenue','length','language','country','genre']].drop_duplicates()"
   ]
  },
  {
   "cell_type": "code",
   "execution_count": null,
   "id": "440cff88-72b7-4b13-831b-365f29094fac",
   "metadata": {},
   "outputs": [],
   "source": [
    "# Concatenating dummy actor columns with movies\n",
    "movies_binary_actors = pd.merge(movies_characters, dummy_actor_columns, left_on='wiki_id', right_index=True)\n",
    "\n",
    "movies_binary_actors"
   ]
  },
  {
   "cell_type": "code",
   "execution_count": null,
   "id": "2f74f20b-0b83-4461-974d-d5640ef33d25",
   "metadata": {},
   "outputs": [],
   "source": [
    "# Removing slashes in column names to avoid error in regression. \n",
    "movies_binary_actors.columns = movies_binary_actors.columns.str.replace('/', '')\n",
    "dummy_actor_columns.columns = dummy_actor_columns.columns.str.replace('/', '')"
   ]
  },
  {
   "cell_type": "code",
   "execution_count": null,
   "id": "7ecdafee-811c-425a-8ead-5d016f5d0486",
   "metadata": {},
   "outputs": [],
   "source": [
    "# One Hot Encoding of Genres\n",
    "import json\n",
    "\n",
    "for dict_ in movies_characters['genre']:\n",
    "    # using json.loads()\n",
    "    # convert dictionary string to dictionary\n",
    "    dict_ = json.loads(dict_)\n",
    "    \n",
    "for key, val in dict_.items():\n",
    "    print(key, val)"
   ]
  },
  {
   "cell_type": "code",
   "execution_count": null,
   "id": "7cb2b7fb-687e-4dd6-a53f-edb5c4995cd2",
   "metadata": {},
   "outputs": [],
   "source": [
    "# Making a dataframe with genre as columns\n",
    "# Movie has 1 or 0 in genre columns depending on whether the movie includes the corresponding genre\n",
    "binary_genre_df = pd.get_dummies(movies_characters['genre'])\n",
    "binary_genre_df.sum()"
   ]
  },
  {
   "cell_type": "code",
   "execution_count": null,
   "id": "f4e1b888-fe57-4ba5-b6c8-c6939a7d6ff4",
   "metadata": {},
   "outputs": [],
   "source": [
    "# Constructing formula used for regression\n",
    "formula = 'box_office_revenue ~ ' # length+', add continous variables later\n",
    "for col in dummy_actor_columns.columns:\n",
    "    formula += 'C(' + col + ')+'\n",
    "    \n",
    "formula = formula[:-1]"
   ]
  },
  {
   "cell_type": "code",
   "execution_count": null,
   "id": "e3b0ba61-55cf-43fa-8344-e46ad55a0635",
   "metadata": {},
   "outputs": [],
   "source": [
    "# Standardization of continuous predictors\n",
    "movies_binary_actors['length'] = (movies_binary_actors['length'] - movies_binary_actors['length'].mean())/movies_binary_actors['length'].std()"
   ]
  },
  {
   "cell_type": "code",
   "execution_count": null,
   "id": "1d83c6c9-5b6d-4282-ad81-0454645915eb",
   "metadata": {},
   "outputs": [],
   "source": [
    "# Linear regression\n",
    "mod = smf.ols(formula=formula, data=movies_binary_actors)\n",
    "res = mod.fit()\n",
    "res_summary = res.summary()"
   ]
  },
  {
   "cell_type": "code",
   "execution_count": null,
   "id": "b431d8e3-9103-4588-9fa6-de47d72dc425",
   "metadata": {},
   "outputs": [],
   "source": [
    "# Note that tables is a list. The table at index 1 is the \"core\" table. Additionally, read_html puts dfs in a list, so we want index 0\n",
    "res_as_html = res_summary.tables[1].as_html()\n",
    "summary_df = pd.read_html(res_as_html, header=0, index_col=0)[0]\n",
    "summary_df"
   ]
  },
  {
   "cell_type": "code",
   "execution_count": null,
   "id": "83950d54-d3b4-4743-ae1e-7b98c1d263d1",
   "metadata": {},
   "outputs": [],
   "source": [
    "# Only including actors with p-value < 0.05.\n",
    "# Statistically significant actors\n",
    "summary_df = summary_df[summary_df['P>|t|'] < 0.05]"
   ]
  },
  {
   "cell_type": "code",
   "execution_count": null,
   "id": "5d5e6270-03cf-422c-97ca-9b9ae9df0a74",
   "metadata": {},
   "outputs": [],
   "source": [
    "# Sorting summary according to coefficients\n",
    "summary_df.sort_values(by='coef', ascending=False)"
   ]
  },
  {
   "cell_type": "code",
   "execution_count": null,
   "id": "545e1942-faaa-428a-9aa7-ea8d84dc4431",
   "metadata": {},
   "outputs": [],
   "source": []
  }
 ],
 "metadata": {
  "kernelspec": {
   "display_name": "Python 3 (ipykernel)",
   "language": "python",
   "name": "python3"
  },
  "language_info": {
   "codemirror_mode": {
    "name": "ipython",
    "version": 3
   },
   "file_extension": ".py",
   "mimetype": "text/x-python",
   "name": "python",
   "nbconvert_exporter": "python",
   "pygments_lexer": "ipython3",
   "version": "3.9.12"
  }
 },
 "nbformat": 4,
 "nbformat_minor": 5
}
