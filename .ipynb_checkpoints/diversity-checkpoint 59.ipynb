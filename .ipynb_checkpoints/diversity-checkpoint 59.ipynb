{
 "cells": [
  {
   "cell_type": "markdown",
   "id": "2a9c7d04-c5a2-48d1-8185-ed8bd5da4172",
   "metadata": {
    "tags": []
   },
   "source": [
    "# Diversity"
   ]
  },
  {
   "cell_type": "markdown",
   "id": "91ef8f4e-8a79-4cda-9f90-c100d7313a46",
   "metadata": {},
   "source": [
    "- This notebook intends to investigate the diversity of the [CMU Movie Summary Corpus](http://www.cs.cmu.edu/~ark/personas/) dataset.\n",
    "- The notebook will look at the distribution of ethnicities and gender and how it correlates with a movie's revenue."
   ]
  },
  {
   "cell_type": "markdown",
   "id": "45ed174a-3b58-4ba8-b74b-d78a2749e03b",
   "metadata": {},
   "source": [
    "---\n",
    "**Summary**\n",
    "- Diverse movies have, on average, ~27.3% higher movie box office revenue.\n",
    "- Movies with the majority of male actors have, on average, ~50.9% higher movie box office revenue.\n",
    "- The results are intriguing, and we would like to pursue this aspect in further analysis in milestone 3."
   ]
  },
  {
   "cell_type": "markdown",
   "id": "faecb06c-0011-400f-aa9f-e317f05a2ceb",
   "metadata": {
    "tags": []
   },
   "source": [
    "---\n",
    "**Contents of notebook:**\n",
    "<div class=\"toc\"><ul class=\"toc-item\"><li><span><a href=\"#Data-Processing\" data-toc-modified-id=\"Data Processing\">Data Processing</a></span><ul class=\"toc-item\"><li><span><a href=\"#Loading-data\" data-toc-modified-id=\"Loading data\">Loading data</a></span><li><span><a href=\"#Removing-null-values\" data-toc-modified-id=\"Removing null values\">Removing null values</a></span></li></ul><li><span><a href=\"#Distributions\" data-toc-modified-id=\"Distributions\">Distributions</a></span><ul class=\"toc-item\"><li><span><a href=\"#Distribution-of-release-dates\" data-toc-modified-id=\"Distribution of release dates\">Distribution of release dates</a></span></li><ul class=\"toc-item\"><li><span><a href=\"#Adjusting-for-inflation\" data-toc-modified-id=\"Adjusting for inflation\">Adjusting for inflation</a></span></li></ul><li><span><a href=\"#Distribution-of-actors\" data-toc-modified-id=\"Distribution of actors\">Distribution of actors</a></span></li><ul class=\"toc-item\"><li><span><a href=\"#Threshold\" data-toc-modified-id=\"Threshold\">Threshold</a></span></li></ul></ul></li><li><span><a href=\"#Ethnicity\" data-toc-modified-id=\"Ethnicitry\">Ethnicity</a></span><ul class=\"toc-item\"><li><span><a href=\"#Correlation-between-the-number-of-ethnicites-and-revenue\" data-toc-modified-id=\"Correlation between the number of ethnicites and revenue\">Correlation between the number of ethnicites and revenue</a></span></li><li><span><a href=\"#Correlation-between-the-ethnicity-score-and-revenue\" data-toc-modified-id=\"Correlation between the ethnicity score and revenue\">Correlation between the ethnicity score and revenue</a></span></li><li><span><a href=\"#Difference-in-revenue-between-the-diverse-and-less-diverse-movies\" data-toc-modified-id=\"Difference in revenue between the diverse and less diverse movies\">Difference in revenue between the diverse and less diverse movies</a></span></li></ul></li><li><span><a href=\"#Gender\" data-toc-modified-id=\"Gender\">Gender</a></span><ul class=\"toc-item\"><li><span><a href=\"#Correlation-between-the-number-of-females-and-revenue\" data-toc-modified-id=\"Correlation between the number of females and revenue\">Correlation between the number of females and revenue</a></span></li><li><span><a href=\"#Correlation-between-the-fraction-of-females-and-revenue\" data-toc-modified-id=\"Correlation between the fraction of females and revenue\">Correlation between the fraction of females and revenue</a></span></li><li><span><a href=\"#Difference-in-revenue-between-the-movies-with-majority-of-male-and-female-actors\" data-toc-modified-id=\"Difference in revenue between the movies with majority of male and female actors\">Difference in revenue between the movies with majority of male and female actors</a></span></li></ul></li></ul></div>"
   ]
  },
  {
   "cell_type": "markdown",
   "id": "18ff9a13-3956-40d5-b581-424f3d0f8def",
   "metadata": {},
   "source": [
    "![Diversity](img/diversity.jpeg)"
   ]
  },
  {
   "cell_type": "markdown",
   "id": "56dbd118-e11c-4493-9a87-75bc080bcaae",
   "metadata": {},
   "source": [
    "---\n",
    "## Data Processing"
   ]
  },
  {
   "cell_type": "markdown",
   "id": "f0c641ea-3f73-4789-b6c4-743571bd719c",
   "metadata": {
    "tags": []
   },
   "source": [
    "---\n",
    "### Loading data"
   ]
  },
  {
   "cell_type": "code",
   "execution_count": 2,
   "id": "48a56350-8e01-425c-95fd-4f84b29ea6b0",
   "metadata": {},
   "outputs": [
    {
     "data": {
      "text/html": [
       "        <script type=\"text/javascript\">\n",
       "        window.PlotlyConfig = {MathJaxConfig: 'local'};\n",
       "        if (window.MathJax && window.MathJax.Hub && window.MathJax.Hub.Config) {window.MathJax.Hub.Config({SVG: {font: \"STIX-Web\"}});}\n",
       "        if (typeof require !== 'undefined') {\n",
       "        require.undef(\"plotly\");\n",
       "        requirejs.config({\n",
       "            paths: {\n",
       "                'plotly': ['https://cdn.plot.ly/plotly-2.16.1.min']\n",
       "            }\n",
       "        });\n",
       "        require(['plotly'], function(Plotly) {\n",
       "            window._Plotly = Plotly;\n",
       "        });\n",
       "        }\n",
       "        </script>\n",
       "        "
      ]
     },
     "metadata": {},
     "output_type": "display_data"
    }
   ],
   "source": [
    "# imports\n",
    "import ast\n",
    "import math\n",
    "import numpy as np\n",
    "import pandas as pd\n",
    "import plotly as py\n",
    "import networkx as nx\n",
    "import seaborn as sns\n",
    "import ipywidgets as widgets\n",
    "\n",
    "import plotly.graph_objs as go\n",
    "import matplotlib.pyplot as plt\n",
    "import statsmodels.formula.api as smf\n",
    "\n",
    "from scipy import stats\n",
    "from ipywidgets import interact, interactive, fixed, interact_manual\n",
    "from helpers import bootstrap_CI, correct_for_inflation, bootstrap_mean_diff_CI, bootstrap_ttest_CI, score_to_categories\n",
    "\n",
    "\n",
    "from plotly.subplots import make_subplots\n",
    "\n",
    "py.offline.init_notebook_mode(connected=True)\n",
    "\n",
    "# turn off warning\n",
    "pd.options.mode.chained_assignment = None"
   ]
  },
  {
   "cell_type": "code",
   "execution_count": 3,
   "id": "6fc48924-f1e9-448f-9fcb-db7bc2473830",
   "metadata": {},
   "outputs": [],
   "source": [
    "# constants\n",
    "MOVIE_PATH = \"./data/MovieSummaries/movie.metadata.tsv\"\n",
    "CHARACTER_PATH = \"./data/MovieSummaries/character.metadata.tsv\"\n",
    "RATING_PATH = \"./data/IMDb/title.ratings.tsv\"\n",
    "MATCHED_FEAMLE_PATH = \"./data/matching/matched_female.csv\"\n",
    "MATCHED_ETHNICITY_PATH = \"./data/matching/matched_ethnicity.csv\"\n",
    "MATCHED_ETHNICITY_PATH2 = \"./data/matching/matched_ethnicity2.csv\"\n",
    "MATCHED_FEAMLE_PATH2 = \"./data/matching/matched_female2.csv\"\n",
    "\n",
    "MATCHING_THRESHOLD = 0.5\n",
    "\n",
    "MATCH = False\n",
    "\n",
    "colors = [['rgba(95, 70, 144, 1)',\n",
    "          'rgba(95, 70, 144, 0.2)',\n",
    "          'rgba(15, 133, 84, 1)',\n",
    "          'rgba(15, 133, 84, 0.2)'],\n",
    "          \n",
    "          ['rgba(56, 166, 165, 1)',\n",
    "          'rgba(56, 166, 165, 0.2)',\n",
    "          'rgba(247, 129, 191, 1)',\n",
    "          'rgba(247, 129, 191, 0.2)'],\n",
    "        \n",
    "          ['rgba(111, 64, 112, 1)',\n",
    "          'rgba(111, 64, 112, 0.2)',\n",
    "          'rgba(204, 80, 62, 1)',\n",
    "          'rgba(204, 80, 62, 0.2)'],\n",
    "          \n",
    "          ['rgba(225, 124, 5, 1)',\n",
    "          'rgba(225, 124, 5, 0.2)',\n",
    "           'rgba(102, 102, 102, 1)',\n",
    "          'rgba(102, 102, 102, 0.2)'],\n",
    "          \n",
    "          ['rgba(148, 52, 110, 1)',\n",
    "          'rgba(148, 52, 110, 0.2)',\n",
    "          'rgba(29, 105, 150, 1)',\n",
    "          'rgba(29, 105, 150, 0.2)'],\n",
    "          \n",
    "          ['rgba(237, 173, 8, 1)',\n",
    "          'rgba(237, 173, 8, 0.2)',\n",
    "          'rgba(115, 175, 72, 1)',\n",
    "          'rgba(115, 175, 72, 0.2)']]\n"
   ]
  },
  {
   "cell_type": "code",
   "execution_count": 4,
   "id": "508ffcd0-bef8-41c7-b712-ff85deff145e",
   "metadata": {},
   "outputs": [],
   "source": [
    "# create dataframes\n",
    "\n",
    "# define collumn names\n",
    "colnames_movies = [\n",
    "    \"wikipedia_movie_ID\",\n",
    "    \"freebase_movie_ID\",\n",
    "    \"movie_name\",\n",
    "    \"movie_release_date\",\n",
    "    \"movie_box_office_revenue\",\n",
    "    \"movie_runtime\",\n",
    "    \"movie_languages\",\n",
    "    \"movie_countries\",\n",
    "    \"movie_genres\",\n",
    "]\n",
    "\n",
    "colnames_character = [\n",
    "    \"wikipedia_movie_ID\",\n",
    "    \"freebase_movie_ID\",\n",
    "    \"last_update\",\n",
    "    \"character_name\",\n",
    "    \"actor_DOB\",\n",
    "    \"actor_gender\",\n",
    "    \"actor_height\",\n",
    "    \"actor_ethnicity\",\n",
    "    \"actor_name\",\n",
    "    \"actor_age_at_movie_release\",\n",
    "    \"freebase_character/actor_map_ID\",\n",
    "    \"freebase_character_ID\",\n",
    "    \"freebase_actor_ID\",\n",
    "]\n",
    "\n",
    "\n",
    "# load data\n",
    "movies = pd.read_csv(MOVIE_PATH, sep=\"\\t\", names=colnames_movies, header=None)\n",
    "characters = pd.read_csv(\n",
    "    CHARACTER_PATH, sep=\"\\t\", names=colnames_character, header=None\n",
    ")\n",
    "\n",
    "movies_original = movies.copy()"
   ]
  },
  {
   "cell_type": "code",
   "execution_count": 5,
   "id": "d0874210-679d-4d53-9350-a9562e2d4513",
   "metadata": {},
   "outputs": [
    {
     "data": {
      "text/html": [
       "<div>\n",
       "<style scoped>\n",
       "    .dataframe tbody tr th:only-of-type {\n",
       "        vertical-align: middle;\n",
       "    }\n",
       "\n",
       "    .dataframe tbody tr th {\n",
       "        vertical-align: top;\n",
       "    }\n",
       "\n",
       "    .dataframe thead th {\n",
       "        text-align: right;\n",
       "    }\n",
       "</style>\n",
       "<table border=\"1\" class=\"dataframe\">\n",
       "  <thead>\n",
       "    <tr style=\"text-align: right;\">\n",
       "      <th></th>\n",
       "      <th>wikipedia_movie_ID</th>\n",
       "      <th>freebase_movie_ID</th>\n",
       "      <th>movie_name</th>\n",
       "      <th>movie_release_date</th>\n",
       "      <th>movie_box_office_revenue</th>\n",
       "      <th>movie_runtime</th>\n",
       "      <th>movie_languages</th>\n",
       "      <th>movie_countries</th>\n",
       "      <th>movie_genres</th>\n",
       "    </tr>\n",
       "  </thead>\n",
       "  <tbody>\n",
       "    <tr>\n",
       "      <th>0</th>\n",
       "      <td>975900</td>\n",
       "      <td>/m/03vyhn</td>\n",
       "      <td>Ghosts of Mars</td>\n",
       "      <td>2001-08-24</td>\n",
       "      <td>14010832.0</td>\n",
       "      <td>98.0</td>\n",
       "      <td>{\"/m/02h40lc\": \"English Language\"}</td>\n",
       "      <td>{\"/m/09c7w0\": \"United States of America\"}</td>\n",
       "      <td>{\"/m/01jfsb\": \"Thriller\", \"/m/06n90\": \"Science...</td>\n",
       "    </tr>\n",
       "  </tbody>\n",
       "</table>\n",
       "</div>"
      ],
      "text/plain": [
       "   wikipedia_movie_ID freebase_movie_ID      movie_name movie_release_date  \\\n",
       "0              975900         /m/03vyhn  Ghosts of Mars         2001-08-24   \n",
       "\n",
       "   movie_box_office_revenue  movie_runtime  \\\n",
       "0                14010832.0           98.0   \n",
       "\n",
       "                      movie_languages  \\\n",
       "0  {\"/m/02h40lc\": \"English Language\"}   \n",
       "\n",
       "                             movie_countries  \\\n",
       "0  {\"/m/09c7w0\": \"United States of America\"}   \n",
       "\n",
       "                                        movie_genres  \n",
       "0  {\"/m/01jfsb\": \"Thriller\", \"/m/06n90\": \"Science...  "
      ]
     },
     "execution_count": 5,
     "metadata": {},
     "output_type": "execute_result"
    }
   ],
   "source": [
    "# print the 'movies' data frame\n",
    "movies.head(1)"
   ]
  },
  {
   "cell_type": "code",
   "execution_count": 6,
   "id": "8b279a5d-6fe5-458e-8cea-2af9e2f34ca3",
   "metadata": {},
   "outputs": [
    {
     "data": {
      "text/html": [
       "<div>\n",
       "<style scoped>\n",
       "    .dataframe tbody tr th:only-of-type {\n",
       "        vertical-align: middle;\n",
       "    }\n",
       "\n",
       "    .dataframe tbody tr th {\n",
       "        vertical-align: top;\n",
       "    }\n",
       "\n",
       "    .dataframe thead th {\n",
       "        text-align: right;\n",
       "    }\n",
       "</style>\n",
       "<table border=\"1\" class=\"dataframe\">\n",
       "  <thead>\n",
       "    <tr style=\"text-align: right;\">\n",
       "      <th></th>\n",
       "      <th>wikipedia_movie_ID</th>\n",
       "      <th>movie_box_office_revenue</th>\n",
       "      <th>movie_runtime</th>\n",
       "    </tr>\n",
       "  </thead>\n",
       "  <tbody>\n",
       "    <tr>\n",
       "      <th>count</th>\n",
       "      <td>8.174100e+04</td>\n",
       "      <td>8.401000e+03</td>\n",
       "      <td>6.129100e+04</td>\n",
       "    </tr>\n",
       "    <tr>\n",
       "      <th>mean</th>\n",
       "      <td>1.740784e+07</td>\n",
       "      <td>4.799363e+07</td>\n",
       "      <td>1.118192e+02</td>\n",
       "    </tr>\n",
       "    <tr>\n",
       "      <th>std</th>\n",
       "      <td>1.098791e+07</td>\n",
       "      <td>1.121753e+08</td>\n",
       "      <td>4.360070e+03</td>\n",
       "    </tr>\n",
       "    <tr>\n",
       "      <th>min</th>\n",
       "      <td>3.300000e+02</td>\n",
       "      <td>1.000000e+04</td>\n",
       "      <td>0.000000e+00</td>\n",
       "    </tr>\n",
       "    <tr>\n",
       "      <th>25%</th>\n",
       "      <td>7.323695e+06</td>\n",
       "      <td>2.083193e+06</td>\n",
       "      <td>8.100000e+01</td>\n",
       "    </tr>\n",
       "    <tr>\n",
       "      <th>50%</th>\n",
       "      <td>1.777899e+07</td>\n",
       "      <td>1.063969e+07</td>\n",
       "      <td>9.300000e+01</td>\n",
       "    </tr>\n",
       "    <tr>\n",
       "      <th>75%</th>\n",
       "      <td>2.715573e+07</td>\n",
       "      <td>4.071696e+07</td>\n",
       "      <td>1.060000e+02</td>\n",
       "    </tr>\n",
       "    <tr>\n",
       "      <th>max</th>\n",
       "      <td>3.750192e+07</td>\n",
       "      <td>2.782275e+09</td>\n",
       "      <td>1.079281e+06</td>\n",
       "    </tr>\n",
       "  </tbody>\n",
       "</table>\n",
       "</div>"
      ],
      "text/plain": [
       "       wikipedia_movie_ID  movie_box_office_revenue  movie_runtime\n",
       "count        8.174100e+04              8.401000e+03   6.129100e+04\n",
       "mean         1.740784e+07              4.799363e+07   1.118192e+02\n",
       "std          1.098791e+07              1.121753e+08   4.360070e+03\n",
       "min          3.300000e+02              1.000000e+04   0.000000e+00\n",
       "25%          7.323695e+06              2.083193e+06   8.100000e+01\n",
       "50%          1.777899e+07              1.063969e+07   9.300000e+01\n",
       "75%          2.715573e+07              4.071696e+07   1.060000e+02\n",
       "max          3.750192e+07              2.782275e+09   1.079281e+06"
      ]
     },
     "execution_count": 6,
     "metadata": {},
     "output_type": "execute_result"
    }
   ],
   "source": [
    "movies.describe()"
   ]
  },
  {
   "cell_type": "code",
   "execution_count": 7,
   "id": "03e52a8d-e46f-47c3-9cbb-94cdd55636ff",
   "metadata": {},
   "outputs": [
    {
     "data": {
      "text/html": [
       "<div>\n",
       "<style scoped>\n",
       "    .dataframe tbody tr th:only-of-type {\n",
       "        vertical-align: middle;\n",
       "    }\n",
       "\n",
       "    .dataframe tbody tr th {\n",
       "        vertical-align: top;\n",
       "    }\n",
       "\n",
       "    .dataframe thead th {\n",
       "        text-align: right;\n",
       "    }\n",
       "</style>\n",
       "<table border=\"1\" class=\"dataframe\">\n",
       "  <thead>\n",
       "    <tr style=\"text-align: right;\">\n",
       "      <th></th>\n",
       "      <th>wikipedia_movie_ID</th>\n",
       "      <th>freebase_movie_ID</th>\n",
       "      <th>last_update</th>\n",
       "      <th>character_name</th>\n",
       "      <th>actor_DOB</th>\n",
       "      <th>actor_gender</th>\n",
       "      <th>actor_height</th>\n",
       "      <th>actor_ethnicity</th>\n",
       "      <th>actor_name</th>\n",
       "      <th>actor_age_at_movie_release</th>\n",
       "      <th>freebase_character/actor_map_ID</th>\n",
       "      <th>freebase_character_ID</th>\n",
       "      <th>freebase_actor_ID</th>\n",
       "    </tr>\n",
       "  </thead>\n",
       "  <tbody>\n",
       "    <tr>\n",
       "      <th>0</th>\n",
       "      <td>975900</td>\n",
       "      <td>/m/03vyhn</td>\n",
       "      <td>2001-08-24</td>\n",
       "      <td>Akooshay</td>\n",
       "      <td>1958-08-26</td>\n",
       "      <td>F</td>\n",
       "      <td>1.62</td>\n",
       "      <td>NaN</td>\n",
       "      <td>Wanda De Jesus</td>\n",
       "      <td>42.0</td>\n",
       "      <td>/m/0bgchxw</td>\n",
       "      <td>/m/0bgcj3x</td>\n",
       "      <td>/m/03wcfv7</td>\n",
       "    </tr>\n",
       "  </tbody>\n",
       "</table>\n",
       "</div>"
      ],
      "text/plain": [
       "   wikipedia_movie_ID freebase_movie_ID last_update character_name  \\\n",
       "0              975900         /m/03vyhn  2001-08-24       Akooshay   \n",
       "\n",
       "    actor_DOB actor_gender  actor_height actor_ethnicity      actor_name  \\\n",
       "0  1958-08-26            F          1.62             NaN  Wanda De Jesus   \n",
       "\n",
       "   actor_age_at_movie_release freebase_character/actor_map_ID  \\\n",
       "0                        42.0                      /m/0bgchxw   \n",
       "\n",
       "  freebase_character_ID freebase_actor_ID  \n",
       "0            /m/0bgcj3x        /m/03wcfv7  "
      ]
     },
     "execution_count": 7,
     "metadata": {},
     "output_type": "execute_result"
    }
   ],
   "source": [
    "# print the 'characters' data frame\n",
    "characters.head(1)"
   ]
  },
  {
   "cell_type": "markdown",
   "id": "74e636c2-e0cb-4221-a427-0ba7d479f75f",
   "metadata": {
    "tags": []
   },
   "source": [
    "---\n",
    "### Removing null values\n",
    "This notebook intends to investigate the correlation between diversity and revenue; we will therefore filter out movies without `Movie box office revenue.`"
   ]
  },
  {
   "cell_type": "code",
   "execution_count": null,
   "id": "dbe5f620-5fa6-405a-96ab-2510745f41f1",
   "metadata": {},
   "outputs": [],
   "source": [
    "# filtering out movies without revenue\n",
    "num_movies_before_filter = movies.shape[0]\n",
    "movies = movies[~movies[\"movie_box_office_revenue\"].isna()]\n",
    "num_movies_after_filter = movies.shape[0]\n",
    "\n",
    "# printing the results\n",
    "print(\n",
    "    f\"\"\"\n",
    "Total number of movies before filtering: {num_movies_before_filter}\n",
    "Number of movies after filtering:         {num_movies_after_filter}     \n",
    "\"\"\"\n",
    ")"
   ]
  },
  {
   "cell_type": "markdown",
   "id": "719bcc73-d143-4349-a296-27539c3576ed",
   "metadata": {},
   "source": [
    "#### Comment\n",
    "- We observe that ~90% of the movies were filtered out.\n",
    "- We still got 8 401 which should be sufficient for the data analysis."
   ]
  },
  {
   "cell_type": "markdown",
   "id": "12f58986-0179-4557-b252-881306c17b2a",
   "metadata": {
    "tags": []
   },
   "source": [
    "---\n",
    "## Distributions"
   ]
  },
  {
   "cell_type": "markdown",
   "id": "f798e3ff-543c-4723-9760-d2586ecb84c0",
   "metadata": {},
   "source": [
    "---\n",
    "### Distribution of release dates"
   ]
  },
  {
   "cell_type": "code",
   "execution_count": null,
   "id": "cbc32d3e-ff53-42ef-bd0d-0d55f0d4e450",
   "metadata": {},
   "outputs": [],
   "source": [
    "# adding column for year release\n",
    "movies[\"year_released\"] = pd.to_datetime(\n",
    "    movies[\"movie_release_date\"], infer_datetime_format=True, errors=\"coerce\"\n",
    ").dt.year\n",
    "\n",
    "# removing null values\n",
    "movies = movies[~movies[\"year_released\"].isna()]\n",
    "\n",
    "# converting to 'int64'\n",
    "movies[\"year_released\"].astype(\"int64\")\n",
    "\n",
    "# print result\n",
    "movies.head(1)"
   ]
  },
  {
   "cell_type": "code",
   "execution_count": null,
   "id": "8e73ec86-c181-4a7a-87fb-9b373457ef8b",
   "metadata": {},
   "outputs": [],
   "source": [
    "# plot the distribution of realese years\n",
    "bins = np.arange(1915, 2013) - 0.5  # -0.5 for center-aligned bins\n",
    "plt.hist(movies[\"year_released\"], histtype=\"step\", bins=bins, log=True)\n",
    "plt.xlabel(\"Release year\")\n",
    "plt.ylabel(\"Number of movies\")\n",
    "plt.title(\"Distribution of of movies released\")\n",
    "plt.show()"
   ]
  },
  {
   "cell_type": "markdown",
   "id": "22777b5a-73fe-474a-89ec-31b9280c9003",
   "metadata": {},
   "source": [
    "#### Comment\n",
    "\n",
    "**Problem:**\n",
    "- We observe that the dataset contains some old movies. The revenue will not be representable for such movies because of inflation.\n",
    "\n",
    "\n",
    "**Solution:**\n",
    "- A possible solution would be to collect a dataset of the inflation since ~1920 and adjust the revenues for inflation to make them comparable.\n",
    "\n",
    "**Conclusion:**\n",
    "- We need to collect an external dataset on inflation."
   ]
  },
  {
   "cell_type": "markdown",
   "id": "c23cfcbb-a5da-40ad-a2d9-3b425a8ab6d8",
   "metadata": {},
   "source": [
    "---\n",
    "### Adjusting for inflation\n",
    "\n",
    "Our previous finding suggested that we had to adjust the `movie_box_office_revenue` for inflation to make movies more comparable."
   ]
  },
  {
   "cell_type": "code",
   "execution_count": null,
   "id": "3982ce68-3fcd-42cd-9533-23d0a2fd2464",
   "metadata": {},
   "outputs": [],
   "source": [
    "# adjusting the 'movie_box_office_revenue' for inflation\n",
    "movies = correct_for_inflation(movies, \"movie_box_office_revenue\", 1960, 2014)"
   ]
  },
  {
   "cell_type": "markdown",
   "id": "a0405ce8-e6ab-4d9a-97f7-24ebac23da25",
   "metadata": {},
   "source": [
    "---\n",
    "### Distribution of actors"
   ]
  },
  {
   "cell_type": "code",
   "execution_count": null,
   "id": "d5c56b48-138e-4bfa-a92f-9806e9babb30",
   "metadata": {},
   "outputs": [],
   "source": [
    "# add collumn for number of actors\n",
    "num_actors = characters.groupby(\"freebase_movie_ID\")[\"freebase_actor_ID\"].apply(\n",
    "    lambda x: x.count()\n",
    ")\n",
    "\n",
    "# rename the series\n",
    "num_actors.name = \"num_actors\"\n",
    "\n",
    "# merge with the movies data frame\n",
    "movies = movies.merge(num_actors, left_on=\"freebase_movie_ID\", right_index=True)\n",
    "\n",
    "# print result\n",
    "movies.head(1)"
   ]
  },
  {
   "cell_type": "code",
   "execution_count": null,
   "id": "6677a06d-32a1-47b8-ac0b-0c3966c50c3d",
   "metadata": {},
   "outputs": [],
   "source": [
    "# plot the distribution of actors\n",
    "bins = np.arange(100) - 0.5  # -0.5 for center-aligned bins\n",
    "plt.hist(movies[\"num_actors\"], histtype=\"step\", bins=bins, log=True)\n",
    "plt.xlabel(\"Number of actors\")\n",
    "plt.ylabel(\"Number of movies\")\n",
    "plt.title(\"Distribution of actors\")\n",
    "plt.show()"
   ]
  },
  {
   "cell_type": "code",
   "execution_count": null,
   "id": "ae781ed0-6e4b-4515-a754-e722eeb1bcc2",
   "metadata": {},
   "outputs": [],
   "source": [
    "# plot relationship between 'num_actors' and 'movie_box_office_revenue'\n",
    "movies.plot.scatter(x=\"num_actors\", y=\"movie_box_office_revenue\", s=1)\n",
    "plt.yscale(\"log\")\n",
    "plt.xlabel(\"Number of actors\")\n",
    "plt.ylabel(\"Movie box office revenue\")\n",
    "plt.title(\"Relationship between the number actors and the movie box office revenue\")\n",
    "plt.show()"
   ]
  },
  {
   "cell_type": "code",
   "execution_count": null,
   "id": "692e615e-a71b-4202-8463-061c60e27d84",
   "metadata": {},
   "outputs": [],
   "source": [
    "# compute spearman correlation between 'num_actors' and 'movie_box_office_revenue'\n",
    "stats.spearmanr(movies[\"num_actors\"], movies[\"movie_box_office_revenue\"])"
   ]
  },
  {
   "cell_type": "markdown",
   "id": "df8c096f-83f3-41a7-9e1d-911c5cac207e",
   "metadata": {},
   "source": [
    "#### Comment\n",
    "\n",
    " **Problem:**\n",
    "1. We observe that many movies only have a few actors. It´s unlikely that a movie only has one actor, which is the case for ~50 movies in the dataset. The reason is probably that the dataset initially focused on characters, which can be more difficult to extract than actors.\n",
    "\n",
    "2. We observe that movies with more actors have higher revenue. This is something to be aware of since more actors will likely provide more diversity.\n",
    "\n",
    "**Solution:**\n",
    "1. A possible solution would be to collect data about the number of actors from a different dataset. The problem with an external dataset will be finding data about ethnicity and gender. This was not included in the [IMDb datasets](https://www.imdb.com/interfaces/).\n",
    "\n",
    "2. It will be necessary to look at the number of ethnicities and females with the total number of actors.\n",
    "\n",
    "**Conclusion:**\n",
    "1. Setting a threshold for the number of actors is a good solution that still enables us to use the original dataset.\n",
    "\n",
    "2. Computing an `ethnicity_score` and `fraction_of_female` to also consider the total number of actors."
   ]
  },
  {
   "cell_type": "markdown",
   "id": "3dfef8c0-d95a-46c1-a8fe-c9568ac64108",
   "metadata": {
    "tags": []
   },
   "source": [
    "---\n",
    "### Threshold\n",
    "\n",
    "Our previous finding suggested that a threshold on the number of actors might be necessary."
   ]
  },
  {
   "cell_type": "code",
   "execution_count": null,
   "id": "7fc6e536-d2bf-4392-be30-c83da054b276",
   "metadata": {},
   "outputs": [],
   "source": [
    "# filtering out movies with less than 10 actors\n",
    "num_movies_before_filter = movies.shape[0]\n",
    "movies = movies[movies[\"num_actors\"] > 9]\n",
    "num_movies_after_filter = movies.shape[0]\n",
    "\n",
    "# printing the results\n",
    "print(\n",
    "    f\"\"\"\n",
    "Total number of movies before filtering: {num_movies_before_filter}\n",
    "Number of movies after filtering:        {num_movies_after_filter}     \n",
    "\"\"\"\n",
    ")"
   ]
  },
  {
   "cell_type": "code",
   "execution_count": null,
   "id": "11290831-a44a-4711-889d-9cda8858ceda",
   "metadata": {},
   "outputs": [],
   "source": [
    "# plot the distribution of actors after threshold\n",
    "bins = np.arange(10, 100) - 0.5  # -0.5 for center-aligned bins\n",
    "plt.hist(movies[\"num_actors\"], histtype=\"step\", bins=bins, log=True)\n",
    "plt.xlabel(\"Number of actors\")\n",
    "plt.ylabel(\"Number of movies\")\n",
    "plt.title(\"Distribution of actors\")\n",
    "plt.show()"
   ]
  },
  {
   "cell_type": "code",
   "execution_count": null,
   "id": "273ef132-eb3b-4ab1-a1ec-86485427a6d8",
   "metadata": {},
   "outputs": [],
   "source": [
    "# compute spearman correlation between 'num_actors' and 'movie_box_office_revenue'\n",
    "stats.spearmanr(movies[\"num_actors\"], movies[\"movie_box_office_revenue\"])"
   ]
  },
  {
   "cell_type": "markdown",
   "id": "e12ecda1-876e-4d63-bfaf-f86bfac01efc",
   "metadata": {},
   "source": [
    "#### Comment\n",
    "There is still a statistically significant correlation between `num_actors` and `movie_box_office_revenue` after introducing a threshold."
   ]
  },
  {
   "cell_type": "markdown",
   "id": "deaccccb-ee75-494c-8092-63e4b8737218",
   "metadata": {
    "tags": []
   },
   "source": [
    "---\n",
    "## Ethnicity"
   ]
  },
  {
   "cell_type": "markdown",
   "id": "714ac245-1e53-45b6-b778-929387e94e52",
   "metadata": {},
   "source": [
    "---\n",
    "### Correlation between the number of ethnicites and revenue"
   ]
  },
  {
   "cell_type": "code",
   "execution_count": null,
   "id": "0d79c972-be00-4ecd-9e38-244be1fe99ef",
   "metadata": {},
   "outputs": [],
   "source": [
    "# add collumn for number of ethnicities\n",
    "num_ethnicities = characters.groupby(\"freebase_movie_ID\")[\"actor_ethnicity\"].apply(\n",
    "    lambda x: x.nunique()\n",
    ")\n",
    "\n",
    "# rename the series\n",
    "num_ethnicities.name = \"num_ethnicities\"\n",
    "\n",
    "# merge with the movies data frame\n",
    "movies = movies.merge(num_ethnicities, left_on=\"freebase_movie_ID\", right_index=True)"
   ]
  },
  {
   "cell_type": "code",
   "execution_count": null,
   "id": "31063dee-211b-428c-9f1a-e58972ade51f",
   "metadata": {},
   "outputs": [],
   "source": [
    "# plot relationship between 'num_ethnicities' and 'movie_box_office_revenue'\n",
    "movies.plot.scatter(x=\"num_ethnicities\", y=\"movie_box_office_revenue\", s=1)\n",
    "plt.yscale(\"log\")\n",
    "plt.xlabel(\"Number of ethnicities\")\n",
    "plt.ylabel(\"Movie box office revenue\")\n",
    "plt.title(\n",
    "    \"Relationship between the number of ethnicities and the movie box office revenue\"\n",
    ")\n",
    "plt.show()"
   ]
  },
  {
   "cell_type": "code",
   "execution_count": null,
   "id": "ee5e00d4-b064-4064-a4cd-4f3f135f164a",
   "metadata": {},
   "outputs": [],
   "source": [
    "# compute spearman correlation between 'num_ethnicities' and 'movie_box_office_revenue'\n",
    "stats.spearmanr(movies[\"num_ethnicities\"], movies[\"movie_box_office_revenue\"])"
   ]
  },
  {
   "cell_type": "code",
   "execution_count": null,
   "id": "a58ea1b0-b333-4954-864f-1f11b3e59ea4",
   "metadata": {},
   "outputs": [],
   "source": [
    "# compute spearman correlation between 'num_actors' and 'movie_box_office_revenue'\n",
    "stats.spearmanr(movies[\"num_actors\"], movies[\"movie_box_office_revenue\"])"
   ]
  },
  {
   "cell_type": "markdown",
   "id": "6fec8d82-a9da-43af-b086-a8aec443c0f2",
   "metadata": {},
   "source": [
    "#### Comment\n",
    "- We observe a significant correlation between `num_ethnicities` and `movie_box_office_revenue.`\n",
    "- Further, we observe that the correlation between `num_actors` and `movie_box_office_revenue` is reduced after we filtered out movies with less than ten actors. This indicates that the number of actors has the most significant impact when there are few actors, e.g., increasing from 5 to 6 will have a more substantial effect on the revenue than rising from 14 to 15.\n",
    "- There is still difficult to interpret how big an impact `num_ethnicities` and `num_actors` have on `movie_box_office_revenue` separately since they are highly correlated.\n",
    "- To try to isolate the impact ethnicities have on the revenue, we will instead look at an ethnicity_score, which is calculated as follow: $ethnicity\\: score = \\frac{number\\,of\\,ethnicities}{number\\,of\\,actors}$"
   ]
  },
  {
   "cell_type": "markdown",
   "id": "984512ab-309e-4a14-ba78-d2cf92ec2d6e",
   "metadata": {},
   "source": [
    "---\n",
    "### Correlation between the ethnicity score and revenue"
   ]
  },
  {
   "cell_type": "code",
   "execution_count": null,
   "id": "017cc2a6-0a48-49e2-8cbc-5eb7213953c8",
   "metadata": {},
   "outputs": [],
   "source": [
    "# adding a collumn for num_etnicities / num_ectors\n",
    "movies[\"ethnicity_score\"] = movies[\"num_ethnicities\"] / movies[\"num_actors\"]"
   ]
  },
  {
   "cell_type": "code",
   "execution_count": null,
   "id": "7da4fb06-efc7-4ac0-8f79-ee58bd298858",
   "metadata": {},
   "outputs": [],
   "source": [
    "# plot relationship between 'ethnicity_score' and 'movie_box_office_revenue'\n",
    "movies.plot.scatter(x=\"ethnicity_score\", y=\"movie_box_office_revenue\", s=1)\n",
    "plt.yscale(\"log\")\n",
    "plt.xlabel(\"Ethnicity score\")\n",
    "plt.ylabel(\"Movie box office revenue\")\n",
    "plt.title(\"Relationship between the ethnicity score and the movie box office revenue\")\n",
    "plt.show()"
   ]
  },
  {
   "cell_type": "code",
   "execution_count": null,
   "id": "bcc5880f-1ab0-4938-9c0c-7482921107d6",
   "metadata": {},
   "outputs": [],
   "source": [
    "# compute spearman correlation between 'ethnicity_score' and 'movie_box_office_revenue'\n",
    "stats.spearmanr(movies[\"ethnicity_score\"], movies[\"movie_box_office_revenue\"])"
   ]
  },
  {
   "cell_type": "markdown",
   "id": "67d64473-1b52-4b4f-ae38-02130b686ba0",
   "metadata": {},
   "source": [
    "#### Comment\n",
    "- After trying to isolate the impact ethnicities have on the revenue, we still observe a significant correlation."
   ]
  },
  {
   "cell_type": "markdown",
   "id": "0d26543a-55d2-4f67-8982-1ca44313805d",
   "metadata": {},
   "source": [
    "---\n",
    "### Difference in revenue between the diverse and less diverse movies"
   ]
  },
  {
   "cell_type": "code",
   "execution_count": null,
   "id": "44b41975-f628-461e-a003-49d082a545c5",
   "metadata": {},
   "outputs": [],
   "source": [
    "# check difference between the revenue of movies with an without ethnicity score above 50\n",
    "over_50_revenue = movies[movies[\"ethnicity_score\"] > 0.5][\"movie_box_office_revenue\"]\n",
    "under_50_revenue = movies[movies[\"ethnicity_score\"] <= 0.5][\"movie_box_office_revenue\"]"
   ]
  },
  {
   "cell_type": "code",
   "execution_count": null,
   "id": "222ed130-4df8-4591-884b-380bfcdfae1d",
   "metadata": {},
   "outputs": [],
   "source": [
    "# independent t-test\n",
    "stats.ttest_ind(over_50_revenue, under_50_revenue)"
   ]
  },
  {
   "cell_type": "code",
   "execution_count": null,
   "id": "a8966434-605a-4c7d-877a-0147739ab43b",
   "metadata": {},
   "outputs": [],
   "source": [
    "# calculate the statistical power\n",
    "\n",
    "# creating list to store the p-values\n",
    "p_val = np.zeros(10000)\n",
    "\n",
    "# running the simulation 10000 times\n",
    "for i in range(10000):\n",
    "\n",
    "    # sample over_50 and under_50\n",
    "    sample_over_50 = np.random.choice(over_50_revenue, size=over_50_revenue.shape[0])\n",
    "    sample_under_50 = np.random.choice(under_50_revenue, size=under_50_revenue.shape[0])\n",
    "\n",
    "    # independent t-test\n",
    "    p_val[i] = stats.ttest_ind(sample_over_50, sample_under_50)[1]\n",
    "\n",
    "# calculating the percentage of rejects\n",
    "power = len(p_val[p_val < 0.05]) / len(p_val)\n",
    "\n",
    "# printing the results\n",
    "print(\n",
    "    f\"\"\"\n",
    "The statistical power of:\n",
    "    - The independent sample t-test comparing the revenue of diveres and less diverse movies: {power}\n",
    "\"\"\"\n",
    ")"
   ]
  },
  {
   "cell_type": "code",
   "execution_count": null,
   "id": "926128c3-237b-4bf5-9830-51a321d2603b",
   "metadata": {},
   "outputs": [],
   "source": [
    "# calculating the mean difference\n",
    "mean_diff_diversity = over_50_revenue.mean() - under_50_revenue.mean()\n",
    "\n",
    "# performing bootstrap to get the 95% CI\n",
    "diversity_CI = bootstrap_mean_diff_CI(over_50_revenue, under_50_revenue)\n",
    "\n",
    "# printing the results\n",
    "print(\n",
    "    f\"\"\"\n",
    "The mean difference between in revenue between diverse and less diverse movies:\n",
    "    - Mean:                       {mean_diff_diversity}\n",
    "    - CI:                         {diversity_CI}\n",
    "\"\"\"\n",
    ")"
   ]
  },
  {
   "cell_type": "code",
   "execution_count": null,
   "id": "eb04a452-ca30-4e02-85b3-16e0dba0640e",
   "metadata": {},
   "outputs": [],
   "source": [
    "# calculating the average revenue for under_50\n",
    "mean_under_50 = under_50_revenue.mean()\n",
    "\n",
    "# calculating the percentage difference in revenue\n",
    "diff_percent = mean_diff_diversity / mean_under_50\n",
    "\n",
    "# printing the results\n",
    "diff_percent"
   ]
  },
  {
   "cell_type": "markdown",
   "id": "5bbcc5db-5a71-4715-95dc-8292c352b7b2",
   "metadata": {},
   "source": [
    "#### Comment \n",
    "- The independent t-test gives us a small p-value (< 0.05), which indicates a statistically significant difference between the samples of diverse (ethnicity score > 0.5) and less diverse (ethnicity score ≤ 50) movies. The statistical power of the result is 0.5058. \n",
    "- Further, the mean difference shows that diverse movies generally have higher movie box office revenue. The confidence interval makes us confident in this result. \n",
    "- By dividing the average difference by the average revenue for less diverse movies, we get that diverse movie, on average, have a ~27.3% higher movie box office revenue. This shows that ethnicity is impactful on the movie box office revenue."
   ]
  },
  {
   "cell_type": "code",
   "execution_count": null,
   "id": "d5756ca6-c79d-4247-91a1-94e1dc5abad5",
   "metadata": {},
   "outputs": [],
   "source": [
    "# compute means\n",
    "means_revenue_ethnicity = []\n",
    "thresholds = np.arange(0, 1.01, 0.01)\n",
    "\n",
    "for t in thresholds:\n",
    "    means_revenue_ethnicity.append(movies[movies[\"ethnicity_score\"] >= t]['movie_box_office_revenue'].mean())"
   ]
  },
  {
   "cell_type": "code",
   "execution_count": null,
   "id": "bb4cf3d0-d197-415e-a255-99e82288a5ed",
   "metadata": {},
   "outputs": [],
   "source": [
    "# compute CI\n",
    "ethnicity_cis_lower, ethnicity_cis_upper = [], []\n",
    "\n",
    "for t in thresholds:\n",
    "    # creating treatment group\n",
    "    ethnicity_tmp = movies[movies[\"ethnicity_score\"] > t]\n",
    "    \n",
    "    # compute 95% CI\n",
    "    l, h = bootstrap_CI(ethnicity_tmp['movie_box_office_revenue'].values)\n",
    "    ethnicity_cis_lower.append(l)\n",
    "    ethnicity_cis_upper.append(h)"
   ]
  },
  {
   "cell_type": "code",
   "execution_count": null,
   "id": "283aa5bb-c347-494e-bac4-90d962cb5e98",
   "metadata": {},
   "outputs": [],
   "source": [
    "# replace NaN with 0.0\n",
    "means_revenue_ethnicity = [0.0 if math.isnan(val) else val for val in means_revenue_ethnicity]\n",
    "ethnicity_cis_lower = [0.0 if math.isnan(val) else val for val in ethnicity_cis_lower]\n",
    "ethnicity_cis_upper = [0.0 if math.isnan(val) else val for val in ethnicity_cis_upper]"
   ]
  },
  {
   "cell_type": "code",
   "execution_count": null,
   "id": "be5df1c7-6771-424d-b844-20bfa91f76d1",
   "metadata": {},
   "outputs": [],
   "source": [
    "# Create figure\n",
    "fig = make_subplots(rows=1, \n",
    "                    cols=2, \n",
    "                    start_cell=\"bottom-left\", \n",
    "                    subplot_titles=('Movie distribution','Mean revenue'),\n",
    "                    horizontal_spacing  = 0.2)\n",
    "\n",
    "# Add traces, one for each slider step\n",
    "for threshold in np.arange(0, 1.01, 0.01):\n",
    "    fig.add_trace(\n",
    "        go.Scatter(\n",
    "            visible=False,\n",
    "            line=dict(color=\"#FF9900\", width=1),\n",
    "            name=\"Movie distribution\",\n",
    "            x=movies[movies[\"ethnicity_score\"] >= threshold].groupby('year_released').count()['freebase_movie_ID'].index,\n",
    "            y=movies[movies[\"ethnicity_score\"] >= threshold].groupby('year_released').count()['freebase_movie_ID'].values,\n",
    "            mode=\"lines\"\n",
    "        ), row=1, col=1\n",
    "    ),\n",
    "    \n",
    "\n",
    "for idx, threshold in enumerate(np.arange(0, 1.01, 0.01)):\n",
    "    fig.add_trace(\n",
    "        go.Scatter(\n",
    "            visible=False,\n",
    "            name=str(round(means_revenue_ethnicity[idx])) + ' USD',\n",
    "            line=dict(color=\"#FB0D0D\", width=15),\n",
    "            x=[threshold],\n",
    "            y=[means_revenue_ethnicity[idx]],\n",
    "            mode=\"markers\"\n",
    "        ), row=1, col=2\n",
    "    )\n",
    "\n",
    "fig.add_trace(\n",
    "    go.Scatter(\n",
    "        visible=True,\n",
    "        line=dict(color=\"#00CED1\", width=1),\n",
    "        x=np.arange(0, 1.01, 0.01),\n",
    "        y=means_revenue_ethnicity,\n",
    "        name=\"Mean revenue (USD)\",\n",
    "        mode=\"lines\"\n",
    "    ), row=1, col=2\n",
    ")\n",
    "\n",
    "fig.add_trace(\n",
    "    go.Scatter(\n",
    "        visible=True,\n",
    "        x=list(thresholds)+list(thresholds[::-1]), # x, then x reversed\n",
    "        y=ethnicity_cis_upper+ethnicity_cis_lower[::-1], # upper, then lower reversed\n",
    "        fill='toself',\n",
    "        fillcolor=\"rgba(47, 138, 196, 0.2)\",\n",
    "        line=dict(color='rgba(255,255,255,0)'),\n",
    "        hoverinfo=\"skip\",\n",
    "        name='95% CI',\n",
    "        showlegend=True\n",
    "    ), row=1, col=2\n",
    ")\n",
    "    \n",
    "\n",
    "# Make 50th trace visible\n",
    "fig.data[50].visible = True\n",
    "fig.data[150].visible = True\n",
    "\n",
    "# Create and add slider\n",
    "steps = []\n",
    "for i in range(101):\n",
    "    step = dict(\n",
    "        method=\"update\",\n",
    "        args=[{\"visible\": [False] * len(fig.data)}],  # layout attribute\n",
    "        label=str(i)  # update the label to remove \"step\"\n",
    "    )\n",
    "    step[\"args\"][0][\"visible\"][i] = True  # Toggle i'th trace to \"visible\"\n",
    "    step[\"args\"][0][\"visible\"][i + 101] = True\n",
    "    step[\"args\"][0][\"visible\"][202] = True\n",
    "    step[\"args\"][0][\"visible\"][203] = True\n",
    "    steps.append(step)\n",
    "    \n",
    "    sliders = [dict(\n",
    "    active=50,\n",
    "    currentvalue={\"prefix\": \"Threshold on ethnicity score (%): \"}, \n",
    "    pad={\"t\": 50},\n",
    "    steps=steps\n",
    ")]\n",
    "    \n",
    "# edit axis labels\n",
    "fig['layout']['xaxis']['title']='Year'\n",
    "fig['layout']['xaxis2']['title']='Threshold'\n",
    "fig['layout']['yaxis']['title']='# Movies'\n",
    "fig['layout']['yaxis2']['title']='Mean box office revenue'\n",
    "\n",
    "fig.update_layout(\n",
    "    width=700,\n",
    "    height=500,\n",
    "    sliders=sliders\n",
    ")\n",
    "\n",
    "\n",
    "fig.show()\n",
    "fig.write_html(\"./plots/distribution_ethnicity.html\")"
   ]
  },
  {
   "cell_type": "markdown",
   "id": "dab3cacc",
   "metadata": {},
   "source": [
    "#### Comment \n",
    "- We observe that movies with ethnicity score above 0.6 first appear around 1990\n",
    "- We also observe highest revenue with a threshold ≈ 0.4"
   ]
  },
  {
   "cell_type": "code",
   "execution_count": null,
   "id": "03afd0e5-e307-4ccd-9d18-35538802a6fd",
   "metadata": {},
   "outputs": [],
   "source": [
    "thresholds = [0.2, 0.3, 0.4, 0.5, 0.6, 0.7]\n",
    "treated_ethnicity_cis_lower, treated_ethnicity_cis_upper = [], []\n",
    "control_ethnicity_cis_lower, control_ethnicity_cis_upper = [], []\n",
    "revenue_ethnicity_treated, revenue_ethnicity_control = [], []\n",
    "years_ethnicity_treated, years_ethnicity_control= [], []\n",
    "\n",
    "\n",
    "for t in thresholds:\n",
    "    # creating treatment group\n",
    "    treated_ethnicity = movies[movies[\"ethnicity_score\"] > t]\n",
    "    control_ethnicity = movies[movies[\"ethnicity_score\"] <= t]\n",
    "    \n",
    "    grouped_ethnicity_treated = treated_ethnicity.groupby('year_released')\n",
    "    grouped_ethnicity_control = control_ethnicity.groupby('year_released')\n",
    "    \n",
    "    years_ethnicity_treated.append(grouped_ethnicity_treated.groups.keys())\n",
    "    years_ethnicity_control.append(grouped_ethnicity_control.groups.keys())\n",
    "\n",
    "    # compute the average revenue for each year\n",
    "    revenue_ethnicity_treated.append(grouped_ethnicity_treated['movie_box_office_revenue'].mean())\n",
    "    revenue_ethnicity_control.append(grouped_ethnicity_control['movie_box_office_revenue'].mean())\n",
    "\n",
    "    # compute CI treated\n",
    "    treated_ethnicity_ci_lower, treated_ethnicity_ci_upper = [], []\n",
    "\n",
    "    for key, item in grouped_ethnicity_treated['movie_box_office_revenue']:\n",
    "        l, h = bootstrap_CI(grouped_ethnicity_treated['movie_box_office_revenue'].get_group(key))\n",
    "        treated_ethnicity_ci_lower.append(l)\n",
    "        treated_ethnicity_ci_upper.append(h)\n",
    "    \n",
    "    treated_ethnicity_cis_lower.append(treated_ethnicity_ci_lower)\n",
    "    treated_ethnicity_cis_upper.append(treated_ethnicity_ci_upper)\n",
    "    \n",
    "    # compute CI control\n",
    "    control_ethnicity_ci_lower, control_ethnicity_ci_upper = [], []\n",
    "\n",
    "    for key, item in grouped_ethnicity_control['movie_box_office_revenue']:\n",
    "        l, h = bootstrap_CI(grouped_ethnicity_control['movie_box_office_revenue'].get_group(key))\n",
    "        control_ethnicity_ci_lower.append(l)\n",
    "        control_ethnicity_ci_upper.append(h)\n",
    "    \n",
    "    control_ethnicity_cis_lower.append(control_ethnicity_ci_lower)\n",
    "    control_ethnicity_cis_upper.append(control_ethnicity_ci_upper)"
   ]
  },
  {
   "cell_type": "code",
   "execution_count": null,
   "id": "983f9cd4-4351-480c-b03c-8a5b41883fb3",
   "metadata": {},
   "outputs": [],
   "source": [
    "fig = go.Figure()\n",
    "\n",
    "i = 0\n",
    "for y_t, y_c, treated, control, t_ci_l, t_ci_u, c_ci_l, c_ci_u, c, t in zip(years_ethnicity_treated,\n",
    "                                                                            years_ethnicity_control, \n",
    "                                                                            revenue_ethnicity_treated, \n",
    "                                                                            revenue_ethnicity_control,\n",
    "                                                                            treated_ethnicity_cis_lower,\n",
    "                                                                            treated_ethnicity_cis_upper,\n",
    "                                                                            control_ethnicity_cis_lower,\n",
    "                                                                            control_ethnicity_cis_upper,\n",
    "                                                                            colors,\n",
    "                                                                            thresholds):\n",
    "    fig.add_trace(\n",
    "        go.Scatter(\n",
    "            x = list(y_t),\n",
    "            y = treated.values,\n",
    "            line=dict(color=c[0]),\n",
    "            name = f'Treated t={t}',\n",
    "            mode = 'lines'\n",
    "        )\n",
    "    )\n",
    "    fig.add_trace(\n",
    "        go.Scatter(\n",
    "            x=list(y_t)+list(y_t)[::-1], # x, then x reversed\n",
    "            y=t_ci_u+t_ci_l[::-1], # upper, then lower reversed\n",
    "            fill='toself',\n",
    "            fillcolor=c[1],\n",
    "            line=dict(color='rgba(255,255,255,0)'),\n",
    "            hoverinfo=\"skip\",\n",
    "            name='95% CI',\n",
    "            showlegend=True\n",
    "        )\n",
    "    )\n",
    "    fig.add_trace(\n",
    "        go.Scatter(\n",
    "            x = list(y_c),\n",
    "            y = control.values,\n",
    "            line=dict(color=c[2]),\n",
    "            name = f'Control t={t}',\n",
    "            mode = 'lines'\n",
    "        )\n",
    "    )\n",
    "    fig.add_trace(\n",
    "        go.Scatter(\n",
    "            x=list(y_c)+list(y_c)[::-1], # x, then x reversed\n",
    "            y=c_ci_u+c_ci_l[::-1], # upper, then lower reversed\n",
    "            fill='toself',\n",
    "            fillcolor=c[3],\n",
    "            line=dict(color='rgba(255,255,255,0)'),\n",
    "            hoverinfo=\"skip\",\n",
    "            name='95% CI',\n",
    "            showlegend=True\n",
    "        )\n",
    "    )\n",
    "    \n",
    "fig.update_layout(\n",
    "    width=700,\n",
    "    height=500,\n",
    "    xaxis_title=\"Year\", yaxis_title=\"Mean box office revenue\",\n",
    "    title='Revenue of treated and control including all thresholds on ethnicity score',\n",
    "    title_x = 0.5,\n",
    "    updatemenus=[go.layout.Updatemenu(\n",
    "        active=0,\n",
    "        name=\"Threshold\",\n",
    "        buttons=list(\n",
    "            [dict(label = 'All',\n",
    "                  method = 'update',\n",
    "                  args = [{'visible': [True for i in range(24)]},\n",
    "                          {'title': 'Revenue of treated and control including all thresholds on ethnicity score',\n",
    "                           'title_x': 0.5,\n",
    "                           'showlegend':True}]),\n",
    "             dict(label = 'All (w/0 CI´s)',\n",
    "                  method = 'update',\n",
    "                  args = [{'visible': [i % 2 == 0 for i in range(24)]},\n",
    "                          {'title': 'Revenue of treated and control including all thresholds on ethnicity score',\n",
    "                           'title_x': 0.5,\n",
    "                           'showlegend':True}]),\n",
    "             dict(label = 't = 0.2',\n",
    "                  method = 'update',\n",
    "                  args = [{'visible': [True]*4 + [False]*20}, \n",
    "                          {'title': 'Revenue of treated and control with a threshold of 0.2 on ethnicity score',\n",
    "                           'title_x': 0.5,\n",
    "                           'showlegend':True}]),\n",
    "             dict(label = 't = 0.3',\n",
    "                  method = 'update',\n",
    "                  args = [{'visible': [False] * 4 + [True] * 4 + [False] * 16},\n",
    "                          {'title': 'Revenue of treated and control with a threshold of 0.3 on ethnicity score',\n",
    "                           'title_x': 0.5,\n",
    "                           'showlegend':True}]),\n",
    "             dict(label = 't = 0.4',\n",
    "                  method = 'update',\n",
    "                  args = [{'visible': [False] * 8 + [True] * 4 + [False] * 12},\n",
    "                          {'title': 'Revenue of treated and control with a threshold of 0.4 on ethnicity score',\n",
    "                           'title_x': 0.5,\n",
    "                           'showlegend':True}]),\n",
    "             dict(label = 't = 0.5',\n",
    "                  method = 'update',\n",
    "                  args = [{'visible': [False] * 12 + [True] * 4 + [False] * 8},\n",
    "                          {'title': 'Revenue of treated and control with a threshold of 0.5 on ethnicity score',\n",
    "                           'title_x': 0.5,\n",
    "                           'showlegend':True}]),\n",
    "              dict(label = 't = 0.6',\n",
    "                  method = 'update',\n",
    "                  args = [{'visible': [False] * 16 + [True] * 4+ [False] * 4},\n",
    "                          {'title': 'Revenue of treated and control with a threshold of 0.6 on ethnicity score',\n",
    "                           'title_x': 0.5,\n",
    "                           'showlegend':True}]),\n",
    "             dict(label = 't = 0.7',\n",
    "                  method = 'update',\n",
    "                  args = [{'visible': [False] * 20 + [True] * 4},\n",
    "                          {'title': 'Revenue of treated and control with a threshold of 0.7 on ethnicity score',\n",
    "                           'title_x': 0.5,\n",
    "                           'showlegend':True}]),\n",
    "            ]),\n",
    "        pad={\"r\": 30, \"t\": 10},\n",
    "        )\n",
    "    ])\n",
    "\n",
    "fig.show()\n",
    "fig.write_html(\"./plots/revenue_ethnicity.html\")"
   ]
  },
  {
   "cell_type": "markdown",
   "id": "b1016c3d",
   "metadata": {},
   "source": [
    "#### Comment\n",
    "- We observe significantly difference between the control group and treated group after "
   ]
  },
  {
   "cell_type": "code",
   "execution_count": null,
   "id": "3ae75ed1",
   "metadata": {},
   "outputs": [],
   "source": [
    "# take a deeper look on different ethnicity scores\n",
    "\n",
    "# add column for ethnicity group\n",
    "movies['ethnicity_group'] = movies['ethnicity_score'].apply(score_to_categories)"
   ]
  },
  {
   "cell_type": "code",
   "execution_count": null,
   "id": "869400c5-e22c-4155-a0af-f0a15f671213",
   "metadata": {},
   "outputs": [],
   "source": [
    "# compute 95% CI for each group\n",
    "grouped_movies_ethnicity = movies.groupby('ethnicity_group')\n",
    "\n",
    "grouped_means_revenue_ethnicity = grouped_movies_ethnicity.mean()['movie_box_office_revenue']\n",
    "\n",
    "# compute CI \n",
    "yerr_lower, yerr_upper = [], []\n",
    "\n",
    "for key, item in grouped_movies_ethnicity['movie_box_office_revenue']:\n",
    "    l, h = bootstrap_CI(grouped_movies_ethnicity['movie_box_office_revenue'].get_group(key))\n",
    "    yerr_lower.append(l)\n",
    "    yerr_upper.append(h)\n",
    "\n",
    "\n",
    "yerr_lower = np.array(grouped_means_revenue_ethnicity) - np.array(yerr_lower)\n",
    "yerr_upper = np.array(yerr_upper) - np.array(grouped_means_revenue_ethnicity)\n",
    "yerr_test = yerr_upper - yerr_lower"
   ]
  },
  {
   "cell_type": "code",
   "execution_count": null,
   "id": "719daf32-7581-456d-8cd9-2f01134e5d47",
   "metadata": {},
   "outputs": [],
   "source": [
    "fig = go.Figure()\n",
    "fig.add_trace(go.Bar(\n",
    "    name='Revenue',\n",
    "    x=grouped_means_revenue_ethnicity.keys(), y=grouped_means_revenue_ethnicity.values,\n",
    "    error_y=dict(type='data', array=yerr_upper, arrayminus=yerr_lower),\n",
    "))\n",
    "\n",
    "fig.update_layout(\n",
    "    barmode='group',\n",
    "    width=700,\n",
    "    height=500,\n",
    "    xaxis_title=\"Ethnicity Score\", \n",
    "    yaxis_title=\"Mean box office revenue\",\n",
    "    title='Revenue for different ethnicity score intervals',\n",
    "    title_x = 0.5\n",
    ")\n",
    "fig.show()\n",
    "fig.write_html(\"./plots/revenue_ethnicity_bar.html\")"
   ]
  },
  {
   "cell_type": "markdown",
   "id": "13cb0e0a",
   "metadata": {},
   "source": [
    "#### Comment\n",
    "- We observe that movies with ethnicity score between <0 - 0.2] achive significantluy worse movie box office revenue than all other categories.\n",
    "\n",
    "- We also observe that the effect of increasing the ethnicity score above 0.2 not necessarily increase the movie box office revenue.\n",
    "\n",
    "- Furher we observe a larger 95% CI for the last two categories, which might indicate that the audience has not decided yet if that improves the quality of the movie or not.\n",
    "\n",
    "- The safest choice, for now, seems to be an ethnicity score between 0.2 - 0.6. An increase obove 0.6 is more risky, as it makes the movie revenue unreliable to predict."
   ]
  },
  {
   "cell_type": "markdown",
   "id": "70120c85-01f2-4c65-b086-a153114bd5cc",
   "metadata": {
    "tags": []
   },
   "source": [
    "---\n",
    "## Gender"
   ]
  },
  {
   "cell_type": "markdown",
   "id": "da0e2b9f-5fdd-4fc2-8089-15126a50a4c6",
   "metadata": {},
   "source": [
    "---\n",
    "### Correlation between the number of females and revenue"
   ]
  },
  {
   "cell_type": "code",
   "execution_count": null,
   "id": "df110f9e-1c62-44b7-b822-96150889d7ab",
   "metadata": {},
   "outputs": [],
   "source": [
    "# checkint the amount of characters without 'actor_gender'\n",
    "num_characters = characters.shape[0]\n",
    "num_nan_gender = characters[characters[\"actor_gender\"].isna()].shape[0]\n",
    "\n",
    "# printing the results\n",
    "print(\n",
    "    f\"\"\"\n",
    "Total number of characters:                {num_characters}\n",
    "Number of characters without actor gender:  {num_nan_gender}     \n",
    "\"\"\"\n",
    ")"
   ]
  },
  {
   "cell_type": "code",
   "execution_count": null,
   "id": "47cc1bf5-82d0-4353-adba-06554a69c810",
   "metadata": {},
   "outputs": [],
   "source": [
    "# add collumn for fraction of females\n",
    "\n",
    "# create frame with female actors\n",
    "female_characters = characters[characters[\"actor_gender\"] == \"F\"]\n",
    "\n",
    "# add column for number of female actors\n",
    "num_female = female_characters.groupby(\"freebase_movie_ID\")[\"actor_gender\"].count()\n",
    "\n",
    "# rename the series\n",
    "num_female.name = \"num_female\"\n",
    "movies = movies.merge(num_female, left_on=\"freebase_movie_ID\", right_index=True)\n",
    "\n",
    "# print result\n",
    "movies.head(1)"
   ]
  },
  {
   "cell_type": "code",
   "execution_count": null,
   "id": "e7edb7ba-aeab-4349-ad0f-66d5485a7048",
   "metadata": {},
   "outputs": [],
   "source": [
    "# plot relationship between 'num_female' and 'movie_box_office_revenue'\n",
    "movies.plot.scatter(x=\"num_female\", y=\"movie_box_office_revenue\", s=1)\n",
    "plt.yscale(\"log\")\n",
    "plt.xlabel(\"Number of females\")\n",
    "plt.ylabel(\"Movie box office revenue\")\n",
    "plt.title(\"Relationship between number of females and movie box office revenue\")\n",
    "plt.show()"
   ]
  },
  {
   "cell_type": "code",
   "execution_count": null,
   "id": "395fdde8-c779-4b58-9454-34967c98fbec",
   "metadata": {},
   "outputs": [],
   "source": [
    "# compute spearman correlation between 'num_female' and 'movie_box_office_revenue'\n",
    "stats.spearmanr(movies[\"num_female\"], movies[\"movie_box_office_revenue\"])"
   ]
  },
  {
   "cell_type": "markdown",
   "id": "d999d540-1788-43ef-8672-d68fc62668be",
   "metadata": {},
   "source": [
    "#### Comment \n",
    "- We observe a weak but significant correlation between `num_female` and `movie_box_office_revenue.`\n",
    "- It is difficult to interpret how big an impact `num_female` and `num_actors` have on `movie_box_office_revenue` separately since they are highly correlated (more actors will likely lead to more female actors as well).\n",
    "- To try to isolate the impact gender have on the revenue, we will instead look at the fraction of female, which is calculated as follow: $fraction\\: of\\: female = \\frac{number\\,of\\,female}{number\\,of\\,actors}$"
   ]
  },
  {
   "cell_type": "markdown",
   "id": "348c16dd-8b4f-4e3a-8ede-c2546332ed07",
   "metadata": {},
   "source": [
    "---\n",
    "### Correlation between the fraction of females and revenue"
   ]
  },
  {
   "cell_type": "code",
   "execution_count": null,
   "id": "2b740103-fa96-43e8-9f7c-a64d8c674042",
   "metadata": {},
   "outputs": [],
   "source": [
    "# add column for fraction of females\n",
    "movies[\"frac_female\"] = movies[\"num_female\"] / movies[\"num_actors\"]\n",
    "\n",
    "# print result\n",
    "movies.head(1)"
   ]
  },
  {
   "cell_type": "code",
   "execution_count": null,
   "id": "5cf437b0-3324-41f3-a9e3-a270dec962de",
   "metadata": {},
   "outputs": [],
   "source": [
    "# plot relationship between 'frac_female' and 'movie_box_office_revenue'\n",
    "movies.plot.scatter(x=\"frac_female\", y=\"movie_box_office_revenue\", s=1)\n",
    "plt.yscale(\"log\")\n",
    "plt.xlabel(\"Fraction of females\")\n",
    "plt.ylabel(\"Movie box office revenue\")\n",
    "plt.title(\"Relationship between fraction of females and movie box office revenue\")\n",
    "plt.show()"
   ]
  },
  {
   "cell_type": "code",
   "execution_count": null,
   "id": "5b228912-065c-4876-bbc8-53c929f7388d",
   "metadata": {},
   "outputs": [],
   "source": [
    "# compute spearman correlation between 'frac_female' and 'movie_box_office_revenue'\n",
    "stats.spearmanr(movies[\"frac_female\"], movies[\"movie_box_office_revenue\"])"
   ]
  },
  {
   "cell_type": "code",
   "execution_count": null,
   "id": "66028946-f130-4c8a-9c5e-f3984a32f627",
   "metadata": {},
   "outputs": [],
   "source": [
    "# check difference between the revenue of movies with majority of men and majority of women\n",
    "majority_male_revenue = movies[movies[\"frac_female\"] <= 0.5][\"movie_box_office_revenue\"]\n",
    "majority_female_revenue = movies[movies[\"frac_female\"] > 0.5][\n",
    "    \"movie_box_office_revenue\"\n",
    "]"
   ]
  },
  {
   "cell_type": "code",
   "execution_count": null,
   "id": "bc91c105-30c0-4e0d-abd8-b2429c4d9753",
   "metadata": {},
   "outputs": [],
   "source": [
    "# independent t-test\n",
    "stats.ttest_ind(majority_male_revenue, majority_female_revenue)"
   ]
  },
  {
   "cell_type": "markdown",
   "id": "bdddcded-35b2-4244-ae3c-1c04a22c7616",
   "metadata": {},
   "source": [
    "#### Comment\n",
    "- After trying to isolate the impact on the revenue, we still observe a significant correlation. The correlation is increased when we look at `frac_females` instead of `num_females,` but still weak."
   ]
  },
  {
   "cell_type": "markdown",
   "id": "d676ac38-c65f-4a6d-9474-d44e8dae9034",
   "metadata": {},
   "source": [
    "---\n",
    "### Difference in revenue between the movies with majority of male and female actors"
   ]
  },
  {
   "cell_type": "code",
   "execution_count": null,
   "id": "88f6d30d-a855-4d4f-9a67-af0b58a73374",
   "metadata": {},
   "outputs": [],
   "source": [
    "# calculate the statistical power\n",
    "\n",
    "# creating list to store the p-values\n",
    "p_val = np.zeros(10000)\n",
    "\n",
    "# running the simulation 10000 times\n",
    "for i in range(10000):\n",
    "\n",
    "    # sample over_50 and under_50\n",
    "    sample_majority_male = np.random.choice(\n",
    "        majority_male_revenue, size=majority_male_revenue.shape[0]\n",
    "    )\n",
    "    sample_majority_female = np.random.choice(\n",
    "        majority_female_revenue, size=majority_female_revenue.shape[0]\n",
    "    )\n",
    "\n",
    "    # independent t-test\n",
    "    p_val[i] = stats.ttest_ind(sample_majority_male, sample_majority_female)[1]\n",
    "\n",
    "# calculating the percentage of rejects\n",
    "power = len(p_val[p_val < 0.05]) / len(p_val)\n",
    "\n",
    "# printing the results\n",
    "print(\n",
    "    f\"\"\"\n",
    "The statistical power of:\n",
    "    - The independent sample t-test comparing the revenue of movies with majority of male and majority of female \n",
    "      actors: {power}\n",
    "\"\"\"\n",
    ")"
   ]
  },
  {
   "cell_type": "code",
   "execution_count": null,
   "id": "92cdd629-5a15-46d2-bc8f-9e85c5182aa2",
   "metadata": {},
   "outputs": [],
   "source": [
    "# calculating the mean difference\n",
    "mean_diff_gender = majority_male_revenue.mean() - majority_female_revenue.mean()\n",
    "\n",
    "# performing bootstrap to get the 95% CI\n",
    "gender_CI = bootstrap_mean_diff_CI(majority_male_revenue, majority_female_revenue)\n",
    "\n",
    "# printing the results\n",
    "print(\n",
    "    f\"\"\"\n",
    "The mean difference between in revenue between diverse and less diverse movies:\n",
    "    - Mean:                       {mean_diff_gender}\n",
    "    - CI:                         {gender_CI}\n",
    "\"\"\"\n",
    ")"
   ]
  },
  {
   "cell_type": "code",
   "execution_count": null,
   "id": "c2f23a0a-0d0b-4582-b7da-ea498373d875",
   "metadata": {},
   "outputs": [],
   "source": [
    "# calculating the average revenue for under_50\n",
    "mean_majority_female = majority_female_revenue.mean()\n",
    "\n",
    "# calculating the percentage difference in revenue\n",
    "diff_percent = mean_diff_gender / mean_majority_female\n",
    "\n",
    "# printing the results\n",
    "diff_percent"
   ]
  },
  {
   "cell_type": "markdown",
   "id": "15f8fbfd-1149-4596-a5b1-742304088a77",
   "metadata": {},
   "source": [
    "#### Comment\n",
    "- The independent t-test gives us a small p-value (<< 0.05), which indicates a statistically significant difference between the samples with the majority of male actors (fraction of females ≤ 0.5) and the samples with the majority of female actors (fraction of females > 50). The statistical power of 0.9864 makes us confident in this result.\n",
    "- Further, the mean difference tells us that the movies with the majority of male actors generally have a higher movie box office revenue. The confidence interval makes us confident in this result. \n",
    "- By dividing the average difference by the average revenue for movies with the majority of female actors, we get that movies with the majority of male actors, on average, have a ~50.9% higher movie box office revenue. This shows that the gender-composition is impactful on the movie box office revenue."
   ]
  },
  {
   "cell_type": "code",
   "execution_count": null,
   "id": "9fa8ae43-e9f7-47fa-91df-6474934fcae1",
   "metadata": {},
   "outputs": [],
   "source": [
    "# compute means\n",
    "means_revenue_female = []\n",
    "thresholds = np.arange(0, 1.01, 0.01)\n",
    "for t in thresholds:\n",
    "    means_revenue_female.append(movies[movies[\"frac_female\"] >= t]['movie_box_office_revenue'].mean())"
   ]
  },
  {
   "cell_type": "code",
   "execution_count": null,
   "id": "11f7a1fd-1f9c-4cdd-a387-57ffa26311a3",
   "metadata": {},
   "outputs": [],
   "source": [
    "# compute CI\n",
    "female_cis_lower, female_cis_upper = [], []\n",
    "\n",
    "for t in thresholds:\n",
    "    # creating treatment group\n",
    "    female_tmp = movies[movies[\"frac_female\"] > t]\n",
    "    \n",
    "    # compute 95% CI\n",
    "    l, h = bootstrap_CI(female_tmp['movie_box_office_revenue'].values)\n",
    "    female_cis_lower.append(l)\n",
    "    female_cis_upper.append(h)"
   ]
  },
  {
   "cell_type": "code",
   "execution_count": null,
   "id": "72875a0e-2fe9-4198-a4be-3b4473605bbb",
   "metadata": {},
   "outputs": [],
   "source": [
    "# replace NaN with 0.0\n",
    "means_revenue_female = [0.0 if math.isnan(val) else val for val in means_revenue_female]\n",
    "female_cis_lower = [0.0 if math.isnan(val) else val for val in female_cis_lower]\n",
    "female_cis_upper = [0.0 if math.isnan(val) else val for val in female_cis_upper]"
   ]
  },
  {
   "cell_type": "code",
   "execution_count": null,
   "id": "ab841959-cf89-4a0e-9782-d4ee55665fa6",
   "metadata": {},
   "outputs": [],
   "source": [
    "# Create figure\n",
    "fig = make_subplots(rows=1, \n",
    "                    cols=2, \n",
    "                    start_cell=\"bottom-left\", \n",
    "                    subplot_titles=('Movie distribution','Mean revenue'),\n",
    "                    horizontal_spacing  = 0.2)\n",
    "\n",
    "# Add traces, one for each slider step\n",
    "for threshold in np.arange(0, 1.01, 0.01):\n",
    "    fig.add_trace(\n",
    "        go.Scatter(\n",
    "            visible=False,\n",
    "            line=dict(color=\"#FF9900\", width=1),\n",
    "            name=\"Movie distribution\",\n",
    "            x=movies[movies[\"frac_female\"] >= threshold].groupby('year_released').count()['freebase_movie_ID'].index,\n",
    "            y=movies[movies[\"frac_female\"] >= threshold].groupby('year_released').count()['freebase_movie_ID'].values,\n",
    "            mode=\"lines\"\n",
    "        ), row=1, col=1\n",
    "    )\n",
    "    \n",
    "\n",
    "for idx, threshold in enumerate(np.arange(0, 1.01, 0.01)):\n",
    "    fig.add_trace(\n",
    "        go.Scatter(\n",
    "            visible=False,\n",
    "            name=str(round(means_revenue_female[idx])) + ' USD',\n",
    "            line=dict(color=\"#FB0D0D\", width=15),\n",
    "            x=[threshold],\n",
    "            y=[means_revenue_female[idx]],\n",
    "            mode=\"markers\"\n",
    "        ), row=1, col=2\n",
    "    )\n",
    "\n",
    "fig.add_trace(\n",
    "    go.Scatter(\n",
    "        visible=True,\n",
    "        line=dict(color='rgba(47, 138, 196, 1)', width=1),\n",
    "        x=np.arange(0, 1.01, 0.01),\n",
    "        y=means_revenue_female,\n",
    "        name=\"Mean revenue (USD)\",\n",
    "        mode=\"lines\"\n",
    "    ), row=1, col=2\n",
    ")\n",
    "\n",
    "fig.add_trace(\n",
    "    go.Scatter(\n",
    "        visible=True,\n",
    "        x=list(thresholds)+list(thresholds[::-1]), # x, then x reversed\n",
    "        y=female_cis_upper+female_cis_lower[::-1], # upper, then lower reversed\n",
    "        fill='toself',\n",
    "        fillcolor=\"rgba(47, 138, 196, 0.2)\",\n",
    "        line=dict(color='rgba(255,255,255,0)'),\n",
    "        hoverinfo=\"skip\",\n",
    "        name='95% CI',\n",
    "        showlegend=True\n",
    "    ), row=1, col=2\n",
    ")\n",
    "    \n",
    "\n",
    "# Make 50th trace visible\n",
    "fig.data[50].visible = True\n",
    "fig.data[150].visible = True\n",
    "\n",
    "\n",
    "# Create and add slider\n",
    "steps = []\n",
    "for i in range(101):\n",
    "    step = dict(\n",
    "        method=\"update\",\n",
    "        args=[{\"visible\": [False] * len(fig.data)}],  # layout attribute\n",
    "        label=str(i)  # update the label to remove \"step\"\n",
    "    )\n",
    "    step[\"args\"][0][\"visible\"][i] = True  \n",
    "    step[\"args\"][0][\"visible\"][i + 101] = True\n",
    "    step[\"args\"][0][\"visible\"][202] = True\n",
    "    step[\"args\"][0][\"visible\"][203] = True\n",
    "    steps.append(step)\n",
    "    \n",
    "    sliders = [dict(\n",
    "    active=50,\n",
    "    currentvalue={\"prefix\": \"Threshold on fraction of female (%): \"}, \n",
    "    pad={\"t\": 50},\n",
    "    steps=steps\n",
    ")]\n",
    "    \n",
    "# edit axis labels\n",
    "fig['layout']['xaxis']['title']='Year'\n",
    "fig['layout']['xaxis2']['title']='Threshold'\n",
    "fig['layout']['yaxis']['title']='# Movies'\n",
    "fig['layout']['yaxis2']['title']='Mean box office revenue'\n",
    "\n",
    "fig.update_layout(\n",
    "    width=700,\n",
    "    height=500,\n",
    "    sliders=sliders\n",
    ")\n",
    "\n",
    "\n",
    "fig.show()\n",
    "fig.write_html(\"./plots/distribution_gender.html\")"
   ]
  },
  {
   "cell_type": "code",
   "execution_count": null,
   "id": "32c4c5ca-9a7e-4778-958a-0fbfc359804e",
   "metadata": {},
   "outputs": [],
   "source": [
    "thresholds = [0.2, 0.3, 0.4, 0.5, 0.6, 0.7]\n",
    "treated_female_cis_lower, treated_female_cis_upper = [], []\n",
    "control_female_cis_lower, control_female_cis_upper = [], []\n",
    "revenue_female_treated, revenue_female_control = [], []\n",
    "years_female_treated, years_female_control= [], []\n",
    "\n",
    "\n",
    "for t in thresholds:\n",
    "    # creating treatment group\n",
    "    treated_female = movies[movies[\"frac_female\"] > t]\n",
    "    control_female = movies[movies[\"frac_female\"] <= t]\n",
    "    \n",
    "    grouped_female_treated = treated_female.groupby('year_released')\n",
    "    grouped_female_control = control_female.groupby('year_released')\n",
    "    \n",
    "    years_female_treated.append(grouped_female_treated.groups.keys())\n",
    "    years_female_control.append(grouped_female_control.groups.keys())\n",
    "\n",
    "    # compute the average revenue for each year\n",
    "    revenue_female_treated.append(grouped_female_treated['movie_box_office_revenue'].mean())\n",
    "    revenue_female_control.append(grouped_female_control['movie_box_office_revenue'].mean())\n",
    "\n",
    "    # compute CI treated\n",
    "    treated_female_ci_lower, treated_female_ci_upper = [], []\n",
    "\n",
    "    for key, item in grouped_female_treated['movie_box_office_revenue']:\n",
    "        l, h = bootstrap_CI(grouped_female_treated['movie_box_office_revenue'].get_group(key))\n",
    "        treated_female_ci_lower.append(l)\n",
    "        treated_female_ci_upper.append(h)\n",
    "    \n",
    "    treated_female_cis_lower.append(treated_female_ci_lower)\n",
    "    treated_female_cis_upper.append(treated_female_ci_upper)\n",
    "    \n",
    "    # compute CI control\n",
    "    control_female_ci_lower, control_female_ci_upper = [], []\n",
    "\n",
    "    for key, item in grouped_female_control['movie_box_office_revenue']:\n",
    "        l, h = bootstrap_CI(grouped_female_control['movie_box_office_revenue'].get_group(key))\n",
    "        control_female_ci_lower.append(l)\n",
    "        control_female_ci_upper.append(h)\n",
    "    \n",
    "    control_female_cis_lower.append(control_female_ci_lower)\n",
    "    control_female_cis_upper.append(control_female_ci_upper)\n",
    "    "
   ]
  },
  {
   "cell_type": "code",
   "execution_count": null,
   "id": "a9996bfc-fa81-46c2-800f-f704c1fa3bb9",
   "metadata": {},
   "outputs": [],
   "source": [
    "# How to change plot data using dropdowns\n",
    "#\n",
    "# This example shows how to manually add traces\n",
    "# to the plot and configure the dropdown to only\n",
    "# show the specific traces you allow.\n",
    "\n",
    "fig = go.Figure()\n",
    "\n",
    "i = 0\n",
    "for y_t, y_c, treated, control, t_ci_l, t_ci_u, c_ci_l, c_ci_u, c, t in zip(years_female_treated,\n",
    "                                                                            years_female_control, \n",
    "                                                                            revenue_female_treated, \n",
    "                                                                            revenue_female_control,\n",
    "                                                                            treated_female_cis_lower,\n",
    "                                                                            treated_female_cis_upper,\n",
    "                                                                            control_female_cis_lower,\n",
    "                                                                            control_female_cis_upper,\n",
    "                                                                            colors,\n",
    "                                                                            thresholds):\n",
    "    fig.add_trace(\n",
    "        go.Scatter(\n",
    "            x = list(y_t),\n",
    "            y = treated.values,\n",
    "            line=dict(color=c[0]),\n",
    "            name = f'Treated t={t}',\n",
    "        )\n",
    "    )\n",
    "    fig.add_trace(\n",
    "        go.Scatter(\n",
    "            x=list(y_t)+list(y_t)[::-1], # x, then x reversed\n",
    "            y=t_ci_u+t_ci_l[::-1], # upper, then lower reversed\n",
    "            fill='toself',\n",
    "            fillcolor=c[1],\n",
    "            line=dict(color='rgba(255,255,255,0)'),\n",
    "            hoverinfo=\"skip\",\n",
    "            name='95% CI',\n",
    "            showlegend=True\n",
    "        )\n",
    "    )\n",
    "    fig.add_trace(\n",
    "        go.Scatter(\n",
    "            x = list(y_c),\n",
    "            y = control.values,\n",
    "            line=dict(color=c[2]),\n",
    "            name = f'Control t={t}',\n",
    "        )\n",
    "    )\n",
    "    fig.add_trace(\n",
    "        go.Scatter(\n",
    "            x=list(y_c)+list(y_c)[::-1], # x, then x reversed\n",
    "            y=c_ci_u+c_ci_l[::-1], # upper, then lower reversed\n",
    "            fill='toself',\n",
    "            fillcolor=c[3],\n",
    "            line=dict(color='rgba(255,255,255,0)'),\n",
    "            hoverinfo=\"skip\",\n",
    "            name='95% CI',\n",
    "            showlegend=True\n",
    "        )\n",
    "    )\n",
    "    \n",
    "fig.update_layout(\n",
    "    width=700,\n",
    "    height=500,\n",
    "    xaxis_title=\"Year\", yaxis_title=\"Mean box office revenue\",\n",
    "    title='Revenue of treated and control including all thresholds on fraction of female',\n",
    "    updatemenus=[go.layout.Updatemenu(\n",
    "        active=0,\n",
    "        buttons=list(\n",
    "            [dict(label = 'All',\n",
    "                  method = 'update',\n",
    "                  args = [{'visible': [True for i in range(24)]},\n",
    "                          {'title': 'Revenue of treated and control including all thresholds on fraction of female',\n",
    "                           'showlegend':True}]),\n",
    "             dict(label = 'All (w/0 CI´s)',\n",
    "                  method = 'update',\n",
    "                  args = [{'visible': [i % 2 == 0 for i in range(24)]},\n",
    "                          {'title': 'Revenue of treated and control including all thresholds on fraction of female',\n",
    "                           'showlegend':True}]),\n",
    "             dict(label = '0.2',\n",
    "                  method = 'update',\n",
    "                  args = [{'visible': [True]*4 + [False]*20}, \n",
    "                          {'title': 'Revenue of treated and control with a threshold of 0.2 on fraction of female',\n",
    "                           'showlegend':True}]),\n",
    "             dict(label = '0.3',\n",
    "                  method = 'update',\n",
    "                  args = [{'visible': [False] * 4 + [True] * 4 + [False] * 16},\n",
    "                          {'title': 'Revenue of treated and control with a threshold of 0.3 on fraction of female',\n",
    "                           'showlegend':True}]),\n",
    "             dict(label = '0.4',\n",
    "                  method = 'update',\n",
    "                  args = [{'visible': [False] * 8 + [True] * 4 + [False] * 12},\n",
    "                          {'title': 'Revenue of treated and control with a threshold of 0.4 on fraction of female',\n",
    "                           'showlegend':True}]),\n",
    "             dict(label = '0.5',\n",
    "                  method = 'update',\n",
    "                  args = [{'visible': [False] * 12 + [True] * 4 + [False] * 8},\n",
    "                          {'title': 'Revenue of treated and control with a threshold of 0.5 on fraction of female',\n",
    "                           'showlegend':True}]),\n",
    "              dict(label = '0.6',\n",
    "                  method = 'update',\n",
    "                  args = [{'visible': [False] * 16 + [True] * 4+ [False] * 4},\n",
    "                          {'title': 'Revenue of treated and control with a threshold of 0.6 on fraction of female',\n",
    "                           'showlegend':True}]),\n",
    "             dict(label = '0.7',\n",
    "                  method = 'update',\n",
    "                  args = [{'visible': [False] * 20 + [True] * 4},\n",
    "                          {'title': 'Revenue of treated and control with a threshold of 0.7 on fraction of female',\n",
    "                           'showlegend':True}]),\n",
    "            ]),\n",
    "        pad={\"r\": 30, \"t\": 10},\n",
    "        \n",
    "        )\n",
    "    ])\n",
    "\n",
    "fig.show()\n",
    "fig.write_html(\"./plots/revenue_gender.html\")"
   ]
  },
  {
   "cell_type": "code",
   "execution_count": null,
   "id": "8cfc7a03",
   "metadata": {},
   "outputs": [],
   "source": [
    "# take a deeper look on different fractions of female\n",
    "\n",
    "# add column for ethnicity group\n",
    "movies['frac_female_group'] = movies['frac_female'].apply(score_to_categories)"
   ]
  },
  {
   "cell_type": "code",
   "execution_count": null,
   "id": "7784d7d9",
   "metadata": {},
   "outputs": [],
   "source": [
    "# compute 95% CI for each group\n",
    "grouped_movies_female = movies.groupby('frac_female_group')\n",
    "\n",
    "grouped_means_revenue_female = grouped_movies_female.mean()['movie_box_office_revenue']\n",
    "\n",
    "# compute CI \n",
    "yerr_lower, yerr_upper = [], []\n",
    "\n",
    "for key, item in grouped_movies_female['movie_box_office_revenue']:\n",
    "    l, h = bootstrap_CI(grouped_movies_female['movie_box_office_revenue'].get_group(key))\n",
    "    yerr_lower.append(l)\n",
    "    yerr_upper.append(h)\n",
    "\n",
    "\n",
    "yerr_lower = np.array(grouped_means_revenue_female) - np.array(yerr_lower)\n",
    "yerr_upper = np.array(yerr_upper) - np.array(grouped_means_revenue_female)"
   ]
  },
  {
   "cell_type": "code",
   "execution_count": null,
   "id": "a89648d4-a549-4302-937f-278b4319f06c",
   "metadata": {},
   "outputs": [],
   "source": [
    "fig = go.Figure()\n",
    "fig.add_trace(go.Bar(\n",
    "    name='Revenue',\n",
    "    x=grouped_means_revenue_female.keys(), y=grouped_means_revenue_female.values,\n",
    "    error_y=dict(type='data', array=yerr_upper, arrayminus=yerr_lower),\n",
    "))\n",
    "\n",
    "fig.update_layout(\n",
    "    barmode='group',\n",
    "    width=700,\n",
    "    height=500,\n",
    "    xaxis_title=\"Fraction of females\", \n",
    "    yaxis_title=\"Mean box office revenue\",\n",
    "    title='Revenue for different fractions of females',\n",
    "    title_x = 0.5\n",
    ")\n",
    "fig.show()\n",
    "fig.write_html(\"./plots/revenue_female_bar.html\")"
   ]
  },
  {
   "cell_type": "markdown",
   "id": "9fd2d696",
   "metadata": {},
   "source": [
    "#### Comment\n",
    "- The difference between movies with 80% men and 80% female is significant. It is sureprising how much better movies with majority of male actors are recieved.\n",
    "\n",
    "- We also observe a larger 95% CI for the interval 0.6 - 0.8. Movies in this interval has only occured in recently years, which might explain why the people have not made up their mind yet.\n",
    "\n",
    "- For now 0.0 - 0.2 gives the highest revenue, but we observe a larger 95% CI which may indicate that the people have become more sceptical. A fraction of females between 0.2 - 0.4 seems like a safer choice as it gives almost the same movie box revenue but with a smaller 95% CI."
   ]
  },
  {
   "cell_type": "markdown",
   "id": "1def6095",
   "metadata": {},
   "source": [
    "---\n",
    "## Paired Matching"
   ]
  },
  {
   "cell_type": "markdown",
   "id": "4adec128",
   "metadata": {},
   "source": [
    "---\n",
    "### Preperations"
   ]
  },
  {
   "cell_type": "code",
   "execution_count": null,
   "id": "8e49ca08",
   "metadata": {},
   "outputs": [],
   "source": [
    "# helpers\n",
    "\n",
    "# helper ro get the number of elements in a dictionary\n",
    "def get_num_elements(str_dict):\n",
    "    return len(str_dict.split(','))\n",
    "\n",
    "# helper to compare to propensity scores\n",
    "def get_similarity(propensity_score1, propensity_score2):\n",
    "    '''Calculate similarity for instances with given propensity scores'''\n",
    "    return 1-np.abs(propensity_score1-propensity_score2)\n",
    "\n",
    "# helper to check if two dictionaries share a value\n",
    "def shared_value(dict1, dict2):\n",
    "    list1 = list(dict1.values())\n",
    "    for genre in dict2.values():\n",
    "        if genre in list1:\n",
    "            return True"
   ]
  },
  {
   "cell_type": "code",
   "execution_count": null,
   "id": "da425347",
   "metadata": {},
   "outputs": [],
   "source": [
    "# create data frame with only the desired columns\n",
    "\n",
    "# colletct desired columns\n",
    "original_columns = movies_original.columns.values.tolist()\n",
    "original_columns.append('year_released')\n",
    "paired_matching = movies[original_columns].copy()\n",
    "\n",
    "# create column for ethnicity treatment\n",
    "paired_matching['treatment_ethnicity'] = movies['ethnicity_score'].apply(lambda x: int(x > MATCHING_THRESHOLD))\n",
    "\n",
    "# create column for female treatment\n",
    "paired_matching['treatment_female'] = movies['frac_female'].apply(lambda x: int(x > MATCHING_THRESHOLD))\n",
    "\n",
    "# reset index\n",
    "paired_matching.reset_index(inplace=True), paired_matching.drop('index', axis=1, inplace=True)\n",
    "\n",
    "\n",
    "# compute the number of movies in each group\n",
    "num_treated_ethnicity = paired_matching[paired_matching['treatment_ethnicity'] == 1].shape[0]\n",
    "num_untreated_ethnicity = paired_matching[paired_matching['treatment_ethnicity'] == 0].shape[0]\n",
    "num_treated_female = paired_matching[paired_matching['treatment_female'] == 1].shape[0]\n",
    "num_untreated_female= paired_matching[paired_matching['treatment_female'] == 0].shape[0]\n",
    "\n",
    "\n",
    "print(f''' \n",
    "      The number of movies with ethnicity score above {MATCHING_THRESHOLD}:                     {num_treated_ethnicity}\n",
    "      The number of movies with ethnicity score below or equal to {MATCHING_THRESHOLD}:        {num_untreated_ethnicity}\n",
    "      The number of movies with fraction of females above {MATCHING_THRESHOLD}:                 {num_treated_female}\n",
    "      The number of movies with fraction of females below or equal to {MATCHING_THRESHOLD}:    {num_untreated_female}\n",
    "      ''')"
   ]
  },
  {
   "cell_type": "code",
   "execution_count": null,
   "id": "3b6e5103",
   "metadata": {},
   "outputs": [],
   "source": [
    "# creating one hot encoding for the genres\n",
    "#ethnicity[genre_list] = ethnicity['movie_genres'].apply(lambda x: pd.Series({genre: int(genre in ast.literal_eval(x).values()) for genre in genre_list}))\n",
    "\n",
    "# add column for number of languages\n",
    "paired_matching['num_languages'] = paired_matching['movie_languages'].apply(get_num_elements)\n",
    "\n",
    "# add column for number of countries\n",
    "paired_matching['num_countries'] = paired_matching['movie_countries'].apply(get_num_elements)\n",
    "\n",
    "# convert genres to dictionary\n",
    "paired_matching['movie_genres'] = paired_matching['movie_genres'].apply(ast.literal_eval)\n",
    "\n",
    "# print the results\n",
    "paired_matching.head(1)"
   ]
  },
  {
   "cell_type": "code",
   "execution_count": null,
   "id": "6ace67e2",
   "metadata": {},
   "outputs": [],
   "source": [
    "# drop the columns we don't need\n",
    "# we drop the movie_genres column because we take care of this during the matching\n",
    "# we drop the movie_languages and movie_countries because we already have the number of languages and countries\n",
    "# we drop the freebase_movie_ID, movie_name and movie_release_date because we don't need them\n",
    "paired_matching.drop(labels=['freebase_movie_ID', 'movie_name', 'movie_release_date', 'movie_languages', 'movie_countries'], axis=1, inplace=True)\n",
    "\n",
    "# print the results\n",
    "paired_matching.head(1)"
   ]
  },
  {
   "cell_type": "code",
   "execution_count": null,
   "id": "24f2ca80",
   "metadata": {},
   "outputs": [],
   "source": [
    "# store data fram before standardization\n",
    "paired_matching_original = paired_matching.copy()\n",
    "\n",
    "# standardize the continuous variables\n",
    "paired_matching['movie_runtime'] = (paired_matching['movie_runtime'] - paired_matching['movie_runtime'].mean())/paired_matching['movie_runtime'].std()\n",
    "paired_matching['year_released'] = (paired_matching['year_released'] - paired_matching['year_released'].mean())/paired_matching['year_released'].std()\n",
    "paired_matching['num_languages'] = (paired_matching['num_languages'] - paired_matching['num_languages'].mean())/paired_matching['num_languages'].std()\n",
    "paired_matching['num_countries'] = (paired_matching['num_countries'] - paired_matching['num_countries'].mean())/paired_matching['num_countries'].std()"
   ]
  },
  {
   "cell_type": "markdown",
   "id": "0cccec4d",
   "metadata": {},
   "source": [
    "---\n",
    "### Ethnicity"
   ]
  },
  {
   "cell_type": "code",
   "execution_count": null,
   "id": "8058743a",
   "metadata": {},
   "outputs": [],
   "source": [
    "formula = 'treatment_ethnicity ~  movie_runtime + year_released + num_languages + num_countries'\n",
    "\n",
    "mod = smf.logit(formula=formula, data=paired_matching)\n",
    "\n",
    "res = mod.fit()\n",
    "\n",
    "paired_matching['propensity_score'] = res.predict(paired_matching)\n",
    "\n",
    "print(res.summary())"
   ]
  },
  {
   "cell_type": "code",
   "execution_count": null,
   "id": "871e8164",
   "metadata": {},
   "outputs": [],
   "source": [
    "if MATCH:\n",
    "\n",
    "    # try matching with requirement on genre and similarity\n",
    "    treatment_df = paired_matching[paired_matching['treatment_ethnicity'] == 1]\n",
    "    control_df = paired_matching[paired_matching['treatment_ethnicity'] == 0]\n",
    "\n",
    "    # Create an empty undirected graph\n",
    "    G = nx.Graph()\n",
    "\n",
    "\n",
    "    # Loop through all the pairs of instances\n",
    "    for control_id, control_row in control_df.iterrows():\n",
    "        for treatment_id, treatment_row in treatment_df.iterrows():\n",
    "\n",
    "            # Calculate the similarity \n",
    "            similarity = get_similarity(control_row['propensity_score'],\n",
    "                                        treatment_row['propensity_score'])\n",
    "            \n",
    "            if shared_value(control_row['movie_genres'], treatment_row['movie_genres']) and similarity > 0.95:\n",
    "                # Add an edge between the two instances weighted by the similarity between them\n",
    "                G.add_weighted_edges_from([(control_id, treatment_id, similarity)])\n",
    "\n",
    "    # Generate and return the maximum weight matching on the generated graph\n",
    "    matching_ethnicity = nx.max_weight_matching(G)"
   ]
  },
  {
   "cell_type": "code",
   "execution_count": null,
   "id": "2eafb3b2",
   "metadata": {},
   "outputs": [],
   "source": [
    "# collect matched instances\n",
    "if MATCH:\n",
    "    matched_ethnicity = [i[0] for i in list(matching_ethnicity)] + [i[1] for i in list(matching_ethnicity)]"
   ]
  },
  {
   "cell_type": "code",
   "execution_count": null,
   "id": "0def460e",
   "metadata": {},
   "outputs": [],
   "source": [
    "# save the balanced dataset to csv to avoid running the matching again\n",
    "if MATCH:\n",
    "    # create the balanced dataset \n",
    "    # using original to avoid standardization\n",
    "    path = MATCHED_ETHNICITY_PATH if MATCHING_THRESHOLD == 0.5 else MATCHED_ETHNICITY_PATH\n",
    "    balanced_ethnicity = paired_matching_original.iloc[matched_ethnicity].copy()\n",
    "    balanced_ethnicity.to_csv(path, index=False)"
   ]
  },
  {
   "cell_type": "code",
   "execution_count": 8,
   "id": "c60e1d63",
   "metadata": {},
   "outputs": [
    {
     "ename": "FileNotFoundError",
     "evalue": "[Errno 2] No such file or directory: './data/matching/matched_ethnicity2.csv'",
     "output_type": "error",
     "traceback": [
      "\u001b[0;31m---------------------------------------------------------------------------\u001b[0m",
      "\u001b[0;31mFileNotFoundError\u001b[0m                         Traceback (most recent call last)",
      "Input \u001b[0;32mIn [8]\u001b[0m, in \u001b[0;36m<cell line: 2>\u001b[0;34m()\u001b[0m\n\u001b[1;32m      2\u001b[0m \u001b[38;5;28;01mif\u001b[39;00m \u001b[38;5;129;01mnot\u001b[39;00m MATCH:\n\u001b[1;32m      3\u001b[0m     balanced_ethnicity \u001b[38;5;241m=\u001b[39m pd\u001b[38;5;241m.\u001b[39mread_csv(MATCHED_ETHNICITY_PATH)\n\u001b[0;32m----> 4\u001b[0m     balanced_ethnicity_33 \u001b[38;5;241m=\u001b[39m \u001b[43mpd\u001b[49m\u001b[38;5;241;43m.\u001b[39;49m\u001b[43mread_csv\u001b[49m\u001b[43m(\u001b[49m\u001b[43mMATCHED_ETHNICITY_PATH2\u001b[49m\u001b[43m)\u001b[49m\n",
      "File \u001b[0;32m~/opt/anaconda3/envs/ada/lib/python3.9/site-packages/pandas/util/_decorators.py:311\u001b[0m, in \u001b[0;36mdeprecate_nonkeyword_arguments.<locals>.decorate.<locals>.wrapper\u001b[0;34m(*args, **kwargs)\u001b[0m\n\u001b[1;32m    305\u001b[0m \u001b[38;5;28;01mif\u001b[39;00m \u001b[38;5;28mlen\u001b[39m(args) \u001b[38;5;241m>\u001b[39m num_allow_args:\n\u001b[1;32m    306\u001b[0m     warnings\u001b[38;5;241m.\u001b[39mwarn(\n\u001b[1;32m    307\u001b[0m         msg\u001b[38;5;241m.\u001b[39mformat(arguments\u001b[38;5;241m=\u001b[39marguments),\n\u001b[1;32m    308\u001b[0m         \u001b[38;5;167;01mFutureWarning\u001b[39;00m,\n\u001b[1;32m    309\u001b[0m         stacklevel\u001b[38;5;241m=\u001b[39mstacklevel,\n\u001b[1;32m    310\u001b[0m     )\n\u001b[0;32m--> 311\u001b[0m \u001b[38;5;28;01mreturn\u001b[39;00m \u001b[43mfunc\u001b[49m\u001b[43m(\u001b[49m\u001b[38;5;241;43m*\u001b[39;49m\u001b[43margs\u001b[49m\u001b[43m,\u001b[49m\u001b[43m \u001b[49m\u001b[38;5;241;43m*\u001b[39;49m\u001b[38;5;241;43m*\u001b[39;49m\u001b[43mkwargs\u001b[49m\u001b[43m)\u001b[49m\n",
      "File \u001b[0;32m~/opt/anaconda3/envs/ada/lib/python3.9/site-packages/pandas/io/parsers/readers.py:678\u001b[0m, in \u001b[0;36mread_csv\u001b[0;34m(filepath_or_buffer, sep, delimiter, header, names, index_col, usecols, squeeze, prefix, mangle_dupe_cols, dtype, engine, converters, true_values, false_values, skipinitialspace, skiprows, skipfooter, nrows, na_values, keep_default_na, na_filter, verbose, skip_blank_lines, parse_dates, infer_datetime_format, keep_date_col, date_parser, dayfirst, cache_dates, iterator, chunksize, compression, thousands, decimal, lineterminator, quotechar, quoting, doublequote, escapechar, comment, encoding, encoding_errors, dialect, error_bad_lines, warn_bad_lines, on_bad_lines, delim_whitespace, low_memory, memory_map, float_precision, storage_options)\u001b[0m\n\u001b[1;32m    663\u001b[0m kwds_defaults \u001b[38;5;241m=\u001b[39m _refine_defaults_read(\n\u001b[1;32m    664\u001b[0m     dialect,\n\u001b[1;32m    665\u001b[0m     delimiter,\n\u001b[0;32m   (...)\u001b[0m\n\u001b[1;32m    674\u001b[0m     defaults\u001b[38;5;241m=\u001b[39m{\u001b[38;5;124m\"\u001b[39m\u001b[38;5;124mdelimiter\u001b[39m\u001b[38;5;124m\"\u001b[39m: \u001b[38;5;124m\"\u001b[39m\u001b[38;5;124m,\u001b[39m\u001b[38;5;124m\"\u001b[39m},\n\u001b[1;32m    675\u001b[0m )\n\u001b[1;32m    676\u001b[0m kwds\u001b[38;5;241m.\u001b[39mupdate(kwds_defaults)\n\u001b[0;32m--> 678\u001b[0m \u001b[38;5;28;01mreturn\u001b[39;00m \u001b[43m_read\u001b[49m\u001b[43m(\u001b[49m\u001b[43mfilepath_or_buffer\u001b[49m\u001b[43m,\u001b[49m\u001b[43m \u001b[49m\u001b[43mkwds\u001b[49m\u001b[43m)\u001b[49m\n",
      "File \u001b[0;32m~/opt/anaconda3/envs/ada/lib/python3.9/site-packages/pandas/io/parsers/readers.py:575\u001b[0m, in \u001b[0;36m_read\u001b[0;34m(filepath_or_buffer, kwds)\u001b[0m\n\u001b[1;32m    572\u001b[0m _validate_names(kwds\u001b[38;5;241m.\u001b[39mget(\u001b[38;5;124m\"\u001b[39m\u001b[38;5;124mnames\u001b[39m\u001b[38;5;124m\"\u001b[39m, \u001b[38;5;28;01mNone\u001b[39;00m))\n\u001b[1;32m    574\u001b[0m \u001b[38;5;66;03m# Create the parser.\u001b[39;00m\n\u001b[0;32m--> 575\u001b[0m parser \u001b[38;5;241m=\u001b[39m \u001b[43mTextFileReader\u001b[49m\u001b[43m(\u001b[49m\u001b[43mfilepath_or_buffer\u001b[49m\u001b[43m,\u001b[49m\u001b[43m \u001b[49m\u001b[38;5;241;43m*\u001b[39;49m\u001b[38;5;241;43m*\u001b[39;49m\u001b[43mkwds\u001b[49m\u001b[43m)\u001b[49m\n\u001b[1;32m    577\u001b[0m \u001b[38;5;28;01mif\u001b[39;00m chunksize \u001b[38;5;129;01mor\u001b[39;00m iterator:\n\u001b[1;32m    578\u001b[0m     \u001b[38;5;28;01mreturn\u001b[39;00m parser\n",
      "File \u001b[0;32m~/opt/anaconda3/envs/ada/lib/python3.9/site-packages/pandas/io/parsers/readers.py:932\u001b[0m, in \u001b[0;36mTextFileReader.__init__\u001b[0;34m(self, f, engine, **kwds)\u001b[0m\n\u001b[1;32m    929\u001b[0m     \u001b[38;5;28mself\u001b[39m\u001b[38;5;241m.\u001b[39moptions[\u001b[38;5;124m\"\u001b[39m\u001b[38;5;124mhas_index_names\u001b[39m\u001b[38;5;124m\"\u001b[39m] \u001b[38;5;241m=\u001b[39m kwds[\u001b[38;5;124m\"\u001b[39m\u001b[38;5;124mhas_index_names\u001b[39m\u001b[38;5;124m\"\u001b[39m]\n\u001b[1;32m    931\u001b[0m \u001b[38;5;28mself\u001b[39m\u001b[38;5;241m.\u001b[39mhandles: IOHandles \u001b[38;5;241m|\u001b[39m \u001b[38;5;28;01mNone\u001b[39;00m \u001b[38;5;241m=\u001b[39m \u001b[38;5;28;01mNone\u001b[39;00m\n\u001b[0;32m--> 932\u001b[0m \u001b[38;5;28mself\u001b[39m\u001b[38;5;241m.\u001b[39m_engine \u001b[38;5;241m=\u001b[39m \u001b[38;5;28;43mself\u001b[39;49m\u001b[38;5;241;43m.\u001b[39;49m\u001b[43m_make_engine\u001b[49m\u001b[43m(\u001b[49m\u001b[43mf\u001b[49m\u001b[43m,\u001b[49m\u001b[43m \u001b[49m\u001b[38;5;28;43mself\u001b[39;49m\u001b[38;5;241;43m.\u001b[39;49m\u001b[43mengine\u001b[49m\u001b[43m)\u001b[49m\n",
      "File \u001b[0;32m~/opt/anaconda3/envs/ada/lib/python3.9/site-packages/pandas/io/parsers/readers.py:1216\u001b[0m, in \u001b[0;36mTextFileReader._make_engine\u001b[0;34m(self, f, engine)\u001b[0m\n\u001b[1;32m   1212\u001b[0m     mode \u001b[38;5;241m=\u001b[39m \u001b[38;5;124m\"\u001b[39m\u001b[38;5;124mrb\u001b[39m\u001b[38;5;124m\"\u001b[39m\n\u001b[1;32m   1213\u001b[0m \u001b[38;5;66;03m# error: No overload variant of \"get_handle\" matches argument types\u001b[39;00m\n\u001b[1;32m   1214\u001b[0m \u001b[38;5;66;03m# \"Union[str, PathLike[str], ReadCsvBuffer[bytes], ReadCsvBuffer[str]]\"\u001b[39;00m\n\u001b[1;32m   1215\u001b[0m \u001b[38;5;66;03m# , \"str\", \"bool\", \"Any\", \"Any\", \"Any\", \"Any\", \"Any\"\u001b[39;00m\n\u001b[0;32m-> 1216\u001b[0m \u001b[38;5;28mself\u001b[39m\u001b[38;5;241m.\u001b[39mhandles \u001b[38;5;241m=\u001b[39m \u001b[43mget_handle\u001b[49m\u001b[43m(\u001b[49m\u001b[43m  \u001b[49m\u001b[38;5;66;43;03m# type: ignore[call-overload]\u001b[39;49;00m\n\u001b[1;32m   1217\u001b[0m \u001b[43m    \u001b[49m\u001b[43mf\u001b[49m\u001b[43m,\u001b[49m\n\u001b[1;32m   1218\u001b[0m \u001b[43m    \u001b[49m\u001b[43mmode\u001b[49m\u001b[43m,\u001b[49m\n\u001b[1;32m   1219\u001b[0m \u001b[43m    \u001b[49m\u001b[43mencoding\u001b[49m\u001b[38;5;241;43m=\u001b[39;49m\u001b[38;5;28;43mself\u001b[39;49m\u001b[38;5;241;43m.\u001b[39;49m\u001b[43moptions\u001b[49m\u001b[38;5;241;43m.\u001b[39;49m\u001b[43mget\u001b[49m\u001b[43m(\u001b[49m\u001b[38;5;124;43m\"\u001b[39;49m\u001b[38;5;124;43mencoding\u001b[39;49m\u001b[38;5;124;43m\"\u001b[39;49m\u001b[43m,\u001b[49m\u001b[43m \u001b[49m\u001b[38;5;28;43;01mNone\u001b[39;49;00m\u001b[43m)\u001b[49m\u001b[43m,\u001b[49m\n\u001b[1;32m   1220\u001b[0m \u001b[43m    \u001b[49m\u001b[43mcompression\u001b[49m\u001b[38;5;241;43m=\u001b[39;49m\u001b[38;5;28;43mself\u001b[39;49m\u001b[38;5;241;43m.\u001b[39;49m\u001b[43moptions\u001b[49m\u001b[38;5;241;43m.\u001b[39;49m\u001b[43mget\u001b[49m\u001b[43m(\u001b[49m\u001b[38;5;124;43m\"\u001b[39;49m\u001b[38;5;124;43mcompression\u001b[39;49m\u001b[38;5;124;43m\"\u001b[39;49m\u001b[43m,\u001b[49m\u001b[43m \u001b[49m\u001b[38;5;28;43;01mNone\u001b[39;49;00m\u001b[43m)\u001b[49m\u001b[43m,\u001b[49m\n\u001b[1;32m   1221\u001b[0m \u001b[43m    \u001b[49m\u001b[43mmemory_map\u001b[49m\u001b[38;5;241;43m=\u001b[39;49m\u001b[38;5;28;43mself\u001b[39;49m\u001b[38;5;241;43m.\u001b[39;49m\u001b[43moptions\u001b[49m\u001b[38;5;241;43m.\u001b[39;49m\u001b[43mget\u001b[49m\u001b[43m(\u001b[49m\u001b[38;5;124;43m\"\u001b[39;49m\u001b[38;5;124;43mmemory_map\u001b[39;49m\u001b[38;5;124;43m\"\u001b[39;49m\u001b[43m,\u001b[49m\u001b[43m \u001b[49m\u001b[38;5;28;43;01mFalse\u001b[39;49;00m\u001b[43m)\u001b[49m\u001b[43m,\u001b[49m\n\u001b[1;32m   1222\u001b[0m \u001b[43m    \u001b[49m\u001b[43mis_text\u001b[49m\u001b[38;5;241;43m=\u001b[39;49m\u001b[43mis_text\u001b[49m\u001b[43m,\u001b[49m\n\u001b[1;32m   1223\u001b[0m \u001b[43m    \u001b[49m\u001b[43merrors\u001b[49m\u001b[38;5;241;43m=\u001b[39;49m\u001b[38;5;28;43mself\u001b[39;49m\u001b[38;5;241;43m.\u001b[39;49m\u001b[43moptions\u001b[49m\u001b[38;5;241;43m.\u001b[39;49m\u001b[43mget\u001b[49m\u001b[43m(\u001b[49m\u001b[38;5;124;43m\"\u001b[39;49m\u001b[38;5;124;43mencoding_errors\u001b[39;49m\u001b[38;5;124;43m\"\u001b[39;49m\u001b[43m,\u001b[49m\u001b[43m \u001b[49m\u001b[38;5;124;43m\"\u001b[39;49m\u001b[38;5;124;43mstrict\u001b[39;49m\u001b[38;5;124;43m\"\u001b[39;49m\u001b[43m)\u001b[49m\u001b[43m,\u001b[49m\n\u001b[1;32m   1224\u001b[0m \u001b[43m    \u001b[49m\u001b[43mstorage_options\u001b[49m\u001b[38;5;241;43m=\u001b[39;49m\u001b[38;5;28;43mself\u001b[39;49m\u001b[38;5;241;43m.\u001b[39;49m\u001b[43moptions\u001b[49m\u001b[38;5;241;43m.\u001b[39;49m\u001b[43mget\u001b[49m\u001b[43m(\u001b[49m\u001b[38;5;124;43m\"\u001b[39;49m\u001b[38;5;124;43mstorage_options\u001b[39;49m\u001b[38;5;124;43m\"\u001b[39;49m\u001b[43m,\u001b[49m\u001b[43m \u001b[49m\u001b[38;5;28;43;01mNone\u001b[39;49;00m\u001b[43m)\u001b[49m\u001b[43m,\u001b[49m\n\u001b[1;32m   1225\u001b[0m \u001b[43m\u001b[49m\u001b[43m)\u001b[49m\n\u001b[1;32m   1226\u001b[0m \u001b[38;5;28;01massert\u001b[39;00m \u001b[38;5;28mself\u001b[39m\u001b[38;5;241m.\u001b[39mhandles \u001b[38;5;129;01mis\u001b[39;00m \u001b[38;5;129;01mnot\u001b[39;00m \u001b[38;5;28;01mNone\u001b[39;00m\n\u001b[1;32m   1227\u001b[0m f \u001b[38;5;241m=\u001b[39m \u001b[38;5;28mself\u001b[39m\u001b[38;5;241m.\u001b[39mhandles\u001b[38;5;241m.\u001b[39mhandle\n",
      "File \u001b[0;32m~/opt/anaconda3/envs/ada/lib/python3.9/site-packages/pandas/io/common.py:786\u001b[0m, in \u001b[0;36mget_handle\u001b[0;34m(path_or_buf, mode, encoding, compression, memory_map, is_text, errors, storage_options)\u001b[0m\n\u001b[1;32m    781\u001b[0m \u001b[38;5;28;01melif\u001b[39;00m \u001b[38;5;28misinstance\u001b[39m(handle, \u001b[38;5;28mstr\u001b[39m):\n\u001b[1;32m    782\u001b[0m     \u001b[38;5;66;03m# Check whether the filename is to be opened in binary mode.\u001b[39;00m\n\u001b[1;32m    783\u001b[0m     \u001b[38;5;66;03m# Binary mode does not support 'encoding' and 'newline'.\u001b[39;00m\n\u001b[1;32m    784\u001b[0m     \u001b[38;5;28;01mif\u001b[39;00m ioargs\u001b[38;5;241m.\u001b[39mencoding \u001b[38;5;129;01mand\u001b[39;00m \u001b[38;5;124m\"\u001b[39m\u001b[38;5;124mb\u001b[39m\u001b[38;5;124m\"\u001b[39m \u001b[38;5;129;01mnot\u001b[39;00m \u001b[38;5;129;01min\u001b[39;00m ioargs\u001b[38;5;241m.\u001b[39mmode:\n\u001b[1;32m    785\u001b[0m         \u001b[38;5;66;03m# Encoding\u001b[39;00m\n\u001b[0;32m--> 786\u001b[0m         handle \u001b[38;5;241m=\u001b[39m \u001b[38;5;28;43mopen\u001b[39;49m\u001b[43m(\u001b[49m\n\u001b[1;32m    787\u001b[0m \u001b[43m            \u001b[49m\u001b[43mhandle\u001b[49m\u001b[43m,\u001b[49m\n\u001b[1;32m    788\u001b[0m \u001b[43m            \u001b[49m\u001b[43mioargs\u001b[49m\u001b[38;5;241;43m.\u001b[39;49m\u001b[43mmode\u001b[49m\u001b[43m,\u001b[49m\n\u001b[1;32m    789\u001b[0m \u001b[43m            \u001b[49m\u001b[43mencoding\u001b[49m\u001b[38;5;241;43m=\u001b[39;49m\u001b[43mioargs\u001b[49m\u001b[38;5;241;43m.\u001b[39;49m\u001b[43mencoding\u001b[49m\u001b[43m,\u001b[49m\n\u001b[1;32m    790\u001b[0m \u001b[43m            \u001b[49m\u001b[43merrors\u001b[49m\u001b[38;5;241;43m=\u001b[39;49m\u001b[43merrors\u001b[49m\u001b[43m,\u001b[49m\n\u001b[1;32m    791\u001b[0m \u001b[43m            \u001b[49m\u001b[43mnewline\u001b[49m\u001b[38;5;241;43m=\u001b[39;49m\u001b[38;5;124;43m\"\u001b[39;49m\u001b[38;5;124;43m\"\u001b[39;49m\u001b[43m,\u001b[49m\n\u001b[1;32m    792\u001b[0m \u001b[43m        \u001b[49m\u001b[43m)\u001b[49m\n\u001b[1;32m    793\u001b[0m     \u001b[38;5;28;01melse\u001b[39;00m:\n\u001b[1;32m    794\u001b[0m         \u001b[38;5;66;03m# Binary mode\u001b[39;00m\n\u001b[1;32m    795\u001b[0m         handle \u001b[38;5;241m=\u001b[39m \u001b[38;5;28mopen\u001b[39m(handle, ioargs\u001b[38;5;241m.\u001b[39mmode)\n",
      "\u001b[0;31mFileNotFoundError\u001b[0m: [Errno 2] No such file or directory: './data/matching/matched_ethnicity2.csv'"
     ]
    }
   ],
   "source": [
    "# restoring state from last matching\n",
    "if not MATCH:\n",
    "    balanced_ethnicity = pd.read_csv(MATCHED_ETHNICITY_PATH)\n",
    "    balanced_ethnicity_33 = pd.read_csv(MATCHED_ETHNICITY_PATH2)"
   ]
  },
  {
   "cell_type": "code",
   "execution_count": null,
   "id": "fecf03c2",
   "metadata": {},
   "outputs": [],
   "source": [
    "# divide the dataset into treated and control\n",
    "treated_ethnicity = balanced_ethnicity.loc[balanced_ethnicity['treatment_ethnicity'] == 1] \n",
    "control_ethnicity = balanced_ethnicity.loc[balanced_ethnicity['treatment_ethnicity'] == 0] \n",
    "\n",
    "treated_ethnicity_33 = balanced_ethnicity_33.loc[balanced_ethnicity_33['treatment_ethnicity'] == 1] \n",
    "control_ethnicity_33 = balanced_ethnicity_33.loc[balanced_ethnicity_33['treatment_ethnicity'] == 0] "
   ]
  },
  {
   "cell_type": "code",
   "execution_count": null,
   "id": "f54d6f76",
   "metadata": {},
   "outputs": [],
   "source": [
    "# get the summary statistics for the treated group\n",
    "treated_ethnicity['movie_box_office_revenue'].describe()"
   ]
  },
  {
   "cell_type": "code",
   "execution_count": null,
   "id": "a6498f0b-e16f-4ad4-bc3b-443bf795e932",
   "metadata": {},
   "outputs": [],
   "source": [
    "# get the summary statistics for the control group\n",
    "control_ethnicity['movie_box_office_revenue'].describe()"
   ]
  },
  {
   "cell_type": "code",
   "execution_count": null,
   "id": "d8439c85-f27c-4b26-b5f7-504bb6f7fb1d",
   "metadata": {},
   "outputs": [],
   "source": [
    "# get the summary statistics for the treated group\n",
    "treated_ethnicity33['movie_box_office_revenue'].describe()"
   ]
  },
  {
   "cell_type": "code",
   "execution_count": null,
   "id": "755152a7-4b36-402c-a0b4-b630eb35ab95",
   "metadata": {},
   "outputs": [],
   "source": [
    "# get the summary statistics for the control group\n",
    "control_ethnicity['movie_box_office_revenue'].describe()"
   ]
  },
  {
   "cell_type": "code",
   "execution_count": null,
   "id": "b50d9d5d",
   "metadata": {},
   "outputs": [],
   "source": [
    "# plot the revenue distribution\n",
    "ax = sns.histplot(treated_ethnicity['movie_box_office_revenue'], kde=True, stat='density', color='blue', label='treated')\n",
    "ax = sns.histplot(control_ethnicity['movie_box_office_revenue'], kde=True, stat='density', color='orange', label='control')\n",
    "ax.set(title='Revenue distribution comparison, after matching by ethnicity',xlabel='Movie box office revenue', ylabel='Revenue density')\n",
    "ax.set_yscale('log')\n",
    "plt.legend()\n",
    "plt.show()"
   ]
  },
  {
   "cell_type": "code",
   "execution_count": null,
   "id": "fd4c822f",
   "metadata": {},
   "outputs": [],
   "source": [
    "# we run an independent t-test to see if the two groups are significantly different\n",
    "stats.ttest_ind(treated_ethnicity['movie_box_office_revenue'], control_ethnicity['movie_box_office_revenue'])"
   ]
  },
  {
   "cell_type": "code",
   "execution_count": null,
   "id": "f8dc7c0a",
   "metadata": {},
   "outputs": [],
   "source": [
    "# looking at the revenue distribution after 1999\n",
    "treated_ethnicity_after_99 = treated_ethnicity[treated_ethnicity['year_released'] > 1999]['movie_box_office_revenue']\n",
    "control_ethnicity_after_99 = control_ethnicity[control_ethnicity['year_released'] > 1999]['movie_box_office_revenue']"
   ]
  },
  {
   "cell_type": "code",
   "execution_count": null,
   "id": "26cd2a5f-5fc4-4cbd-8385-492bc3cd4fda",
   "metadata": {},
   "outputs": [],
   "source": [
    "# perform independent t-test\n",
    "stats.ttest_ind(treated_ethnicity_after_99, control_ethnicity_after_99)"
   ]
  },
  {
   "cell_type": "code",
   "execution_count": null,
   "id": "90733d1d-3310-46a5-9862-56ae0551142e",
   "metadata": {},
   "outputs": [],
   "source": [
    "treated_mean = []\n",
    "control_mean = []\n",
    "\n",
    "treated_ci_lower = []\n",
    "treated_ci_upper = []\n",
    "\n",
    "control_ci_lower = []\n",
    "control_ci_upper = []\n",
    "\n",
    "for threshold in np.arange(1990, 2012):\n",
    "    treated_tmp = treated_ethnicity[treated_ethnicity['year_released'] > threshold]['movie_box_office_revenue']\n",
    "    control_tmp = control_ethnicity[control_ethnicity['year_released'] > threshold]['movie_box_office_revenue']\n",
    "    \n",
    "    treated_mean.append(treated_tmp.mean())\n",
    "    control_mean.append(control_tmp.mean())\n",
    "    \n",
    "    # compute 95% CI\n",
    "    l, h = bootstrap_CI(treated_tmp.values)\n",
    "    treated_ci_lower.append(l)\n",
    "    treated_ci_upper.append(h)\n",
    "    \n",
    "    l, h = bootstrap_CI(control_tmp.values)\n",
    "    control_ci_lower.append(l)\n",
    "    control_ci_upper.append(h)"
   ]
  },
  {
   "cell_type": "code",
   "execution_count": null,
   "id": "16579bf2-5557-4d88-bd72-8012d0e84532",
   "metadata": {},
   "outputs": [],
   "source": [
    "mean_diffs = []\n",
    "mean_diffs_ci_lower, mean_diffs_ci_upper = [], []\n",
    "\n",
    "for threshold in np.arange(1990, 2012):\n",
    "    treated_ethnicity_after_tmp = treated_ethnicity[treated_ethnicity['year_released'] > threshold]['movie_box_office_revenue']\n",
    "    control_ethnicity_after_tmp = control_ethnicity[control_ethnicity['year_released'] > threshold]['movie_box_office_revenue'] \n",
    "    mean_diffs.append(treated_ethnicity_after_tmp.mean() - control_ethnicity_after_tmp.mean())\n",
    "    l, h = bootstrap_mean_diff_CI(treated_ethnicity_after_tmp, control_ethnicity_after_tmp) \n",
    "    mean_diffs_ci_lower.append(l)\n",
    "    mean_diffs_ci_upper.append(h)"
   ]
  },
  {
   "cell_type": "code",
   "execution_count": null,
   "id": "ca2ec795-738b-4aa2-a5a5-294dc8252a9e",
   "metadata": {},
   "outputs": [],
   "source": [
    "treated_ci_lower = np.array(treated_mean) - np.array(treated_ci_lower)\n",
    "treated_ci_upper = np.array(treated_ci_upper) - np.array(treated_mean)\n",
    "control_ci_lower = np.array(control_mean) - np.array(control_ci_lower)\n",
    "control_ci_upper = np.array(control_ci_upper) - np.array(control_mean)"
   ]
  },
  {
   "cell_type": "code",
   "execution_count": null,
   "id": "afe33311-b952-455b-a88d-39684f877037",
   "metadata": {},
   "outputs": [],
   "source": [
    "# Create figure\n",
    "fig = make_subplots(rows=1, \n",
    "       cols=2, \n",
    "       start_cell=\"bottom-left\", \n",
    "       subplot_titles=('Revenue','Mean Difference (Treated - Control)'),\n",
    "       horizontal_spacing  = 0.2)\n",
    "\n",
    "# Add traces, one for each slider step\n",
    "for idx in range(22):\n",
    "    fig.add_trace(go.Bar(\n",
    "        visible=False,\n",
    "        name='Revenue',\n",
    "        x=['Treated', 'Control'], y=[treated_mean[idx], control_mean[idx]],\n",
    "        error_y=dict(type='data', array=[treated_ci_upper[idx], control_ci_upper[idx]], arrayminus=[treated_ci_lower[idx], control_ci_lower[idx]]),\n",
    "    ),row=1, col=1\n",
    ")\n",
    "    \n",
    "for idx, threshold in enumerate(np.arange(1990, 2012)):\n",
    "    fig.add_trace(\n",
    "        go.Scatter(\n",
    "            visible=False,\n",
    "            name=str(round(mean_diffs[idx])) + ' USD',\n",
    "            line=dict(color=\"#FB0D0D\", width=15),\n",
    "            x=[threshold],\n",
    "            y=[mean_diffs[idx]],\n",
    "            mode=\"markers\"\n",
    "        ), row=1, col=2\n",
    "    )\n",
    "\n",
    "fig.add_trace(\n",
    "    go.Scatter(\n",
    "        visible=True,\n",
    "        line=dict(color='rgba(47, 138, 196, 1)', width=1),\n",
    "        x=np.arange(1990, 2012),\n",
    "        y=mean_diffs,\n",
    "        name=\"Mean Difference\",\n",
    "        mode=\"lines\"\n",
    "    ), row=1, col=2\n",
    ")\n",
    "\n",
    "# add 95% CI\n",
    "fig.add_trace(\n",
    "    go.Scatter(\n",
    "        visible=True,\n",
    "        x=[i for i in range(1990, 2012)]+ [i for i in range(1990, 2012)][::-1], # x, then x reversed\n",
    "        y=mean_diffs_ci_upper+mean_diffs_ci_lower[::-1], # upper, then lower reversed\n",
    "        fill='toself',\n",
    "        fillcolor=\"rgba(47, 138, 196, 0.2)\",\n",
    "        line=dict(color='rgba(255,255,255,0)'),\n",
    "        hoverinfo=\"skip\",\n",
    "        name='95% CI',\n",
    "        showlegend=True\n",
    "    ), row=1, col=2\n",
    ")\n",
    "    \n",
    "    \n",
    "\n",
    "# Make 10th trace visible\n",
    "fig.data[10].visible = True\n",
    "fig.data[32].visible = True\n",
    "fig.data[44].visible = True\n",
    "fig.data[45].visible = True\n",
    "\n",
    "\n",
    "# Create and add slider\n",
    "steps = []\n",
    "for idx, year in enumerate(np.arange(1990, 2012)):\n",
    "    step = dict(\n",
    "        method=\"update\",\n",
    "        args=[{\"visible\": [False] * len(fig.data)}],  # layout attribute\n",
    "        label=str(year)  # update the label to remove \"step\"\n",
    "    )\n",
    "    step[\"args\"][0][\"visible\"][idx] = True  \n",
    "    step[\"args\"][0][\"visible\"][idx + 22] = True \n",
    "    step[\"args\"][0][\"visible\"][44] = True \n",
    "    step[\"args\"][0][\"visible\"][45] = True \n",
    "    steps.append(step)\n",
    "    \n",
    "    sliders = [dict(\n",
    "    active= 10,\n",
    "    currentvalue={\"prefix\": \"Movies after year: \"}, \n",
    "    pad={\"t\": 50},\n",
    "    steps=steps\n",
    ")]\n",
    "\n",
    "\n",
    "fig.update_layout(\n",
    "    width=700,\n",
    "    height=500,\n",
    "    sliders=sliders\n",
    ")\n",
    "\n",
    "\n",
    "fig.show()\n",
    "fig.write_html(\"./plots/mean_difference_gender.html\")"
   ]
  },
  {
   "cell_type": "markdown",
   "id": "c286415f",
   "metadata": {},
   "source": [
    "The p-value is above our significance level of 0.05 and we may therefore not reject the null hypothesis that the 2 independent samples have identical expected values."
   ]
  },
  {
   "cell_type": "markdown",
   "id": "b7ab93fc",
   "metadata": {},
   "source": [
    "---\n",
    "### Gender"
   ]
  },
  {
   "cell_type": "code",
   "execution_count": null,
   "id": "0e12906d",
   "metadata": {},
   "outputs": [],
   "source": [
    "formula = 'treatment_female ~  movie_runtime + year_released + num_languages + num_countries'\n",
    "\n",
    "mod = smf.logit(formula=formula, data=paired_matching)\n",
    "\n",
    "res = mod.fit()\n",
    "\n",
    "paired_matching['propensity_score'] = res.predict(paired_matching)\n",
    "\n",
    "print(res.summary())"
   ]
  },
  {
   "cell_type": "code",
   "execution_count": null,
   "id": "a995b9cf",
   "metadata": {},
   "outputs": [],
   "source": [
    "if MATCH:\n",
    "    # try matching with requirement on genre and similarity\n",
    "    treatment_df = paired_matching[paired_matching['treatment_female'] == 1]\n",
    "    control_df = paired_matching[paired_matching['treatment_female'] == 0]\n",
    "\n",
    "    # Create an empty undirected graph\n",
    "    G = nx.Graph()\n",
    "\n",
    "    # Loop through all the pairs of instances\n",
    "    for control_id, control_row in control_df.iterrows():\n",
    "        for treatment_id, treatment_row in treatment_df.iterrows():\n",
    "\n",
    "            # Calculate the similarity \n",
    "            similarity = get_similarity(control_row['propensity_score'],\n",
    "                                        treatment_row['propensity_score'])\n",
    "            \n",
    "            if shared_value(control_row['movie_genres'], treatment_row['movie_genres']) and similarity > 0.95:\n",
    "                # Add an edge between the two instances weighted by the similarity between them\n",
    "                G.add_weighted_edges_from([(control_id, treatment_id, similarity)])\n",
    "\n",
    "    # Generate and return the maximum weight matching on the generated graph\n",
    "    matching_female = nx.max_weight_matching(G)"
   ]
  },
  {
   "cell_type": "code",
   "execution_count": null,
   "id": "2497abc6",
   "metadata": {},
   "outputs": [],
   "source": [
    "# collect matched instances\n",
    "matched_female = [i[0] for i in list(matching_female)] + [i[1] for i in list(matching_female)]"
   ]
  },
  {
   "cell_type": "code",
   "execution_count": null,
   "id": "0ccafb2e",
   "metadata": {},
   "outputs": [],
   "source": [
    "# create the balanced dataset\n",
    "balanced_female = paired_matching_original.iloc[matched_female].copy()\n",
    "\n",
    "# save the data frame to csv to save time\n",
    "if MATCH:\n",
    "    balanced_female.to_csv(MATCHED_FEAMLE_PATH, index=False)\n"
   ]
  },
  {
   "cell_type": "code",
   "execution_count": null,
   "id": "660b0834",
   "metadata": {},
   "outputs": [],
   "source": [
    "if not MATCH:\n",
    "    balanced_female = pd.read_csv(MATCHED_FEAMLE_PATH)"
   ]
  },
  {
   "cell_type": "code",
   "execution_count": null,
   "id": "5a97b34a",
   "metadata": {},
   "outputs": [],
   "source": [
    "# divide the dataset into treated and control\n",
    "treated_female = balanced_female.loc[balanced_female['treatment_female'] == 1] \n",
    "control_female = balanced_female.loc[balanced_female['treatment_female'] == 0]"
   ]
  },
  {
   "cell_type": "code",
   "execution_count": null,
   "id": "c89f67fc",
   "metadata": {},
   "outputs": [],
   "source": [
    "# get the summary statistics for the treated group\n",
    "treated_female['movie_box_office_revenue'].describe()"
   ]
  },
  {
   "cell_type": "code",
   "execution_count": null,
   "id": "cf6e5666",
   "metadata": {},
   "outputs": [],
   "source": [
    "# get the summary statistics for the control group\n",
    "control_female['movie_box_office_revenue'].describe()"
   ]
  },
  {
   "cell_type": "code",
   "execution_count": null,
   "id": "09d1d91a",
   "metadata": {},
   "outputs": [],
   "source": [
    "# plot the revenue distribution\n",
    "ax = sns.histplot(treated_female['movie_box_office_revenue'], kde=True, stat='density', color='blue', label='treated')\n",
    "ax = sns.histplot(control_female['movie_box_office_revenue'], kde=True, stat='density', color='orange', label='control')\n",
    "ax.set(title='Revenue distribution comparison, after matching by fraction of female',xlabel='Movie box office revenue', ylabel='Revenue density')\n",
    "ax.set_yscale('log')\n",
    "plt.legend()\n",
    "plt.show()"
   ]
  },
  {
   "cell_type": "code",
   "execution_count": null,
   "id": "f803af00",
   "metadata": {},
   "outputs": [],
   "source": [
    "# we run an independent t-test to see if the two groups are significantly different\n",
    "stats.ttest_ind(treated_female['movie_box_office_revenue'], control_female['movie_box_office_revenue'])"
   ]
  },
  {
   "cell_type": "code",
   "execution_count": null,
   "id": "a7c46120",
   "metadata": {},
   "outputs": [],
   "source": [
    "# looking at the revenue distribution after 1999\n",
    "treated_female_after_99 = treated_female[treated_female['year_released'] > 1999]['movie_box_office_revenue']\n",
    "control_female_after_99 = control_female[control_female['year_released'] > 1999]['movie_box_office_revenue']"
   ]
  },
  {
   "cell_type": "code",
   "execution_count": null,
   "id": "22329dca",
   "metadata": {},
   "outputs": [],
   "source": [
    "# perform independent t-test\n",
    "stats.ttest_ind(treated_female_after_99, control_female_after_99)"
   ]
  },
  {
   "cell_type": "code",
   "execution_count": null,
   "id": "a6ca597e",
   "metadata": {},
   "outputs": [],
   "source": [
    "# looking at the revenue distribution after 1999\n",
    "treated_female_after_09 = treated_female[treated_female['year_released'] > 2009]['movie_box_office_revenue']\n",
    "control_female_after_09 = control_female[control_female['year_released'] > 2009]['movie_box_office_revenue']"
   ]
  },
  {
   "cell_type": "code",
   "execution_count": null,
   "id": "291b475b",
   "metadata": {},
   "outputs": [],
   "source": [
    "# perform independent t-test\n",
    "stats.ttest_ind(treated_female_after_09, control_female_after_09)"
   ]
  },
  {
   "cell_type": "code",
   "execution_count": null,
   "id": "41eedbc5-3f83-46f6-ae59-a5e236373ccd",
   "metadata": {},
   "outputs": [],
   "source": [
    "treated_mean = []\n",
    "control_mean = []\n",
    "\n",
    "treated_ci_lower = []\n",
    "treated_ci_upper = []\n",
    "\n",
    "control_ci_lower = []\n",
    "control_ci_upper = []\n",
    "\n",
    "for threshold in np.arange(1990, 2012):\n",
    "    treated_tmp = treated_female[treated_female['year_released'] > threshold]['movie_box_office_revenue']\n",
    "    control_tmp = control_female[control_female['year_released'] > threshold]['movie_box_office_revenue']\n",
    "    \n",
    "    treated_mean.append(treated_tmp.mean())\n",
    "    control_mean.append(control_tmp.mean())\n",
    "    \n",
    "    # compute 95% CI\n",
    "    l, h = bootstrap_CI(treated_tmp.values)\n",
    "    treated_ci_lower.append(l)\n",
    "    treated_ci_upper.append(h)\n",
    "    \n",
    "    l, h = bootstrap_CI(control_tmp.values)\n",
    "    control_ci_lower.append(l)\n",
    "    control_ci_upper.append(h)"
   ]
  },
  {
   "cell_type": "code",
   "execution_count": null,
   "id": "4d74dd8c-e752-4627-86f5-3484ac8dd6c7",
   "metadata": {},
   "outputs": [],
   "source": [
    "mean_diffs = []\n",
    "mean_diffs_ci_lower, mean_diffs_ci_upper = [], []\n",
    "\n",
    "for threshold in np.arange(1990, 2012):\n",
    "    treated_female_after_tmp = treated_female[treated_female['year_released'] > threshold]['movie_box_office_revenue']\n",
    "    control_female_after_tmp = control_female[control_female['year_released'] > threshold]['movie_box_office_revenue'] \n",
    "    mean_diffs.append(treated_female_after_tmp.mean() - control_female_after_tmp.mean())\n",
    "    l, h = bootstrap_mean_diff_CI(treated_female_after_tmp, control_female_after_tmp) \n",
    "    mean_diffs_ci_lower.append(l)\n",
    "    mean_diffs_ci_upper.append(h)"
   ]
  },
  {
   "cell_type": "code",
   "execution_count": null,
   "id": "3e8d5098-8445-4191-9aa1-0af6c25bd96e",
   "metadata": {},
   "outputs": [],
   "source": [
    "treated_ci_lower = np.array(treated_mean) - np.array(treated_ci_lower)\n",
    "treated_ci_upper = np.array(treated_ci_upper) - np.array(treated_mean)\n",
    "control_ci_lower = np.array(control_mean) - np.array(control_ci_lower)\n",
    "control_ci_upper = np.array(control_ci_upper) - np.array(control_mean)"
   ]
  },
  {
   "cell_type": "code",
   "execution_count": null,
   "id": "2a3e0e6b-4c6a-422a-adc4-f679577c2d3e",
   "metadata": {},
   "outputs": [],
   "source": [
    "# Create figure\n",
    "fig = make_subplots(rows=1, \n",
    "       cols=2, \n",
    "       start_cell=\"bottom-left\", \n",
    "       subplot_titles=('Revenue','Mean Difference (Treated - Control)'),\n",
    "       horizontal_spacing  = 0.2)\n",
    "\n",
    "# Add traces, one for each slider step\n",
    "for idx in range(22):\n",
    "    fig.add_trace(go.Bar(\n",
    "        visible=False,\n",
    "        name='Revenue',\n",
    "        x=['Treated', 'Control'], y=[treated_mean[idx], control_mean[idx]],\n",
    "        error_y=dict(type='data', array=[treated_ci_upper[idx], control_ci_upper[idx]], arrayminus=[treated_ci_lower[idx], control_ci_lower[idx]]),\n",
    "    ),row=1, col=1\n",
    ")\n",
    "    \n",
    "for idx, threshold in enumerate(np.arange(1990, 2012)):\n",
    "    fig.add_trace(\n",
    "        go.Scatter(\n",
    "            visible=False,\n",
    "            name=str(round(mean_diffs[idx])) + ' USD',\n",
    "            line=dict(color=\"#FB0D0D\", width=15),\n",
    "            x=[threshold],\n",
    "            y=[mean_diffs[idx]],\n",
    "            mode=\"markers\"\n",
    "        ), row=1, col=2\n",
    "    )\n",
    "\n",
    "fig.add_trace(\n",
    "    go.Scatter(\n",
    "        visible=True,\n",
    "        line=dict(color='rgba(47, 138, 196, 1)', width=1),\n",
    "        x=np.arange(1990, 2012),\n",
    "        y=mean_diffs,\n",
    "        name=\"Mean Difference\",\n",
    "        mode=\"lines\"\n",
    "    ), row=1, col=2\n",
    ")\n",
    "\n",
    "# add 95% CI\n",
    "fig.add_trace(\n",
    "    go.Scatter(\n",
    "        visible=True,\n",
    "        x=[i for i in range(1990, 2012)]+ [i for i in range(1990, 2012)][::-1], # x, then x reversed\n",
    "        y=mean_diffs_ci_upper+mean_diffs_ci_lower[::-1], # upper, then lower reversed\n",
    "        fill='toself',\n",
    "        fillcolor=\"rgba(47, 138, 196, 0.2)\",\n",
    "        line=dict(color='rgba(255,255,255,0)'),\n",
    "        hoverinfo=\"skip\",\n",
    "        name='95% CI',\n",
    "        showlegend=True\n",
    "    ), row=1, col=2\n",
    ")\n",
    "    \n",
    "    \n",
    "\n",
    "# Make 10th trace visible\n",
    "fig.data[10].visible = True\n",
    "fig.data[32].visible = True\n",
    "fig.data[44].visible = True\n",
    "fig.data[45].visible = True\n",
    "\n",
    "\n",
    "# Create and add slider\n",
    "steps = []\n",
    "for idx, year in enumerate(np.arange(1990, 2012)):\n",
    "    step = dict(\n",
    "        method=\"update\",\n",
    "        args=[{\"visible\": [False] * len(fig.data)}],  # layout attribute\n",
    "        label=str(year)  # update the label to remove \"step\"\n",
    "    )\n",
    "    step[\"args\"][0][\"visible\"][idx] = True  \n",
    "    step[\"args\"][0][\"visible\"][idx + 22] = True \n",
    "    step[\"args\"][0][\"visible\"][44] = True \n",
    "    step[\"args\"][0][\"visible\"][45] = True \n",
    "    steps.append(step)\n",
    "    \n",
    "    sliders = [dict(\n",
    "    active= 10,\n",
    "    currentvalue={\"prefix\": \"Movies after year: \"}, \n",
    "    pad={\"t\": 50},\n",
    "    steps=steps\n",
    ")]\n",
    "\n",
    "\n",
    "fig.update_layout(\n",
    "    width=700,\n",
    "    height=500,\n",
    "    sliders=sliders\n",
    ")\n",
    "\n",
    "\n",
    "fig.show()\n",
    "fig.write_html(\"./plots/mean_difference_female.html\")"
   ]
  }
 ],
 "metadata": {
  "kernelspec": {
   "display_name": "Python 3 (ipykernel)",
   "language": "python",
   "name": "python3"
  },
  "language_info": {
   "codemirror_mode": {
    "name": "ipython",
    "version": 3
   },
   "file_extension": ".py",
   "mimetype": "text/x-python",
   "name": "python",
   "nbconvert_exporter": "python",
   "pygments_lexer": "ipython3",
   "version": "3.9.13"
  },
  "vscode": {
   "interpreter": {
    "hash": "8f7659d261e79361a587a738bace4c39db71390d8961bfe307435023d71d0547"
   }
  }
 },
 "nbformat": 4,
 "nbformat_minor": 5
}
