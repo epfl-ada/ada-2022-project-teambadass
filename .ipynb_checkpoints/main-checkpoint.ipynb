{
 "cells": [
  {
   "cell_type": "markdown",
   "id": "f76c9806-55c7-4961-8ab6-35994b31561e",
   "metadata": {
    "tags": []
   },
   "source": [
    "---\n",
    "**Contents of notebook:**\n",
    "<div class=\"toc\"><ul class=\"toc-item\"><li><span><a href=\"#Data-Processing\" data-toc-modified-id=\"Data Processing\">Data Processing</a></span><ul class=\"toc-item\"><li><span><a href=\"#Loading-data\" data-toc-modified-id=\"Loading data\">Loading data</a></span><li><span><a href=\"#Removing-null-values\" data-toc-modified-id=\"Removing null values\">Removing null values</a></span></li></ul><li><span><a href=\"#Diversity\" data-toc-modified-id=\"Diversity\">Diversity</a></span><ul class=\"toc-item\"><li><span><a href=\"#Distributions\" data-toc-modified-id=\"Distributions\">Distributions</a></span></li><li><span><a href=\"#Ethnicities\" data-toc-modified-id=\"Ethnicities\">Ethnicities</a></span></li></ul><li><span><a href=\"#Cast\" data-toc-modified-id=\"Cast\">Cast</a></span><ul class=\"toc-item\"><li><span><a href=\"#Preprocessing\" data-toc-modified-id=\"Preprocessing\">Preprocessing</a></span></li><li><span><a href=\"#Understanding-Cast-Data\" data-toc-modified-id=\"Understanding Cast Data\">Understanding Cast Data</a></span></li><li><span><a href=\"#Exploring-method:-Linear-Regression\" data-toc-modified-id=\"Exploring Method: Linear Regression\">Exploring Method: Linear Regression</a></span></li></ul><li><span><a href=\"#Runtime\" data-toc-modified-id=\"Runtime\">Runtime</a></span><ul class=\"toc-item\"><li><span><a href=\"#Data-Processing\" data-toc-modified-id=\"Data Processing\">Data Preprocessing</a></span></li><li><span><a href=\"#Distribution-of-runtime\" data-toc-modified-id=\"Distribution of runtime\">Distribution of runtime</a></span></li><li><span><a href=\"#Regression-&-Scatterplot\" data-toc-modified-id=\"Regression & Scatterplot\">Regression & Scatterplot</a></span></li><li><span><a href=\"#Effect-of-short-runtime-on-revenue\" data-toc-modified-id=\"Effect of short runtime on revenue\">Effect of short runtime on revenue</a></span></li><li><span><a href=\"#Difference-in-runtime-between-blockbuster-vs-non-blockbuster\" data-toc-modified-id=\"Difference in runtime between blockbuster vs non-blockbuster\">Difference in runtime between blockbuster vs non-blockbuster</a></span></li></ul><li><span><a href=\"#Plot-Summary\" data-toc-modified-id=\"Plot Summary\">Plot Summary</a></span><ul class=\"toc-item\"><li><span><a href=\"#Data-Processing\" data-toc-modified-id=\"Data Processing\">Data Processing</a></span></li><li><span><a href=\"#Regression-&-Scatterplot\" data-toc-modified-id=\"Regression & Scatterplot\">Regression & Scatterplot</a></span></li><li><span><a href=\"#Difference-in-revenues-between-movies-with-more-positive-and-more-negative-plot\" data-toc-modified-id=\"Difference in revenues between movies with more positive and more negative plot\">Difference in revenues between movies with more positive and more negative plot</a></span></li><li><span><a href=\"#Difference-in-sentiment-proportion-between-blockbuster-vs-non-blockbuster\" data-toc-modified-id=\"Difference in sentiment proportion between blockbuster vs non-blockbuster\">Difference in sentiment proportion between blockbuster vs non-blockbuster</a></span></li>"
   ]
  },
  {
   "cell_type": "markdown",
   "id": "5d398600-8155-4bd7-913e-b057e36f2c62",
   "metadata": {
    "tags": []
   },
   "source": [
    "---\n",
    "## Data Processing"
   ]
  },
  {
   "cell_type": "markdown",
   "id": "f0c641ea-3f73-4789-b6c4-743571bd719c",
   "metadata": {
    "tags": []
   },
   "source": [
    "---\n",
    "### Loading data"
   ]
  },
  {
   "cell_type": "code",
   "execution_count": 1,
   "id": "48a56350-8e01-425c-95fd-4f84b29ea6b0",
   "metadata": {},
   "outputs": [],
   "source": [
    "# imports\n",
    "import pandas as pd\n",
    "import matplotlib.pyplot as plt\n",
    "import numpy as np\n",
    "from scipy import stats\n",
    "from helpers import bootstrap_CI, correct_for_inflation\n",
    "import statsmodels.api as sm\n",
    "import statsmodels.formula.api as smf\n",
    "import seaborn as sns\n",
    "import requests\n",
    "\n",
    "# turn off warning\n",
    "# pd.options.mode.chained_assignment = None"
   ]
  },
  {
   "cell_type": "code",
   "execution_count": 2,
   "id": "6fc48924-f1e9-448f-9fcb-db7bc2473830",
   "metadata": {},
   "outputs": [],
   "source": [
    "# constants\n",
    "data_folder = './data/'\n",
    "MOVIE_PATH = data_folder + 'movie.metadata.tsv'\n",
    "CHARACTER_PATH = data_folder + 'character.metadata.tsv'\n",
    "IMDB_MOVIES_PATH = data_folder + 'title.basics.tsv.gz'\n",
    "RATING_PATH = data_folder + 'title.ratings.tsv'\n",
    "BUDGET_PATH = data_folder + 'budget.csv'"
   ]
  },
  {
   "cell_type": "code",
   "execution_count": 3,
   "id": "cbbe2dc3-c282-4177-a410-f1fadd73a863",
   "metadata": {},
   "outputs": [],
   "source": [
    "# create dataframes\n",
    "\n",
    "# define collumn names\n",
    "colnames_movies = [\n",
    "    \"wikipedia_movie_ID\",\n",
    "    \"freebase_movie_ID\",\n",
    "    \"movie_name\",\n",
    "    \"movie_release_date\",\n",
    "    \"movie_box_office_revenue\",\n",
    "    \"movie_runtime\",\n",
    "    \"movie_languages\",\n",
    "    \"movie_countries\",\n",
    "    \"movie_genres\",\n",
    "]\n",
    "\n",
    "colnames_character = [\n",
    "    \"wikipedia_movie_ID\",\n",
    "    \"freebase_movie_ID\",\n",
    "    \"last_update\",\n",
    "    \"character_name\",\n",
    "    \"actor_DOB\",\n",
    "    \"actor_gender\",\n",
    "    \"actor_height\",\n",
    "    \"actor_ethnicity\",\n",
    "    \"actor_name\",\n",
    "    \"actor_age_at_movie_release\",\n",
    "    \"freebase_character/actor_map_ID\",\n",
    "    \"freebase_character_ID\",\n",
    "    \"freebase_actor_ID\",\n",
    "]\n",
    "\n",
    "\n",
    "# load data\n",
    "movies = pd.read_csv(MOVIE_PATH, sep=\"\\t\", names=colnames_movies, header=None)\n",
    "characters = pd.read_csv(\n",
    "    CHARACTER_PATH, sep=\"\\t\", names=colnames_character, header=None\n",
    ")\n",
    "budget = pd.read_csv(BUDGET_PATH, usecols=['budget', 'original_title'])\n",
    "imdb_movies = pd.read_table(IMDB_MOVIES_PATH, sep='\\t', usecols=['tconst', 'originalTitle'])\n",
    "imdb_ratings = pd.read_table(RATING_PATH, sep='\\t')"
   ]
  },
  {
   "cell_type": "markdown",
   "id": "fd67cc59-82b3-48a2-a476-af5fc4a7671d",
   "metadata": {},
   "source": [
    "---\n",
    "### Merging the dataframes"
   ]
  },
  {
   "cell_type": "code",
   "execution_count": 4,
   "id": "da560bb6-62ef-46cd-8ab8-7eb2c0aac0d5",
   "metadata": {},
   "outputs": [],
   "source": [
    "# merge 'movies' with 'budget'\n",
    "movies = pd.merge(left=movies, right=budget, how='left', left_on='movie_name', right_on='original_title')\n",
    "\n",
    "# merge 'imdb_movies' with 'imdb_ratings':\n",
    "imdb_movies = pd.merge(left=imdb_movies, right=imdb_ratings, on='tconst')\n",
    "\n",
    "# merge 'movies' with 'imdb_movies' + 'imdb_ratings'\n",
    "movies =pd.merge(left=movies, right=imdb_movies, how='left', left_on='movie_name', right_on='originalTitle')\n",
    "\n",
    "# include relevant column names\n",
    "extended_colnames_movies = colnames_movies.copy()\n",
    "extended_colnames_movies.extend(['budget', 'averageRating', 'numVotes'])\n",
    "movies = movies[extended_colnames_movies]"
   ]
  },
  {
   "cell_type": "code",
   "execution_count": 5,
   "id": "88133cdf-4580-4cea-b9be-e90dff0b7f06",
   "metadata": {},
   "outputs": [
    {
     "data": {
      "text/html": [
       "<div>\n",
       "<style scoped>\n",
       "    .dataframe tbody tr th:only-of-type {\n",
       "        vertical-align: middle;\n",
       "    }\n",
       "\n",
       "    .dataframe tbody tr th {\n",
       "        vertical-align: top;\n",
       "    }\n",
       "\n",
       "    .dataframe thead th {\n",
       "        text-align: right;\n",
       "    }\n",
       "</style>\n",
       "<table border=\"1\" class=\"dataframe\">\n",
       "  <thead>\n",
       "    <tr style=\"text-align: right;\">\n",
       "      <th></th>\n",
       "      <th>wikipedia_movie_ID</th>\n",
       "      <th>freebase_movie_ID</th>\n",
       "      <th>movie_name</th>\n",
       "      <th>movie_release_date</th>\n",
       "      <th>movie_box_office_revenue</th>\n",
       "      <th>movie_runtime</th>\n",
       "      <th>movie_languages</th>\n",
       "      <th>movie_countries</th>\n",
       "      <th>movie_genres</th>\n",
       "      <th>budget</th>\n",
       "      <th>averageRating</th>\n",
       "      <th>numVotes</th>\n",
       "    </tr>\n",
       "  </thead>\n",
       "  <tbody>\n",
       "    <tr>\n",
       "      <th>0</th>\n",
       "      <td>975900</td>\n",
       "      <td>/m/03vyhn</td>\n",
       "      <td>Ghosts of Mars</td>\n",
       "      <td>2001-08-24</td>\n",
       "      <td>14010832.0</td>\n",
       "      <td>98.0</td>\n",
       "      <td>{\"/m/02h40lc\": \"English Language\"}</td>\n",
       "      <td>{\"/m/09c7w0\": \"United States of America\"}</td>\n",
       "      <td>{\"/m/01jfsb\": \"Thriller\", \"/m/06n90\": \"Science...</td>\n",
       "      <td>28000000</td>\n",
       "      <td>4.9</td>\n",
       "      <td>55271.0</td>\n",
       "    </tr>\n",
       "  </tbody>\n",
       "</table>\n",
       "</div>"
      ],
      "text/plain": [
       "   wikipedia_movie_ID freebase_movie_ID      movie_name movie_release_date  \\\n",
       "0              975900         /m/03vyhn  Ghosts of Mars         2001-08-24   \n",
       "\n",
       "   movie_box_office_revenue  movie_runtime  \\\n",
       "0                14010832.0           98.0   \n",
       "\n",
       "                      movie_languages  \\\n",
       "0  {\"/m/02h40lc\": \"English Language\"}   \n",
       "\n",
       "                             movie_countries  \\\n",
       "0  {\"/m/09c7w0\": \"United States of America\"}   \n",
       "\n",
       "                                        movie_genres    budget  averageRating  \\\n",
       "0  {\"/m/01jfsb\": \"Thriller\", \"/m/06n90\": \"Science...  28000000            4.9   \n",
       "\n",
       "   numVotes  \n",
       "0   55271.0  "
      ]
     },
     "execution_count": 5,
     "metadata": {},
     "output_type": "execute_result"
    }
   ],
   "source": [
    "# print the 'movie' data frame\n",
    "movies.head(1)"
   ]
  },
  {
   "cell_type": "code",
   "execution_count": 6,
   "id": "9c8e3216-5043-4834-9e53-11cad4090918",
   "metadata": {},
   "outputs": [
    {
     "data": {
      "text/html": [
       "<div>\n",
       "<style scoped>\n",
       "    .dataframe tbody tr th:only-of-type {\n",
       "        vertical-align: middle;\n",
       "    }\n",
       "\n",
       "    .dataframe tbody tr th {\n",
       "        vertical-align: top;\n",
       "    }\n",
       "\n",
       "    .dataframe thead th {\n",
       "        text-align: right;\n",
       "    }\n",
       "</style>\n",
       "<table border=\"1\" class=\"dataframe\">\n",
       "  <thead>\n",
       "    <tr style=\"text-align: right;\">\n",
       "      <th></th>\n",
       "      <th>wikipedia_movie_ID</th>\n",
       "      <th>freebase_movie_ID</th>\n",
       "      <th>last_update</th>\n",
       "      <th>character_name</th>\n",
       "      <th>actor_DOB</th>\n",
       "      <th>actor_gender</th>\n",
       "      <th>actor_height</th>\n",
       "      <th>actor_ethnicity</th>\n",
       "      <th>actor_name</th>\n",
       "      <th>actor_age_at_movie_release</th>\n",
       "      <th>freebase_character/actor_map_ID</th>\n",
       "      <th>freebase_character_ID</th>\n",
       "      <th>freebase_actor_ID</th>\n",
       "    </tr>\n",
       "  </thead>\n",
       "  <tbody>\n",
       "    <tr>\n",
       "      <th>0</th>\n",
       "      <td>975900</td>\n",
       "      <td>/m/03vyhn</td>\n",
       "      <td>2001-08-24</td>\n",
       "      <td>Akooshay</td>\n",
       "      <td>1958-08-26</td>\n",
       "      <td>F</td>\n",
       "      <td>1.62</td>\n",
       "      <td>NaN</td>\n",
       "      <td>Wanda De Jesus</td>\n",
       "      <td>42.0</td>\n",
       "      <td>/m/0bgchxw</td>\n",
       "      <td>/m/0bgcj3x</td>\n",
       "      <td>/m/03wcfv7</td>\n",
       "    </tr>\n",
       "  </tbody>\n",
       "</table>\n",
       "</div>"
      ],
      "text/plain": [
       "   wikipedia_movie_ID freebase_movie_ID last_update character_name  \\\n",
       "0              975900         /m/03vyhn  2001-08-24       Akooshay   \n",
       "\n",
       "    actor_DOB actor_gender  actor_height actor_ethnicity      actor_name  \\\n",
       "0  1958-08-26            F          1.62             NaN  Wanda De Jesus   \n",
       "\n",
       "   actor_age_at_movie_release freebase_character/actor_map_ID  \\\n",
       "0                        42.0                      /m/0bgchxw   \n",
       "\n",
       "  freebase_character_ID freebase_actor_ID  \n",
       "0            /m/0bgcj3x        /m/03wcfv7  "
      ]
     },
     "execution_count": 6,
     "metadata": {},
     "output_type": "execute_result"
    }
   ],
   "source": [
    "# print the 'characters' data frame\n",
    "characters.head(1)"
   ]
  },
  {
   "cell_type": "markdown",
   "id": "74e636c2-e0cb-4221-a427-0ba7d479f75f",
   "metadata": {
    "tags": []
   },
   "source": [
    "---\n",
    "### Removing null values\n",
    "This notebook intends to investigate the correlation between diversity and revenue; we will therefore filter out movies without `Movie box office revenue.`"
   ]
  },
  {
   "cell_type": "code",
   "execution_count": 7,
   "id": "dbe5f620-5fa6-405a-96ab-2510745f41f1",
   "metadata": {},
   "outputs": [
    {
     "name": "stdout",
     "output_type": "stream",
     "text": [
      "\n",
      "Total number of movies before filtering: 387942\n",
      "Number of movies after filtering:         66556     \n",
      "\n"
     ]
    }
   ],
   "source": [
    "# filtering out movies without revenue\n",
    "num_movies_before_filter = movies.shape[0]\n",
    "movies = movies[~movies[\"movie_box_office_revenue\"].isna()]\n",
    "num_movies_after_filter = movies.shape[0]\n",
    "\n",
    "# printing the results\n",
    "print(\n",
    "    f\"\"\"\n",
    "Total number of movies before filtering: {num_movies_before_filter}\n",
    "Number of movies after filtering:         {num_movies_after_filter}     \n",
    "\"\"\"\n",
    ")"
   ]
  },
  {
   "cell_type": "markdown",
   "id": "719bcc73-d143-4349-a296-27539c3576ed",
   "metadata": {
    "tags": []
   },
   "source": [
    "#### Comment\n",
    "- We observe that ~90% of the movies were filtered out.\n",
    "- We still got 8 401 which should be sufficient for the data analysis."
   ]
  },
  {
   "cell_type": "markdown",
   "id": "c23cfcbb-a5da-40ad-a2d9-3b425a8ab6d8",
   "metadata": {
    "tags": []
   },
   "source": [
    "---\n",
    "### Adjusting for inflation\n",
    "\n",
    "Our previous finding suggested that we had to adjust the `movie_box_office_revenue` for inflation to make movies more comparable."
   ]
  },
  {
   "cell_type": "code",
   "execution_count": 8,
   "id": "3982ce68-3fcd-42cd-9533-23d0a2fd2464",
   "metadata": {},
   "outputs": [],
   "source": [
    "# adjusting the 'movie_box_office_revenue' for inflation\n",
    "movies = correct_for_inflation(movies, \"movie_box_office_revenue\", start_year=1960, end_year=2014)"
   ]
  },
  {
   "cell_type": "markdown",
   "id": "22777b5a-73fe-474a-89ec-31b9280c9003",
   "metadata": {
    "jp-MarkdownHeadingCollapsed": true,
    "tags": []
   },
   "source": [
    "#### Comment\n",
    "\n",
    "**Problem:**\n",
    "- We observe that the dataset contains some old movies. The revenue will not be representable for such movies because of inflation.\n",
    "\n",
    "\n",
    "**Solution:**\n",
    "- A possible solution would be to collect a dataset of the inflation since ~1920 and adjust the revenues for inflation to make them comparable.\n",
    "\n",
    "**Conclusion:**\n",
    "- We need to collect an external dataset on inflation."
   ]
  },
  {
   "cell_type": "markdown",
   "id": "2a9c7d04-c5a2-48d1-8185-ed8bd5da4172",
   "metadata": {
    "tags": []
   },
   "source": [
    "# Diversity"
   ]
  },
  {
   "cell_type": "markdown",
   "id": "91ef8f4e-8a79-4cda-9f90-c100d7313a46",
   "metadata": {},
   "source": [
    "- This notebook intends to investigate the diversity of the [CMU Movie Summary Corpus](http://www.cs.cmu.edu/~ark/personas/) dataset.\n",
    "- The notebook will look at the distribution of ethnicities and gender and how it correlates with a movie's revenue."
   ]
  },
  {
   "cell_type": "markdown",
   "id": "45ed174a-3b58-4ba8-b74b-d78a2749e03b",
   "metadata": {},
   "source": [
    "---\n",
    "**Summary**\n",
    "- Diverse movies have, on average, ~28% higher movie box office revenue.\n",
    "- Movies with the majority of male actors have, on average, ~42.5% higher movie box office revenue.\n",
    "- The results are intriguing, and we would like to pursue this aspect in further analysis in milestone 3."
   ]
  },
  {
   "cell_type": "markdown",
   "id": "faecb06c-0011-400f-aa9f-e317f05a2ceb",
   "metadata": {
    "tags": []
   },
   "source": [
    "<div class=\"toc\"><ul class=\"toc-item\"><li><span><a href=\"#Data-Processing\" data-toc-modified-id=\"Data Processing\">Data Processing</a></span>\n",
    "<li><a href=\"#Distributions\" data-toc-modified-id=\"Distributions\">Distributions</a></li>\n",
    "<li><a href=\"#Gender\" data-toc-modified-id=\"Gender\">Gender</a></li>\n",
    "<li><a href=\"#Ethnicity\" data-toc-modified-id=\"Ethnicity\">Ethnicity</a></li>"
   ]
  },
  {
   "cell_type": "markdown",
   "id": "18ff9a13-3956-40d5-b581-424f3d0f8def",
   "metadata": {},
   "source": [
    "![Diversity](./img/diversity.jpeg)"
   ]
  },
  {
   "cell_type": "markdown",
   "id": "12f58986-0179-4557-b252-881306c17b2a",
   "metadata": {
    "tags": []
   },
   "source": [
    "---\n",
    "## Distributions"
   ]
  },
  {
   "cell_type": "markdown",
   "id": "f798e3ff-543c-4723-9760-d2586ecb84c0",
   "metadata": {
    "tags": []
   },
   "source": [
    "---\n",
    "### Distribution of release dates"
   ]
  },
  {
   "cell_type": "code",
   "execution_count": 9,
   "id": "cbc32d3e-ff53-42ef-bd0d-0d55f0d4e450",
   "metadata": {},
   "outputs": [
    {
     "data": {
      "text/html": [
       "<div>\n",
       "<style scoped>\n",
       "    .dataframe tbody tr th:only-of-type {\n",
       "        vertical-align: middle;\n",
       "    }\n",
       "\n",
       "    .dataframe tbody tr th {\n",
       "        vertical-align: top;\n",
       "    }\n",
       "\n",
       "    .dataframe thead th {\n",
       "        text-align: right;\n",
       "    }\n",
       "</style>\n",
       "<table border=\"1\" class=\"dataframe\">\n",
       "  <thead>\n",
       "    <tr style=\"text-align: right;\">\n",
       "      <th></th>\n",
       "      <th>wikipedia_movie_ID</th>\n",
       "      <th>freebase_movie_ID</th>\n",
       "      <th>movie_name</th>\n",
       "      <th>movie_release_date</th>\n",
       "      <th>movie_box_office_revenue</th>\n",
       "      <th>movie_runtime</th>\n",
       "      <th>movie_languages</th>\n",
       "      <th>movie_countries</th>\n",
       "      <th>movie_genres</th>\n",
       "      <th>budget</th>\n",
       "      <th>averageRating</th>\n",
       "      <th>numVotes</th>\n",
       "      <th>year_released</th>\n",
       "    </tr>\n",
       "  </thead>\n",
       "  <tbody>\n",
       "    <tr>\n",
       "      <th>0</th>\n",
       "      <td>975900</td>\n",
       "      <td>/m/03vyhn</td>\n",
       "      <td>Ghosts of Mars</td>\n",
       "      <td>2001-08-24</td>\n",
       "      <td>2.340194e+06</td>\n",
       "      <td>98.0</td>\n",
       "      <td>{\"/m/02h40lc\": \"English Language\"}</td>\n",
       "      <td>{\"/m/09c7w0\": \"United States of America\"}</td>\n",
       "      <td>{\"/m/01jfsb\": \"Thriller\", \"/m/06n90\": \"Science...</td>\n",
       "      <td>28000000</td>\n",
       "      <td>4.9</td>\n",
       "      <td>55271.0</td>\n",
       "      <td>2001.0</td>\n",
       "    </tr>\n",
       "  </tbody>\n",
       "</table>\n",
       "</div>"
      ],
      "text/plain": [
       "   wikipedia_movie_ID freebase_movie_ID      movie_name movie_release_date  \\\n",
       "0              975900         /m/03vyhn  Ghosts of Mars         2001-08-24   \n",
       "\n",
       "   movie_box_office_revenue  movie_runtime  \\\n",
       "0              2.340194e+06           98.0   \n",
       "\n",
       "                      movie_languages  \\\n",
       "0  {\"/m/02h40lc\": \"English Language\"}   \n",
       "\n",
       "                             movie_countries  \\\n",
       "0  {\"/m/09c7w0\": \"United States of America\"}   \n",
       "\n",
       "                                        movie_genres    budget  averageRating  \\\n",
       "0  {\"/m/01jfsb\": \"Thriller\", \"/m/06n90\": \"Science...  28000000            4.9   \n",
       "\n",
       "   numVotes  year_released  \n",
       "0   55271.0         2001.0  "
      ]
     },
     "execution_count": 9,
     "metadata": {},
     "output_type": "execute_result"
    }
   ],
   "source": [
    "# adding column for year release\n",
    "movies[\"year_released\"] = pd.to_datetime(\n",
    "    movies[\"movie_release_date\"], infer_datetime_format=True, errors=\"coerce\"\n",
    ").dt.year\n",
    "\n",
    "# removing null values\n",
    "movies = movies[~movies[\"year_released\"].isna()]\n",
    "\n",
    "# converting to 'int64'\n",
    "movies[\"year_released\"].astype(\"int64\")\n",
    "\n",
    "# print result\n",
    "movies.head(1)"
   ]
  },
  {
   "cell_type": "code",
   "execution_count": 10,
   "id": "8e73ec86-c181-4a7a-87fb-9b373457ef8b",
   "metadata": {},
   "outputs": [
    {
     "data": {
      "image/png": "[encoded data removed]",
      "text/plain": [
       "<Figure size 640x480 with 1 Axes>"
      ]
     },
     "metadata": {},
     "output_type": "display_data"
    }
   ],
   "source": [
    "# plot the distribution of realese years\n",
    "bins = np.arange(1915, 2013) - 0.5  # -0.5 for center-aligned bins\n",
    "plt.hist(movies[\"year_released\"], histtype=\"step\", bins=bins, log=True)\n",
    "plt.xlabel(\"Release year\")\n",
    "plt.ylabel(\"Number of movies\")\n",
    "plt.title(\"Distribution of of movies released\")\n",
    "plt.show()"
   ]
  },
  {
   "cell_type": "markdown",
   "id": "a0405ce8-e6ab-4d9a-97f7-24ebac23da25",
   "metadata": {
    "tags": []
   },
   "source": [
    "---\n",
    "### Distribution of actors"
   ]
  },
  {
   "cell_type": "code",
   "execution_count": 11,
   "id": "d5c56b48-138e-4bfa-a92f-9806e9babb30",
   "metadata": {},
   "outputs": [
    {
     "data": {
      "text/html": [
       "<div>\n",
       "<style scoped>\n",
       "    .dataframe tbody tr th:only-of-type {\n",
       "        vertical-align: middle;\n",
       "    }\n",
       "\n",
       "    .dataframe tbody tr th {\n",
       "        vertical-align: top;\n",
       "    }\n",
       "\n",
       "    .dataframe thead th {\n",
       "        text-align: right;\n",
       "    }\n",
       "</style>\n",
       "<table border=\"1\" class=\"dataframe\">\n",
       "  <thead>\n",
       "    <tr style=\"text-align: right;\">\n",
       "      <th></th>\n",
       "      <th>wikipedia_movie_ID</th>\n",
       "      <th>freebase_movie_ID</th>\n",
       "      <th>movie_name</th>\n",
       "      <th>movie_release_date</th>\n",
       "      <th>movie_box_office_revenue</th>\n",
       "      <th>movie_runtime</th>\n",
       "      <th>movie_languages</th>\n",
       "      <th>movie_countries</th>\n",
       "      <th>movie_genres</th>\n",
       "      <th>budget</th>\n",
       "      <th>averageRating</th>\n",
       "      <th>numVotes</th>\n",
       "      <th>year_released</th>\n",
       "      <th>num_actors</th>\n",
       "    </tr>\n",
       "  </thead>\n",
       "  <tbody>\n",
       "    <tr>\n",
       "      <th>0</th>\n",
       "      <td>975900</td>\n",
       "      <td>/m/03vyhn</td>\n",
       "      <td>Ghosts of Mars</td>\n",
       "      <td>2001-08-24</td>\n",
       "      <td>2.340194e+06</td>\n",
       "      <td>98.0</td>\n",
       "      <td>{\"/m/02h40lc\": \"English Language\"}</td>\n",
       "      <td>{\"/m/09c7w0\": \"United States of America\"}</td>\n",
       "      <td>{\"/m/01jfsb\": \"Thriller\", \"/m/06n90\": \"Science...</td>\n",
       "      <td>28000000</td>\n",
       "      <td>4.9</td>\n",
       "      <td>55271.0</td>\n",
       "      <td>2001.0</td>\n",
       "      <td>17</td>\n",
       "    </tr>\n",
       "  </tbody>\n",
       "</table>\n",
       "</div>"
      ],
      "text/plain": [
       "   wikipedia_movie_ID freebase_movie_ID      movie_name movie_release_date  \\\n",
       "0              975900         /m/03vyhn  Ghosts of Mars         2001-08-24   \n",
       "\n",
       "   movie_box_office_revenue  movie_runtime  \\\n",
       "0              2.340194e+06           98.0   \n",
       "\n",
       "                      movie_languages  \\\n",
       "0  {\"/m/02h40lc\": \"English Language\"}   \n",
       "\n",
       "                             movie_countries  \\\n",
       "0  {\"/m/09c7w0\": \"United States of America\"}   \n",
       "\n",
       "                                        movie_genres    budget  averageRating  \\\n",
       "0  {\"/m/01jfsb\": \"Thriller\", \"/m/06n90\": \"Science...  28000000            4.9   \n",
       "\n",
       "   numVotes  year_released  num_actors  \n",
       "0   55271.0         2001.0          17  "
      ]
     },
     "execution_count": 11,
     "metadata": {},
     "output_type": "execute_result"
    }
   ],
   "source": [
    "# add collumn for number of actors\n",
    "num_actors = characters.groupby(\"freebase_movie_ID\")[\"freebase_actor_ID\"].apply(\n",
    "    lambda x: x.count()\n",
    ")\n",
    "\n",
    "# rename the series\n",
    "num_actors.name = \"num_actors\"\n",
    "\n",
    "# merge with the movies data frame\n",
    "movies = movies.merge(num_actors, left_on=\"freebase_movie_ID\", right_index=True)\n",
    "\n",
    "# print result\n",
    "movies.head(1)"
   ]
  },
  {
   "cell_type": "code",
   "execution_count": 12,
   "id": "6677a06d-32a1-47b8-ac0b-0c3966c50c3d",
   "metadata": {},
   "outputs": [
    {
     "data": {
      "image/png": "[encoded data removed]",
      "text/plain": [
       "<Figure size 640x480 with 1 Axes>"
      ]
     },
     "metadata": {},
     "output_type": "display_data"
    }
   ],
   "source": [
    "# plot the distribution of actors\n",
    "bins = np.arange(100) - 0.5  # -0.5 for center-aligned bins\n",
    "plt.hist(movies[\"num_actors\"], histtype=\"step\", bins=bins, log=True)\n",
    "plt.xlabel(\"Number of actors\")\n",
    "plt.ylabel(\"Number of movies\")\n",
    "plt.title(\"Distribution of actors\")\n",
    "plt.show()"
   ]
  },
  {
   "cell_type": "code",
   "execution_count": 13,
   "id": "ae781ed0-6e4b-4515-a754-e722eeb1bcc2",
   "metadata": {},
   "outputs": [
    {
     "data": {
      "image/png": "[encoded data removed]",
      "text/plain": [
       "<Figure size 640x480 with 1 Axes>"
      ]
     },
     "metadata": {},
     "output_type": "display_data"
    }
   ],
   "source": [
    "# plot relationship between 'num_actors' and 'movie_box_office_revenue'\n",
    "movies.plot.scatter(x=\"num_actors\", y=\"movie_box_office_revenue\", s=1)\n",
    "plt.yscale(\"log\")\n",
    "plt.xlabel(\"Number of actors\")\n",
    "plt.ylabel(\"Movie box office revenue\")\n",
    "plt.title(\"Relationship between the number actors and the movie box office revenue\")\n",
    "plt.show()"
   ]
  },
  {
   "cell_type": "code",
   "execution_count": 14,
   "id": "692e615e-a71b-4202-8463-061c60e27d84",
   "metadata": {},
   "outputs": [
    {
     "data": {
      "text/plain": [
       "SpearmanrResult(correlation=0.3443295251808679, pvalue=0.0)"
      ]
     },
     "execution_count": 14,
     "metadata": {},
     "output_type": "execute_result"
    }
   ],
   "source": [
    "# compute spearman correlation between 'num_actors' and 'movie_box_office_revenue'\n",
    "stats.spearmanr(movies[\"num_actors\"], movies[\"movie_box_office_revenue\"])"
   ]
  },
  {
   "cell_type": "markdown",
   "id": "df8c096f-83f3-41a7-9e1d-911c5cac207e",
   "metadata": {},
   "source": [
    "#### Comment\n",
    "\n",
    " **Problem:**\n",
    "1. We observe that many movies only have a few actors. It´s unlikely that a movie only has one actor, which is the case for ~50 movies in the dataset. The reason is probably that the dataset initially focused on characters, which can be more difficult to extract than actors.\n",
    "\n",
    "2. We observe that movies with more actors have higher revenue. This is something to be aware of since more actors will likely provide more diversity.\n",
    "\n",
    "**Solution:**\n",
    "1. A possible solution would be to collect data about the number of actors from a different dataset. The problem with an external dataset will be finding data about ethnicity and gender. This was not included in the [IMDb datasets](https://www.imdb.com/interfaces/).\n",
    "\n",
    "2. It will be necessary to look at the number of ethnicities and females with the total number of actors.\n",
    "\n",
    "**Conclusion:**\n",
    "1. Setting a threshold for the number of actors is a good solution that still enables us to use the original dataset.\n",
    "\n",
    "2. Computing an `ethnicity_score` and `fraction_of_female` to also consider the total number of actors."
   ]
  },
  {
   "cell_type": "markdown",
   "id": "3dfef8c0-d95a-46c1-a8fe-c9568ac64108",
   "metadata": {
    "tags": []
   },
   "source": [
    "---\n",
    "### Threshold\n",
    "\n",
    "Our previous finding suggested that a threshold on the number of actors might be necessary."
   ]
  },
  {
   "cell_type": "code",
   "execution_count": 15,
   "id": "7fc6e536-d2bf-4392-be30-c83da054b276",
   "metadata": {},
   "outputs": [
    {
     "name": "stdout",
     "output_type": "stream",
     "text": [
      "\n",
      "Total number of movies before filtering: 65743\n",
      "Number of movies after filtering:        47911     \n",
      "\n"
     ]
    }
   ],
   "source": [
    "# filtering out movies with less than 10 actors\n",
    "num_movies_before_filter = movies.shape[0]\n",
    "movies = movies[movies[\"num_actors\"] > 9]\n",
    "num_movies_after_filter = movies.shape[0]\n",
    "\n",
    "# printing the results\n",
    "print(\n",
    "    f\"\"\"\n",
    "Total number of movies before filtering: {num_movies_before_filter}\n",
    "Number of movies after filtering:        {num_movies_after_filter}     \n",
    "\"\"\"\n",
    ")"
   ]
  },
  {
   "cell_type": "code",
   "execution_count": 16,
   "id": "11290831-a44a-4711-889d-9cda8858ceda",
   "metadata": {},
   "outputs": [
    {
     "data": {
      "image/png": "[encoded data removed]",
      "text/plain": [
       "<Figure size 640x480 with 1 Axes>"
      ]
     },
     "metadata": {},
     "output_type": "display_data"
    }
   ],
   "source": [
    "# plot the distribution of actors after threshold\n",
    "bins = np.arange(10, 100) - 0.5  # -0.5 for center-aligned bins\n",
    "plt.hist(movies[\"num_actors\"], histtype=\"step\", bins=bins, log=True)\n",
    "plt.xlabel(\"Number of actors\")\n",
    "plt.ylabel(\"Number of movies\")\n",
    "plt.title(\"Distribution of actors\")\n",
    "plt.show()"
   ]
  },
  {
   "cell_type": "code",
   "execution_count": 17,
   "id": "273ef132-eb3b-4ab1-a1ec-86485427a6d8",
   "metadata": {},
   "outputs": [
    {
     "data": {
      "text/plain": [
       "SpearmanrResult(correlation=0.24252672230985362, pvalue=0.0)"
      ]
     },
     "execution_count": 17,
     "metadata": {},
     "output_type": "execute_result"
    }
   ],
   "source": [
    "# compute spearman correlation between 'num_actors' and 'movie_box_office_revenue'\n",
    "stats.spearmanr(movies[\"num_actors\"], movies[\"movie_box_office_revenue\"])"
   ]
  },
  {
   "cell_type": "markdown",
   "id": "e12ecda1-876e-4d63-bfaf-f86bfac01efc",
   "metadata": {},
   "source": [
    "#### Comment\n",
    "There is still a statistically significant correlation between `num_actors` and `movie_box_office_revenue` after introducing a threshold."
   ]
  },
  {
   "cell_type": "markdown",
   "id": "deaccccb-ee75-494c-8092-63e4b8737218",
   "metadata": {
    "tags": []
   },
   "source": [
    "---\n",
    "## Ethnicity"
   ]
  },
  {
   "cell_type": "markdown",
   "id": "714ac245-1e53-45b6-b778-929387e94e52",
   "metadata": {},
   "source": [
    "---\n",
    "### Correlation between the number of ethnicites and revenue"
   ]
  },
  {
   "cell_type": "code",
   "execution_count": 18,
   "id": "0d79c972-be00-4ecd-9e38-244be1fe99ef",
   "metadata": {},
   "outputs": [],
   "source": [
    "# add collumn for number of ethnicities\n",
    "num_ethnicities = characters.groupby(\"freebase_movie_ID\")[\"actor_ethnicity\"].apply(\n",
    "    lambda x: x.nunique()\n",
    ")\n",
    "\n",
    "# rename the series\n",
    "num_ethnicities.name = \"num_ethnicities\"\n",
    "\n",
    "# merge with the movies data frame\n",
    "movies = movies.merge(num_ethnicities, left_on=\"freebase_movie_ID\", right_index=True)"
   ]
  },
  {
   "cell_type": "code",
   "execution_count": 19,
   "id": "31063dee-211b-428c-9f1a-e58972ade51f",
   "metadata": {},
   "outputs": [
    {
     "data": {
      "image/png": "[encoded data removed]",
      "text/plain": [
       "<Figure size 640x480 with 1 Axes>"
      ]
     },
     "metadata": {},
     "output_type": "display_data"
    }
   ],
   "source": [
    "# plot relationship between 'num_ethnicities' and 'movie_box_office_revenue'\n",
    "movies.plot.scatter(x=\"num_ethnicities\", y=\"movie_box_office_revenue\", s=1)\n",
    "plt.yscale(\"log\")\n",
    "plt.xlabel(\"Number of ethnicities\")\n",
    "plt.ylabel(\"Movie box office revenue\")\n",
    "plt.title(\n",
    "    \"Relationship between the number of ethnicities and the movie box office revenue\"\n",
    ")\n",
    "plt.show()"
   ]
  },
  {
   "cell_type": "code",
   "execution_count": 20,
   "id": "ee5e00d4-b064-4064-a4cd-4f3f135f164a",
   "metadata": {},
   "outputs": [
    {
     "data": {
      "text/plain": [
       "SpearmanrResult(correlation=0.22298540289126942, pvalue=0.0)"
      ]
     },
     "execution_count": 20,
     "metadata": {},
     "output_type": "execute_result"
    }
   ],
   "source": [
    "# compute spearman correlation between 'num_ethnicities' and 'movie_box_office_revenue'\n",
    "stats.spearmanr(movies[\"num_ethnicities\"], movies[\"movie_box_office_revenue\"])"
   ]
  },
  {
   "cell_type": "code",
   "execution_count": 21,
   "id": "a58ea1b0-b333-4954-864f-1f11b3e59ea4",
   "metadata": {},
   "outputs": [
    {
     "data": {
      "text/plain": [
       "SpearmanrResult(correlation=0.24252672230985362, pvalue=0.0)"
      ]
     },
     "execution_count": 21,
     "metadata": {},
     "output_type": "execute_result"
    }
   ],
   "source": [
    "# compute spearman correlation between 'num_actors' and 'movie_box_office_revenue'\n",
    "stats.spearmanr(movies[\"num_actors\"], movies[\"movie_box_office_revenue\"])"
   ]
  },
  {
   "cell_type": "markdown",
   "id": "6fec8d82-a9da-43af-b086-a8aec443c0f2",
   "metadata": {},
   "source": [
    "#### Comment\n",
    "- We observe a significant correlation between `num_ethnicities` and `movie_box_office_revenue.`\n",
    "- Further, we observe that the correlation between `num_actors` and `movie_box_office_revenue` is reduced after we filtered out movies with less than ten actors. This indicates that the number of actors has the most significant impact when there are few actors, e.g., increasing from 5 to 6 will have a more substantial effect on the revenue than rising from 14 to 15.\n",
    "- There is still difficult to interpret how big an impact `num_ethnicities` and `num_actors` have on `movie_box_office_revenue` separately since they are highly correlated.\n",
    "- To try to isolate the impact ethnicities have on the revenue, we will instead look at an ethnicity_score, which is calculated as follow: $ethnicity\\: score = \\frac{number\\,of\\,ethnicities}{number\\,of\\,actors}$"
   ]
  },
  {
   "cell_type": "markdown",
   "id": "984512ab-309e-4a14-ba78-d2cf92ec2d6e",
   "metadata": {},
   "source": [
    "---\n",
    "### Correlation between the ethnicity score and revenue"
   ]
  },
  {
   "cell_type": "code",
   "execution_count": 22,
   "id": "017cc2a6-0a48-49e2-8cbc-5eb7213953c8",
   "metadata": {},
   "outputs": [],
   "source": [
    "# adding a collumn for num_etnicities / num_ectors\n",
    "movies[\"ethnicity_score\"] = movies[\"num_ethnicities\"] / movies[\"num_actors\"]"
   ]
  },
  {
   "cell_type": "code",
   "execution_count": 23,
   "id": "7da4fb06-efc7-4ac0-8f79-ee58bd298858",
   "metadata": {},
   "outputs": [
    {
     "data": {
      "image/png": "[encoded data removed]",
      "text/plain": [
       "<Figure size 640x480 with 1 Axes>"
      ]
     },
     "metadata": {},
     "output_type": "display_data"
    }
   ],
   "source": [
    "# plot relationship between 'ethnicity_score' and 'movie_box_office_revenue'\n",
    "movies.plot.scatter(x=\"ethnicity_score\", y=\"movie_box_office_revenue\", s=1)\n",
    "plt.yscale(\"log\")\n",
    "plt.xlabel(\"Ethnicity score\")\n",
    "plt.ylabel(\"Movie box office revenue\")\n",
    "plt.title(\"Relationship between the ethnicity score and the movie box office revenue\")\n",
    "plt.show()"
   ]
  },
  {
   "cell_type": "code",
   "execution_count": 24,
   "id": "bcc5880f-1ab0-4938-9c0c-7482921107d6",
   "metadata": {},
   "outputs": [
    {
     "data": {
      "text/plain": [
       "SpearmanrResult(correlation=0.14777875534454335, pvalue=4.796805473856374e-232)"
      ]
     },
     "execution_count": 24,
     "metadata": {},
     "output_type": "execute_result"
    }
   ],
   "source": [
    "# compute spearman correlation between 'ethnicity_score' and 'movie_box_office_revenue'\n",
    "stats.spearmanr(movies[\"ethnicity_score\"], movies[\"movie_box_office_revenue\"])"
   ]
  },
  {
   "cell_type": "markdown",
   "id": "67d64473-1b52-4b4f-ae38-02130b686ba0",
   "metadata": {},
   "source": [
    "#### Comment\n",
    "- After trying to isolate the impact ethnicities have on the revenue, we still observe a significant correlation."
   ]
  },
  {
   "cell_type": "markdown",
   "id": "0d26543a-55d2-4f67-8982-1ca44313805d",
   "metadata": {},
   "source": [
    "---\n",
    "### Difference in revenue between the diverse and less diverse movies"
   ]
  },
  {
   "cell_type": "code",
   "execution_count": 25,
   "id": "44b41975-f628-461e-a003-49d082a545c5",
   "metadata": {},
   "outputs": [],
   "source": [
    "# check difference between the revenue of movies with an without ethnicity score above 50\n",
    "over_50_revenue = movies[movies[\"ethnicity_score\"] > 0.5][\"movie_box_office_revenue\"]\n",
    "under_50_revenue = movies[movies[\"ethnicity_score\"] <= 0.5][\"movie_box_office_revenue\"]"
   ]
  },
  {
   "cell_type": "code",
   "execution_count": 26,
   "id": "222ed130-4df8-4591-884b-380bfcdfae1d",
   "metadata": {},
   "outputs": [
    {
     "data": {
      "text/plain": [
       "Ttest_indResult(statistic=-0.43546176335987674, pvalue=0.6632292492375841)"
      ]
     },
     "execution_count": 26,
     "metadata": {},
     "output_type": "execute_result"
    }
   ],
   "source": [
    "# independent t-test\n",
    "stats.ttest_ind(over_50_revenue, under_50_revenue)"
   ]
  },
  {
   "cell_type": "code",
   "execution_count": 27,
   "id": "a8966434-605a-4c7d-877a-0147739ab43b",
   "metadata": {},
   "outputs": [
    {
     "name": "stdout",
     "output_type": "stream",
     "text": [
      "\n",
      "The statistical power of:\n",
      "    - The independent sample t-test comparing the revenue of diveres and less diverse movies: 0.021\n",
      "\n"
     ]
    }
   ],
   "source": [
    "# calculate the statistical power\n",
    "\n",
    "# creating list to store the p-values\n",
    "p_val = np.zeros(10000)\n",
    "\n",
    "# running the simulation 10000 times\n",
    "for i in range(10000):\n",
    "\n",
    "    # sample over_50 and under_50\n",
    "    sample_over_50 = np.random.choice(over_50_revenue, size=over_50_revenue.shape[0])\n",
    "    sample_under_50 = np.random.choice(under_50_revenue, size=under_50_revenue.shape[0])\n",
    "\n",
    "    # independent t-test\n",
    "    p_val[i] = stats.ttest_ind(sample_over_50, sample_under_50)[1]\n",
    "\n",
    "# calculating the percentage of rejects\n",
    "power = len(p_val[p_val < 0.05]) / len(p_val)\n",
    "\n",
    "# printing the results\n",
    "print(\n",
    "    f\"\"\"\n",
    "The statistical power of:\n",
    "    - The independent sample t-test comparing the revenue of diveres and less diverse movies: {power}\n",
    "\"\"\"\n",
    ")"
   ]
  },
  {
   "cell_type": "code",
   "execution_count": 28,
   "id": "926128c3-237b-4bf5-9830-51a321d2603b",
   "metadata": {},
   "outputs": [
    {
     "name": "stdout",
     "output_type": "stream",
     "text": [
      "\n",
      "The mean difference between in revenue between diverse and less diverse movies:\n",
      "    - Mean:                       -281902.46769392304\n",
      "    - CI:                         [-1226728.5893744852, 661812.9467594482]\n",
      "\n"
     ]
    }
   ],
   "source": [
    "# calculating the mean difference\n",
    "mean_diff_diversity = over_50_revenue.mean() - under_50_revenue.mean()\n",
    "\n",
    "# performing bootstrap to get the 95% CI\n",
    "diversity_CI = bootstrap_CI(over_50_revenue, under_50_revenue)\n",
    "\n",
    "# printing the results\n",
    "print(\n",
    "    f\"\"\"\n",
    "The mean difference between in revenue between diverse and less diverse movies:\n",
    "    - Mean:                       {mean_diff_diversity}\n",
    "    - CI:                         {diversity_CI}\n",
    "\"\"\"\n",
    ")"
   ]
  },
  {
   "cell_type": "code",
   "execution_count": 29,
   "id": "eb04a452-ca30-4e02-85b3-16e0dba0640e",
   "metadata": {},
   "outputs": [
    {
     "data": {
      "text/plain": [
       "-0.017087459461662475"
      ]
     },
     "execution_count": 29,
     "metadata": {},
     "output_type": "execute_result"
    }
   ],
   "source": [
    "# calculating the average revenue for under_50\n",
    "mean_under_50 = under_50_revenue.mean()\n",
    "\n",
    "# calculating the percentage difference in revenue\n",
    "diff_percent = mean_diff_diversity / mean_under_50\n",
    "\n",
    "# printing the results\n",
    "diff_percent"
   ]
  },
  {
   "cell_type": "markdown",
   "id": "5bbcc5db-5a71-4715-95dc-8292c352b7b2",
   "metadata": {},
   "source": [
    "#### Comment \n",
    "- The independent t-test gives us a small p-value (< 0.05), which indicates a statistically significant difference between the samples of diverse (ethnicity score > 0.5) and less diverse (ethnicity score ≤ 50) movies. The statistical power of the result is 0.5451. \n",
    "- Further, the mean difference shows that diverse movies generally have higher movie box office revenue. The confidence interval makes us confident in this result. \n",
    "- By dividing the average difference by the average revenue for less diverse movies, we get that diverse movie, on average, have a ~28% higher movie box office revenue. This shows that ethnicity is impactful on the movie box office revenue."
   ]
  },
  {
   "cell_type": "markdown",
   "id": "70120c85-01f2-4c65-b086-a153114bd5cc",
   "metadata": {
    "tags": []
   },
   "source": [
    "---\n",
    "## Gender"
   ]
  },
  {
   "cell_type": "markdown",
   "id": "da0e2b9f-5fdd-4fc2-8089-15126a50a4c6",
   "metadata": {},
   "source": [
    "---\n",
    "### Correlation between the number of females and revenue"
   ]
  },
  {
   "cell_type": "code",
   "execution_count": 30,
   "id": "df110f9e-1c62-44b7-b822-96150889d7ab",
   "metadata": {},
   "outputs": [
    {
     "name": "stdout",
     "output_type": "stream",
     "text": [
      "\n",
      "Total number of characters:                450669\n",
      "Number of characters without actor gender:  45609     \n",
      "\n"
     ]
    }
   ],
   "source": [
    "# checkint the amount of characters without 'actor_gender'\n",
    "num_characters = characters.shape[0]\n",
    "num_nan_gender = characters[characters[\"actor_gender\"].isna()].shape[0]\n",
    "\n",
    "# printing the results\n",
    "print(\n",
    "    f\"\"\"\n",
    "Total number of characters:                {num_characters}\n",
    "Number of characters without actor gender:  {num_nan_gender}     \n",
    "\"\"\"\n",
    ")"
   ]
  },
  {
   "cell_type": "code",
   "execution_count": 31,
   "id": "47cc1bf5-82d0-4353-adba-06554a69c810",
   "metadata": {},
   "outputs": [
    {
     "data": {
      "text/html": [
       "<div>\n",
       "<style scoped>\n",
       "    .dataframe tbody tr th:only-of-type {\n",
       "        vertical-align: middle;\n",
       "    }\n",
       "\n",
       "    .dataframe tbody tr th {\n",
       "        vertical-align: top;\n",
       "    }\n",
       "\n",
       "    .dataframe thead th {\n",
       "        text-align: right;\n",
       "    }\n",
       "</style>\n",
       "<table border=\"1\" class=\"dataframe\">\n",
       "  <thead>\n",
       "    <tr style=\"text-align: right;\">\n",
       "      <th></th>\n",
       "      <th>wikipedia_movie_ID</th>\n",
       "      <th>freebase_movie_ID</th>\n",
       "      <th>movie_name</th>\n",
       "      <th>movie_release_date</th>\n",
       "      <th>movie_box_office_revenue</th>\n",
       "      <th>movie_runtime</th>\n",
       "      <th>movie_languages</th>\n",
       "      <th>movie_countries</th>\n",
       "      <th>movie_genres</th>\n",
       "      <th>budget</th>\n",
       "      <th>averageRating</th>\n",
       "      <th>numVotes</th>\n",
       "      <th>year_released</th>\n",
       "      <th>num_actors</th>\n",
       "      <th>num_ethnicities</th>\n",
       "      <th>ethnicity_score</th>\n",
       "      <th>num_female</th>\n",
       "    </tr>\n",
       "  </thead>\n",
       "  <tbody>\n",
       "    <tr>\n",
       "      <th>0</th>\n",
       "      <td>975900</td>\n",
       "      <td>/m/03vyhn</td>\n",
       "      <td>Ghosts of Mars</td>\n",
       "      <td>2001-08-24</td>\n",
       "      <td>2.340194e+06</td>\n",
       "      <td>98.0</td>\n",
       "      <td>{\"/m/02h40lc\": \"English Language\"}</td>\n",
       "      <td>{\"/m/09c7w0\": \"United States of America\"}</td>\n",
       "      <td>{\"/m/01jfsb\": \"Thriller\", \"/m/06n90\": \"Science...</td>\n",
       "      <td>28000000</td>\n",
       "      <td>4.9</td>\n",
       "      <td>55271.0</td>\n",
       "      <td>2001.0</td>\n",
       "      <td>17</td>\n",
       "      <td>3</td>\n",
       "      <td>0.176471</td>\n",
       "      <td>6</td>\n",
       "    </tr>\n",
       "  </tbody>\n",
       "</table>\n",
       "</div>"
      ],
      "text/plain": [
       "   wikipedia_movie_ID freebase_movie_ID      movie_name movie_release_date  \\\n",
       "0              975900         /m/03vyhn  Ghosts of Mars         2001-08-24   \n",
       "\n",
       "   movie_box_office_revenue  movie_runtime  \\\n",
       "0              2.340194e+06           98.0   \n",
       "\n",
       "                      movie_languages  \\\n",
       "0  {\"/m/02h40lc\": \"English Language\"}   \n",
       "\n",
       "                             movie_countries  \\\n",
       "0  {\"/m/09c7w0\": \"United States of America\"}   \n",
       "\n",
       "                                        movie_genres    budget  averageRating  \\\n",
       "0  {\"/m/01jfsb\": \"Thriller\", \"/m/06n90\": \"Science...  28000000            4.9   \n",
       "\n",
       "   numVotes  year_released  num_actors  num_ethnicities  ethnicity_score  \\\n",
       "0   55271.0         2001.0          17                3         0.176471   \n",
       "\n",
       "   num_female  \n",
       "0           6  "
      ]
     },
     "execution_count": 31,
     "metadata": {},
     "output_type": "execute_result"
    }
   ],
   "source": [
    "# add collumn for fraction of females\n",
    "\n",
    "# create frame with female actors\n",
    "female_characters = characters[characters[\"actor_gender\"] == \"F\"]\n",
    "\n",
    "# add column for number of female actors\n",
    "num_female = female_characters.groupby(\"freebase_movie_ID\")[\"actor_gender\"].count()\n",
    "\n",
    "# rename the series\n",
    "num_female.name = \"num_female\"\n",
    "movies = movies.merge(num_female, left_on=\"freebase_movie_ID\", right_index=True)\n",
    "\n",
    "# print result\n",
    "movies.head(1)"
   ]
  },
  {
   "cell_type": "code",
   "execution_count": 32,
   "id": "e7edb7ba-aeab-4349-ad0f-66d5485a7048",
   "metadata": {},
   "outputs": [
    {
     "data": {
      "image/png": "[encoded data removed]",
      "text/plain": [
       "<Figure size 640x480 with 1 Axes>"
      ]
     },
     "metadata": {},
     "output_type": "display_data"
    }
   ],
   "source": [
    "# plot relationship between 'num_female' and 'movie_box_office_revenue'\n",
    "movies.plot.scatter(x=\"num_female\", y=\"movie_box_office_revenue\", s=1)\n",
    "plt.yscale(\"log\")\n",
    "plt.xlabel(\"Number of females\")\n",
    "plt.ylabel(\"Movie box office revenue\")\n",
    "plt.title(\"Relationship between number of females and movie box office revenue\")\n",
    "plt.show()"
   ]
  },
  {
   "cell_type": "code",
   "execution_count": 33,
   "id": "395fdde8-c779-4b58-9454-34967c98fbec",
   "metadata": {},
   "outputs": [
    {
     "data": {
      "text/plain": [
       "SpearmanrResult(correlation=0.14001586259151733, pvalue=2.7427666565505183e-205)"
      ]
     },
     "execution_count": 33,
     "metadata": {},
     "output_type": "execute_result"
    }
   ],
   "source": [
    "# compute spearman correlation between 'num_female' and 'movie_box_office_revenue'\n",
    "stats.spearmanr(movies[\"num_female\"], movies[\"movie_box_office_revenue\"])"
   ]
  },
  {
   "cell_type": "markdown",
   "id": "d999d540-1788-43ef-8672-d68fc62668be",
   "metadata": {},
   "source": [
    "#### Comment \n",
    "- We observe a weak but significant correlation between `num_female` and `movie_box_office_revenue.`\n",
    "- It is difficult to interpret how big an impact `num_female` and `num_actors` have on `movie_box_office_revenue` separately since they are highly correlated (more actors will likely lead to more female actors as well).\n",
    "- To try to isolate the impact gender have on the revenue, we will instead look at the fraction of female, which is calculated as follow: $fraction\\: of\\: female = \\frac{number\\,of\\,female}{number\\,of\\,actors}$"
   ]
  },
  {
   "cell_type": "markdown",
   "id": "348c16dd-8b4f-4e3a-8ede-c2546332ed07",
   "metadata": {},
   "source": [
    "---\n",
    "### Correlation between the fraction of females and revenue"
   ]
  },
  {
   "cell_type": "code",
   "execution_count": 34,
   "id": "2b740103-fa96-43e8-9f7c-a64d8c674042",
   "metadata": {},
   "outputs": [
    {
     "data": {
      "text/html": [
       "<div>\n",
       "<style scoped>\n",
       "    .dataframe tbody tr th:only-of-type {\n",
       "        vertical-align: middle;\n",
       "    }\n",
       "\n",
       "    .dataframe tbody tr th {\n",
       "        vertical-align: top;\n",
       "    }\n",
       "\n",
       "    .dataframe thead th {\n",
       "        text-align: right;\n",
       "    }\n",
       "</style>\n",
       "<table border=\"1\" class=\"dataframe\">\n",
       "  <thead>\n",
       "    <tr style=\"text-align: right;\">\n",
       "      <th></th>\n",
       "      <th>wikipedia_movie_ID</th>\n",
       "      <th>freebase_movie_ID</th>\n",
       "      <th>movie_name</th>\n",
       "      <th>movie_release_date</th>\n",
       "      <th>movie_box_office_revenue</th>\n",
       "      <th>movie_runtime</th>\n",
       "      <th>movie_languages</th>\n",
       "      <th>movie_countries</th>\n",
       "      <th>movie_genres</th>\n",
       "      <th>budget</th>\n",
       "      <th>averageRating</th>\n",
       "      <th>numVotes</th>\n",
       "      <th>year_released</th>\n",
       "      <th>num_actors</th>\n",
       "      <th>num_ethnicities</th>\n",
       "      <th>ethnicity_score</th>\n",
       "      <th>num_female</th>\n",
       "      <th>frac_female</th>\n",
       "    </tr>\n",
       "  </thead>\n",
       "  <tbody>\n",
       "    <tr>\n",
       "      <th>0</th>\n",
       "      <td>975900</td>\n",
       "      <td>/m/03vyhn</td>\n",
       "      <td>Ghosts of Mars</td>\n",
       "      <td>2001-08-24</td>\n",
       "      <td>2.340194e+06</td>\n",
       "      <td>98.0</td>\n",
       "      <td>{\"/m/02h40lc\": \"English Language\"}</td>\n",
       "      <td>{\"/m/09c7w0\": \"United States of America\"}</td>\n",
       "      <td>{\"/m/01jfsb\": \"Thriller\", \"/m/06n90\": \"Science...</td>\n",
       "      <td>28000000</td>\n",
       "      <td>4.9</td>\n",
       "      <td>55271.0</td>\n",
       "      <td>2001.0</td>\n",
       "      <td>17</td>\n",
       "      <td>3</td>\n",
       "      <td>0.176471</td>\n",
       "      <td>6</td>\n",
       "      <td>0.352941</td>\n",
       "    </tr>\n",
       "  </tbody>\n",
       "</table>\n",
       "</div>"
      ],
      "text/plain": [
       "   wikipedia_movie_ID freebase_movie_ID      movie_name movie_release_date  \\\n",
       "0              975900         /m/03vyhn  Ghosts of Mars         2001-08-24   \n",
       "\n",
       "   movie_box_office_revenue  movie_runtime  \\\n",
       "0              2.340194e+06           98.0   \n",
       "\n",
       "                      movie_languages  \\\n",
       "0  {\"/m/02h40lc\": \"English Language\"}   \n",
       "\n",
       "                             movie_countries  \\\n",
       "0  {\"/m/09c7w0\": \"United States of America\"}   \n",
       "\n",
       "                                        movie_genres    budget  averageRating  \\\n",
       "0  {\"/m/01jfsb\": \"Thriller\", \"/m/06n90\": \"Science...  28000000            4.9   \n",
       "\n",
       "   numVotes  year_released  num_actors  num_ethnicities  ethnicity_score  \\\n",
       "0   55271.0         2001.0          17                3         0.176471   \n",
       "\n",
       "   num_female  frac_female  \n",
       "0           6     0.352941  "
      ]
     },
     "execution_count": 34,
     "metadata": {},
     "output_type": "execute_result"
    }
   ],
   "source": [
    "# add column for fraction of females\n",
    "movies[\"frac_female\"] = movies[\"num_female\"] / movies[\"num_actors\"]\n",
    "\n",
    "# print result\n",
    "movies.head(1)"
   ]
  },
  {
   "cell_type": "code",
   "execution_count": 35,
   "id": "5cf437b0-3324-41f3-a9e3-a270dec962de",
   "metadata": {},
   "outputs": [
    {
     "data": {
      "image/png": "[encoded data removed]",
      "text/plain": [
       "<Figure size 640x480 with 1 Axes>"
      ]
     },
     "metadata": {},
     "output_type": "display_data"
    }
   ],
   "source": [
    "# plot relationship between 'frac_female' and 'movie_box_office_revenue'\n",
    "movies.plot.scatter(x=\"frac_female\", y=\"movie_box_office_revenue\", s=1)\n",
    "plt.yscale(\"log\")\n",
    "plt.xlabel(\"Fraction of females\")\n",
    "plt.ylabel(\"Movie box office revenue\")\n",
    "plt.title(\"Relationship between fraction of females and movie box office revenue\")\n",
    "plt.show()"
   ]
  },
  {
   "cell_type": "code",
   "execution_count": 36,
   "id": "5b228912-065c-4876-bbc8-53c929f7388d",
   "metadata": {},
   "outputs": [
    {
     "data": {
      "text/plain": [
       "SpearmanrResult(correlation=0.02244934512378799, pvalue=1.0692003479805268e-06)"
      ]
     },
     "execution_count": 36,
     "metadata": {},
     "output_type": "execute_result"
    }
   ],
   "source": [
    "# compute spearman correlation between 'frac_female' and 'movie_box_office_revenue'\n",
    "stats.spearmanr(movies[\"frac_female\"], movies[\"movie_box_office_revenue\"])"
   ]
  },
  {
   "cell_type": "code",
   "execution_count": 37,
   "id": "66028946-f130-4c8a-9c5e-f3984a32f627",
   "metadata": {},
   "outputs": [],
   "source": [
    "# check difference between the revenue of movies with majority of men and majority of women\n",
    "majority_male_revenue = movies[movies[\"frac_female\"] <= 0.5][\"movie_box_office_revenue\"]\n",
    "majority_female_revenue = movies[movies[\"frac_female\"] > 0.5][\n",
    "    \"movie_box_office_revenue\"\n",
    "]"
   ]
  },
  {
   "cell_type": "code",
   "execution_count": 38,
   "id": "bc91c105-30c0-4e0d-abd8-b2429c4d9753",
   "metadata": {},
   "outputs": [
    {
     "data": {
      "text/plain": [
       "Ttest_indResult(statistic=10.687972342734662, pvalue=1.2430226468330296e-26)"
      ]
     },
     "execution_count": 38,
     "metadata": {},
     "output_type": "execute_result"
    }
   ],
   "source": [
    "# independent t-test\n",
    "stats.ttest_ind(majority_male_revenue, majority_female_revenue)"
   ]
  },
  {
   "cell_type": "markdown",
   "id": "bdddcded-35b2-4244-ae3c-1c04a22c7616",
   "metadata": {},
   "source": [
    "#### Comment\n",
    "- After trying to isolate the impact on the revenue, we still observe a significant correlation. The correlation is increased when we look at `frac_females` instead of `num_females,` but still weak."
   ]
  },
  {
   "cell_type": "markdown",
   "id": "d676ac38-c65f-4a6d-9474-d44e8dae9034",
   "metadata": {},
   "source": [
    "---\n",
    "### Difference in revenue between the movies with majority of male and female actors"
   ]
  },
  {
   "cell_type": "code",
   "execution_count": 39,
   "id": "31dd36a2-bb27-4422-a6bd-f129f28329be",
   "metadata": {},
   "outputs": [
    {
     "name": "stdout",
     "output_type": "stream",
     "text": [
      "\n",
      "The statistical power of:\n",
      "    - The independent sample t-test comparing the revenue of movies with majority of male and majority of female \n",
      "      actors: 1.0\n",
      "\n"
     ]
    }
   ],
   "source": [
    "# calculate the statistical power\n",
    "\n",
    "# creating list to store the p-values\n",
    "p_val = np.zeros(10000)\n",
    "\n",
    "# running the simulation 10000 times\n",
    "for i in range(10000):\n",
    "\n",
    "    # sample over_50 and under_50\n",
    "    sample_majority_male = np.random.choice(\n",
    "        majority_male_revenue, size=majority_male_revenue.shape[0]\n",
    "    )\n",
    "    sample_majority_female = np.random.choice(\n",
    "        majority_female_revenue, size=majority_female_revenue.shape[0]\n",
    "    )\n",
    "\n",
    "    # independent t-test\n",
    "    p_val[i] = stats.ttest_ind(sample_majority_male, sample_majority_female)[1]\n",
    "\n",
    "# calculating the percentage of rejects\n",
    "power = len(p_val[p_val < 0.05]) / len(p_val)\n",
    "\n",
    "# printing the results\n",
    "print(\n",
    "    f\"\"\"\n",
    "The statistical power of:\n",
    "    - The independent sample t-test comparing the revenue of movies with majority of male and majority of female \n",
    "      actors: {power}\n",
    "\"\"\"\n",
    ")"
   ]
  },
  {
   "cell_type": "code",
   "execution_count": 40,
   "id": "92cdd629-5a15-46d2-bc8f-9e85c5182aa2",
   "metadata": {},
   "outputs": [
    {
     "name": "stdout",
     "output_type": "stream",
     "text": [
      "\n",
      "The mean difference between in revenue between diverse and less diverse movies:\n",
      "    - Mean:                       5351078.748983758\n",
      "    - CI:                         [4649465.577919965, 6019592.185239287]\n",
      "\n"
     ]
    }
   ],
   "source": [
    "# calculating the mean difference\n",
    "mean_diff_gender = majority_male_revenue.mean() - majority_female_revenue.mean()\n",
    "\n",
    "# performing bootstrap to get the 95% CI\n",
    "gender_CI = bootstrap_CI(majority_male_revenue, majority_female_revenue)\n",
    "\n",
    "# printing the results\n",
    "print(\n",
    "    f\"\"\"\n",
    "The mean difference between in revenue between diverse and less diverse movies:\n",
    "    - Mean:                       {mean_diff_gender}\n",
    "    - CI:                         {gender_CI}\n",
    "\"\"\"\n",
    ")"
   ]
  },
  {
   "cell_type": "code",
   "execution_count": 41,
   "id": "c2f23a0a-0d0b-4582-b7da-ea498373d875",
   "metadata": {},
   "outputs": [
    {
     "data": {
      "text/plain": [
       "0.45519043730145753"
      ]
     },
     "execution_count": 41,
     "metadata": {},
     "output_type": "execute_result"
    }
   ],
   "source": [
    "# calculating the average revenue for under_50\n",
    "mean_majority_female = majority_female_revenue.mean()\n",
    "\n",
    "# calculating the percentage difference in revenue\n",
    "diff_percent = mean_diff_gender / mean_majority_female\n",
    "\n",
    "# printing the results\n",
    "diff_percent"
   ]
  },
  {
   "cell_type": "markdown",
   "id": "15f8fbfd-1149-4596-a5b1-742304088a77",
   "metadata": {},
   "source": [
    "#### Comment\n",
    "- The independent t-test gives us a small p-value (<< 0.05), which indicates a statistically significant difference between the samples with the majority of male actors (fraction of females ≤ 0.5) and the samples with the majority of female actors (fraction of females > 50). The statistical power of 0.9596 makes us confident in this result.\n",
    "- Further, the mean difference tells us that the movies with the majority of male actors generally have a higher movie box office revenue. The confidence interval makes us confident in this result. \n",
    "- By dividing the average difference by the average revenue for movies with the majority of female actors, we get that movies with the majority of male actors, on average, have a ~42.5% higher movie box office revenue. This shows that the gender-composition is impactful on the movie box office revenue."
   ]
  },
  {
   "cell_type": "markdown",
   "id": "f0b28e35-40f9-4170-a4f1-569f8d150adb",
   "metadata": {
    "tags": []
   },
   "source": [
    "# Cast"
   ]
  },
  {
   "cell_type": "markdown",
   "id": "1da14708-06f3-4f79-b5f0-3df6e89ff958",
   "metadata": {
    "jp-MarkdownHeadingCollapsed": true,
    "tags": []
   },
   "source": [
    "- 'Cast' section intends to investigate the casts of the CMU Movie Summary Corpus dataset.\n",
    "- The notebook will do some initial analyses to see how individual movie actors affects the box office revenue. The aim of the analysis is to get an idea of relevant methods we could use, and understand how we can handle the data and data size. "
   ]
  },
  {
   "cell_type": "markdown",
   "id": "06140871-7aa4-4f2e-b1e7-d52bb95c8214",
   "metadata": {},
   "source": [
    "---\n",
    "**Summary**"
   ]
  },
  {
   "cell_type": "markdown",
   "id": "e2f5aba1-df51-44e1-8aed-3117555f01b0",
   "metadata": {},
   "source": [
    "- If we include all actors in a linear regression model, we exceed the maximum recursion depth running the model. In addition to this, we get multicollinearity problems if we do not restrict the amount of actors in our regression model. \n",
    "- By using all actors that have played in more than 10 movies as categorical predictors, our model explains 59% of the variance in box office revenue, with an adjusted R-squared equal to 50%. Using actors that have played in more than 15 movies as predictors explains 32% of the variance in box office revenue, with an adjusted R-squared equal to 27%.\n",
    "- Among the actors (as predictors) with p-value < 0.05, Alan Rickman (Professor Severus Snape) received the highest coefficient in our linear regression model. PS: This is only initial analysis and we will explain why the result cannot be trusted yet. Spoiler alert: Confounders."
   ]
  },
  {
   "cell_type": "markdown",
   "id": "cd47db07-4825-441b-9beb-2ec3544844fa",
   "metadata": {
    "tags": []
   },
   "source": [
    "---\n",
    "## Preprocessing"
   ]
  },
  {
   "cell_type": "markdown",
   "id": "a41e1a76-356d-4eef-890c-3adceafb18cf",
   "metadata": {
    "tags": []
   },
   "source": [
    "---\n",
    "### Loading data"
   ]
  },
  {
   "cell_type": "code",
   "execution_count": 42,
   "id": "f667f5ca-b7a9-4c9e-81d6-a6c8ac1ac22d",
   "metadata": {},
   "outputs": [],
   "source": [
    "# load data\n",
    "movies = pd.read_csv(MOVIE_PATH, sep=\"\\t\", names=colnames_movies, header=None)\n",
    "characters = pd.read_csv(\n",
    "    CHARACTER_PATH, sep=\"\\t\", names=colnames_character, header=None\n",
    ")"
   ]
  },
  {
   "cell_type": "markdown",
   "id": "7610dfe8-df6b-43cb-8df1-9753a8f0f5a0",
   "metadata": {
    "tags": []
   },
   "source": [
    "---\n",
    "### Null Values"
   ]
  },
  {
   "cell_type": "code",
   "execution_count": 43,
   "id": "e1bcc12f-56f7-4639-83f7-f5b2e1f6f70d",
   "metadata": {},
   "outputs": [
    {
     "data": {
      "text/plain": [
       "wikipedia_movie_ID              0\n",
       "freebase_movie_ID               0\n",
       "movie_name                      0\n",
       "movie_release_date           6902\n",
       "movie_box_office_revenue    73340\n",
       "movie_runtime               20450\n",
       "movie_languages                 0\n",
       "movie_countries                 0\n",
       "movie_genres                    0\n",
       "dtype: int64"
      ]
     },
     "execution_count": 43,
     "metadata": {},
     "output_type": "execute_result"
    }
   ],
   "source": [
    "movies.isna().sum()"
   ]
  },
  {
   "cell_type": "code",
   "execution_count": 44,
   "id": "82566b93-af4e-4dcd-8209-baa00af84867",
   "metadata": {},
   "outputs": [
    {
     "data": {
      "text/plain": [
       "wikipedia_movie_ID                      0\n",
       "freebase_movie_ID                       0\n",
       "last_update                          9995\n",
       "character_name                     257875\n",
       "actor_DOB                          106145\n",
       "actor_gender                        45609\n",
       "actor_height                       295845\n",
       "actor_ethnicity                    344611\n",
       "actor_name                           1228\n",
       "actor_age_at_movie_release         158113\n",
       "freebase_character/actor_map_ID         0\n",
       "freebase_character_ID              257865\n",
       "freebase_actor_ID                     815\n",
       "dtype: int64"
      ]
     },
     "execution_count": 44,
     "metadata": {},
     "output_type": "execute_result"
    }
   ],
   "source": [
    "characters.isna().sum()"
   ]
  },
  {
   "cell_type": "markdown",
   "id": "dfaad523-8abb-44c7-99ff-c32671e7b1c0",
   "metadata": {},
   "source": [
    "#### Comment\n",
    "Both box office revenue and freebase actor ID contain some Null values we want to remove before exploring the cast's effect on revenue made. "
   ]
  },
  {
   "cell_type": "code",
   "execution_count": 45,
   "id": "67333a08-7f6a-470d-a0a7-57e6449e1c6e",
   "metadata": {},
   "outputs": [],
   "source": [
    "# Removing characters/actors without freebase_actor_id\n",
    "characters = characters[characters['freebase_actor_ID'].notna()]\n",
    "\n",
    "# Removing movies without box_office_revenue\n",
    "movies = movies[movies['movie_box_office_revenue'].notna()]"
   ]
  },
  {
   "cell_type": "markdown",
   "id": "52c7c3b7-f050-4bb3-8466-0a74bd107b64",
   "metadata": {
    "tags": []
   },
   "source": [
    "---\n",
    "### Filtering and merging"
   ]
  },
  {
   "cell_type": "code",
   "execution_count": 46,
   "id": "0eaa4db4-be04-4f9d-9657-f43b2a820e3b",
   "metadata": {},
   "outputs": [],
   "source": [
    "# Removing movies from before 2000\n",
    "movies = movies[movies['movie_release_date'] >= '2000']"
   ]
  },
  {
   "cell_type": "code",
   "execution_count": 47,
   "id": "d99929d5-9c80-4a14-bc02-9841507fec6f",
   "metadata": {},
   "outputs": [],
   "source": [
    "# Merging movies with characters on wiki_id. \n",
    "movies_characters = pd.merge(left=movies, right=characters, \n",
    "                             on=['wikipedia_movie_ID', 'freebase_movie_ID'])"
   ]
  },
  {
   "cell_type": "code",
   "execution_count": 48,
   "id": "39513f03-dfd9-4368-9e4a-f1de381af368",
   "metadata": {},
   "outputs": [
    {
     "name": "stdout",
     "output_type": "stream",
     "text": [
      "\n",
      "    Total number of movies (with duplicates) in our merged dataset: 49799\n",
      "    Unique number of combinations of 'wikipedia_movie_ID' and 'freebase_actor_ID': 49281\n",
      "    \n"
     ]
    }
   ],
   "source": [
    "movie_count = movies_characters.shape[0]\n",
    "unique_combos = movies_characters.value_counts(subset=['wikipedia_movie_ID', 'freebase_actor_ID'], dropna=False).shape[0]\n",
    "\n",
    "print(\n",
    "    \"\"\"\n",
    "    Total number of movies (with duplicates) in our merged dataset: {}\n",
    "    Unique number of combinations of 'wikipedia_movie_ID' and 'freebase_actor_ID': {}\n",
    "    \"\"\".format(movie_count, unique_combos))"
   ]
  },
  {
   "cell_type": "markdown",
   "id": "5ce2502c-770b-495f-b1a6-5be0e1f66061",
   "metadata": {},
   "source": [
    "#### Comment\n",
    "Some actors are listed mulitple times because they play different characters in the same movie. We only want unique combinations of 'wikipedia_movie_ID' and 'freebase_actor_ID'. \n"
   ]
  },
  {
   "cell_type": "code",
   "execution_count": 49,
   "id": "9a894371-302c-489c-8c1e-aa7e6a4fa8dd",
   "metadata": {},
   "outputs": [
    {
     "data": {
      "text/plain": [
       "(49281, 20)"
      ]
     },
     "execution_count": 49,
     "metadata": {},
     "output_type": "execute_result"
    }
   ],
   "source": [
    "# We filter out duplicated combinations of 'wikipedia_movie_ID' and 'freebase_actor_ID'. \n",
    "# For now, we do not care which row/character we keep\n",
    "movies_characters = movies_characters.drop_duplicates(subset=['wikipedia_movie_ID', 'freebase_actor_ID'], keep='first')\n",
    "movies_characters.shape"
   ]
  },
  {
   "cell_type": "markdown",
   "id": "8269c9e1-a59d-41e3-9216-50af08023026",
   "metadata": {
    "tags": []
   },
   "source": [
    "---\n",
    "## Understanding Cast Data"
   ]
  },
  {
   "cell_type": "code",
   "execution_count": 50,
   "id": "e53d1e55-d796-4ef6-92da-3db7e826d49d",
   "metadata": {},
   "outputs": [
    {
     "name": "stdout",
     "output_type": "stream",
     "text": [
      "Number of unique movies: 3585\n"
     ]
    }
   ],
   "source": [
    "# Number of unique movies\n",
    "num_movies = movies_characters[\"wikipedia_movie_ID\"].nunique()\n",
    "print('Number of unique movies: {}'.format(num_movies))"
   ]
  },
  {
   "cell_type": "code",
   "execution_count": 51,
   "id": "7cfdc8a5-d15a-4882-b753-c220d7f5ef6a",
   "metadata": {},
   "outputs": [
    {
     "name": "stdout",
     "output_type": "stream",
     "text": [
      "Number of unique actors: 22934\n"
     ]
    }
   ],
   "source": [
    "# Number of unique actors in dataset\n",
    "num_actors_unique = movies_characters[\"freebase_actor_ID\"].nunique()\n",
    "print('Number of unique actors: {}'.format(num_actors_unique))"
   ]
  },
  {
   "cell_type": "code",
   "execution_count": 52,
   "id": "1c70cd33-29c5-47f0-9f8e-a311bbafa1c1",
   "metadata": {},
   "outputs": [
    {
     "name": "stdout",
     "output_type": "stream",
     "text": [
      "Number of rows containing freebase actor ID: 49281\n"
     ]
    }
   ],
   "source": [
    "# Checking number of actors in dataset, counting actors multiple times if they play\n",
    "# in multiple movies\n",
    "count_actors = movies_characters[\"freebase_actor_ID\"].count()\n",
    "print(\"Number of rows containing freebase actor ID: {}\".format(count_actors))"
   ]
  },
  {
   "cell_type": "code",
   "execution_count": 53,
   "id": "e05cbc0d-9308-4c2f-aa41-c1265429433d",
   "metadata": {},
   "outputs": [
    {
     "name": "stdout",
     "output_type": "stream",
     "text": [
      "Number of actors on average per movie: 13.746443514644351\n"
     ]
    }
   ],
   "source": [
    "# Number of actors on average per movie\n",
    "ratio = count_actors / num_movies\n",
    "print('Number of actors on average per movie: {}'.format(ratio))"
   ]
  },
  {
   "cell_type": "markdown",
   "id": "8898b5c6-8215-416e-b314-7cf240ae01be",
   "metadata": {
    "tags": []
   },
   "source": [
    "---\n",
    "## Exploring method: Linear Regression"
   ]
  },
  {
   "cell_type": "markdown",
   "id": "85592a0a-20be-4010-951e-748bdff6dc59",
   "metadata": {
    "tags": []
   },
   "source": [
    "---\n",
    "### One Hot Encoding of Actors"
   ]
  },
  {
   "cell_type": "code",
   "execution_count": 54,
   "id": "597d4595-8fd7-456c-83fd-b49ee7a63b85",
   "metadata": {},
   "outputs": [
    {
     "data": {
      "text/plain": [
       "(49281, 22953)"
      ]
     },
     "execution_count": 54,
     "metadata": {},
     "output_type": "execute_result"
    }
   ],
   "source": [
    "# One Hot Encoding of Actors\n",
    "movies_characters_dummy = pd.get_dummies(data=movies_characters, columns=['freebase_actor_ID'])\n",
    "movies_characters_dummy.shape"
   ]
  },
  {
   "cell_type": "code",
   "execution_count": 55,
   "id": "bd024ed2-4667-4010-bfcd-ef5b9e676996",
   "metadata": {},
   "outputs": [],
   "source": [
    "# Only include wikipedia movie ID and one hot encoding of actors in dataframe\n",
    "dummy_actor_columns = movies_characters_dummy.filter(regex='wikipedia_movie_ID|freebase_actor_ID_')"
   ]
  },
  {
   "cell_type": "code",
   "execution_count": 56,
   "id": "a759902f-b2c4-428e-b18b-b4d8b10c5739",
   "metadata": {},
   "outputs": [
    {
     "name": "stdout",
     "output_type": "stream",
     "text": [
      "Number of actors that have played in more than 10 movies: 647\n",
      "Number of actors that have played in more than 15 movies: 247\n"
     ]
    }
   ],
   "source": [
    "# We want to try different thresholds for how many actors we include.\n",
    "# Exploring actors that have played in more than 10 and 15 movies. \n",
    "dummy_actor_columns15 = dummy_actor_columns.loc[:, dummy_actor_columns.sum(axis=0) > 15]\n",
    "dummy_actor_columns10 = dummy_actor_columns.loc[:, dummy_actor_columns.sum(axis=0) > 10]\n",
    "print('Number of actors that have played in more than 10 movies: {}'.format(dummy_actor_columns10.shape[1]-1))\n",
    "print('Number of actors that have played in more than 15 movies: {}'.format(dummy_actor_columns15.shape[1]-1))"
   ]
  },
  {
   "cell_type": "markdown",
   "id": "2037c6df-8a4f-478f-bd64-9ed994672939",
   "metadata": {},
   "source": [
    "#### Comment\n",
    "By only including actors that have played in more than 15 movies, we reduce the dataframe size from . Reducing the threshold further to 15, we reduce the dataframe size from 22953 columns to 247 columns. This makes the linear regression possible without exceeding the maximum recursion depth. There might be actors excluded who actually have a big impact on revenue made, but for now, we want to explore the actors that have played in more than 16 movies. "
   ]
  },
  {
   "cell_type": "code",
   "execution_count": 57,
   "id": "220c30f3-add5-4283-ad50-80df634f5076",
   "metadata": {},
   "outputs": [
    {
     "data": {
      "text/html": [
       "<div>\n",
       "<style scoped>\n",
       "    .dataframe tbody tr th:only-of-type {\n",
       "        vertical-align: middle;\n",
       "    }\n",
       "\n",
       "    .dataframe tbody tr th {\n",
       "        vertical-align: top;\n",
       "    }\n",
       "\n",
       "    .dataframe thead th {\n",
       "        text-align: right;\n",
       "    }\n",
       "</style>\n",
       "<table border=\"1\" class=\"dataframe\">\n",
       "  <thead>\n",
       "    <tr style=\"text-align: right;\">\n",
       "      <th></th>\n",
       "      <th>wikipedia_movie_ID</th>\n",
       "      <th>freebase_movie_ID</th>\n",
       "      <th>movie_name</th>\n",
       "      <th>movie_release_date</th>\n",
       "      <th>movie_box_office_revenue</th>\n",
       "      <th>movie_runtime</th>\n",
       "      <th>movie_languages</th>\n",
       "      <th>movie_countries</th>\n",
       "      <th>movie_genres</th>\n",
       "      <th>freebase_actor_ID_/m/011zd3</th>\n",
       "      <th>...</th>\n",
       "      <th>freebase_actor_ID_/m/0p_pd</th>\n",
       "      <th>freebase_actor_ID_/m/0pmhf</th>\n",
       "      <th>freebase_actor_ID_/m/0prfz</th>\n",
       "      <th>freebase_actor_ID_/m/0pz91</th>\n",
       "      <th>freebase_actor_ID_/m/0q9kd</th>\n",
       "      <th>freebase_actor_ID_/m/0sw6g</th>\n",
       "      <th>freebase_actor_ID_/m/0sz28</th>\n",
       "      <th>freebase_actor_ID_/m/0ywqc</th>\n",
       "      <th>freebase_actor_ID_/m/0z4s</th>\n",
       "      <th>freebase_actor_ID_/m/0zcbl</th>\n",
       "    </tr>\n",
       "  </thead>\n",
       "  <tbody>\n",
       "    <tr>\n",
       "      <th>0</th>\n",
       "      <td>975900</td>\n",
       "      <td>/m/03vyhn</td>\n",
       "      <td>Ghosts of Mars</td>\n",
       "      <td>2001-08-24</td>\n",
       "      <td>14010832.0</td>\n",
       "      <td>98.0</td>\n",
       "      <td>{\"/m/02h40lc\": \"English Language\"}</td>\n",
       "      <td>{\"/m/09c7w0\": \"United States of America\"}</td>\n",
       "      <td>{\"/m/01jfsb\": \"Thriller\", \"/m/06n90\": \"Science...</td>\n",
       "      <td>0</td>\n",
       "      <td>...</td>\n",
       "      <td>0</td>\n",
       "      <td>0</td>\n",
       "      <td>0</td>\n",
       "      <td>0</td>\n",
       "      <td>0</td>\n",
       "      <td>0</td>\n",
       "      <td>0</td>\n",
       "      <td>0</td>\n",
       "      <td>0</td>\n",
       "      <td>0</td>\n",
       "    </tr>\n",
       "  </tbody>\n",
       "</table>\n",
       "<p>1 rows × 656 columns</p>\n",
       "</div>"
      ],
      "text/plain": [
       "   wikipedia_movie_ID freebase_movie_ID      movie_name movie_release_date  \\\n",
       "0              975900         /m/03vyhn  Ghosts of Mars         2001-08-24   \n",
       "\n",
       "   movie_box_office_revenue  movie_runtime  \\\n",
       "0                14010832.0           98.0   \n",
       "\n",
       "                      movie_languages  \\\n",
       "0  {\"/m/02h40lc\": \"English Language\"}   \n",
       "\n",
       "                             movie_countries  \\\n",
       "0  {\"/m/09c7w0\": \"United States of America\"}   \n",
       "\n",
       "                                        movie_genres  \\\n",
       "0  {\"/m/01jfsb\": \"Thriller\", \"/m/06n90\": \"Science...   \n",
       "\n",
       "   freebase_actor_ID_/m/011zd3  ...  freebase_actor_ID_/m/0p_pd  \\\n",
       "0                            0  ...                           0   \n",
       "\n",
       "   freebase_actor_ID_/m/0pmhf  freebase_actor_ID_/m/0prfz  \\\n",
       "0                           0                           0   \n",
       "\n",
       "   freebase_actor_ID_/m/0pz91  freebase_actor_ID_/m/0q9kd  \\\n",
       "0                           0                           0   \n",
       "\n",
       "   freebase_actor_ID_/m/0sw6g  freebase_actor_ID_/m/0sz28  \\\n",
       "0                           0                           0   \n",
       "\n",
       "   freebase_actor_ID_/m/0ywqc  freebase_actor_ID_/m/0z4s  \\\n",
       "0                           0                          0   \n",
       "\n",
       "   freebase_actor_ID_/m/0zcbl  \n",
       "0                           0  \n",
       "\n",
       "[1 rows x 656 columns]"
      ]
     },
     "execution_count": 57,
     "metadata": {},
     "output_type": "execute_result"
    }
   ],
   "source": [
    "# Grouping movies such that every movie correspond to only one row in the dataframe\n",
    "dummy_actor_columns10 = dummy_actor_columns10.groupby('wikipedia_movie_ID').agg('sum')\n",
    "dummy_actor_columns15 = dummy_actor_columns15.groupby('wikipedia_movie_ID').agg('sum')\n",
    "\n",
    "# Merging dummy actor columns with the movies\n",
    "movies_binary_actors10 = pd.merge(movies, dummy_actor_columns10, left_on='wikipedia_movie_ID', right_index=True)\n",
    "movies_binary_actors15 = pd.merge(movies, dummy_actor_columns15, left_on='wikipedia_movie_ID', right_index=True)\n",
    "movies_binary_actors10.head(1)"
   ]
  },
  {
   "cell_type": "markdown",
   "id": "0eafeef6-172b-4ef5-a2ab-eb07c06daa3e",
   "metadata": {
    "tags": []
   },
   "source": [
    "---\n",
    "### Linear Regression"
   ]
  },
  {
   "cell_type": "code",
   "execution_count": 58,
   "id": "c5a04a0d-dde4-4109-ab47-36822bab719a",
   "metadata": {},
   "outputs": [],
   "source": [
    "# Removing slashes in column names to avoid error in regression. \n",
    "movies_binary_actors10.columns = movies_binary_actors10.columns.str.replace('/', '')\n",
    "dummy_actor_columns10.columns = dummy_actor_columns10.columns.str.replace('/', '')\n",
    "\n",
    "movies_binary_actors15.columns = movies_binary_actors15.columns.str.replace('/', '')\n",
    "dummy_actor_columns15.columns = dummy_actor_columns15.columns.str.replace('/', '')"
   ]
  },
  {
   "cell_type": "code",
   "execution_count": 59,
   "id": "0fcc447d-25aa-4f0d-9478-4a0a815cb15d",
   "metadata": {},
   "outputs": [],
   "source": [
    "# Constructing formula used for regression\n",
    "# For now we only include actors as categorical predictors\n",
    "# We have two scenarios:\n",
    "# 1) All actors that have played in more than 10 movies\n",
    "# 2) All actors that have played in more than 15 movies\n",
    "formula10 = 'movie_box_office_revenue ~ '\n",
    "for col in dummy_actor_columns10.columns:\n",
    "    formula10 += 'C(' + col + ')+'\n",
    "    \n",
    "formula15 = 'movie_box_office_revenue ~ '\n",
    "for col in dummy_actor_columns15.columns:\n",
    "    formula15 += 'C(' + col + ')+'\n",
    "    \n",
    "formula10 = formula10[:-1] \n",
    "formula15 = formula15[:-1]"
   ]
  },
  {
   "cell_type": "code",
   "execution_count": 60,
   "id": "1d83c6c9-5b6d-4282-ad81-0454645915eb",
   "metadata": {},
   "outputs": [],
   "source": [
    "# Linear regression\n",
    "mod10 = smf.ols(formula=formula10, data=movies_binary_actors10)\n",
    "res10 = mod10.fit()\n",
    "res_summary10 = res10.summary()\n",
    "\n",
    "mod15 = smf.ols(formula=formula15, data=movies_binary_actors15)\n",
    "res15 = mod15.fit()\n",
    "res_summary15 = res15.summary()"
   ]
  },
  {
   "cell_type": "code",
   "execution_count": 61,
   "id": "cac1a69d-79a9-4110-b225-654c4aeeea5b",
   "metadata": {},
   "outputs": [
    {
     "name": "stdout",
     "output_type": "stream",
     "text": [
      "Our model with actors that played in more than 10 movies gets R-squared = 0.59\n",
      "The corresponding adjusted R-squared is: 0.50\n",
      "\n",
      "Our model with actors that played in more than 15 movies gets R-squared = 0.33\n",
      "The corresponding adjusted R-squared is: 0.28\n"
     ]
    }
   ],
   "source": [
    "print(\"Our model with actors that played in more than 10 movies gets R-squared = {:.2f}\".format(res10.rsquared))\n",
    "print(\"The corresponding adjusted R-squared is: {:.2f}\\n\".format(res10.rsquared_adj))\n",
    "\n",
    "print(\"Our model with actors that played in more than 15 movies gets R-squared = {:.2f}\".format(res15.rsquared))\n",
    "print(\"The corresponding adjusted R-squared is: {:.2f}\".format(res15.rsquared_adj))"
   ]
  },
  {
   "cell_type": "markdown",
   "id": "4d47ff2d-5477-4da2-82cd-f63a59dcccc9",
   "metadata": {},
   "source": [
    "#### Comment: \n",
    "Our model with actors that have played in more than 15 movies explains 30% of the variance in  box office revenue. However, we have many variables included (actors), which could make our model look more accurate even if there are many actors poorly contributing in some way. The adjusted R-squared score (51%) may be telling us that some variables (actors) are not contributing to our model’s R-squared properly. \n",
    "\n",
    "When we only include actors that have played in more than 15 movies, we get a lower R-squared, but there will also be less multicollinearity problems. \n",
    "\n",
    "For now we have only used actors as predictors, so there are likely to be confounders. Confounders could be budget, genre, release_date and more. However, the large R-squared tells us that we should continue exploring how actors and cast affect the box office revenue. "
   ]
  },
  {
   "cell_type": "code",
   "execution_count": 64,
   "id": "705534f0-13b0-460e-a061-75014f00c774",
   "metadata": {},
   "outputs": [
    {
     "ename": "ImportError",
     "evalue": "lxml not found, please install it",
     "output_type": "error",
     "traceback": [
      "\u001b[0;31m---------------------------------------------------------------------------\u001b[0m",
      "\u001b[0;31mImportError\u001b[0m                               Traceback (most recent call last)",
      "Cell \u001b[0;32mIn [64], line 4\u001b[0m\n\u001b[1;32m      1\u001b[0m \u001b[38;5;66;03m# Turning result summary into a dataframe \u001b[39;00m\n\u001b[1;32m      2\u001b[0m \u001b[38;5;66;03m# (actors that have played in more than 15 movies)\u001b[39;00m\n\u001b[1;32m      3\u001b[0m res_as_html \u001b[38;5;241m=\u001b[39m res_summary15\u001b[38;5;241m.\u001b[39mtables[\u001b[38;5;241m1\u001b[39m]\u001b[38;5;241m.\u001b[39mas_html()\n\u001b[0;32m----> 4\u001b[0m summary_df \u001b[38;5;241m=\u001b[39m \u001b[43mpd\u001b[49m\u001b[38;5;241;43m.\u001b[39;49m\u001b[43mread_html\u001b[49m\u001b[43m(\u001b[49m\u001b[43mres_as_html\u001b[49m\u001b[43m,\u001b[49m\u001b[43m \u001b[49m\u001b[43mheader\u001b[49m\u001b[38;5;241;43m=\u001b[39;49m\u001b[38;5;241;43m0\u001b[39;49m\u001b[43m,\u001b[49m\u001b[43m \u001b[49m\u001b[43mindex_col\u001b[49m\u001b[38;5;241;43m=\u001b[39;49m\u001b[38;5;241;43m0\u001b[39;49m\u001b[43m)\u001b[49m[\u001b[38;5;241m0\u001b[39m]\n",
      "File \u001b[0;32m/opt/anaconda3/envs/py39/lib/python3.9/site-packages/pandas/util/_decorators.py:331\u001b[0m, in \u001b[0;36mdeprecate_nonkeyword_arguments.<locals>.decorate.<locals>.wrapper\u001b[0;34m(*args, **kwargs)\u001b[0m\n\u001b[1;32m    325\u001b[0m \u001b[38;5;28;01mif\u001b[39;00m \u001b[38;5;28mlen\u001b[39m(args) \u001b[38;5;241m>\u001b[39m num_allow_args:\n\u001b[1;32m    326\u001b[0m     warnings\u001b[38;5;241m.\u001b[39mwarn(\n\u001b[1;32m    327\u001b[0m         msg\u001b[38;5;241m.\u001b[39mformat(arguments\u001b[38;5;241m=\u001b[39m_format_argument_list(allow_args)),\n\u001b[1;32m    328\u001b[0m         \u001b[38;5;167;01mFutureWarning\u001b[39;00m,\n\u001b[1;32m    329\u001b[0m         stacklevel\u001b[38;5;241m=\u001b[39mfind_stack_level(),\n\u001b[1;32m    330\u001b[0m     )\n\u001b[0;32m--> 331\u001b[0m \u001b[38;5;28;01mreturn\u001b[39;00m \u001b[43mfunc\u001b[49m\u001b[43m(\u001b[49m\u001b[38;5;241;43m*\u001b[39;49m\u001b[43margs\u001b[49m\u001b[43m,\u001b[49m\u001b[43m \u001b[49m\u001b[38;5;241;43m*\u001b[39;49m\u001b[38;5;241;43m*\u001b[39;49m\u001b[43mkwargs\u001b[49m\u001b[43m)\u001b[49m\n",
      "File \u001b[0;32m/opt/anaconda3/envs/py39/lib/python3.9/site-packages/pandas/io/html.py:1205\u001b[0m, in \u001b[0;36mread_html\u001b[0;34m(io, match, flavor, header, index_col, skiprows, attrs, parse_dates, thousands, encoding, decimal, converters, na_values, keep_default_na, displayed_only, extract_links)\u001b[0m\n\u001b[1;32m   1201\u001b[0m validate_header_arg(header)\n\u001b[1;32m   1203\u001b[0m io \u001b[38;5;241m=\u001b[39m stringify_path(io)\n\u001b[0;32m-> 1205\u001b[0m \u001b[38;5;28;01mreturn\u001b[39;00m \u001b[43m_parse\u001b[49m\u001b[43m(\u001b[49m\n\u001b[1;32m   1206\u001b[0m \u001b[43m    \u001b[49m\u001b[43mflavor\u001b[49m\u001b[38;5;241;43m=\u001b[39;49m\u001b[43mflavor\u001b[49m\u001b[43m,\u001b[49m\n\u001b[1;32m   1207\u001b[0m \u001b[43m    \u001b[49m\u001b[43mio\u001b[49m\u001b[38;5;241;43m=\u001b[39;49m\u001b[43mio\u001b[49m\u001b[43m,\u001b[49m\n\u001b[1;32m   1208\u001b[0m \u001b[43m    \u001b[49m\u001b[43mmatch\u001b[49m\u001b[38;5;241;43m=\u001b[39;49m\u001b[43mmatch\u001b[49m\u001b[43m,\u001b[49m\n\u001b[1;32m   1209\u001b[0m \u001b[43m    \u001b[49m\u001b[43mheader\u001b[49m\u001b[38;5;241;43m=\u001b[39;49m\u001b[43mheader\u001b[49m\u001b[43m,\u001b[49m\n\u001b[1;32m   1210\u001b[0m \u001b[43m    \u001b[49m\u001b[43mindex_col\u001b[49m\u001b[38;5;241;43m=\u001b[39;49m\u001b[43mindex_col\u001b[49m\u001b[43m,\u001b[49m\n\u001b[1;32m   1211\u001b[0m \u001b[43m    \u001b[49m\u001b[43mskiprows\u001b[49m\u001b[38;5;241;43m=\u001b[39;49m\u001b[43mskiprows\u001b[49m\u001b[43m,\u001b[49m\n\u001b[1;32m   1212\u001b[0m \u001b[43m    \u001b[49m\u001b[43mparse_dates\u001b[49m\u001b[38;5;241;43m=\u001b[39;49m\u001b[43mparse_dates\u001b[49m\u001b[43m,\u001b[49m\n\u001b[1;32m   1213\u001b[0m \u001b[43m    \u001b[49m\u001b[43mthousands\u001b[49m\u001b[38;5;241;43m=\u001b[39;49m\u001b[43mthousands\u001b[49m\u001b[43m,\u001b[49m\n\u001b[1;32m   1214\u001b[0m \u001b[43m    \u001b[49m\u001b[43mattrs\u001b[49m\u001b[38;5;241;43m=\u001b[39;49m\u001b[43mattrs\u001b[49m\u001b[43m,\u001b[49m\n\u001b[1;32m   1215\u001b[0m \u001b[43m    \u001b[49m\u001b[43mencoding\u001b[49m\u001b[38;5;241;43m=\u001b[39;49m\u001b[43mencoding\u001b[49m\u001b[43m,\u001b[49m\n\u001b[1;32m   1216\u001b[0m \u001b[43m    \u001b[49m\u001b[43mdecimal\u001b[49m\u001b[38;5;241;43m=\u001b[39;49m\u001b[43mdecimal\u001b[49m\u001b[43m,\u001b[49m\n\u001b[1;32m   1217\u001b[0m \u001b[43m    \u001b[49m\u001b[43mconverters\u001b[49m\u001b[38;5;241;43m=\u001b[39;49m\u001b[43mconverters\u001b[49m\u001b[43m,\u001b[49m\n\u001b[1;32m   1218\u001b[0m \u001b[43m    \u001b[49m\u001b[43mna_values\u001b[49m\u001b[38;5;241;43m=\u001b[39;49m\u001b[43mna_values\u001b[49m\u001b[43m,\u001b[49m\n\u001b[1;32m   1219\u001b[0m \u001b[43m    \u001b[49m\u001b[43mkeep_default_na\u001b[49m\u001b[38;5;241;43m=\u001b[39;49m\u001b[43mkeep_default_na\u001b[49m\u001b[43m,\u001b[49m\n\u001b[1;32m   1220\u001b[0m \u001b[43m    \u001b[49m\u001b[43mdisplayed_only\u001b[49m\u001b[38;5;241;43m=\u001b[39;49m\u001b[43mdisplayed_only\u001b[49m\u001b[43m,\u001b[49m\n\u001b[1;32m   1221\u001b[0m \u001b[43m    \u001b[49m\u001b[43mextract_links\u001b[49m\u001b[38;5;241;43m=\u001b[39;49m\u001b[43mextract_links\u001b[49m\u001b[43m,\u001b[49m\n\u001b[1;32m   1222\u001b[0m \u001b[43m\u001b[49m\u001b[43m)\u001b[49m\n",
      "File \u001b[0;32m/opt/anaconda3/envs/py39/lib/python3.9/site-packages/pandas/io/html.py:982\u001b[0m, in \u001b[0;36m_parse\u001b[0;34m(flavor, io, match, attrs, encoding, displayed_only, extract_links, **kwargs)\u001b[0m\n\u001b[1;32m    980\u001b[0m retained \u001b[38;5;241m=\u001b[39m \u001b[38;5;28;01mNone\u001b[39;00m\n\u001b[1;32m    981\u001b[0m \u001b[38;5;28;01mfor\u001b[39;00m flav \u001b[38;5;129;01min\u001b[39;00m flavor:\n\u001b[0;32m--> 982\u001b[0m     parser \u001b[38;5;241m=\u001b[39m \u001b[43m_parser_dispatch\u001b[49m\u001b[43m(\u001b[49m\u001b[43mflav\u001b[49m\u001b[43m)\u001b[49m\n\u001b[1;32m    983\u001b[0m     p \u001b[38;5;241m=\u001b[39m parser(io, compiled_match, attrs, encoding, displayed_only, extract_links)\n\u001b[1;32m    985\u001b[0m     \u001b[38;5;28;01mtry\u001b[39;00m:\n",
      "File \u001b[0;32m/opt/anaconda3/envs/py39/lib/python3.9/site-packages/pandas/io/html.py:939\u001b[0m, in \u001b[0;36m_parser_dispatch\u001b[0;34m(flavor)\u001b[0m\n\u001b[1;32m    937\u001b[0m \u001b[38;5;28;01melse\u001b[39;00m:\n\u001b[1;32m    938\u001b[0m     \u001b[38;5;28;01mif\u001b[39;00m \u001b[38;5;129;01mnot\u001b[39;00m _HAS_LXML:\n\u001b[0;32m--> 939\u001b[0m         \u001b[38;5;28;01mraise\u001b[39;00m \u001b[38;5;167;01mImportError\u001b[39;00m(\u001b[38;5;124m\"\u001b[39m\u001b[38;5;124mlxml not found, please install it\u001b[39m\u001b[38;5;124m\"\u001b[39m)\n\u001b[1;32m    940\u001b[0m \u001b[38;5;28;01mreturn\u001b[39;00m _valid_parsers[flavor]\n",
      "\u001b[0;31mImportError\u001b[0m: lxml not found, please install it"
     ]
    }
   ],
   "source": [
    "# Turning result summary into a dataframe \n",
    "# (actors that have played in more than 15 movies)\n",
    "res_as_html = res_summary15.tables[1].as_html()\n",
    "summary_df = pd.read_html(res_as_html, header=0, index_col=0)[0]"
   ]
  },
  {
   "cell_type": "code",
   "execution_count": null,
   "id": "9254ca86-d516-4051-9609-7f2e44586346",
   "metadata": {},
   "outputs": [],
   "source": [
    "# Only including actors with p-value < 0.05.\n",
    "# Statistically significant actors\n",
    "summary_df = summary_df[summary_df['P>|t|'] < 0.05]\n",
    "\n",
    "# Sorting the dataframe in descending order according to coefficient\n",
    "summary_df.sort_values(by='coef', ascending=False, inplace=True)\n",
    "\n",
    "# The top 3 actors with highest coefficient\n",
    "summary_df.head(3)"
   ]
  },
  {
   "cell_type": "code",
   "execution_count": null,
   "id": "afc99e02-5967-4908-9d7c-76d79fc3b314",
   "metadata": {},
   "outputs": [],
   "source": [
    "# Checking the number 1 actor we received from our \n",
    "# initial analysis (by only considering actors as predictor)\n",
    "\n",
    "movies_characters[movies_characters['freebase_actor_ID']=='/m/09y20'].sort_values(by='movie_box_office_revenue', ascending=False).head(3)"
   ]
  },
  {
   "cell_type": "markdown",
   "id": "1956878b-bf16-44ba-85a1-5a3cd084a31a",
   "metadata": {},
   "source": [
    "#### Comment\n",
    "We cannot be sure whether Alan Rickman aka Professor Severus Snape has the highest effect on box office revenue. However, Alan Rickman has performed  in several movies with extremely high box office revenue, so the result is an indication that our choice of method could be further explored to gain insight into what actors affect box office revenue the most. The most urgent improvement of the model is to include more predictors (both categorical and continous) to avoid confounders."
   ]
  },
  {
   "cell_type": "markdown",
   "id": "a579afa0-3956-47b9-8f61-8139f7b7f451",
   "metadata": {},
   "source": [
    "\n",
    "\n",
    "\n",
    "\n",
    "\n",
    "\n",
    "\n",
    "![snape](img/snape.jpeg)"
   ]
  },
  {
   "cell_type": "markdown",
   "id": "0f039a63-383c-4c48-a0c7-a292633157c4",
   "metadata": {
    "id": "vMs6GnI3daPp"
   },
   "source": [
    "# Runtime"
   ]
  },
  {
   "cell_type": "markdown",
   "id": "6619bf68-4ea6-488a-b828-cfbf79920a65",
   "metadata": {},
   "source": [
    "- This notebook intends to investigate the runtime of the [CMU Movie Summary Corpus](http://www.cs.cmu.edu/~ark/personas/) dataset.\n",
    "- The notebook will look at the distribution of runtime and how it correlates with a movie's revenue."
   ]
  },
  {
   "cell_type": "markdown",
   "id": "1b9d6a4d-6a7d-47e9-891b-32572656d5b5",
   "metadata": {},
   "source": [
    "---\n",
    "### Summary\n",
    "- We cannot conclude there is a linear relationship between movie runtime and revenue.\n",
    "- Blockbuster movies ($400 million+) have, on average, 10.1% longer runtime than non-blockbuster movies.\n",
    "- Movies with short runtime (<80min) have 59.8% less revenue than non-short movies."
   ]
  },
  {
   "cell_type": "markdown",
   "id": "de985ef6-20e3-44c7-a543-3d3f6bc3000d",
   "metadata": {},
   "source": [
    "---\n",
    "### Data Processing"
   ]
  },
  {
   "cell_type": "markdown",
   "id": "c36e9cf9-ee43-4aa5-bab1-2988875605c1",
   "metadata": {
    "tags": []
   },
   "source": [
    "---\n",
    "#### Loading data"
   ]
  },
  {
   "cell_type": "code",
   "execution_count": null,
   "id": "7fa50252-426e-4912-a86b-d47668df50ee",
   "metadata": {},
   "outputs": [],
   "source": [
    "# Filter for movies with runtime\n",
    "df_runtime = movies[movies[\"movie_runtime\"].notnull()]"
   ]
  },
  {
   "cell_type": "markdown",
   "id": "acfb3330-9bcf-4235-971e-db5d410d3104",
   "metadata": {},
   "source": [
    "---\n",
    "#### Outlier Removal\n",
    "We will find outliers by calculating IQR and remove data outside the lower/upper bound."
   ]
  },
  {
   "cell_type": "code",
   "execution_count": null,
   "id": "f6f4cb16-b3d3-4c56-a719-956aca4dd912",
   "metadata": {},
   "outputs": [],
   "source": [
    "# IQR\n",
    "Q1 = np.percentile(df_runtime[\"movie_runtime\"], 25)\n",
    "Q3 = np.percentile(df_runtime[\"movie_runtime\"], 75)\n",
    "IQR = Q3 - Q1\n",
    "lower, upper = Q1 - 1.5 * IQR, Q3 + 1.5 * IQR\n",
    "\n",
    "# Remove outlier\n",
    "df_runtime = df_runtime[\n",
    "    (df_runtime[\"movie_runtime\"] >= lower) & (df_runtime[\"movie_runtime\"] <= upper)\n",
    "]\n",
    "df_runtime.head(1)"
   ]
  },
  {
   "cell_type": "markdown",
   "id": "bf0c07c8-1f2d-4f1e-8564-8df0b21bdb12",
   "metadata": {},
   "source": [
    "---\n",
    "### Distribution of runtime"
   ]
  },
  {
   "cell_type": "code",
   "execution_count": null,
   "id": "1d971572-c036-482a-b163-3397e8d24396",
   "metadata": {},
   "outputs": [],
   "source": [
    "# histogram plot\n",
    "plt.hist(df_runtime[\"movie_runtime\"], histtype=\"step\", log=True, bins=20)\n",
    "plt.title(\"Distribution of movie runtime\")\n",
    "plt.xlabel(\"Length of movie runtime (minute)\")\n",
    "plt.ylabel(\"Number of movies\")\n",
    "plt.show()"
   ]
  },
  {
   "cell_type": "markdown",
   "id": "4c00bce4-f954-4462-99e3-9644d1a5a2e7",
   "metadata": {},
   "source": [
    "#### Comment\n",
    "\n",
    "From the log histogram, we can see that most of the movies have runtime within the 85-120 minute interval."
   ]
  },
  {
   "cell_type": "markdown",
   "id": "5b42d3c5-1349-4ee8-8373-f22f618cb88f",
   "metadata": {
    "tags": []
   },
   "source": [
    "---\n",
    "### Regression & Scatterplot"
   ]
  },
  {
   "cell_type": "code",
   "execution_count": null,
   "id": "c817108e-6355-4b68-8798-fefee8e9fb79",
   "metadata": {
    "colab": {
     "base_uri": "https://localhost:8080/"
    },
    "id": "lxjIxPShydx4",
    "outputId": "6514d896-edfb-4d70-cb34-6f732e4a763c"
   },
   "outputs": [],
   "source": [
    "runtime_model = smf.ols(\"movie_box_office_revenue ~ movie_runtime\", data=df_runtime).fit()\n",
    "\n",
    "# summarize our model\n",
    "runtime_model_summary = runtime_model.summary()\n",
    "runtime_model_summary"
   ]
  },
  {
   "cell_type": "code",
   "execution_count": null,
   "id": "41d942da-61fe-476b-9da5-fd38c681a4e3",
   "metadata": {},
   "outputs": [],
   "source": [
    "fig = plt.figure(figsize=(9, 6))\n",
    "\n",
    "# pass in the model as the first parameter, then specify the\n",
    "# predictor variable we want to analyze\n",
    "fig = sns.regplot(\n",
    "    x=\"movie_runtime\",\n",
    "    y=\"movie_box_office_revenue\",\n",
    "    data=df_runtime,\n",
    "    ci=95,\n",
    "    scatter_kws={\"color\": \"blue\"},\n",
    "    line_kws={\"color\": \"red\"},\n",
    ")"
   ]
  },
  {
   "cell_type": "markdown",
   "id": "902ec368-9b23-45e1-9c5e-83c294c1007e",
   "metadata": {},
   "source": [
    "#### Comment\n",
    "- From the scatterplot, we see that there is a slight positive linear relationship between runtime and revenue. \n",
    "- However from previous regression analysis, the R squared value (0.038) is too small to justify the dependency between runtime and revenue. \n",
    "- We also see that movie with runtime between 80-120 minutes have similar distribution of revenue and movies with runtime less than 80 minutes generate less revenue (highet revenue is below $400000000). - Thus we can raise the question that if 80 minute could be a threshold for movie's revenue performance and we will address it in the next section."
   ]
  },
  {
   "cell_type": "markdown",
   "id": "c5b47a09-757b-4a31-8c08-82d29c73df0c",
   "metadata": {},
   "source": [
    "---\n",
    "### Effect of short runtime on revenue\n",
    "We define **short** movie to have runtime < 80min\\\n",
    "and other (non-short) movie to have runtime >= 80min."
   ]
  },
  {
   "cell_type": "code",
   "execution_count": null,
   "id": "8a3e5043-75e2-4eef-b94c-4469a092d9e8",
   "metadata": {},
   "outputs": [],
   "source": [
    "# Filter short movie to be under 80min\n",
    "df_short = df_runtime[df_runtime[\"movie_runtime\"] < 80]\n",
    "\n",
    "# Filter non-short movie to be above or equal to 80min\n",
    "df_non_short = df_runtime[df_runtime[\"movie_runtime\"] >= 80]"
   ]
  },
  {
   "cell_type": "code",
   "execution_count": null,
   "id": "e528717c-e01b-4129-82e9-7f094717bd41",
   "metadata": {},
   "outputs": [],
   "source": [
    "# independent t-test between short and non-short movies\n",
    "stats.ttest_ind(a=df_short[\"movie_box_office_revenue\"], b=df_non_short[\"movie_box_office_revenue\"], equal_var=False)"
   ]
  },
  {
   "cell_type": "code",
   "execution_count": null,
   "id": "d8c8cb7d-c3c9-4bf2-86a7-daa252a451b3",
   "metadata": {},
   "outputs": [],
   "source": [
    "# calculate mean difference\n",
    "mean_diff = df_short[\"movie_box_office_revenue\"].mean() - df_non_short[\"movie_box_office_revenue\"].mean()\n",
    "\n",
    "# print the mean difference\n",
    "print(f\"The mean difference in revenue is: {mean_diff}\")"
   ]
  },
  {
   "cell_type": "code",
   "execution_count": null,
   "id": "f0a56f39-833c-4afc-bc66-4adc8a74a8bf",
   "metadata": {},
   "outputs": [],
   "source": [
    "# calculating the percentage difference in revenue between the mean and non-short\n",
    "diff_percent = mean_diff / df_non_short[\"movie_box_office_revenue\"].mean()\n",
    "\n",
    "# printing the results\n",
    "diff_percent"
   ]
  },
  {
   "cell_type": "markdown",
   "id": "03c81946-d20b-49cb-b2dd-6f4c79be5602",
   "metadata": {},
   "source": [
    "#### Comment\n",
    "- The independent t-test gives us a small p-value (<< 0.05), which indicates a statistically significant difference between the samples.\n",
    "- Further, the mean difference tells us that short movies (< 80min) generally generates less revenue than non-short (>=80min) movies.\n",
    "- We can conclude that movies should not be too short as short movies have 59.8% less revenue than non-short movies."
   ]
  },
  {
   "cell_type": "markdown",
   "id": "90129178-5dbb-4ca4-b768-59c1e4c3181d",
   "metadata": {},
   "source": [
    "---\n",
    "### Difference in runtime between blockbuster vs non-blockbuster\n",
    "We define **blockbusters** as movies with revenue >= 400 million USD\\\n",
    "and **non-blockbusters** as movies with revenue < 400 million USD."
   ]
  },
  {
   "cell_type": "code",
   "execution_count": null,
   "id": "6871619c-5880-4d1c-b9b0-3082d625ae39",
   "metadata": {},
   "outputs": [],
   "source": [
    "# Filter blockbuster movies\n",
    "df_bb = df_runtime[df_runtime[\"movie_box_office_revenue\"] >= 400000000]\n",
    "\n",
    "# Filter non-blockbuster movies\n",
    "df_non_bb = df_runtime[df_runtime[\"movie_box_office_revenue\"] < 400000000]"
   ]
  },
  {
   "cell_type": "code",
   "execution_count": null,
   "id": "754f1f3e-560f-4808-b02e-312b0962c30f",
   "metadata": {},
   "outputs": [],
   "source": [
    "# independent t-test\n",
    "stats.ttest_ind(a=df_bb[\"movie_runtime\"], b=df_non_bb[\"movie_runtime\"], equal_var=False)"
   ]
  },
  {
   "cell_type": "code",
   "execution_count": null,
   "id": "e345105e-2685-46d0-9595-48e085fcaf72",
   "metadata": {},
   "outputs": [],
   "source": [
    "# calculate mean difference\n",
    "mean_diff = df_bb[\"movie_runtime\"].mean() - df_non_bb[\"movie_runtime\"].mean()\n",
    "\n",
    "# print the mean difference\n",
    "print(f\"The mean difference in runtime is: {mean_diff}\")"
   ]
  },
  {
   "cell_type": "code",
   "execution_count": null,
   "id": "7da8680e-ddab-42c6-ba8b-9ceef72f1fe6",
   "metadata": {},
   "outputs": [],
   "source": [
    "# calculating the percentage difference in runtime between the mean and non-blockbuster\n",
    "diff_percent = mean_diff / df_non_bb[\"movie_runtime\"].mean()\n",
    "\n",
    "# printing the results\n",
    "diff_percent"
   ]
  },
  {
   "cell_type": "markdown",
   "id": "b9484812-e974-4fa2-a404-c81bd428947e",
   "metadata": {},
   "source": [
    "#### Comment\n",
    "- The independent t-test gives us a small p-value (<< 0.05), which indicates a statistically significant difference between the samples.  \n",
    "- Further, the mean difference tells us that the blockbuster runtime is generally longer than non-blockbuster.  \n",
    "- We can conclude that longer runtime are more successful, as blockbuster movies have 10.08% longer runtime than non-blockbuster movies. "
   ]
  },
  {
   "cell_type": "markdown",
   "id": "97b4e70d-2dc8-4d86-98f7-a04ca728c8ea",
   "metadata": {
    "id": "vMs6GnI3daPp"
   },
   "source": [
    "# Plot Summary"
   ]
  },
  {
   "cell_type": "markdown",
   "id": "f339f46d-5a08-4bee-af20-aa361f8ff43b",
   "metadata": {},
   "source": [
    "- This notebook intends to investigate the plot summary of the [CMU Movie Summary Corpus](http://www.cs.cmu.edu/~ark/personas/) dataset.\n",
    "- The notebook will look at the sentiments within plot summary of movies and how they correlate with a movie's revenue."
   ]
  },
  {
   "cell_type": "markdown",
   "id": "e926306b-8174-467c-9170-da8d3f850aa7",
   "metadata": {},
   "source": [
    "---\n",
    "### Summary\n",
    "- We analyze plot summary from three sentiments: positive, negative and violent words and analyze if their proportion in plot summary affects revenue.\n",
    "- Movies with more negative plot have on average 43.5% more revenue than those with more positive plots.\n",
    "- Movies with more violent plot are more likely to generate revenue since blockbuster movies have 25.4% higher violent word porportion than non-blockbuster movies."
   ]
  },
  {
   "cell_type": "markdown",
   "id": "7021d4cc-51b2-43cf-819c-4040408d18d8",
   "metadata": {},
   "source": [
    "---\n",
    "### Data Processing"
   ]
  },
  {
   "cell_type": "markdown",
   "id": "2ebccc56-df9b-4d5e-a0e1-84c780ae01e6",
   "metadata": {
    "tags": []
   },
   "source": [
    "---\n",
    "#### Loading data"
   ]
  },
  {
   "cell_type": "code",
   "execution_count": null,
   "id": "4323e9bd-9be7-41a8-bf25-88b225a42241",
   "metadata": {
    "colab": {
     "base_uri": "https://localhost:8080/",
     "height": 424
    },
    "id": "ph5IQSSygfEh",
    "outputId": "798628c9-ddcf-4abb-b2fc-5f3fcb7d5113"
   },
   "outputs": [],
   "source": [
    "# Read summary data and filter movies with summary not null\n",
    "df_summary = pd.read_csv(\n",
    "    \"./data/plot_summaries.txt\", sep=\"\\t\", header=None, names=[\"wikipedia_movie_ID\", \"summary\"]\n",
    ")\n",
    "df_summary = df_summary[df_summary[\"summary\"].notnull()]"
   ]
  },
  {
   "cell_type": "code",
   "execution_count": null,
   "id": "676c430a-b062-4ea5-9209-288211169101",
   "metadata": {
    "id": "0JOUic-Hmkci",
    "tags": []
   },
   "outputs": [],
   "source": [
    "# Merge metadata and summary data and filter for revenue and summary\n",
    "df_merge = pd.merge(movies, df_summary, on=[\"wikipedia_movie_ID\"], how=\"inner\")\n",
    "df_merge = df_merge[[\"wikipedia_movie_ID\", \"summary\", \"movie_box_office_revenue\"]]\n",
    "df_merge.head(5)"
   ]
  },
  {
   "cell_type": "markdown",
   "id": "2170ce90-5223-478a-afe1-451eef912548",
   "metadata": {},
   "source": [
    "---\n",
    "#### Positive / Negative / Violent Vocab Collection\n",
    "We decide to examine if positivity, negativity and violence in plot will affect movie revenue.\\\n",
    "First, we collect vocabulary with positive, negative and violent connotation."
   ]
  },
  {
   "cell_type": "code",
   "execution_count": null,
   "id": "a19e6b52-ad10-4c91-a77b-2ac939000f7d",
   "metadata": {},
   "outputs": [],
   "source": [
    "# Sentiment List\n",
    "sentiment = [\"positive\", \"negative\", \"violent\"]"
   ]
  },
  {
   "cell_type": "code",
   "execution_count": null,
   "id": "cd382846-045b-4e6a-8e32-3f0f8f8cf182",
   "metadata": {},
   "outputs": [],
   "source": [
    "# collecting the positive words list\n",
    "\n",
    "# requesting the url\n",
    "r = requests.get(\"https://ptrckprry.com/course/ssd/data/positive-words.txt\")\n",
    "\n",
    "# extracting and decoding the content from the request\n",
    "text = r.content.decode(\"us-ascii\")\n",
    "\n",
    "# extracting the text containing the positive words\n",
    "pos_text = text.split(\"\\n\\n\")\n",
    "\n",
    "# converting the text into a list\n",
    "pos_list = pos_text[1].split(\"\\n\")"
   ]
  },
  {
   "cell_type": "code",
   "execution_count": null,
   "id": "e42796e3-90db-49dd-a446-e6866c6f16d6",
   "metadata": {},
   "outputs": [],
   "source": [
    "# collecting the neagative words list\n",
    "\n",
    "# requesting the url\n",
    "r = requests.get(\"https://ptrckprry.com/course/ssd/data/negative-words.txt\")\n",
    "\n",
    "# extracting and decoding the content from the request\n",
    "text = r.content.decode(\"iso-8859-1\")\n",
    "\n",
    "# extracting the text containing the negative words\n",
    "neg_text = text.split(\"\\n\\n\")\n",
    "\n",
    "# converting the text into a list\n",
    "neg_list = neg_text[1].split(\"\\n\")"
   ]
  },
  {
   "cell_type": "code",
   "execution_count": null,
   "id": "5c3e2be4-0619-42d2-8e66-1efd28115c1f",
   "metadata": {},
   "outputs": [],
   "source": [
    "# collecting the violence words list\n",
    "# source: https://myvocabulary.com/word-list/violence-vocabulary/\n",
    "\n",
    "# Read from txt file\n",
    "violent_file = open(\"./data/violent_word_list.txt\", \"r\")\n",
    "violent_words = violent_file.read()\n",
    "\n",
    "# Split into list\n",
    "vio_list = violent_words.split(\", \")\n",
    "\n",
    "# Map every word into lower case\n",
    "vio_list = list(map(lambda x: x.lower(), vio_list))"
   ]
  },
  {
   "cell_type": "markdown",
   "id": "7ae0a528-a60c-435d-878c-5c922d4a6665",
   "metadata": {},
   "source": [
    "---\n",
    "#### Positive / Negative / Violent proportion in summary\n",
    "We calculate the proportion of words with positive / negative / violent connotation out of all words in movie summary."
   ]
  },
  {
   "cell_type": "code",
   "execution_count": null,
   "id": "ac68bf41-9295-46f4-a690-169694bb8df2",
   "metadata": {},
   "outputs": [],
   "source": [
    "# creating a function to calculate proportion in summary\n",
    "def check_summary(summary, list_):\n",
    "    \"\"\"\n",
    "    Count what proportion of words from a list the summary contains\n",
    "\n",
    "    Parameters\n",
    "    ----------\n",
    "    summary: string\n",
    "        The summary you desire to check\n",
    "    list_: array\n",
    "        The list to do look up in\n",
    "\n",
    "    Returns\n",
    "    -------\n",
    "    int\n",
    "        Proportion of words contained from given list (0-1)\n",
    "    \"\"\"\n",
    "    cnt = 0\n",
    "    summary_lst = summary.lower().split()\n",
    "    for word in summary_lst:\n",
    "        if word in list_:\n",
    "            cnt += 1\n",
    "    return cnt / len(summary_lst)"
   ]
  },
  {
   "cell_type": "code",
   "execution_count": null,
   "id": "672769cc-ea4b-41b6-a6e1-775de19bff0e",
   "metadata": {},
   "outputs": [],
   "source": [
    "# adding column for positive sentiment\n",
    "df_merge[\"positive\"] = df_merge[\"summary\"].apply(lambda x: check_summary(x, pos_list))\n",
    "\n",
    "# adding a columns for negative sentiment\n",
    "df_merge[\"negative\"] = df_merge[\"summary\"].apply(lambda x: check_summary(x, neg_list))\n",
    "\n",
    "# adding a columns for violent sentiment\n",
    "df_merge[\"violent\"] = df_merge[\"summary\"].apply(lambda x: check_summary(x, vio_list))"
   ]
  },
  {
   "cell_type": "code",
   "execution_count": null,
   "id": "bb236fa0-35e6-43ea-82bf-2e07f057de4b",
   "metadata": {},
   "outputs": [],
   "source": [
    "df_merge.head(2)"
   ]
  },
  {
   "cell_type": "markdown",
   "id": "c4d1b6a4-85b1-47c8-bc50-e8cbe6d3826c",
   "metadata": {},
   "source": [
    "---\n",
    "### Regression & Scatterplot"
   ]
  },
  {
   "cell_type": "code",
   "execution_count": null,
   "id": "3ccb87cd-a558-45f6-a6ac-4862a2f97421",
   "metadata": {},
   "outputs": [],
   "source": [
    "fig, ax = plt.subplots(3, 1)\n",
    "\n",
    "# sentiment to ax position mapping\n",
    "sen2ax = {\"positive\": ax[0], \"negative\": ax[1], \"violent\": ax[2]}\n",
    "\n",
    "# Plot for each sentiment: positive, negative, violent\n",
    "for s in sentiment:\n",
    "    ax = sen2ax[s]\n",
    "    ax.plot(df_merge[s], df_merge[\"movie_box_office_revenue\"], \"o\")\n",
    "\n",
    "    # obtain m (slope) and b(intercept) of linear regression line\n",
    "    m, b = np.polyfit(df_merge[s], df_merge[\"movie_box_office_revenue\"], 1)\n",
    "    # add linear regression line to scatterplot\n",
    "    ax.plot(df_merge[s], m * df_merge[s] + b)\n",
    "\n",
    "    ax.set_title(\"Number of \" + s + \" words vs movie_box_office_revenue\")\n",
    "    ax.set_xlabel(s + \" words count\")\n",
    "    ax.set_ylabel(\"Revenue\")\n",
    "    ax.set_ylim(0, 3000000000)\n",
    "\n",
    "# Combine all the operations and display\n",
    "plt.subplots_adjust(left=0.1, bottom=0.1, right=0.9, top=1.7, wspace=0.4, hspace=0.4)\n",
    "plt.show()\n",
    "\n",
    "# sns.lmplot(x='positive', y='revenue', data=df_merge)"
   ]
  },
  {
   "cell_type": "code",
   "execution_count": null,
   "id": "40400fc5-20ff-4a94-ae4d-dd31edbb9fec",
   "metadata": {},
   "outputs": [],
   "source": [
    "# Regression analysis for positive word proportion vs revenue\n",
    "positive_revenue_model = smf.ols(\"movie_box_office_revenue ~ positive\", data=df_merge).fit()\n",
    "positive_revenue_model_summary = positive_revenue_model.summary()\n",
    "positive_revenue_model_summary"
   ]
  },
  {
   "cell_type": "code",
   "execution_count": null,
   "id": "ce26badc-5049-4a5e-9f37-3e0d40fefa86",
   "metadata": {},
   "outputs": [],
   "source": [
    "# Regression analysis for negative word proportion vs revenue\n",
    "negative_revenue_model = smf.ols(\"movie_box_office_revenue ~ negative\", data=df_merge).fit()\n",
    "negative_revenue_model_summary = negative_revenue_model.summary()\n",
    "negative_revenue_model_summary"
   ]
  },
  {
   "cell_type": "code",
   "execution_count": null,
   "id": "03e719e4-0429-4982-9a8e-46b877869cc2",
   "metadata": {},
   "outputs": [],
   "source": [
    "# Regression analysis for violent word proportion vs revenue\n",
    "violence_revenue_model = smf.ols(\"movie_box_office_revenue ~ violent\", data=df_merge).fit()\n",
    "violence_revenue_model_summary = violence_revenue_model.summary()\n",
    "violence_revenue_model_summary"
   ]
  },
  {
   "cell_type": "markdown",
   "id": "00e25691-cf51-4abb-8d2f-a3d222b68338",
   "metadata": {},
   "source": [
    "#### Comment\n",
    "- From the scatterplot, we see that there is a slight negative linear relationship between positive word proportion and revenue. There is also a slight negative linear relationship between negative word proportion and revenue. In contrast, there is a slight positive linear relationship between violent word proportion and revenue. \n",
    "- However from previous regression analysis, the R squared value (0.005 - positive, 0.000 - negative, 0.003 - violent) is too small to justify the dependency between all sentiments and revenue. \n",
    "- We see a opposing relationship between positive and negative and we will discover if more positive plot or more negative plot can boost the revenue in the following section."
   ]
  },
  {
   "cell_type": "markdown",
   "id": "228a1ce1-26d6-4291-8bbf-a5cbdef21b65",
   "metadata": {},
   "source": [
    "---\n",
    "### Difference in revenues between movies with more positive and more negative plot\n",
    "We will analyze if plots with more positive word proportions will generate more revenues than those with more negative word proportions. "
   ]
  },
  {
   "cell_type": "code",
   "execution_count": null,
   "id": "b467f978-527f-477e-9d47-3a314fb14047",
   "metadata": {},
   "outputs": [],
   "source": [
    "# Filter for movies that have higher proportion of positive words than negative words\n",
    "df_pos_majority = df_merge[df_merge[\"positive\"] > df_merge[\"negative\"]]\n",
    "\n",
    "# Filter for movies that higher proportion of negative words than positive words\n",
    "df_neg_majority = df_merge[df_merge[\"negative\"] > df_merge[\"positive\"]]"
   ]
  },
  {
   "cell_type": "code",
   "execution_count": null,
   "id": "543eace9-4c68-42eb-8caa-2a7166471697",
   "metadata": {},
   "outputs": [],
   "source": [
    "# independent t-test\n",
    "stats.ttest_ind(\n",
    "    a=df_pos_majority[\"movie_box_office_revenue\"], b=df_neg_majority[\"movie_box_office_revenue\"], equal_var=False\n",
    ")"
   ]
  },
  {
   "cell_type": "code",
   "execution_count": null,
   "id": "a999f73f-44b6-4d69-b176-776c76c4b1d7",
   "metadata": {},
   "outputs": [],
   "source": [
    "# calculate mean difference\n",
    "mean_diff = df_pos_majority[\"movie_box_office_revenue\"].mean() - df_neg_majority[\"movie_box_office_revenue\"].mean()\n",
    "\n",
    "# print the mean difference\n",
    "print(f\"The mean difference in revenue is: {mean_diff}\")"
   ]
  },
  {
   "cell_type": "code",
   "execution_count": null,
   "id": "6e964510-ce2c-4140-b727-ea2b4e844de9",
   "metadata": {},
   "outputs": [],
   "source": [
    "# calculating the percentage difference in revenue between the mean and negative\n",
    "diff_percent = mean_diff / df_neg_majority[\"movie_box_office_revenue\"].mean()\n",
    "\n",
    "# printing the results\n",
    "diff_percent"
   ]
  },
  {
   "cell_type": "markdown",
   "id": "9760e13e-f0e8-44c1-9488-a8be888855c6",
   "metadata": {},
   "source": [
    "#### Comment\n",
    "- The independent t-test gives us a small p-value (<< 0.05), which indicates a statistically significant difference between the samples.\n",
    "- Further, the mean difference tells us that movies with more positive plot generally has less revenue than movies with more negative plot.\n",
    "- We can conclude that movies with more negative plot are more successful, as movies with more negative plot have 43.5% more revenue than movies with more positive plot."
   ]
  },
  {
   "cell_type": "markdown",
   "id": "fa0c7b3a-06b6-4bd6-bc50-d684845b88a6",
   "metadata": {},
   "source": [
    "---\n",
    "### Difference in sentiment proportion between blockbuster vs non-blockbuster\n",
    "We define **blockbusters** as movies with revenue >= 400 million USD\\\n",
    "and **non-blockbusters** as movies with revenue < 400 million USD."
   ]
  },
  {
   "cell_type": "code",
   "execution_count": null,
   "id": "b9ad2e28-16da-43b0-aa9d-98499b231d59",
   "metadata": {},
   "outputs": [],
   "source": [
    "# Filter blockbuster movies\n",
    "df_bb = df_merge[df_merge[\"movie_box_office_revenue\"] >= 400000000]\n",
    "\n",
    "# Filter non-blockbuster movies\n",
    "df_non_bb = df_merge[df_merge[\"movie_box_office_revenue\"] < 400000000]"
   ]
  },
  {
   "cell_type": "code",
   "execution_count": null,
   "id": "76363728-edde-4524-ad9b-254af6e36fea",
   "metadata": {},
   "outputs": [],
   "source": [
    "# For each sentiment\n",
    "for s in sentiment:\n",
    "    # independent t-test\n",
    "    print(stats.ttest_ind(a=df_bb[s], b=df_non_bb[s], equal_var=False))\n",
    "\n",
    "    # calculate mean difference\n",
    "    mean_diff = df_bb[s].mean() - df_non_bb[s].mean()\n",
    "\n",
    "    # print the mean difference\n",
    "    print(f\"The mean difference in proportion of {s} words in summary is: {mean_diff}\")\n",
    "\n",
    "    # calculating the percentage difference between the mean and non-blockbuster\n",
    "    diff_percent = mean_diff / df_non_bb[s].mean()\n",
    "\n",
    "    # printing the results\n",
    "    print(\n",
    "        f\"The percentage difference in porportion of {s} words in summary between mean and non-blockbuster is: {diff_percent * 100}%\\n\"\n",
    "    )"
   ]
  },
  {
   "cell_type": "markdown",
   "id": "ef7757e3-2165-405d-9ce5-755864bde0b3",
   "metadata": {
    "tags": []
   },
   "source": [
    "#### positive\n",
    "- The independent t-test for positive words gives us a small p-value (<< 0.05), which indicates a statistically significant difference between the samples.  \n",
    "- Further, the mean difference tells us that blockbuster movies generally has smaller positive word proportion in summary than non-blockbuster.  \n",
    "- We can conclude that less positive plot components are more successful, as blockbuster movies have 15.21% less positive word usage than non-blockbuster movies. "
   ]
  },
  {
   "cell_type": "markdown",
   "id": "e77c7457-d6a1-42b8-8076-8139a2ffa789",
   "metadata": {},
   "source": [
    "#### negative\n",
    "- The independent t-test for negative words gives us a small p-value (<< 0.05), which indicates a statistically significant difference between the samples.  \n",
    "- Further, the mean difference tells us that blockbuster movies generally has higher negative word proportion in summary than non-blockbuster.  \n",
    "- We can conclude that more negative plot components are more successful, as blockbuster movies have 6.93% more negative word proportion than non-blockbuster movies. "
   ]
  },
  {
   "cell_type": "markdown",
   "id": "dc6ad6be-aca1-4615-9047-4b277ecc72da",
   "metadata": {},
   "source": [
    "#### violent\n",
    "- The independent t-test for violent words gives us a small p-value (<< 0.05), which indicates a statistically significant difference between the samples.  \n",
    "- Further, the mean difference tells us that blockbuster movies generally has higher violent word proportion in summary than non-blockbuster.  \n",
    "- We can conclude that more violent plot components are more successful as blockbuster movies have 25.4% higher violent word porportion than non-blockbuster movies. "
   ]
  },
  {
   "cell_type": "code",
   "execution_count": null,
   "id": "d3bb728a-20b1-48fe-853e-9d7d7c56da37",
   "metadata": {},
   "outputs": [],
   "source": []
  },
  {
   "cell_type": "code",
   "execution_count": null,
   "id": "3a65818f-61fd-4f68-871b-9f3f8791bdf0",
   "metadata": {},
   "outputs": [],
   "source": []
  }
 ],
 "metadata": {
  "kernelspec": {
   "display_name": "Python 3 (ipykernel)",
   "language": "python",
   "name": "python3"
  },
  "language_info": {
   "codemirror_mode": {
    "name": "ipython",
    "version": 3
   },
   "file_extension": ".py",
   "mimetype": "text/x-python",
   "name": "python",
   "nbconvert_exporter": "python",
   "pygments_lexer": "ipython3",
   "version": "3.9.13"
  }
 },
 "nbformat": 4,
 "nbformat_minor": 5
}
