{
 "cells": [
  {
   "cell_type": "markdown",
   "metadata": {
    "id": "vMs6GnI3daPp"
   },
   "source": [
    "# Runtime"
   ]
  },
  {
   "cell_type": "markdown",
   "metadata": {},
   "source": [
    "- This notebook intends to investigate the runtime of the [CMU Movie Summary Corpus](http://www.cs.cmu.edu/~ark/personas/) dataset.\n",
    "- The notebook will look at the distribution of runtime and how it correlates with a movie's revenue."
   ]
  },
  {
   "cell_type": "markdown",
   "metadata": {},
   "source": [
    "---\n",
    "### Summary\n",
    "- We cannot conclude there is a linear relationship between movie runtime and revenue.\n",
    "- Blockbuster movies ($400 million+) have, on average, 10.1% longer runtime than non-blockbuster movies.\n",
    "- Movies with short runtime (<80min) have 59.8% less revenue than non-short movies."
   ]
  },
  {
   "cell_type": "markdown",
   "metadata": {},
   "source": [
    "---\n",
    "### Data Processing"
   ]
  },
  {
   "cell_type": "markdown",
   "metadata": {
    "tags": []
   },
   "source": [
    "---\n",
    "#### Loading data"
   ]
  },
  {
   "cell_type": "code",
   "execution_count": 1,
   "metadata": {},
   "outputs": [],
   "source": [
    "import numpy as np\n",
    "import pandas as pd\n",
    "import matplotlib.pyplot as plt\n",
    "import statsmodels.api as sm\n",
    "import statsmodels.formula.api as smf\n",
    "from scipy import stats\n",
    "import seaborn as sns\n",
    "import requests"
   ]
  },
  {
   "cell_type": "code",
   "execution_count": 2,
   "metadata": {
    "colab": {
     "base_uri": "https://localhost:8080/",
     "height": 745
    },
    "id": "4GKxDYH7eSad",
    "outputId": "3179a810-b5b9-49ce-8c75-74b3e18720b7"
   },
   "outputs": [],
   "source": [
    "# Read data and filter movies with revenue not null\n",
    "df = pd.read_csv(\n",
    "    \"./data/movie.metadata.tsv\",\n",
    "    sep=\"\\t\",\n",
    "    header=None,\n",
    "    names=[\n",
    "        \"wiki_id\",\n",
    "        \"fb_id\",\n",
    "        \"name\",\n",
    "        \"release_date\",\n",
    "        \"revenue\",\n",
    "        \"runtime\",\n",
    "        \"languages\",\n",
    "        \"countries\",\n",
    "        \"genres\",\n",
    "    ],\n",
    ")\n",
    "df_meta = df[df[\"revenue\"].notnull()]"
   ]
  },
  {
   "cell_type": "code",
   "execution_count": 3,
   "metadata": {},
   "outputs": [],
   "source": [
    "# Filter for movies with runtime\n",
    "df_runtime = df_meta[df_meta[\"runtime\"].notnull()]"
   ]
  },
  {
   "cell_type": "markdown",
   "metadata": {},
   "source": [
    "---\n",
    "#### Outlier Removal\n",
    "We will find outliers by calculating IQR and remove data outside the lower/upper bound."
   ]
  },
  {
   "cell_type": "code",
   "execution_count": 4,
   "metadata": {},
   "outputs": [
    {
     "data": {
      "text/html": [
       "<div>\n",
       "<style scoped>\n",
       "    .dataframe tbody tr th:only-of-type {\n",
       "        vertical-align: middle;\n",
       "    }\n",
       "\n",
       "    .dataframe tbody tr th {\n",
       "        vertical-align: top;\n",
       "    }\n",
       "\n",
       "    .dataframe thead th {\n",
       "        text-align: right;\n",
       "    }\n",
       "</style>\n",
       "<table border=\"1\" class=\"dataframe\">\n",
       "  <thead>\n",
       "    <tr style=\"text-align: right;\">\n",
       "      <th></th>\n",
       "      <th>wiki_id</th>\n",
       "      <th>fb_id</th>\n",
       "      <th>name</th>\n",
       "      <th>release_date</th>\n",
       "      <th>revenue</th>\n",
       "      <th>runtime</th>\n",
       "      <th>languages</th>\n",
       "      <th>countries</th>\n",
       "      <th>genres</th>\n",
       "    </tr>\n",
       "  </thead>\n",
       "  <tbody>\n",
       "    <tr>\n",
       "      <th>0</th>\n",
       "      <td>975900</td>\n",
       "      <td>/m/03vyhn</td>\n",
       "      <td>Ghosts of Mars</td>\n",
       "      <td>2001-08-24</td>\n",
       "      <td>14010832.0</td>\n",
       "      <td>98.0</td>\n",
       "      <td>{\"/m/02h40lc\": \"English Language\"}</td>\n",
       "      <td>{\"/m/09c7w0\": \"United States of America\"}</td>\n",
       "      <td>{\"/m/01jfsb\": \"Thriller\", \"/m/06n90\": \"Science...</td>\n",
       "    </tr>\n",
       "  </tbody>\n",
       "</table>\n",
       "</div>"
      ],
      "text/plain": [
       "   wiki_id      fb_id            name release_date     revenue  runtime  \\\n",
       "0   975900  /m/03vyhn  Ghosts of Mars   2001-08-24  14010832.0     98.0   \n",
       "\n",
       "                            languages  \\\n",
       "0  {\"/m/02h40lc\": \"English Language\"}   \n",
       "\n",
       "                                   countries  \\\n",
       "0  {\"/m/09c7w0\": \"United States of America\"}   \n",
       "\n",
       "                                              genres  \n",
       "0  {\"/m/01jfsb\": \"Thriller\", \"/m/06n90\": \"Science...  "
      ]
     },
     "execution_count": 4,
     "metadata": {},
     "output_type": "execute_result"
    }
   ],
   "source": [
    "# IQR\n",
    "Q1 = np.percentile(df_runtime[\"runtime\"], 25)\n",
    "Q3 = np.percentile(df_runtime[\"runtime\"], 75)\n",
    "IQR = Q3 - Q1\n",
    "lower, upper = Q1 - 1.5 * IQR, Q3 + 1.5 * IQR\n",
    "\n",
    "# Remove outlier\n",
    "df_runtime = df_runtime[\n",
    "    (df_runtime[\"runtime\"] >= lower) & (df_runtime[\"runtime\"] <= upper)\n",
    "]\n",
    "df_runtime.head(1)"
   ]
  },
  {
   "cell_type": "markdown",
   "metadata": {},
   "source": [
    "---\n",
    "### Distribution of runtime"
   ]
  },
  {
   "cell_type": "code",
   "execution_count": 5,
   "metadata": {},
   "outputs": [
    {
     "data": {
      "image/png": "[encoded data removed]",
      "text/plain": [
       "<Figure size 640x480 with 1 Axes>"
      ]
     },
     "metadata": {},
     "output_type": "display_data"
    }
   ],
   "source": [
    "# histogram plot\n",
    "plt.hist(df_runtime[\"runtime\"], histtype=\"step\", log=True, bins=20)\n",
    "plt.title(\"Distribution of movie runtime\")\n",
    "plt.xlabel(\"Length of movie runtime (minute)\")\n",
    "plt.ylabel(\"Number of movies\")\n",
    "plt.show()"
   ]
  },
  {
   "cell_type": "markdown",
   "metadata": {},
   "source": [
    "#### Comment\n",
    "\n",
    "From the log histogram, we can see that most of the movies have runtime within the 85-120 minute interval."
   ]
  },
  {
   "cell_type": "markdown",
   "metadata": {
    "tags": []
   },
   "source": [
    "---\n",
    "### Regression & Scatterplot"
   ]
  },
  {
   "cell_type": "code",
   "execution_count": 6,
   "metadata": {
    "colab": {
     "base_uri": "https://localhost:8080/"
    },
    "id": "lxjIxPShydx4",
    "outputId": "6514d896-edfb-4d70-cb34-6f732e4a763c"
   },
   "outputs": [
    {
     "data": {
      "text/html": [
       "<table class=\"simpletable\">\n",
       "<caption>OLS Regression Results</caption>\n",
       "<tr>\n",
       "  <th>Dep. Variable:</th>         <td>revenue</td>     <th>  R-squared:         </th>  <td>   0.038</td>  \n",
       "</tr>\n",
       "<tr>\n",
       "  <th>Model:</th>                   <td>OLS</td>       <th>  Adj. R-squared:    </th>  <td>   0.038</td>  \n",
       "</tr>\n",
       "<tr>\n",
       "  <th>Method:</th>             <td>Least Squares</td>  <th>  F-statistic:       </th>  <td>   315.0</td>  \n",
       "</tr>\n",
       "<tr>\n",
       "  <th>Date:</th>             <td>Tue, 15 Nov 2022</td> <th>  Prob (F-statistic):</th>  <td>3.77e-69</td>  \n",
       "</tr>\n",
       "<tr>\n",
       "  <th>Time:</th>                 <td>02:10:12</td>     <th>  Log-Likelihood:    </th> <td>-1.5814e+05</td>\n",
       "</tr>\n",
       "<tr>\n",
       "  <th>No. Observations:</th>      <td>  7990</td>      <th>  AIC:               </th>  <td>3.163e+05</td> \n",
       "</tr>\n",
       "<tr>\n",
       "  <th>Df Residuals:</th>          <td>  7988</td>      <th>  BIC:               </th>  <td>3.163e+05</td> \n",
       "</tr>\n",
       "<tr>\n",
       "  <th>Df Model:</th>              <td>     1</td>      <th>                     </th>      <td> </td>     \n",
       "</tr>\n",
       "<tr>\n",
       "  <th>Covariance Type:</th>      <td>nonrobust</td>    <th>                     </th>      <td> </td>     \n",
       "</tr>\n",
       "</table>\n",
       "<table class=\"simpletable\">\n",
       "<tr>\n",
       "      <td></td>         <th>coef</th>     <th>std err</th>      <th>t</th>      <th>P>|t|</th>  <th>[0.025</th>    <th>0.975]</th>  \n",
       "</tr>\n",
       "<tr>\n",
       "  <th>Intercept</th> <td> -8.63e+07</td> <td> 7.46e+06</td> <td>  -11.568</td> <td> 0.000</td> <td>-1.01e+08</td> <td>-7.17e+07</td>\n",
       "</tr>\n",
       "<tr>\n",
       "  <th>runtime</th>   <td> 1.269e+06</td> <td> 7.15e+04</td> <td>   17.748</td> <td> 0.000</td> <td> 1.13e+06</td> <td> 1.41e+06</td>\n",
       "</tr>\n",
       "</table>\n",
       "<table class=\"simpletable\">\n",
       "<tr>\n",
       "  <th>Omnibus:</th>       <td>7859.716</td> <th>  Durbin-Watson:     </th>  <td>   1.997</td> \n",
       "</tr>\n",
       "<tr>\n",
       "  <th>Prob(Omnibus):</th>  <td> 0.000</td>  <th>  Jarque-Bera (JB):  </th> <td>425842.919</td>\n",
       "</tr>\n",
       "<tr>\n",
       "  <th>Skew:</th>           <td> 4.835</td>  <th>  Prob(JB):          </th>  <td>    0.00</td> \n",
       "</tr>\n",
       "<tr>\n",
       "  <th>Kurtosis:</th>       <td>37.433</td>  <th>  Cond. No.          </th>  <td>    729.</td> \n",
       "</tr>\n",
       "</table><br/><br/>Notes:<br/>[1] Standard Errors assume that the covariance matrix of the errors is correctly specified."
      ],
      "text/plain": [
       "<class 'statsmodels.iolib.summary.Summary'>\n",
       "\"\"\"\n",
       "                            OLS Regression Results                            \n",
       "==============================================================================\n",
       "Dep. Variable:                revenue   R-squared:                       0.038\n",
       "Model:                            OLS   Adj. R-squared:                  0.038\n",
       "Method:                 Least Squares   F-statistic:                     315.0\n",
       "Date:                Tue, 15 Nov 2022   Prob (F-statistic):           3.77e-69\n",
       "Time:                        02:10:12   Log-Likelihood:            -1.5814e+05\n",
       "No. Observations:                7990   AIC:                         3.163e+05\n",
       "Df Residuals:                    7988   BIC:                         3.163e+05\n",
       "Df Model:                           1                                         \n",
       "Covariance Type:            nonrobust                                         \n",
       "==============================================================================\n",
       "                 coef    std err          t      P>|t|      [0.025      0.975]\n",
       "------------------------------------------------------------------------------\n",
       "Intercept   -8.63e+07   7.46e+06    -11.568      0.000   -1.01e+08   -7.17e+07\n",
       "runtime     1.269e+06   7.15e+04     17.748      0.000    1.13e+06    1.41e+06\n",
       "==============================================================================\n",
       "Omnibus:                     7859.716   Durbin-Watson:                   1.997\n",
       "Prob(Omnibus):                  0.000   Jarque-Bera (JB):           425842.919\n",
       "Skew:                           4.835   Prob(JB):                         0.00\n",
       "Kurtosis:                      37.433   Cond. No.                         729.\n",
       "==============================================================================\n",
       "\n",
       "Notes:\n",
       "[1] Standard Errors assume that the covariance matrix of the errors is correctly specified.\n",
       "\"\"\""
      ]
     },
     "execution_count": 6,
     "metadata": {},
     "output_type": "execute_result"
    }
   ],
   "source": [
    "runtime_model = smf.ols(\"revenue ~ runtime\", data=df_runtime).fit()\n",
    "\n",
    "# summarize our model\n",
    "runtime_model_summary = runtime_model.summary()\n",
    "runtime_model_summary"
   ]
  },
  {
   "cell_type": "code",
   "execution_count": 7,
   "metadata": {},
   "outputs": [
    {
     "data": {
      "image/png": "[encoded data removed]",
      "text/plain": [
       "<Figure size 900x600 with 1 Axes>"
      ]
     },
     "metadata": {},
     "output_type": "display_data"
    }
   ],
   "source": [
    "fig = plt.figure(figsize=(9, 6))\n",
    "\n",
    "# pass in the model as the first parameter, then specify the\n",
    "# predictor variable we want to analyze\n",
    "fig = sns.regplot(\n",
    "    x=\"runtime\",\n",
    "    y=\"revenue\",\n",
    "    data=df_runtime,\n",
    "    ci=95,\n",
    "    scatter_kws={\"color\": \"blue\"},\n",
    "    line_kws={\"color\": \"red\"},\n",
    ")"
   ]
  },
  {
   "cell_type": "markdown",
   "metadata": {},
   "source": [
    "#### Comment\n",
    "- From the scatterplot, we see that there is a slight positive linear relationship between runtime and revenue. \n",
    "- However from previous regression analysis, the R squared value (0.038) is too small to justify the dependency between runtime and revenue. \n",
    "- We also see that movie with runtime between 80-120 minutes have similar distribution of revenue and movies with runtime less than 80 minutes generate less revenue (highet revenue is below $400000000). - Thus we can raise the question that if 80 minute could be a threshold for movie's revenue performance and we will address it in the next section."
   ]
  },
  {
   "cell_type": "markdown",
   "metadata": {},
   "source": [
    "---\n",
    "### Effect of short runtime on revenue\n",
    "We define **short** movie to have runtime < 80min\\\n",
    "and other (non-short) movie to have runtime >= 80min."
   ]
  },
  {
   "cell_type": "code",
   "execution_count": 8,
   "metadata": {},
   "outputs": [],
   "source": [
    "# Filter short movie to be under 80min\n",
    "df_short = df_runtime[df_runtime[\"runtime\"] < 80]\n",
    "\n",
    "# Filter non-short movie to be above or equal to 80min\n",
    "df_non_short = df_runtime[df_runtime[\"runtime\"] >= 80]"
   ]
  },
  {
   "cell_type": "code",
   "execution_count": 9,
   "metadata": {},
   "outputs": [
    {
     "data": {
      "text/plain": [
       "Ttest_indResult(statistic=-9.399967927722525, pvalue=6.621817684147157e-19)"
      ]
     },
     "execution_count": 9,
     "metadata": {},
     "output_type": "execute_result"
    }
   ],
   "source": [
    "# independent t-test between short and non-short movies\n",
    "stats.ttest_ind(a=df_short[\"revenue\"], b=df_non_short[\"revenue\"], equal_var=False)"
   ]
  },
  {
   "cell_type": "code",
   "execution_count": 10,
   "metadata": {},
   "outputs": [
    {
     "name": "stdout",
     "output_type": "stream",
     "text": [
      "The mean difference in revenue is: -27288717.24809185\n"
     ]
    }
   ],
   "source": [
    "# calculate mean difference\n",
    "mean_diff = df_short[\"revenue\"].mean() - df_non_short[\"revenue\"].mean()\n",
    "\n",
    "# print the mean difference\n",
    "print(f\"The mean difference in revenue is: {mean_diff}\")"
   ]
  },
  {
   "cell_type": "code",
   "execution_count": 11,
   "metadata": {},
   "outputs": [
    {
     "data": {
      "text/plain": [
       "-0.5980378316539298"
      ]
     },
     "execution_count": 11,
     "metadata": {},
     "output_type": "execute_result"
    }
   ],
   "source": [
    "# calculating the percentage difference in revenue between the mean and non-short\n",
    "diff_percent = mean_diff / df_non_short[\"revenue\"].mean()\n",
    "\n",
    "# printing the results\n",
    "diff_percent"
   ]
  },
  {
   "cell_type": "markdown",
   "metadata": {},
   "source": [
    "#### Comment\n",
    "- The independent t-test gives us a small p-value (<< 0.05), which indicates a statistically significant difference between the samples.\n",
    "- Further, the mean difference tells us that short movies (< 80min) generally generates less revenue than non-short (>=80min) movies.\n",
    "- We can conclude that movies should not be too short as short movies have 59.8% less revenue than non-short movies."
   ]
  },
  {
   "cell_type": "markdown",
   "metadata": {},
   "source": [
    "---\n",
    "### Difference in runtime between blockbuster vs non-blockbuster\n",
    "We define **blockbusters** as movies with revenue >= 400 million USD\\\n",
    "and **non-blockbusters** as movies with revenue < 400 million USD."
   ]
  },
  {
   "cell_type": "code",
   "execution_count": 12,
   "metadata": {},
   "outputs": [],
   "source": [
    "# Filter blockbuster movies\n",
    "df_bb = df_runtime[df_runtime[\"revenue\"] >= 400000000]\n",
    "\n",
    "# Filter non-blockbuster movies\n",
    "df_non_bb = df_runtime[df_runtime[\"revenue\"] < 400000000]"
   ]
  },
  {
   "cell_type": "code",
   "execution_count": 13,
   "metadata": {},
   "outputs": [
    {
     "data": {
      "text/plain": [
       "Ttest_indResult(statistic=6.492688211532659, pvalue=1.805738120166336e-09)"
      ]
     },
     "execution_count": 13,
     "metadata": {},
     "output_type": "execute_result"
    }
   ],
   "source": [
    "# independent t-test\n",
    "stats.ttest_ind(a=df_bb[\"runtime\"], b=df_non_bb[\"runtime\"], equal_var=False)"
   ]
  },
  {
   "cell_type": "code",
   "execution_count": 14,
   "metadata": {},
   "outputs": [
    {
     "name": "stdout",
     "output_type": "stream",
     "text": [
      "The mean difference in runtime is: 10.390489758081785\n"
     ]
    }
   ],
   "source": [
    "# calculate mean difference\n",
    "mean_diff = df_bb[\"runtime\"].mean() - df_non_bb[\"runtime\"].mean()\n",
    "\n",
    "# print the mean difference\n",
    "print(f\"The mean difference in runtime is: {mean_diff}\")"
   ]
  },
  {
   "cell_type": "code",
   "execution_count": 15,
   "metadata": {},
   "outputs": [
    {
     "data": {
      "text/plain": [
       "0.10080716900752903"
      ]
     },
     "execution_count": 15,
     "metadata": {},
     "output_type": "execute_result"
    }
   ],
   "source": [
    "# calculating the percentage difference in runtime between the mean and non-blockbuster\n",
    "diff_percent = mean_diff / df_non_bb[\"runtime\"].mean()\n",
    "\n",
    "# printing the results\n",
    "diff_percent"
   ]
  },
  {
   "cell_type": "markdown",
   "metadata": {},
   "source": [
    "#### Comment\n",
    "- The independent t-test gives us a small p-value (<< 0.05), which indicates a statistically significant difference between the samples.  \n",
    "- Further, the mean difference tells us that the blockbuster runtime is generally longer than non-blockbuster.  \n",
    "- We can conclude that longer runtime are more successful, as blockbuster movies have 10.08% longer runtime than non-blockbuster movies. "
   ]
  },
  {
   "cell_type": "code",
   "execution_count": null,
   "metadata": {},
   "outputs": [],
   "source": []
  }
 ],
 "metadata": {
  "colab": {
   "provenance": []
  },
  "kernelspec": {
   "display_name": "Python 3 (ipykernel)",
   "language": "python",
   "name": "python3"
  },
  "language_info": {
   "codemirror_mode": {
    "name": "ipython",
    "version": 3
   },
   "file_extension": ".py",
   "mimetype": "text/x-python",
   "name": "python",
   "nbconvert_exporter": "python",
   "pygments_lexer": "ipython3",
   "version": "3.9.13"
  }
 },
 "nbformat": 4,
 "nbformat_minor": 4
}
