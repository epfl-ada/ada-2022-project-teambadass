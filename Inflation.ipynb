{
 "cells": [
  {
   "cell_type": "markdown",
   "id": "fb17072e-bb6d-48cc-8dd9-72b63eea7d85",
   "metadata": {},
   "source": [
    "This notebook aims to correct budget and revenue values in our dataframe for inflation. \n",
    "We are using Headline consumer price index (CPI) inflation to correct our dataframes. \n",
    "\n",
    "Data from https://data.worldbank.org/indicator/FP.CPI.TOTL.ZG\n"
   ]
  },
  {
   "cell_type": "code",
   "execution_count": 38,
   "id": "3c6c524c-a276-450b-a3ee-bd2b384c11d4",
   "metadata": {},
   "outputs": [],
   "source": [
    "import pandas as pd"
   ]
  },
  {
   "cell_type": "code",
   "execution_count": 59,
   "id": "27c57ce4-8e1e-431d-a5da-1d7da0d2ae64",
   "metadata": {},
   "outputs": [],
   "source": [
    "data_folder = './data/'"
   ]
  },
  {
   "cell_type": "code",
   "execution_count": 60,
   "id": "b4146820-37da-4cd8-8c4c-8b520b7d5d87",
   "metadata": {},
   "outputs": [
    {
     "data": {
      "text/html": [
       "<div>\n",
       "<style scoped>\n",
       "    .dataframe tbody tr th:only-of-type {\n",
       "        vertical-align: middle;\n",
       "    }\n",
       "\n",
       "    .dataframe tbody tr th {\n",
       "        vertical-align: top;\n",
       "    }\n",
       "\n",
       "    .dataframe thead th {\n",
       "        text-align: right;\n",
       "    }\n",
       "</style>\n",
       "<table border=\"1\" class=\"dataframe\">\n",
       "  <thead>\n",
       "    <tr style=\"text-align: right;\">\n",
       "      <th></th>\n",
       "      <th>Country Name</th>\n",
       "      <th>Country Code</th>\n",
       "      <th>Indicator Name</th>\n",
       "      <th>Indicator Code</th>\n",
       "      <th>2000</th>\n",
       "      <th>2001</th>\n",
       "      <th>2002</th>\n",
       "      <th>2003</th>\n",
       "      <th>2004</th>\n",
       "      <th>2005</th>\n",
       "      <th>2006</th>\n",
       "      <th>2007</th>\n",
       "      <th>2008</th>\n",
       "      <th>2009</th>\n",
       "      <th>2010</th>\n",
       "      <th>2011</th>\n",
       "      <th>2012</th>\n",
       "    </tr>\n",
       "  </thead>\n",
       "  <tbody>\n",
       "    <tr>\n",
       "      <th>251</th>\n",
       "      <td>United States</td>\n",
       "      <td>USA</td>\n",
       "      <td>Inflation, consumer prices (annual %)</td>\n",
       "      <td>FP.CPI.TOTL.ZG</td>\n",
       "      <td>3.376857</td>\n",
       "      <td>2.826171</td>\n",
       "      <td>1.586032</td>\n",
       "      <td>2.270095</td>\n",
       "      <td>2.677237</td>\n",
       "      <td>3.392747</td>\n",
       "      <td>3.225944</td>\n",
       "      <td>2.852672</td>\n",
       "      <td>3.8391</td>\n",
       "      <td>-0.355546</td>\n",
       "      <td>1.640043</td>\n",
       "      <td>3.156842</td>\n",
       "      <td>2.069337</td>\n",
       "    </tr>\n",
       "  </tbody>\n",
       "</table>\n",
       "</div>"
      ],
      "text/plain": [
       "      Country Name Country Code                         Indicator Name  \\\n",
       "251  United States          USA  Inflation, consumer prices (annual %)   \n",
       "\n",
       "     Indicator Code      2000      2001      2002      2003      2004  \\\n",
       "251  FP.CPI.TOTL.ZG  3.376857  2.826171  1.586032  2.270095  2.677237   \n",
       "\n",
       "         2005      2006      2007    2008      2009      2010      2011  \\\n",
       "251  3.392747  3.225944  2.852672  3.8391 -0.355546  1.640043  3.156842   \n",
       "\n",
       "         2012  \n",
       "251  2.069337  "
      ]
     },
     "execution_count": 60,
     "metadata": {},
     "output_type": "execute_result"
    }
   ],
   "source": [
    "# load inflation data\n",
    "inflation = pd.read_csv(data_folder + 'inflation.csv', header=2)\n",
    "\n",
    "# only include inflation data from 2000 to 2012\n",
    "inflation = inflation[['Country Name', 'Country Code', 'Indicator Name', 'Indicator Code', '2000', '2001', '2002', '2003', '2004',\n",
    "                       '2005', '2006', '2007', '2008', '2009', '2010', '2011', '2012']]\n",
    "\n",
    "inflation.loc[inflation['Country Code']=='USA']\n",
    "# inflation.head(1)"
   ]
  },
  {
   "cell_type": "code",
   "execution_count": 58,
   "id": "81eee508-b7cb-4683-9c22-c869edd3a15a",
   "metadata": {},
   "outputs": [
    {
     "data": {
      "text/html": [
       "<div>\n",
       "<style scoped>\n",
       "    .dataframe tbody tr th:only-of-type {\n",
       "        vertical-align: middle;\n",
       "    }\n",
       "\n",
       "    .dataframe tbody tr th {\n",
       "        vertical-align: top;\n",
       "    }\n",
       "\n",
       "    .dataframe thead th {\n",
       "        text-align: right;\n",
       "    }\n",
       "</style>\n",
       "<table border=\"1\" class=\"dataframe\">\n",
       "  <thead>\n",
       "    <tr style=\"text-align: right;\">\n",
       "      <th></th>\n",
       "      <th>Country Name</th>\n",
       "      <th>Country Code</th>\n",
       "      <th>Indicator Name</th>\n",
       "      <th>Indicator Code</th>\n",
       "      <th>2000</th>\n",
       "      <th>2001</th>\n",
       "      <th>2002</th>\n",
       "      <th>2003</th>\n",
       "      <th>2004</th>\n",
       "      <th>2005</th>\n",
       "      <th>2006</th>\n",
       "      <th>2007</th>\n",
       "      <th>2008</th>\n",
       "      <th>2009</th>\n",
       "      <th>2010</th>\n",
       "      <th>2011</th>\n",
       "      <th>2012</th>\n",
       "    </tr>\n",
       "  </thead>\n",
       "  <tbody>\n",
       "    <tr>\n",
       "      <th>251</th>\n",
       "      <td>United States</td>\n",
       "      <td>USA</td>\n",
       "      <td>Inflation, consumer prices (annual %)</td>\n",
       "      <td>FP.CPI.TOTL.ZG</td>\n",
       "      <td>1</td>\n",
       "      <td>1.028262</td>\n",
       "      <td>1.04457</td>\n",
       "      <td>1.068283</td>\n",
       "      <td>1.096883</td>\n",
       "      <td>1.134098</td>\n",
       "      <td>1.170683</td>\n",
       "      <td>1.204079</td>\n",
       "      <td>1.250305</td>\n",
       "      <td>1.245859</td>\n",
       "      <td>1.266292</td>\n",
       "      <td>1.306267</td>\n",
       "      <td>1.333298</td>\n",
       "    </tr>\n",
       "  </tbody>\n",
       "</table>\n",
       "</div>"
      ],
      "text/plain": [
       "      Country Name Country Code                         Indicator Name  \\\n",
       "251  United States          USA  Inflation, consumer prices (annual %)   \n",
       "\n",
       "     Indicator Code  2000      2001     2002      2003      2004      2005  \\\n",
       "251  FP.CPI.TOTL.ZG     1  1.028262  1.04457  1.068283  1.096883  1.134098   \n",
       "\n",
       "         2006      2007      2008      2009      2010      2011      2012  \n",
       "251  1.170683  1.204079  1.250305  1.245859  1.266292  1.306267  1.333298  "
      ]
     },
     "execution_count": 61,
     "metadata": {},
     "output_type": "execute_result"
    }
   ],
   "source": [
    "# create index multiplier\n",
    "# prices will be indexed to 2000 prices\n",
    "columns = ['2000', '2001', '2002', '2003', '2004','2005', '2006', '2007', '2008', '2009', '2010', '2011', '2012']\n",
    "inflation['2000'] = 1\n",
    "for i in range(len(columns) - 1):\n",
    "    inflation[columns[i+1]] = inflation[columns[i]] * (1 + inflation[columns[i+1]] / 100)\n",
    "    \n",
    "    \n",
    "inflation.loc[inflation['Country Code']=='USA']\n",
    "# inflation.head(1)"
   ]
  },
  {
   "cell_type": "code",
   "execution_count": 64,
   "id": "d7269c5c-8dd9-40bf-b545-b737833870e6",
   "metadata": {},
   "outputs": [],
   "source": [
    "movies = pd.read_table(data_folder + 'movie.metadata.tsv', names=['wiki_id','freebase_id','name','release_date','box_office_revenue','length','language','country','genre'])"
   ]
  },
  {
   "cell_type": "code",
   "execution_count": 75,
   "id": "f7e34606-88f3-47c1-957c-c810b10f5a93",
   "metadata": {},
   "outputs": [],
   "source": [
    "movies2000 = movies[(movies['release_date'] >= '2000') & (movies['release_date'] < '2001')]"
   ]
  },
  {
   "cell_type": "code",
   "execution_count": null,
   "id": "2ade5a84-845f-40c7-8795-1d69fc604cc8",
   "metadata": {},
   "outputs": [],
   "source": [
    "movies['box_office_revenue'] = movies['box_office_revenue'] / (inflation[''])"
   ]
  },
  {
   "cell_type": "code",
   "execution_count": null,
   "id": "18e7d35a-5c62-492e-b700-7795696daf49",
   "metadata": {},
   "outputs": [],
   "source": []
  }
 ],
 "metadata": {
  "kernelspec": {
   "display_name": "Python 3 (ipykernel)",
   "language": "python",
   "name": "python3"
  },
  "language_info": {
   "codemirror_mode": {
    "name": "ipython",
    "version": 3
   },
   "file_extension": ".py",
   "mimetype": "text/x-python",
   "name": "python",
   "nbconvert_exporter": "python",
   "pygments_lexer": "ipython3",
   "version": "3.9.12"
  }
 },
 "nbformat": 4,
 "nbformat_minor": 5
}
