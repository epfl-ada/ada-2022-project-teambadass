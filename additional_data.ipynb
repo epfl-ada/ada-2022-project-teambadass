{
 "cells": [
  {
   "cell_type": "code",
   "execution_count": 2,
   "id": "b1f6b0a0-4659-4fd7-8dc8-bc53ae2717e4",
   "metadata": {},
   "outputs": [],
   "source": [
    "# imports\n",
    "import pandas as pd\n",
    "import matplotlib.pyplot as plt\n",
    "import numpy as np\n",
    "from scipy import stats\n",
    "from helpers import bootstrap_CI, correct_for_inflation\n",
    "import statsmodels.api as sm\n",
    "import statsmodels.formula.api as smf\n",
    "\n",
    "# turn off warning\n",
    "# pd.options.mode.chained_assignment = None"
   ]
  },
  {
   "cell_type": "code",
   "execution_count": 3,
   "id": "21a59f94-67cb-4357-83cd-6bf6c66a2bb7",
   "metadata": {},
   "outputs": [],
   "source": [
    "# constants\n",
    "data_folder = './data/'\n",
    "MOVIE_PATH = data_folder + 'movie.metadata.tsv'\n",
    "CHARACTER_PATH = data_folder + 'character.metadata.tsv'\n",
    "IMDB_MOVIES_PATH = data_folder + 'title.basics.tsv.gz'\n",
    "RATING_PATH = data_folder + 'title.ratings.tsv'\n",
    "BUDGET_PATH = data_folder + 'budget.csv'"
   ]
  },
  {
   "cell_type": "code",
   "execution_count": 4,
   "id": "cd44aaa4-5c6b-4bca-a648-9e3f74dfb4e1",
   "metadata": {},
   "outputs": [],
   "source": [
    "# create dataframes\n",
    "\n",
    "# define collumn names\n",
    "colnames_movies = [\n",
    "    \"wikipedia_movie_ID\",\n",
    "    \"freebase_movie_ID\",\n",
    "    \"movie_name\",\n",
    "    \"movie_release_date\",\n",
    "    \"movie_box_office_revenue\",\n",
    "    \"movie_runtime\",\n",
    "    \"movie_languages\",\n",
    "    \"movie_countries\",\n",
    "    \"movie_genres\",\n",
    "]\n",
    "\n",
    "colnames_character = [\n",
    "    \"wikipedia_movie_ID\",\n",
    "    \"freebase_movie_ID\",\n",
    "    \"last_update\",\n",
    "    \"character_name\",\n",
    "    \"actor_DOB\",\n",
    "    \"actor_gender\",\n",
    "    \"actor_height\",\n",
    "    \"actor_ethnicity\",\n",
    "    \"actor_name\",\n",
    "    \"actor_age_at_movie_release\",\n",
    "    \"freebase_character/actor_map_ID\",\n",
    "    \"freebase_character_ID\",\n",
    "    \"freebase_actor_ID\",\n",
    "]\n",
    "\n",
    "\n",
    "# load data\n",
    "movies = pd.read_csv(MOVIE_PATH, sep=\"\\t\", names=colnames_movies, header=None)\n",
    "characters = pd.read_csv(\n",
    "    CHARACTER_PATH, sep=\"\\t\", names=colnames_character, header=None\n",
    ")\n",
    "budget = pd.read_csv(BUDGET_PATH, usecols=['budget', 'original_title'])\n",
    "imdb_movies = pd.read_table(IMDB_MOVIES_PATH, sep='\\t', usecols=['tconst', 'originalTitle'])\n",
    "imdb_ratings = pd.read_table(RATING_PATH, sep='\\t')"
   ]
  },
  {
   "cell_type": "code",
   "execution_count": 5,
   "id": "66550f07-5783-4f3f-8089-94be47153d94",
   "metadata": {},
   "outputs": [],
   "source": [
    "# merge 'movies' with 'budget'\n",
    "movies = pd.merge(left=movies, right=budget, how='left', left_on='movie_name', right_on='original_title')\n",
    "\n",
    "# merge 'imdb_movies' with 'imdb_ratings':\n",
    "imdb_movies = pd.merge(left=imdb_movies, right=imdb_ratings, on='tconst')\n",
    "\n",
    "# merge 'movies' with 'imdb_movies' + 'imdb_ratings'\n",
    "movies =pd.merge(left=movies, right=imdb_movies, how='left', left_on='movie_name', right_on='originalTitle')\n",
    "\n",
    "# include relevant column names\n",
    "extended_colnames_movies = colnames_movies.copy()\n",
    "extended_colnames_movies.extend(['budget', 'averageRating', 'numVotes'])\n",
    "movies = movies[extended_colnames_movies]"
   ]
  },
  {
   "cell_type": "code",
   "execution_count": 6,
   "id": "03bba50d-da00-4946-b670-04c0fc7f7d73",
   "metadata": {},
   "outputs": [
    {
     "data": {
      "text/html": [
       "<div>\n",
       "<style scoped>\n",
       "    .dataframe tbody tr th:only-of-type {\n",
       "        vertical-align: middle;\n",
       "    }\n",
       "\n",
       "    .dataframe tbody tr th {\n",
       "        vertical-align: top;\n",
       "    }\n",
       "\n",
       "    .dataframe thead th {\n",
       "        text-align: right;\n",
       "    }\n",
       "</style>\n",
       "<table border=\"1\" class=\"dataframe\">\n",
       "  <thead>\n",
       "    <tr style=\"text-align: right;\">\n",
       "      <th></th>\n",
       "      <th>wikipedia_movie_ID</th>\n",
       "      <th>freebase_movie_ID</th>\n",
       "      <th>movie_name</th>\n",
       "      <th>movie_release_date</th>\n",
       "      <th>movie_box_office_revenue</th>\n",
       "      <th>movie_runtime</th>\n",
       "      <th>movie_languages</th>\n",
       "      <th>movie_countries</th>\n",
       "      <th>movie_genres</th>\n",
       "      <th>budget</th>\n",
       "      <th>averageRating</th>\n",
       "      <th>numVotes</th>\n",
       "    </tr>\n",
       "  </thead>\n",
       "  <tbody>\n",
       "    <tr>\n",
       "      <th>0</th>\n",
       "      <td>975900</td>\n",
       "      <td>/m/03vyhn</td>\n",
       "      <td>Ghosts of Mars</td>\n",
       "      <td>2001-08-24</td>\n",
       "      <td>14010832.0</td>\n",
       "      <td>98.0</td>\n",
       "      <td>{\"/m/02h40lc\": \"English Language\"}</td>\n",
       "      <td>{\"/m/09c7w0\": \"United States of America\"}</td>\n",
       "      <td>{\"/m/01jfsb\": \"Thriller\", \"/m/06n90\": \"Science...</td>\n",
       "      <td>28000000</td>\n",
       "      <td>4.9</td>\n",
       "      <td>55032.0</td>\n",
       "    </tr>\n",
       "  </tbody>\n",
       "</table>\n",
       "</div>"
      ],
      "text/plain": [
       "   wikipedia_movie_ID freebase_movie_ID      movie_name movie_release_date  \\\n",
       "0              975900         /m/03vyhn  Ghosts of Mars         2001-08-24   \n",
       "\n",
       "   movie_box_office_revenue  movie_runtime  \\\n",
       "0                14010832.0           98.0   \n",
       "\n",
       "                      movie_languages  \\\n",
       "0  {\"/m/02h40lc\": \"English Language\"}   \n",
       "\n",
       "                             movie_countries  \\\n",
       "0  {\"/m/09c7w0\": \"United States of America\"}   \n",
       "\n",
       "                                        movie_genres    budget  averageRating  \\\n",
       "0  {\"/m/01jfsb\": \"Thriller\", \"/m/06n90\": \"Science...  28000000            4.9   \n",
       "\n",
       "   numVotes  \n",
       "0   55032.0  "
      ]
     },
     "execution_count": 6,
     "metadata": {},
     "output_type": "execute_result"
    }
   ],
   "source": [
    "movies.head(1)"
   ]
  },
  {
   "cell_type": "code",
   "execution_count": 7,
   "id": "deee81e7-931d-4a24-9755-c00a4564eac5",
   "metadata": {},
   "outputs": [
    {
     "data": {
      "text/html": [
       "<div>\n",
       "<style scoped>\n",
       "    .dataframe tbody tr th:only-of-type {\n",
       "        vertical-align: middle;\n",
       "    }\n",
       "\n",
       "    .dataframe tbody tr th {\n",
       "        vertical-align: top;\n",
       "    }\n",
       "\n",
       "    .dataframe thead th {\n",
       "        text-align: right;\n",
       "    }\n",
       "</style>\n",
       "<table border=\"1\" class=\"dataframe\">\n",
       "  <thead>\n",
       "    <tr style=\"text-align: right;\">\n",
       "      <th></th>\n",
       "      <th>wikipedia_movie_ID</th>\n",
       "      <th>freebase_movie_ID</th>\n",
       "      <th>last_update</th>\n",
       "      <th>character_name</th>\n",
       "      <th>actor_DOB</th>\n",
       "      <th>actor_gender</th>\n",
       "      <th>actor_height</th>\n",
       "      <th>actor_ethnicity</th>\n",
       "      <th>actor_name</th>\n",
       "      <th>actor_age_at_movie_release</th>\n",
       "      <th>freebase_character/actor_map_ID</th>\n",
       "      <th>freebase_character_ID</th>\n",
       "      <th>freebase_actor_ID</th>\n",
       "    </tr>\n",
       "  </thead>\n",
       "  <tbody>\n",
       "    <tr>\n",
       "      <th>0</th>\n",
       "      <td>975900</td>\n",
       "      <td>/m/03vyhn</td>\n",
       "      <td>2001-08-24</td>\n",
       "      <td>Akooshay</td>\n",
       "      <td>1958-08-26</td>\n",
       "      <td>F</td>\n",
       "      <td>1.62</td>\n",
       "      <td>NaN</td>\n",
       "      <td>Wanda De Jesus</td>\n",
       "      <td>42.0</td>\n",
       "      <td>/m/0bgchxw</td>\n",
       "      <td>/m/0bgcj3x</td>\n",
       "      <td>/m/03wcfv7</td>\n",
       "    </tr>\n",
       "  </tbody>\n",
       "</table>\n",
       "</div>"
      ],
      "text/plain": [
       "   wikipedia_movie_ID freebase_movie_ID last_update character_name  \\\n",
       "0              975900         /m/03vyhn  2001-08-24       Akooshay   \n",
       "\n",
       "    actor_DOB actor_gender  actor_height actor_ethnicity      actor_name  \\\n",
       "0  1958-08-26            F          1.62             NaN  Wanda De Jesus   \n",
       "\n",
       "   actor_age_at_movie_release freebase_character/actor_map_ID  \\\n",
       "0                        42.0                      /m/0bgchxw   \n",
       "\n",
       "  freebase_character_ID freebase_actor_ID  \n",
       "0            /m/0bgcj3x        /m/03wcfv7  "
      ]
     },
     "execution_count": 7,
     "metadata": {},
     "output_type": "execute_result"
    }
   ],
   "source": [
    "characters.head(1)"
   ]
  },
  {
   "cell_type": "code",
   "execution_count": 8,
   "id": "2add961c-710b-44ac-970a-74346e112d7b",
   "metadata": {},
   "outputs": [
    {
     "data": {
      "text/plain": [
       "SpearmanrResult(correlation=0.3101978333787034, pvalue=0.0)"
      ]
     },
     "execution_count": 8,
     "metadata": {},
     "output_type": "execute_result"
    }
   ],
   "source": [
    "movies_budget = movies[~movies[\"budget\"].isna()]\n",
    "movies_budget = movies_budget[~movies_budget[\"movie_box_office_revenue\"].isna()]\n",
    "\n",
    "stats.spearmanr(movies_budget[\"budget\"], movies_budget[\"movie_box_office_revenue\"])"
   ]
  },
  {
   "cell_type": "code",
   "execution_count": 27,
   "id": "a48f51fe-0f04-4838-b97b-15310fec8080",
   "metadata": {},
   "outputs": [
    {
     "data": {
      "text/plain": [
       "<AxesSubplot:>"
      ]
     },
     "execution_count": 27,
     "metadata": {},
     "output_type": "execute_result"
    },
    {
     "data": {
      "image/png": "[encoded data removed]",
      "text/plain": [
       "<Figure size 640x480 with 1 Axes>"
      ]
     },
     "metadata": {},
     "output_type": "display_data"
    }
   ],
   "source": [
    "movies_budget['budget'] = pd.to_numeric(movies_budget['budget'])\n",
    "movies_budget['movie_box_office_revenue'].hist(log=True, bins=80)\n",
    "movies_budget['budget'].hist(log=True, bins=20)"
   ]
  },
  {
   "cell_type": "code",
   "execution_count": 39,
   "id": "38a9523e-a8ee-4bc8-9c7d-b6f526b855c0",
   "metadata": {},
   "outputs": [
    {
     "data": {
      "text/plain": [
       "67089"
      ]
     },
     "execution_count": 39,
     "metadata": {},
     "output_type": "execute_result"
    }
   ],
   "source": [
    "movies_budget['budget'].idxmax()"
   ]
  },
  {
   "cell_type": "code",
   "execution_count": 41,
   "id": "a31cf58d-e3c3-4fb0-9f2e-c287ba95ade9",
   "metadata": {},
   "outputs": [
    {
     "data": {
      "text/plain": [
       "wikipedia_movie_ID                                                   24314116\n",
       "freebase_movie_ID                                                  /m/09v8clw\n",
       "movie_name                        Pirates of the Caribbean: On Stranger Tides\n",
       "movie_release_date                                                 2011-05-07\n",
       "movie_box_office_revenue                                         1043871802.0\n",
       "movie_runtime                                                           136.0\n",
       "movie_languages                            {\"/m/02h40lc\": \"English Language\"}\n",
       "movie_countries                     {\"/m/09c7w0\": \"United States of America\"}\n",
       "movie_genres                {\"/m/02qvnvs\": \"Swashbuckler films\", \"/m/03k9f...\n",
       "budget                                                              380000000\n",
       "averageRating                                                             6.6\n",
       "numVotes                                                             525990.0\n",
       "Name: 67089, dtype: object"
      ]
     },
     "execution_count": 41,
     "metadata": {},
     "output_type": "execute_result"
    }
   ],
   "source": [
    "movies_budget.loc[67089]"
   ]
  },
  {
   "cell_type": "code",
   "execution_count": null,
   "id": "971df775-0c74-426a-8164-a859e9bf3d2f",
   "metadata": {},
   "outputs": [],
   "source": []
  }
 ],
 "metadata": {
  "kernelspec": {
   "display_name": "Python 3 (ipykernel)",
   "language": "python",
   "name": "python3"
  },
  "language_info": {
   "codemirror_mode": {
    "name": "ipython",
    "version": 3
   },
   "file_extension": ".py",
   "mimetype": "text/x-python",
   "name": "python",
   "nbconvert_exporter": "python",
   "pygments_lexer": "ipython3",
   "version": "3.9.12"
  }
 },
 "nbformat": 4,
 "nbformat_minor": 5
}
