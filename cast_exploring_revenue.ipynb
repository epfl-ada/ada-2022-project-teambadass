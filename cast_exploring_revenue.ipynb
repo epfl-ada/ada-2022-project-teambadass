{
 "cells": [
  {
   "cell_type": "markdown",
   "id": "0fa370f5-5191-43d6-8ba8-44454131fd4d",
   "metadata": {},
   "source": [
    "# Cast\n",
    "- This notebook intends to investigate the casts of the CMU Movie Summary Corpus dataset.\n",
    "- The notebook will do some initial analyses to see how the cast and individual movie actors affects the box office revenue."
   ]
  },
  {
   "cell_type": "markdown",
   "id": "06140871-7aa4-4f2e-b1e7-d52bb95c8214",
   "metadata": {},
   "source": [
    "**Summary**"
   ]
  },
  {
   "cell_type": "markdown",
   "id": "e2f5aba1-df51-44e1-8aed-3117555f01b0",
   "metadata": {},
   "source": [
    "- By including all actors that have played in more than 15 movies, we get $R^2$=xx\n",
    "- "
   ]
  },
  {
   "cell_type": "markdown",
   "id": "9c4f575f-bfbf-47a1-bd1b-209e1f9f7b2c",
   "metadata": {},
   "source": [
    "**Contents of Notebook**"
   ]
  },
  {
   "cell_type": "markdown",
   "id": "9548e9a9-5d5f-46f6-926f-8958841f05e3",
   "metadata": {},
   "source": [
    "-"
   ]
  },
  {
   "cell_type": "code",
   "execution_count": 1,
   "id": "0043cd7e-1ec1-4f4a-9d1b-aa638a3a5eb4",
   "metadata": {},
   "outputs": [],
   "source": [
    "# imports\n",
    "import pandas as pd\n",
    "import matplotlib.pyplot as plt\n",
    "import numpy as np\n",
    "from scipy import stats\n",
    "import statsmodels.api as sm\n",
    "import statsmodels.formula.api as smf\n",
    "\n",
    "# turn off warning\n",
    "pd.options.mode.chained_assignment = None"
   ]
  },
  {
   "cell_type": "code",
   "execution_count": 2,
   "id": "095e9277-f7ca-4492-a78d-d775baf1d1a0",
   "metadata": {},
   "outputs": [],
   "source": [
    "# constants\n",
    "data_folder = './data/'\n",
    "MOVIE_PATH = data_folder + 'movie.metadata.tsv'\n",
    "CHARACTER_PATH = data_folder + 'character.metadata.tsv'\n",
    "RATING_PATH = data_folder + 'title.ratings.tsv'"
   ]
  },
  {
   "cell_type": "markdown",
   "id": "cd47db07-4825-441b-9beb-2ec3544844fa",
   "metadata": {
    "tags": []
   },
   "source": [
    "# Data Processing"
   ]
  },
  {
   "cell_type": "markdown",
   "id": "a41e1a76-356d-4eef-890c-3adceafb18cf",
   "metadata": {},
   "source": [
    "### Loading data"
   ]
  },
  {
   "cell_type": "code",
   "execution_count": 3,
   "id": "4c5de39f-84aa-427e-a990-8348638dc5be",
   "metadata": {},
   "outputs": [],
   "source": [
    "# create dataframes\n",
    "\n",
    "# define collumn names\n",
    "colnames_movies = [\n",
    "    \"wikipedia_movie_ID\",\n",
    "    \"freebase_movie_ID\",\n",
    "    \"name\",\n",
    "    \"release_date\",\n",
    "    \"box_office_revenue\",\n",
    "    \"runtime\",\n",
    "    \"languages\",\n",
    "    \"countries\",\n",
    "    \"genres\",\n",
    "]\n",
    "\n",
    "\n",
    "colnames_character = [\n",
    "    \"wikipedia_movie_ID\",\n",
    "    \"freebase_movie_ID\",\n",
    "    \"last_update\",\n",
    "    \"character_name\",\n",
    "    \"actor_DOB\",\n",
    "    \"actor_gender\",\n",
    "    \"actor_height\",\n",
    "    \"actor_ethnicity\",\n",
    "    \"actor_name\",\n",
    "    \"actor_age_at_movie_release\",\n",
    "    \"freebase_character/actor_map_ID\",\n",
    "    \"freebase_character_ID\",\n",
    "    \"freebase_actor_ID\",\n",
    "]\n",
    "\n",
    "\n",
    "# load data\n",
    "movies = pd.read_csv(MOVIE_PATH, sep=\"\\t\", names=colnames_movies, header=None)\n",
    "characters = pd.read_csv(\n",
    "    CHARACTER_PATH, sep=\"\\t\", names=colnames_character, header=None\n",
    ")"
   ]
  },
  {
   "cell_type": "code",
   "execution_count": 4,
   "id": "408c6388-e81b-4978-a3c5-e7b5bdcf13f2",
   "metadata": {},
   "outputs": [
    {
     "data": {
      "text/plain": [
       "(24496, 9)"
      ]
     },
     "execution_count": 4,
     "metadata": {},
     "output_type": "execute_result"
    }
   ],
   "source": [
    "# Removing movies from before 2000\n",
    "movies = movies[movies['release_date'] >= '2000']\n",
    "movies.shape"
   ]
  },
  {
   "cell_type": "code",
   "execution_count": 5,
   "id": "2a8d7108-2bf0-4204-8d24-552663ea08a7",
   "metadata": {},
   "outputs": [
    {
     "data": {
      "text/plain": [
       "(24496, 9)"
      ]
     },
     "execution_count": 5,
     "metadata": {},
     "output_type": "execute_result"
    }
   ],
   "source": [
    "movies.shape"
   ]
  },
  {
   "cell_type": "code",
   "execution_count": 6,
   "id": "0b630d3a-d3d1-474e-921f-00288d6b125f",
   "metadata": {},
   "outputs": [
    {
     "data": {
      "text/plain": [
       "(450669, 13)"
      ]
     },
     "execution_count": 6,
     "metadata": {},
     "output_type": "execute_result"
    }
   ],
   "source": [
    "characters.shape"
   ]
  },
  {
   "cell_type": "code",
   "execution_count": 7,
   "id": "d99929d5-9c80-4a14-bc02-9841507fec6f",
   "metadata": {},
   "outputs": [],
   "source": [
    "# Merging movies with characters on wiki_id. \n",
    "movies_characters = pd.merge(left=movies, right=characters, on=['wikipedia_movie_ID', 'freebase_movie_ID'])"
   ]
  },
  {
   "cell_type": "code",
   "execution_count": null,
   "id": "7261abfb-092d-4afc-971a-986a25da478f",
   "metadata": {},
   "outputs": [],
   "source": [
    "movies_characters.isna().sum()"
   ]
  },
  {
   "cell_type": "markdown",
   "id": "dfaad523-8abb-44c7-99ff-c32671e7b1c0",
   "metadata": {},
   "source": [
    "Comment: Both box office revenue and freebase actor ID contain some NaN values we want to remove before exploring actors' effect on revenue. "
   ]
  },
  {
   "cell_type": "code",
   "execution_count": null,
   "id": "4897d08f-5649-4671-8ef5-afd13f98e1df",
   "metadata": {},
   "outputs": [],
   "source": [
    "# Removing movies without freebase_actor_id\n",
    "movies_characters = movies_characters[movies_characters['freebase_actor_ID'].notna()]\n",
    "\n",
    "# Removing movies without box_office_revenue\n",
    "movies_characters = movies_characters[movies_characters['freebase_actor_ID'].notna()]"
   ]
  },
  {
   "cell_type": "code",
   "execution_count": null,
   "id": "39513f03-dfd9-4368-9e4a-f1de381af368",
   "metadata": {},
   "outputs": [],
   "source": [
    "movie_count = movies_characters.shape[0]\n",
    "unique_combos = movies_characters.value_counts(subset=['wikipedia_movie_ID', 'freebase_actor_ID'], dropna=False).shape[0]\n",
    "\n",
    "print(\n",
    "    \"\"\"\n",
    "    Total number of movies in our merged dataset: {}\n",
    "    Unique number of combinations of 'wikipedia_movie_ID' and 'freebase_actor_ID': {}\n",
    "    \"\"\".format(movie_count, unique_combos))"
   ]
  },
  {
   "cell_type": "markdown",
   "id": "5ce2502c-770b-495f-b1a6-5be0e1f66061",
   "metadata": {},
   "source": [
    "Comment: Some actors are listed mulitple times because they play different characters in the same movie. We only want unique combinations of 'wikipedia_movie_ID' and 'freebase_actor_ID'. \n"
   ]
  },
  {
   "cell_type": "code",
   "execution_count": null,
   "id": "9a894371-302c-489c-8c1e-aa7e6a4fa8dd",
   "metadata": {},
   "outputs": [],
   "source": [
    "# We filter out duplicated combinations of 'wikipedia_movie_ID' and 'freebase_actor_ID'. \n",
    "# For now, we do not care which row we keep\n",
    "movies_characters = movies_characters.drop_duplicates(subset=['wikipedia_movie_ID', 'freebase_actor_ID'], keep='first')"
   ]
  },
  {
   "cell_type": "code",
   "execution_count": null,
   "id": "4b40fffb-96be-40b2-8788-5a95aaa8dd59",
   "metadata": {},
   "outputs": [],
   "source": []
  },
  {
   "cell_type": "code",
   "execution_count": null,
   "id": "2a3f0f09-9f3f-426e-85eb-29eafe3339d5",
   "metadata": {},
   "outputs": [],
   "source": [
    "movies_characters[['wikipedia_movie_ID', 'freebase_actor_ID']].value_counts().shape"
   ]
  },
  {
   "cell_type": "code",
   "execution_count": null,
   "id": "03b6289c-7923-45da-a197-53f1e6bb5746",
   "metadata": {},
   "outputs": [],
   "source": [
    "# Number of unique movies\n",
    "num_movies = movies_characters[\"wikipedia_movie_ID\"].nunique()\n",
    "num_movies"
   ]
  },
  {
   "cell_type": "code",
   "execution_count": null,
   "id": "7cfdc8a5-d15a-4882-b753-c220d7f5ef6a",
   "metadata": {},
   "outputs": [],
   "source": [
    "# Number of unique actors in dataset\n",
    "num_actors_unique = movies_characters[\"freebase_actor_ID\"].nunique()\n",
    "num_actors_unique"
   ]
  },
  {
   "cell_type": "code",
   "execution_count": null,
   "id": "1c70cd33-29c5-47f0-9f8e-a311bbafa1c1",
   "metadata": {},
   "outputs": [],
   "source": [
    "# Checking number of actors in dataset, counting actors multiple times if they play\n",
    "# in multiple movies\n",
    "count_actors = movies_characters[\"freebase_actor_ID\"].count()\n",
    "count_actors"
   ]
  },
  {
   "cell_type": "code",
   "execution_count": null,
   "id": "e05cbc0d-9308-4c2f-aa41-c1265429433d",
   "metadata": {},
   "outputs": [],
   "source": [
    "# Number of actors on average per movie\n",
    "count_actors / num_movies"
   ]
  },
  {
   "cell_type": "code",
   "execution_count": null,
   "id": "e9e3509b-8d72-4fbe-870a-05510225ea90",
   "metadata": {},
   "outputs": [],
   "source": [
    "# One Hot Encoding of Actors\n",
    "movies_characters_dummy = pd.get_dummies(data=movies_characters, columns=['freebase_actor_ID'])\n",
    "\n",
    "# As long as the actor have played in the movie, we want to display the corresponding value as 1\n",
    "# If the actor has played multiple characters in the same movie, the value is still 1\n",
    "movies_characters_dummy = movies_characters_dummy"
   ]
  },
  {
   "cell_type": "code",
   "execution_count": null,
   "id": "dbe6e913-5834-4a56-92ea-f1c164d68736",
   "metadata": {},
   "outputs": [],
   "source": [
    "movies_characters_dummy.apply(lambda x: )"
   ]
  },
  {
   "cell_type": "code",
   "execution_count": null,
   "id": "3aa1d4cd-d1aa-44a1-b631-ac506dedaf70",
   "metadata": {},
   "outputs": [],
   "source": [
    "# Only include wikipedia movie ID and one hot encoding of actors in dataframe\n",
    "dummy_actor_columns = movies_characters_dummy.filter(regex='wikipedia_movie_ID|freebase_actor_ID_')"
   ]
  },
  {
   "cell_type": "code",
   "execution_count": null,
   "id": "a759902f-b2c4-428e-b18b-b4d8b10c5739",
   "metadata": {},
   "outputs": [],
   "source": [
    "# Only include actor columns that correspond to actors that have played in more than 16 movies\n",
    "# Threshold=16 is the lowest we can go to not exceed the maximum recursion depth in the\n",
    "# linear regression, which we will get back to. \n",
    "dummy_actor_columns = dummy_actor_columns.loc[:, dummy_actor_columns.sum(axis=0) > 16]"
   ]
  },
  {
   "cell_type": "code",
   "execution_count": null,
   "id": "3668ed53-f897-4e35-834f-08b467518589",
   "metadata": {},
   "outputs": [],
   "source": [
    "# Grouping movies such that every movie correspond to only one row in the dataframe\n",
    "dummy_actor_columns = dummy_actor_columns.groupby('wikipedia_movie_ID').agg('sum')"
   ]
  },
  {
   "cell_type": "code",
   "execution_count": null,
   "id": "93282567-3bb4-4d8a-b8f0-b638d03ffd2a",
   "metadata": {},
   "outputs": [],
   "source": [
    "dummy_actor_columns.shape"
   ]
  },
  {
   "cell_type": "code",
   "execution_count": null,
   "id": "440cff88-72b7-4b13-831b-365f29094fac",
   "metadata": {},
   "outputs": [],
   "source": [
    "# Merging dummy actor columns with the movies\n",
    "movies_binary_actors = pd.merge(movies, dummy_actor_columns, left_on='wikipedia_movie_ID', right_index=True)\n",
    "movies_binary_actors.head(1)"
   ]
  },
  {
   "cell_type": "code",
   "execution_count": null,
   "id": "2f74f20b-0b83-4461-974d-d5640ef33d25",
   "metadata": {},
   "outputs": [],
   "source": [
    "# Removing slashes in column names to avoid error in regression. \n",
    "movies_binary_actors.columns = movies_binary_actors.columns.str.replace('/', '')\n",
    "dummy_actor_columns.columns = dummy_actor_columns.columns.str.replace('/', '')"
   ]
  },
  {
   "cell_type": "code",
   "execution_count": null,
   "id": "0fcc447d-25aa-4f0d-9478-4a0a815cb15d",
   "metadata": {},
   "outputs": [],
   "source": [
    "# Constructing formula used for regression\n",
    "# For now we only include actors as categorical predictors\n",
    "formula = 'box_office_revenue ~ '\n",
    "for col in dummy_actor_columns.columns:\n",
    "    formula += 'C(' + col + ')+'\n",
    "    \n",
    "formula = formula[:-1]"
   ]
  },
  {
   "cell_type": "code",
   "execution_count": null,
   "id": "1d83c6c9-5b6d-4282-ad81-0454645915eb",
   "metadata": {},
   "outputs": [],
   "source": [
    "# Linear regression\n",
    "mod = smf.ols(formula=formula, data=movies_binary_actors)\n",
    "res = mod.fit()\n",
    "res_summary = res.summary()"
   ]
  },
  {
   "cell_type": "code",
   "execution_count": null,
   "id": "8e86636f-37ce-43eb-9bda-822177beb927",
   "metadata": {},
   "outputs": [],
   "source": [
    "# Note: The smallest eigenvalue is 3.33e-30. This might indicate that there are\n",
    "# strong multicollinearity problems"
   ]
  },
  {
   "cell_type": "code",
   "execution_count": null,
   "id": "cac1a69d-79a9-4110-b225-654c4aeeea5b",
   "metadata": {},
   "outputs": [],
   "source": [
    "print(\"Our model with actors that played in more than 16 movies gets R-squared = {:.2f}\".format(res.rsquared))\n",
    "print(\"The corresponding adjusted R-squared is: {:.2f}\".format(res.rsquared_adj))"
   ]
  },
  {
   "cell_type": "markdown",
   "id": "4d47ff2d-5477-4da2-82cd-f63a59dcccc9",
   "metadata": {},
   "source": [
    "Comment: \n",
    "Our model explains 70% of the change in the box office revenue. However, we have many variables included (actors), which could make our model look more accurate even if there are many actors poorly contributing in some way. The adjusted R-squared score (56%) may be telling us that some variables are not contributing to our model’s R-squared properly. There are also most likely confounders in place. "
   ]
  },
  {
   "cell_type": "code",
   "execution_count": null,
   "id": "53fa35df-ef25-41c2-af71-5d3cfe591935",
   "metadata": {},
   "outputs": [],
   "source": [
    "# Turning result summary into a dataframe\n",
    "res_as_html = res_summary.tables[1].as_html()\n",
    "summary_df = pd.read_html(res_as_html, header=0, index_col=0)[0]"
   ]
  },
  {
   "cell_type": "code",
   "execution_count": null,
   "id": "9ad924d8-9c79-46de-b892-25c029a35f11",
   "metadata": {},
   "outputs": [],
   "source": [
    "summary_df.head(1)"
   ]
  },
  {
   "cell_type": "code",
   "execution_count": null,
   "id": "2f9c0221-dcc1-4297-80a3-510e335de891",
   "metadata": {},
   "outputs": [],
   "source": [
    "# Only including actors with p-value < 0.05.\n",
    "# Statistically significant actors\n",
    "summary_df = summary_df[summary_df['P>|t|'] < 0.05]\n",
    "\n",
    "# Sorting the dataframe in descending order according to coefficient\n",
    "summary_df.sort_values(by='coef', ascending=False, inplace=True)\n",
    "summary_df.head(1)"
   ]
  },
  {
   "cell_type": "code",
   "execution_count": null,
   "id": "545e1942-faaa-428a-9aa7-ea8d84dc4431",
   "metadata": {},
   "outputs": [],
   "source": []
  }
 ],
 "metadata": {
  "kernelspec": {
   "display_name": "Python 3 (ipykernel)",
   "language": "python",
   "name": "python3"
  },
  "language_info": {
   "codemirror_mode": {
    "name": "ipython",
    "version": 3
   },
   "file_extension": ".py",
   "mimetype": "text/x-python",
   "name": "python",
   "nbconvert_exporter": "python",
   "pygments_lexer": "ipython3",
   "version": "3.9.12"
  }
 },
 "nbformat": 4,
 "nbformat_minor": 5
}
