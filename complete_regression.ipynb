{
 "cells": [
  {
   "cell_type": "code",
   "execution_count": null,
   "id": "da3cf867-6202-43d3-b5d9-fea409a9e50c",
   "metadata": {},
   "outputs": [],
   "source": []
  },
  {
   "cell_type": "code",
   "execution_count": null,
   "id": "07c3bb6f-0ee6-4d72-9848-7be588f8611a",
   "metadata": {},
   "outputs": [],
   "source": [
    "# One Hot Encoding of Genres\n",
    "import json\n",
    "\n",
    "for dict_ in movies_characters['genre']:\n",
    "    # using json.loads()\n",
    "    # convert dictionary string to dictionary\n",
    "    dict_ = json.loads(dict_)\n",
    "    \n",
    "for key, val in dict_.items():\n",
    "    print(key, val)\n",
    "    \n",
    "# Making a dataframe with genre as columns\n",
    "# Movie has 1 or 0 in genre columns depending on whether the movie includes the corresponding genre\n",
    "binary_genre_df = pd.get_dummies(movies_characters['genre'])\n",
    "binary_genre_df.sum()"
   ]
  },
  {
   "cell_type": "code",
   "execution_count": null,
   "id": "4440332d-1d80-4b3f-aa7a-5898fcab223c",
   "metadata": {},
   "outputs": [],
   "source": [
    "# Standardization of continuous predictors\n",
    "movies_binary_actors['length'] = (movies_binary_actors['length'] - movies_binary_actors['length'].mean())/movies_binary_actors['length'].std()"
   ]
  }
 ],
 "metadata": {
  "kernelspec": {
   "display_name": "Python 3 (ipykernel)",
   "language": "python",
   "name": "python3"
  },
  "language_info": {
   "codemirror_mode": {
    "name": "ipython",
    "version": 3
   },
   "file_extension": ".py",
   "mimetype": "text/x-python",
   "name": "python",
   "nbconvert_exporter": "python",
   "pygments_lexer": "ipython3",
   "version": "3.9.12"
  }
 },
 "nbformat": 4,
 "nbformat_minor": 5
}
