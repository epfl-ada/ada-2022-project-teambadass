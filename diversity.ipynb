{
 "cells": [
  {
   "cell_type": "markdown",
   "id": "2a9c7d04-c5a2-48d1-8185-ed8bd5da4172",
   "metadata": {
    "tags": []
   },
   "source": [
    "# Diversity"
   ]
  },
  {
   "cell_type": "markdown",
   "id": "91ef8f4e-8a79-4cda-9f90-c100d7313a46",
   "metadata": {},
   "source": [
    "- This notebook intends to investigate the diversity of the [CMU Movie Summary Corpus](http://www.cs.cmu.edu/~ark/personas/) dataset.\n",
    "- The notebook will look at the distribution of ethnicities and gender and how it correlates with a movie's revenue."
   ]
  },
  {
   "cell_type": "markdown",
   "id": "45ed174a-3b58-4ba8-b74b-d78a2749e03b",
   "metadata": {},
   "source": [
    "---\n",
    "**Summary**\n",
    "- Diverse movies have, on average, ~27.3% higher movie box office revenue.\n",
    "- Movies with the majority of male actors have, on average, ~50.9% higher movie box office revenue.\n",
    "- The results are intriguing, and we would like to pursue this aspect in further analysis in milestone 3."
   ]
  },
  {
   "cell_type": "markdown",
   "id": "faecb06c-0011-400f-aa9f-e317f05a2ceb",
   "metadata": {
    "tags": []
   },
   "source": [
    "---\n",
    "**Contents of notebook:**\n",
    "<div class=\"toc\"><ul class=\"toc-item\"><li><span><a href=\"#Data-Processing\" data-toc-modified-id=\"Data Processing\">Data Processing</a></span><ul class=\"toc-item\"><li><span><a href=\"#Loading-data\" data-toc-modified-id=\"Loading data\">Loading data</a></span><li><span><a href=\"#Removing-null-values\" data-toc-modified-id=\"Removing null values\">Removing null values</a></span></li></ul><li><span><a href=\"#Distributions\" data-toc-modified-id=\"Distributions\">Distributions</a></span><ul class=\"toc-item\"><li><span><a href=\"#Distribution-of-release-dates\" data-toc-modified-id=\"Distribution of release dates\">Distribution of release dates</a></span></li><ul class=\"toc-item\"><li><span><a href=\"#Adjusting-for-inflation\" data-toc-modified-id=\"Adjusting for inflation\">Adjusting for inflation</a></span></li></ul><li><span><a href=\"#Distribution-of-actors\" data-toc-modified-id=\"Distribution of actors\">Distribution of actors</a></span></li><ul class=\"toc-item\"><li><span><a href=\"#Threshold\" data-toc-modified-id=\"Threshold\">Threshold</a></span></li></ul></ul></li><li><span><a href=\"#Ethnicity\" data-toc-modified-id=\"Ethnicitry\">Ethnicity</a></span><ul class=\"toc-item\"><li><span><a href=\"#Correlation-between-the-number-of-ethnicites-and-revenue\" data-toc-modified-id=\"Correlation between the number of ethnicites and revenue\">Correlation between the number of ethnicites and revenue</a></span></li><li><span><a href=\"#Correlation-between-the-ethnicity-score-and-revenue\" data-toc-modified-id=\"Correlation between the ethnicity score and revenue\">Correlation between the ethnicity score and revenue</a></span></li><li><span><a href=\"#Difference-in-revenue-between-the-diverse-and-less-diverse-movies\" data-toc-modified-id=\"Difference in revenue between the diverse and less diverse movies\">Difference in revenue between the diverse and less diverse movies</a></span></li></ul></li><li><span><a href=\"#Gender\" data-toc-modified-id=\"Gender\">Gender</a></span><ul class=\"toc-item\"><li><span><a href=\"#Correlation-between-the-number-of-females-and-revenue\" data-toc-modified-id=\"Correlation between the number of females and revenue\">Correlation between the number of females and revenue</a></span></li><li><span><a href=\"#Correlation-between-the-fraction-of-females-and-revenue\" data-toc-modified-id=\"Correlation between the fraction of females and revenue\">Correlation between the fraction of females and revenue</a></span></li><li><span><a href=\"#Difference-in-revenue-between-the-movies-with-majority-of-male-and-female-actors\" data-toc-modified-id=\"Difference in revenue between the movies with majority of male and female actors\">Difference in revenue between the movies with majority of male and female actors</a></span></li></ul></li></ul></div>"
   ]
  },
  {
   "cell_type": "markdown",
   "id": "18ff9a13-3956-40d5-b581-424f3d0f8def",
   "metadata": {},
   "source": [
    "![Diversity](img/diversity.jpeg)"
   ]
  },
  {
   "cell_type": "markdown",
   "id": "56dbd118-e11c-4493-9a87-75bc080bcaae",
   "metadata": {},
   "source": [
    "---\n",
    "## Data Processing"
   ]
  },
  {
   "cell_type": "markdown",
   "id": "f0c641ea-3f73-4789-b6c4-743571bd719c",
   "metadata": {
    "tags": []
   },
   "source": [
    "---\n",
    "### Loading data"
   ]
  },
  {
   "cell_type": "code",
   "execution_count": 1,
   "id": "48a56350-8e01-425c-95fd-4f84b29ea6b0",
   "metadata": {},
   "outputs": [],
   "source": [
    "# imports\n",
    "import pandas as pd\n",
    "import matplotlib.pyplot as plt\n",
    "import numpy as np\n",
    "from scipy import stats\n",
    "from helpers import bootstrap_CI, correct_for_inflation\n",
    "\n",
    "# turn off warning\n",
    "pd.options.mode.chained_assignment = None"
   ]
  },
  {
   "cell_type": "code",
   "execution_count": 2,
   "id": "6fc48924-f1e9-448f-9fcb-db7bc2473830",
   "metadata": {},
   "outputs": [],
   "source": [
    "# constants\n",
    "MOVIE_PATH = \"./data/MovieSummaries/movie.metadata.tsv\"\n",
    "CHARACTER_PATH = \"./data/MovieSummaries/character.metadata.tsv\"\n",
    "RATING_PATH = \"./data/IMDb/title.ratings.tsv\""
   ]
  },
  {
   "cell_type": "code",
   "execution_count": 3,
   "id": "508ffcd0-bef8-41c7-b712-ff85deff145e",
   "metadata": {},
   "outputs": [],
   "source": [
    "# create dataframes\n",
    "\n",
    "# define collumn names\n",
    "colnames_movies = [\n",
    "    \"wikipedia_movie_ID\",\n",
    "    \"freebase_movie_ID\",\n",
    "    \"movie_name\",\n",
    "    \"movie_release_date\",\n",
    "    \"movie_box_office_revenue\",\n",
    "    \"movie_runtime\",\n",
    "    \"movie_languages\",\n",
    "    \"movie_countries\",\n",
    "    \"movie_genres\",\n",
    "]\n",
    "\n",
    "colnames_character = [\n",
    "    \"wikipedia_movie_ID\",\n",
    "    \"freebase_movie_ID\",\n",
    "    \"last_update\",\n",
    "    \"character_name\",\n",
    "    \"actor_DOB\",\n",
    "    \"actor_gender\",\n",
    "    \"actor_height\",\n",
    "    \"actor_ethnicity\",\n",
    "    \"actor_name\",\n",
    "    \"actor_age_at_movie_release\",\n",
    "    \"freebase_character/actor_map_ID\",\n",
    "    \"freebase_character_ID\",\n",
    "    \"freebase_actor_ID\",\n",
    "]\n",
    "\n",
    "\n",
    "# load data\n",
    "movies = pd.read_csv(MOVIE_PATH, sep=\"\\t\", names=colnames_movies, header=None)\n",
    "characters = pd.read_csv(\n",
    "    CHARACTER_PATH, sep=\"\\t\", names=colnames_character, header=None\n",
    ")"
   ]
  },
  {
   "cell_type": "code",
   "execution_count": 4,
   "id": "d0874210-679d-4d53-9350-a9562e2d4513",
   "metadata": {},
   "outputs": [
    {
     "data": {
      "text/html": [
       "<div>\n",
       "<style scoped>\n",
       "    .dataframe tbody tr th:only-of-type {\n",
       "        vertical-align: middle;\n",
       "    }\n",
       "\n",
       "    .dataframe tbody tr th {\n",
       "        vertical-align: top;\n",
       "    }\n",
       "\n",
       "    .dataframe thead th {\n",
       "        text-align: right;\n",
       "    }\n",
       "</style>\n",
       "<table border=\"1\" class=\"dataframe\">\n",
       "  <thead>\n",
       "    <tr style=\"text-align: right;\">\n",
       "      <th></th>\n",
       "      <th>wikipedia_movie_ID</th>\n",
       "      <th>freebase_movie_ID</th>\n",
       "      <th>movie_name</th>\n",
       "      <th>movie_release_date</th>\n",
       "      <th>movie_box_office_revenue</th>\n",
       "      <th>movie_runtime</th>\n",
       "      <th>movie_languages</th>\n",
       "      <th>movie_countries</th>\n",
       "      <th>movie_genres</th>\n",
       "    </tr>\n",
       "  </thead>\n",
       "  <tbody>\n",
       "    <tr>\n",
       "      <th>0</th>\n",
       "      <td>975900</td>\n",
       "      <td>/m/03vyhn</td>\n",
       "      <td>Ghosts of Mars</td>\n",
       "      <td>2001-08-24</td>\n",
       "      <td>14010832.0</td>\n",
       "      <td>98.0</td>\n",
       "      <td>{\"/m/02h40lc\": \"English Language\"}</td>\n",
       "      <td>{\"/m/09c7w0\": \"United States of America\"}</td>\n",
       "      <td>{\"/m/01jfsb\": \"Thriller\", \"/m/06n90\": \"Science...</td>\n",
       "    </tr>\n",
       "  </tbody>\n",
       "</table>\n",
       "</div>"
      ],
      "text/plain": [
       "   wikipedia_movie_ID freebase_movie_ID      movie_name movie_release_date  \\\n",
       "0              975900         /m/03vyhn  Ghosts of Mars         2001-08-24   \n",
       "\n",
       "   movie_box_office_revenue  movie_runtime  \\\n",
       "0                14010832.0           98.0   \n",
       "\n",
       "                      movie_languages  \\\n",
       "0  {\"/m/02h40lc\": \"English Language\"}   \n",
       "\n",
       "                             movie_countries  \\\n",
       "0  {\"/m/09c7w0\": \"United States of America\"}   \n",
       "\n",
       "                                        movie_genres  \n",
       "0  {\"/m/01jfsb\": \"Thriller\", \"/m/06n90\": \"Science...  "
      ]
     },
     "execution_count": 4,
     "metadata": {},
     "output_type": "execute_result"
    }
   ],
   "source": [
    "# print the 'movies' data frame\n",
    "movies.head(1)"
   ]
  },
  {
   "cell_type": "code",
   "execution_count": 5,
   "id": "8b279a5d-6fe5-458e-8cea-2af9e2f34ca3",
   "metadata": {},
   "outputs": [
    {
     "data": {
      "text/html": [
       "<div>\n",
       "<style scoped>\n",
       "    .dataframe tbody tr th:only-of-type {\n",
       "        vertical-align: middle;\n",
       "    }\n",
       "\n",
       "    .dataframe tbody tr th {\n",
       "        vertical-align: top;\n",
       "    }\n",
       "\n",
       "    .dataframe thead th {\n",
       "        text-align: right;\n",
       "    }\n",
       "</style>\n",
       "<table border=\"1\" class=\"dataframe\">\n",
       "  <thead>\n",
       "    <tr style=\"text-align: right;\">\n",
       "      <th></th>\n",
       "      <th>wikipedia_movie_ID</th>\n",
       "      <th>movie_box_office_revenue</th>\n",
       "      <th>movie_runtime</th>\n",
       "    </tr>\n",
       "  </thead>\n",
       "  <tbody>\n",
       "    <tr>\n",
       "      <th>count</th>\n",
       "      <td>8.174100e+04</td>\n",
       "      <td>8.401000e+03</td>\n",
       "      <td>6.129100e+04</td>\n",
       "    </tr>\n",
       "    <tr>\n",
       "      <th>mean</th>\n",
       "      <td>1.740784e+07</td>\n",
       "      <td>4.799363e+07</td>\n",
       "      <td>1.118192e+02</td>\n",
       "    </tr>\n",
       "    <tr>\n",
       "      <th>std</th>\n",
       "      <td>1.098791e+07</td>\n",
       "      <td>1.121753e+08</td>\n",
       "      <td>4.360070e+03</td>\n",
       "    </tr>\n",
       "    <tr>\n",
       "      <th>min</th>\n",
       "      <td>3.300000e+02</td>\n",
       "      <td>1.000000e+04</td>\n",
       "      <td>0.000000e+00</td>\n",
       "    </tr>\n",
       "    <tr>\n",
       "      <th>25%</th>\n",
       "      <td>7.323695e+06</td>\n",
       "      <td>2.083193e+06</td>\n",
       "      <td>8.100000e+01</td>\n",
       "    </tr>\n",
       "    <tr>\n",
       "      <th>50%</th>\n",
       "      <td>1.777899e+07</td>\n",
       "      <td>1.063969e+07</td>\n",
       "      <td>9.300000e+01</td>\n",
       "    </tr>\n",
       "    <tr>\n",
       "      <th>75%</th>\n",
       "      <td>2.715573e+07</td>\n",
       "      <td>4.071696e+07</td>\n",
       "      <td>1.060000e+02</td>\n",
       "    </tr>\n",
       "    <tr>\n",
       "      <th>max</th>\n",
       "      <td>3.750192e+07</td>\n",
       "      <td>2.782275e+09</td>\n",
       "      <td>1.079281e+06</td>\n",
       "    </tr>\n",
       "  </tbody>\n",
       "</table>\n",
       "</div>"
      ],
      "text/plain": [
       "       wikipedia_movie_ID  movie_box_office_revenue  movie_runtime\n",
       "count        8.174100e+04              8.401000e+03   6.129100e+04\n",
       "mean         1.740784e+07              4.799363e+07   1.118192e+02\n",
       "std          1.098791e+07              1.121753e+08   4.360070e+03\n",
       "min          3.300000e+02              1.000000e+04   0.000000e+00\n",
       "25%          7.323695e+06              2.083193e+06   8.100000e+01\n",
       "50%          1.777899e+07              1.063969e+07   9.300000e+01\n",
       "75%          2.715573e+07              4.071696e+07   1.060000e+02\n",
       "max          3.750192e+07              2.782275e+09   1.079281e+06"
      ]
     },
     "execution_count": 5,
     "metadata": {},
     "output_type": "execute_result"
    }
   ],
   "source": [
    "movies.describe()"
   ]
  },
  {
   "cell_type": "code",
   "execution_count": 6,
   "id": "03e52a8d-e46f-47c3-9cbb-94cdd55636ff",
   "metadata": {},
   "outputs": [
    {
     "data": {
      "text/html": [
       "<div>\n",
       "<style scoped>\n",
       "    .dataframe tbody tr th:only-of-type {\n",
       "        vertical-align: middle;\n",
       "    }\n",
       "\n",
       "    .dataframe tbody tr th {\n",
       "        vertical-align: top;\n",
       "    }\n",
       "\n",
       "    .dataframe thead th {\n",
       "        text-align: right;\n",
       "    }\n",
       "</style>\n",
       "<table border=\"1\" class=\"dataframe\">\n",
       "  <thead>\n",
       "    <tr style=\"text-align: right;\">\n",
       "      <th></th>\n",
       "      <th>wikipedia_movie_ID</th>\n",
       "      <th>freebase_movie_ID</th>\n",
       "      <th>last_update</th>\n",
       "      <th>character_name</th>\n",
       "      <th>actor_DOB</th>\n",
       "      <th>actor_gender</th>\n",
       "      <th>actor_height</th>\n",
       "      <th>actor_ethnicity</th>\n",
       "      <th>actor_name</th>\n",
       "      <th>actor_age_at_movie_release</th>\n",
       "      <th>freebase_character/actor_map_ID</th>\n",
       "      <th>freebase_character_ID</th>\n",
       "      <th>freebase_actor_ID</th>\n",
       "    </tr>\n",
       "  </thead>\n",
       "  <tbody>\n",
       "    <tr>\n",
       "      <th>0</th>\n",
       "      <td>975900</td>\n",
       "      <td>/m/03vyhn</td>\n",
       "      <td>2001-08-24</td>\n",
       "      <td>Akooshay</td>\n",
       "      <td>1958-08-26</td>\n",
       "      <td>F</td>\n",
       "      <td>1.62</td>\n",
       "      <td>NaN</td>\n",
       "      <td>Wanda De Jesus</td>\n",
       "      <td>42.0</td>\n",
       "      <td>/m/0bgchxw</td>\n",
       "      <td>/m/0bgcj3x</td>\n",
       "      <td>/m/03wcfv7</td>\n",
       "    </tr>\n",
       "  </tbody>\n",
       "</table>\n",
       "</div>"
      ],
      "text/plain": [
       "   wikipedia_movie_ID freebase_movie_ID last_update character_name  \\\n",
       "0              975900         /m/03vyhn  2001-08-24       Akooshay   \n",
       "\n",
       "    actor_DOB actor_gender  actor_height actor_ethnicity      actor_name  \\\n",
       "0  1958-08-26            F          1.62             NaN  Wanda De Jesus   \n",
       "\n",
       "   actor_age_at_movie_release freebase_character/actor_map_ID  \\\n",
       "0                        42.0                      /m/0bgchxw   \n",
       "\n",
       "  freebase_character_ID freebase_actor_ID  \n",
       "0            /m/0bgcj3x        /m/03wcfv7  "
      ]
     },
     "execution_count": 6,
     "metadata": {},
     "output_type": "execute_result"
    }
   ],
   "source": [
    "# print the 'characters' data frame\n",
    "characters.head(1)"
   ]
  },
  {
   "cell_type": "markdown",
   "id": "74e636c2-e0cb-4221-a427-0ba7d479f75f",
   "metadata": {
    "tags": []
   },
   "source": [
    "---\n",
    "### Removing null values\n",
    "This notebook intends to investigate the correlation between diversity and revenue; we will therefore filter out movies without `Movie box office revenue.`"
   ]
  },
  {
   "cell_type": "code",
   "execution_count": 7,
   "id": "dbe5f620-5fa6-405a-96ab-2510745f41f1",
   "metadata": {},
   "outputs": [
    {
     "name": "stdout",
     "output_type": "stream",
     "text": [
      "\n",
      "Total number of movies before filtering: 81741\n",
      "Number of movies after filtering:         8401     \n",
      "\n"
     ]
    }
   ],
   "source": [
    "# filtering out movies without revenue\n",
    "num_movies_before_filter = movies.shape[0]\n",
    "movies = movies[~movies[\"movie_box_office_revenue\"].isna()]\n",
    "num_movies_after_filter = movies.shape[0]\n",
    "\n",
    "# printing the results\n",
    "print(\n",
    "    f\"\"\"\n",
    "Total number of movies before filtering: {num_movies_before_filter}\n",
    "Number of movies after filtering:         {num_movies_after_filter}     \n",
    "\"\"\"\n",
    ")"
   ]
  },
  {
   "cell_type": "markdown",
   "id": "719bcc73-d143-4349-a296-27539c3576ed",
   "metadata": {},
   "source": [
    "#### Comment\n",
    "- We observe that ~90% of the movies were filtered out.\n",
    "- We still got 8 401 which should be sufficient for the data analysis."
   ]
  },
  {
   "cell_type": "markdown",
   "id": "12f58986-0179-4557-b252-881306c17b2a",
   "metadata": {
    "tags": []
   },
   "source": [
    "---\n",
    "## Distributions"
   ]
  },
  {
   "cell_type": "markdown",
   "id": "f798e3ff-543c-4723-9760-d2586ecb84c0",
   "metadata": {},
   "source": [
    "---\n",
    "### Distribution of release dates"
   ]
  },
  {
   "cell_type": "code",
   "execution_count": 8,
   "id": "cbc32d3e-ff53-42ef-bd0d-0d55f0d4e450",
   "metadata": {},
   "outputs": [
    {
     "data": {
      "text/html": [
       "<div>\n",
       "<style scoped>\n",
       "    .dataframe tbody tr th:only-of-type {\n",
       "        vertical-align: middle;\n",
       "    }\n",
       "\n",
       "    .dataframe tbody tr th {\n",
       "        vertical-align: top;\n",
       "    }\n",
       "\n",
       "    .dataframe thead th {\n",
       "        text-align: right;\n",
       "    }\n",
       "</style>\n",
       "<table border=\"1\" class=\"dataframe\">\n",
       "  <thead>\n",
       "    <tr style=\"text-align: right;\">\n",
       "      <th></th>\n",
       "      <th>wikipedia_movie_ID</th>\n",
       "      <th>freebase_movie_ID</th>\n",
       "      <th>movie_name</th>\n",
       "      <th>movie_release_date</th>\n",
       "      <th>movie_box_office_revenue</th>\n",
       "      <th>movie_runtime</th>\n",
       "      <th>movie_languages</th>\n",
       "      <th>movie_countries</th>\n",
       "      <th>movie_genres</th>\n",
       "      <th>year_released</th>\n",
       "    </tr>\n",
       "  </thead>\n",
       "  <tbody>\n",
       "    <tr>\n",
       "      <th>0</th>\n",
       "      <td>975900</td>\n",
       "      <td>/m/03vyhn</td>\n",
       "      <td>Ghosts of Mars</td>\n",
       "      <td>2001-08-24</td>\n",
       "      <td>14010832.0</td>\n",
       "      <td>98.0</td>\n",
       "      <td>{\"/m/02h40lc\": \"English Language\"}</td>\n",
       "      <td>{\"/m/09c7w0\": \"United States of America\"}</td>\n",
       "      <td>{\"/m/01jfsb\": \"Thriller\", \"/m/06n90\": \"Science...</td>\n",
       "      <td>2001.0</td>\n",
       "    </tr>\n",
       "  </tbody>\n",
       "</table>\n",
       "</div>"
      ],
      "text/plain": [
       "   wikipedia_movie_ID freebase_movie_ID      movie_name movie_release_date  \\\n",
       "0              975900         /m/03vyhn  Ghosts of Mars         2001-08-24   \n",
       "\n",
       "   movie_box_office_revenue  movie_runtime  \\\n",
       "0                14010832.0           98.0   \n",
       "\n",
       "                      movie_languages  \\\n",
       "0  {\"/m/02h40lc\": \"English Language\"}   \n",
       "\n",
       "                             movie_countries  \\\n",
       "0  {\"/m/09c7w0\": \"United States of America\"}   \n",
       "\n",
       "                                        movie_genres  year_released  \n",
       "0  {\"/m/01jfsb\": \"Thriller\", \"/m/06n90\": \"Science...         2001.0  "
      ]
     },
     "execution_count": 8,
     "metadata": {},
     "output_type": "execute_result"
    }
   ],
   "source": [
    "# adding column for year release\n",
    "movies[\"year_released\"] = pd.to_datetime(\n",
    "    movies[\"movie_release_date\"], infer_datetime_format=True, errors=\"coerce\"\n",
    ").dt.year\n",
    "\n",
    "# removing null values\n",
    "movies = movies[~movies[\"year_released\"].isna()]\n",
    "\n",
    "# converting to 'int64'\n",
    "movies[\"year_released\"].astype(\"int64\")\n",
    "\n",
    "# print result\n",
    "movies.head(1)"
   ]
  },
  {
   "cell_type": "code",
   "execution_count": 9,
   "id": "8e73ec86-c181-4a7a-87fb-9b373457ef8b",
   "metadata": {},
   "outputs": [
    {
     "data": {
      "image/png": "[encoded data removed]",
      "text/plain": [
       "<Figure size 432x288 with 1 Axes>"
      ]
     },
     "metadata": {
      "needs_background": "light"
     },
     "output_type": "display_data"
    }
   ],
   "source": [
    "# plot the distribution of realese years\n",
    "bins = np.arange(1915, 2013) - 0.5  # -0.5 for center-aligned bins\n",
    "plt.hist(movies[\"year_released\"], histtype=\"step\", bins=bins, log=True)\n",
    "plt.xlabel(\"Release year\")\n",
    "plt.ylabel(\"Number of movies\")\n",
    "plt.title(\"Distribution of of movies released\")\n",
    "plt.show()"
   ]
  },
  {
   "cell_type": "markdown",
   "id": "22777b5a-73fe-474a-89ec-31b9280c9003",
   "metadata": {},
   "source": [
    "#### Comment\n",
    "\n",
    "**Problem:**\n",
    "- We observe that the dataset contains some old movies. The revenue will not be representable for such movies because of inflation.\n",
    "\n",
    "\n",
    "**Solution:**\n",
    "- A possible solution would be to collect a dataset of the inflation since ~1920 and adjust the revenues for inflation to make them comparable.\n",
    "\n",
    "**Conclusion:**\n",
    "- We need to collect an external dataset on inflation."
   ]
  },
  {
   "cell_type": "markdown",
   "id": "c23cfcbb-a5da-40ad-a2d9-3b425a8ab6d8",
   "metadata": {},
   "source": [
    "---\n",
    "### Adjusting for inflation\n",
    "\n",
    "Our previous finding suggested that we had to adjust the `movie_box_office_revenue` for inflation to make movies more comparable."
   ]
  },
  {
   "cell_type": "code",
   "execution_count": 10,
   "id": "3982ce68-3fcd-42cd-9533-23d0a2fd2464",
   "metadata": {},
   "outputs": [],
   "source": [
    "# adjusting the 'movie_box_office_revenue' for inflation\n",
    "movies = correct_for_inflation(movies, \"movie_box_office_revenue\", 1960, 2014)"
   ]
  },
  {
   "cell_type": "markdown",
   "id": "a0405ce8-e6ab-4d9a-97f7-24ebac23da25",
   "metadata": {},
   "source": [
    "---\n",
    "### Distribution of actors"
   ]
  },
  {
   "cell_type": "code",
   "execution_count": 11,
   "id": "d5c56b48-138e-4bfa-a92f-9806e9babb30",
   "metadata": {},
   "outputs": [
    {
     "data": {
      "text/html": [
       "<div>\n",
       "<style scoped>\n",
       "    .dataframe tbody tr th:only-of-type {\n",
       "        vertical-align: middle;\n",
       "    }\n",
       "\n",
       "    .dataframe tbody tr th {\n",
       "        vertical-align: top;\n",
       "    }\n",
       "\n",
       "    .dataframe thead th {\n",
       "        text-align: right;\n",
       "    }\n",
       "</style>\n",
       "<table border=\"1\" class=\"dataframe\">\n",
       "  <thead>\n",
       "    <tr style=\"text-align: right;\">\n",
       "      <th></th>\n",
       "      <th>wikipedia_movie_ID</th>\n",
       "      <th>freebase_movie_ID</th>\n",
       "      <th>movie_name</th>\n",
       "      <th>movie_release_date</th>\n",
       "      <th>movie_box_office_revenue</th>\n",
       "      <th>movie_runtime</th>\n",
       "      <th>movie_languages</th>\n",
       "      <th>movie_countries</th>\n",
       "      <th>movie_genres</th>\n",
       "      <th>year_released</th>\n",
       "      <th>num_actors</th>\n",
       "    </tr>\n",
       "  </thead>\n",
       "  <tbody>\n",
       "    <tr>\n",
       "      <th>0</th>\n",
       "      <td>975900</td>\n",
       "      <td>/m/03vyhn</td>\n",
       "      <td>Ghosts of Mars</td>\n",
       "      <td>2001-08-24</td>\n",
       "      <td>2.340194e+06</td>\n",
       "      <td>98.0</td>\n",
       "      <td>{\"/m/02h40lc\": \"English Language\"}</td>\n",
       "      <td>{\"/m/09c7w0\": \"United States of America\"}</td>\n",
       "      <td>{\"/m/01jfsb\": \"Thriller\", \"/m/06n90\": \"Science...</td>\n",
       "      <td>2001.0</td>\n",
       "      <td>17</td>\n",
       "    </tr>\n",
       "  </tbody>\n",
       "</table>\n",
       "</div>"
      ],
      "text/plain": [
       "   wikipedia_movie_ID freebase_movie_ID      movie_name movie_release_date  \\\n",
       "0              975900         /m/03vyhn  Ghosts of Mars         2001-08-24   \n",
       "\n",
       "   movie_box_office_revenue  movie_runtime  \\\n",
       "0              2.340194e+06           98.0   \n",
       "\n",
       "                      movie_languages  \\\n",
       "0  {\"/m/02h40lc\": \"English Language\"}   \n",
       "\n",
       "                             movie_countries  \\\n",
       "0  {\"/m/09c7w0\": \"United States of America\"}   \n",
       "\n",
       "                                        movie_genres  year_released  \\\n",
       "0  {\"/m/01jfsb\": \"Thriller\", \"/m/06n90\": \"Science...         2001.0   \n",
       "\n",
       "   num_actors  \n",
       "0          17  "
      ]
     },
     "execution_count": 11,
     "metadata": {},
     "output_type": "execute_result"
    }
   ],
   "source": [
    "# add collumn for number of actors\n",
    "num_actors = characters.groupby(\"freebase_movie_ID\")[\"freebase_actor_ID\"].apply(\n",
    "    lambda x: x.count()\n",
    ")\n",
    "\n",
    "# rename the series\n",
    "num_actors.name = \"num_actors\"\n",
    "\n",
    "# merge with the movies data frame\n",
    "movies = movies.merge(num_actors, left_on=\"freebase_movie_ID\", right_index=True)\n",
    "\n",
    "# print result\n",
    "movies.head(1)"
   ]
  },
  {
   "cell_type": "code",
   "execution_count": 12,
   "id": "6677a06d-32a1-47b8-ac0b-0c3966c50c3d",
   "metadata": {},
   "outputs": [
    {
     "data": {
      "image/png": "[encoded data removed]",
      "text/plain": [
       "<Figure size 432x288 with 1 Axes>"
      ]
     },
     "metadata": {
      "needs_background": "light"
     },
     "output_type": "display_data"
    }
   ],
   "source": [
    "# plot the distribution of actors\n",
    "bins = np.arange(100) - 0.5  # -0.5 for center-aligned bins\n",
    "plt.hist(movies[\"num_actors\"], histtype=\"step\", bins=bins, log=True)\n",
    "plt.xlabel(\"Number of actors\")\n",
    "plt.ylabel(\"Number of movies\")\n",
    "plt.title(\"Distribution of actors\")\n",
    "plt.show()"
   ]
  },
  {
   "cell_type": "code",
   "execution_count": 13,
   "id": "ae781ed0-6e4b-4515-a754-e722eeb1bcc2",
   "metadata": {},
   "outputs": [
    {
     "data": {
      "image/png": "[encoded data removed]",
      "text/plain": [
       "<Figure size 432x288 with 1 Axes>"
      ]
     },
     "metadata": {
      "needs_background": "light"
     },
     "output_type": "display_data"
    }
   ],
   "source": [
    "# plot relationship between 'num_actors' and 'movie_box_office_revenue'\n",
    "movies.plot.scatter(x=\"num_actors\", y=\"movie_box_office_revenue\", s=1)\n",
    "plt.yscale(\"log\")\n",
    "plt.xlabel(\"Number of actors\")\n",
    "plt.ylabel(\"Movie box office revenue\")\n",
    "plt.title(\"Relationship between the number actors and the movie box office revenue\")\n",
    "plt.show()"
   ]
  },
  {
   "cell_type": "code",
   "execution_count": 14,
   "id": "692e615e-a71b-4202-8463-061c60e27d84",
   "metadata": {},
   "outputs": [
    {
     "data": {
      "text/plain": [
       "SpearmanrResult(correlation=0.36844096520080205, pvalue=4.790862071775615e-261)"
      ]
     },
     "execution_count": 14,
     "metadata": {},
     "output_type": "execute_result"
    }
   ],
   "source": [
    "# compute spearman correlation between 'num_actors' and 'movie_box_office_revenue'\n",
    "stats.spearmanr(movies[\"num_actors\"], movies[\"movie_box_office_revenue\"])"
   ]
  },
  {
   "cell_type": "markdown",
   "id": "df8c096f-83f3-41a7-9e1d-911c5cac207e",
   "metadata": {},
   "source": [
    "#### Comment\n",
    "\n",
    " **Problem:**\n",
    "1. We observe that many movies only have a few actors. It´s unlikely that a movie only has one actor, which is the case for ~50 movies in the dataset. The reason is probably that the dataset initially focused on characters, which can be more difficult to extract than actors.\n",
    "\n",
    "2. We observe that movies with more actors have higher revenue. This is something to be aware of since more actors will likely provide more diversity.\n",
    "\n",
    "**Solution:**\n",
    "1. A possible solution would be to collect data about the number of actors from a different dataset. The problem with an external dataset will be finding data about ethnicity and gender. This was not included in the [IMDb datasets](https://www.imdb.com/interfaces/).\n",
    "\n",
    "2. It will be necessary to look at the number of ethnicities and females with the total number of actors.\n",
    "\n",
    "**Conclusion:**\n",
    "1. Setting a threshold for the number of actors is a good solution that still enables us to use the original dataset.\n",
    "\n",
    "2. Computing an `ethnicity_score` and `fraction_of_female` to also consider the total number of actors."
   ]
  },
  {
   "cell_type": "markdown",
   "id": "3dfef8c0-d95a-46c1-a8fe-c9568ac64108",
   "metadata": {
    "tags": []
   },
   "source": [
    "---\n",
    "### Threshold\n",
    "\n",
    "Our previous finding suggested that a threshold on the number of actors might be necessary."
   ]
  },
  {
   "cell_type": "code",
   "execution_count": 15,
   "id": "7fc6e536-d2bf-4392-be30-c83da054b276",
   "metadata": {},
   "outputs": [
    {
     "name": "stdout",
     "output_type": "stream",
     "text": [
      "\n",
      "Total number of movies before filtering: 8168\n",
      "Number of movies after filtering:        5671     \n",
      "\n"
     ]
    }
   ],
   "source": [
    "# filtering out movies with less than 10 actors\n",
    "num_movies_before_filter = movies.shape[0]\n",
    "movies = movies[movies[\"num_actors\"] > 9]\n",
    "num_movies_after_filter = movies.shape[0]\n",
    "\n",
    "# printing the results\n",
    "print(\n",
    "    f\"\"\"\n",
    "Total number of movies before filtering: {num_movies_before_filter}\n",
    "Number of movies after filtering:        {num_movies_after_filter}     \n",
    "\"\"\"\n",
    ")"
   ]
  },
  {
   "cell_type": "code",
   "execution_count": 16,
   "id": "11290831-a44a-4711-889d-9cda8858ceda",
   "metadata": {},
   "outputs": [
    {
     "data": {
      "image/png": "[encoded data removed]",
      "text/plain": [
       "<Figure size 432x288 with 1 Axes>"
      ]
     },
     "metadata": {
      "needs_background": "light"
     },
     "output_type": "display_data"
    }
   ],
   "source": [
    "# plot the distribution of actors after threshold\n",
    "bins = np.arange(10, 100) - 0.5  # -0.5 for center-aligned bins\n",
    "plt.hist(movies[\"num_actors\"], histtype=\"step\", bins=bins, log=True)\n",
    "plt.xlabel(\"Number of actors\")\n",
    "plt.ylabel(\"Number of movies\")\n",
    "plt.title(\"Distribution of actors\")\n",
    "plt.show()"
   ]
  },
  {
   "cell_type": "code",
   "execution_count": 17,
   "id": "273ef132-eb3b-4ab1-a1ec-86485427a6d8",
   "metadata": {},
   "outputs": [
    {
     "data": {
      "text/plain": [
       "SpearmanrResult(correlation=0.24742963052605055, pvalue=7.258673062965627e-80)"
      ]
     },
     "execution_count": 17,
     "metadata": {},
     "output_type": "execute_result"
    }
   ],
   "source": [
    "# compute spearman correlation between 'num_actors' and 'movie_box_office_revenue'\n",
    "stats.spearmanr(movies[\"num_actors\"], movies[\"movie_box_office_revenue\"])"
   ]
  },
  {
   "cell_type": "markdown",
   "id": "e12ecda1-876e-4d63-bfaf-f86bfac01efc",
   "metadata": {},
   "source": [
    "#### Comment\n",
    "There is still a statistically significant correlation between `num_actors` and `movie_box_office_revenue` after introducing a threshold."
   ]
  },
  {
   "cell_type": "markdown",
   "id": "deaccccb-ee75-494c-8092-63e4b8737218",
   "metadata": {
    "tags": []
   },
   "source": [
    "---\n",
    "## Ethnicity"
   ]
  },
  {
   "cell_type": "markdown",
   "id": "714ac245-1e53-45b6-b778-929387e94e52",
   "metadata": {},
   "source": [
    "---\n",
    "### Correlation between the number of ethnicites and revenue"
   ]
  },
  {
   "cell_type": "code",
   "execution_count": 18,
   "id": "0d79c972-be00-4ecd-9e38-244be1fe99ef",
   "metadata": {},
   "outputs": [],
   "source": [
    "# add collumn for number of ethnicities\n",
    "num_ethnicities = characters.groupby(\"freebase_movie_ID\")[\"actor_ethnicity\"].apply(\n",
    "    lambda x: x.nunique()\n",
    ")\n",
    "\n",
    "# rename the series\n",
    "num_ethnicities.name = \"num_ethnicities\"\n",
    "\n",
    "# merge with the movies data frame\n",
    "movies = movies.merge(num_ethnicities, left_on=\"freebase_movie_ID\", right_index=True)"
   ]
  },
  {
   "cell_type": "code",
   "execution_count": 19,
   "id": "31063dee-211b-428c-9f1a-e58972ade51f",
   "metadata": {},
   "outputs": [
    {
     "data": {
      "image/png": "[encoded data removed]",
      "text/plain": [
       "<Figure size 432x288 with 1 Axes>"
      ]
     },
     "metadata": {
      "needs_background": "light"
     },
     "output_type": "display_data"
    }
   ],
   "source": [
    "# plot relationship between 'num_ethnicities' and 'movie_box_office_revenue'\n",
    "movies.plot.scatter(x=\"num_ethnicities\", y=\"movie_box_office_revenue\", s=1)\n",
    "plt.yscale(\"log\")\n",
    "plt.xlabel(\"Number of ethnicities\")\n",
    "plt.ylabel(\"Movie box office revenue\")\n",
    "plt.title(\n",
    "    \"Relationship between the number of ethnicities and the movie box office revenue\"\n",
    ")\n",
    "plt.show()"
   ]
  },
  {
   "cell_type": "code",
   "execution_count": 20,
   "id": "ee5e00d4-b064-4064-a4cd-4f3f135f164a",
   "metadata": {},
   "outputs": [
    {
     "data": {
      "text/plain": [
       "SpearmanrResult(correlation=0.29619483607782726, pvalue=3.3165951649481696e-115)"
      ]
     },
     "execution_count": 20,
     "metadata": {},
     "output_type": "execute_result"
    }
   ],
   "source": [
    "# compute spearman correlation between 'num_ethnicities' and 'movie_box_office_revenue'\n",
    "stats.spearmanr(movies[\"num_ethnicities\"], movies[\"movie_box_office_revenue\"])"
   ]
  },
  {
   "cell_type": "code",
   "execution_count": 21,
   "id": "a58ea1b0-b333-4954-864f-1f11b3e59ea4",
   "metadata": {},
   "outputs": [
    {
     "data": {
      "text/plain": [
       "SpearmanrResult(correlation=0.24742963052605055, pvalue=7.258673062965627e-80)"
      ]
     },
     "execution_count": 21,
     "metadata": {},
     "output_type": "execute_result"
    }
   ],
   "source": [
    "# compute spearman correlation between 'num_actors' and 'movie_box_office_revenue'\n",
    "stats.spearmanr(movies[\"num_actors\"], movies[\"movie_box_office_revenue\"])"
   ]
  },
  {
   "cell_type": "markdown",
   "id": "6fec8d82-a9da-43af-b086-a8aec443c0f2",
   "metadata": {},
   "source": [
    "#### Comment\n",
    "- We observe a significant correlation between `num_ethnicities` and `movie_box_office_revenue.`\n",
    "- Further, we observe that the correlation between `num_actors` and `movie_box_office_revenue` is reduced after we filtered out movies with less than ten actors. This indicates that the number of actors has the most significant impact when there are few actors, e.g., increasing from 5 to 6 will have a more substantial effect on the revenue than rising from 14 to 15.\n",
    "- There is still difficult to interpret how big an impact `num_ethnicities` and `num_actors` have on `movie_box_office_revenue` separately since they are highly correlated.\n",
    "- To try to isolate the impact ethnicities have on the revenue, we will instead look at an ethnicity_score, which is calculated as follow: $ethnicity\\: score = \\frac{number\\,of\\,ethnicities}{number\\,of\\,actors}$"
   ]
  },
  {
   "cell_type": "markdown",
   "id": "984512ab-309e-4a14-ba78-d2cf92ec2d6e",
   "metadata": {},
   "source": [
    "---\n",
    "### Correlation between the ethnicity score and revenue"
   ]
  },
  {
   "cell_type": "code",
   "execution_count": 22,
   "id": "017cc2a6-0a48-49e2-8cbc-5eb7213953c8",
   "metadata": {},
   "outputs": [],
   "source": [
    "# adding a collumn for num_etnicities / num_ectors\n",
    "movies[\"ethnicity_score\"] = movies[\"num_ethnicities\"] / movies[\"num_actors\"]"
   ]
  },
  {
   "cell_type": "code",
   "execution_count": 23,
   "id": "7da4fb06-efc7-4ac0-8f79-ee58bd298858",
   "metadata": {},
   "outputs": [
    {
     "data": {
      "image/png": "[encoded data removed]",
      "text/plain": [
       "<Figure size 432x288 with 1 Axes>"
      ]
     },
     "metadata": {
      "needs_background": "light"
     },
     "output_type": "display_data"
    }
   ],
   "source": [
    "# plot relationship between 'ethnicity_score' and 'movie_box_office_revenue'\n",
    "movies.plot.scatter(x=\"ethnicity_score\", y=\"movie_box_office_revenue\", s=1)\n",
    "plt.yscale(\"log\")\n",
    "plt.xlabel(\"Ethnicity score\")\n",
    "plt.ylabel(\"Movie box office revenue\")\n",
    "plt.title(\"Relationship between the ethnicity score and the movie box office revenue\")\n",
    "plt.show()"
   ]
  },
  {
   "cell_type": "code",
   "execution_count": 24,
   "id": "bcc5880f-1ab0-4938-9c0c-7482921107d6",
   "metadata": {},
   "outputs": [
    {
     "data": {
      "text/plain": [
       "SpearmanrResult(correlation=0.2042551070065502, pvalue=1.792002135862181e-54)"
      ]
     },
     "execution_count": 24,
     "metadata": {},
     "output_type": "execute_result"
    }
   ],
   "source": [
    "# compute spearman correlation between 'ethnicity_score' and 'movie_box_office_revenue'\n",
    "stats.spearmanr(movies[\"ethnicity_score\"], movies[\"movie_box_office_revenue\"])"
   ]
  },
  {
   "cell_type": "markdown",
   "id": "67d64473-1b52-4b4f-ae38-02130b686ba0",
   "metadata": {},
   "source": [
    "#### Comment\n",
    "- After trying to isolate the impact ethnicities have on the revenue, we still observe a significant correlation."
   ]
  },
  {
   "cell_type": "markdown",
   "id": "0d26543a-55d2-4f67-8982-1ca44313805d",
   "metadata": {},
   "source": [
    "---\n",
    "### Difference in revenue between the diverse and less diverse movies"
   ]
  },
  {
   "cell_type": "code",
   "execution_count": 25,
   "id": "44b41975-f628-461e-a003-49d082a545c5",
   "metadata": {},
   "outputs": [],
   "source": [
    "# check difference between the revenue of movies with an without ethnicity score above 50\n",
    "over_50_revenue = movies[movies[\"ethnicity_score\"] > 0.5][\"movie_box_office_revenue\"]\n",
    "under_50_revenue = movies[movies[\"ethnicity_score\"] <= 0.5][\"movie_box_office_revenue\"]"
   ]
  },
  {
   "cell_type": "code",
   "execution_count": 26,
   "id": "222ed130-4df8-4591-884b-380bfcdfae1d",
   "metadata": {},
   "outputs": [
    {
     "data": {
      "text/plain": [
       "Ttest_indResult(statistic=1.9882743465815824, pvalue=0.04682936718007021)"
      ]
     },
     "execution_count": 26,
     "metadata": {},
     "output_type": "execute_result"
    }
   ],
   "source": [
    "# independent t-test\n",
    "stats.ttest_ind(over_50_revenue, under_50_revenue)"
   ]
  },
  {
   "cell_type": "code",
   "execution_count": 27,
   "id": "a8966434-605a-4c7d-877a-0147739ab43b",
   "metadata": {},
   "outputs": [
    {
     "name": "stdout",
     "output_type": "stream",
     "text": [
      "\n",
      "The statistical power of:\n",
      "    - The independent sample t-test comparing the revenue of diveres and less diverse movies: 0.5058\n",
      "\n"
     ]
    }
   ],
   "source": [
    "# calculate the statistical power\n",
    "\n",
    "# creating list to store the p-values\n",
    "p_val = np.zeros(10000)\n",
    "\n",
    "# running the simulation 10000 times\n",
    "for i in range(10000):\n",
    "\n",
    "    # sample over_50 and under_50\n",
    "    sample_over_50 = np.random.choice(over_50_revenue, size=over_50_revenue.shape[0])\n",
    "    sample_under_50 = np.random.choice(under_50_revenue, size=under_50_revenue.shape[0])\n",
    "\n",
    "    # independent t-test\n",
    "    p_val[i] = stats.ttest_ind(sample_over_50, sample_under_50)[1]\n",
    "\n",
    "# calculating the percentage of rejects\n",
    "power = len(p_val[p_val < 0.05]) / len(p_val)\n",
    "\n",
    "# printing the results\n",
    "print(\n",
    "    f\"\"\"\n",
    "The statistical power of:\n",
    "    - The independent sample t-test comparing the revenue of diveres and less diverse movies: {power}\n",
    "\"\"\"\n",
    ")"
   ]
  },
  {
   "cell_type": "code",
   "execution_count": 28,
   "id": "926128c3-237b-4bf5-9830-51a321d2603b",
   "metadata": {},
   "outputs": [
    {
     "name": "stdout",
     "output_type": "stream",
     "text": [
      "\n",
      "The mean difference between in revenue between diverse and less diverse movies:\n",
      "    - Mean:                       3491585.506714709\n",
      "    - CI:                         [575005.0326703031, 6540850.708689045]\n",
      "\n"
     ]
    }
   ],
   "source": [
    "# calculating the mean difference\n",
    "mean_diff_diversity = over_50_revenue.mean() - under_50_revenue.mean()\n",
    "\n",
    "# performing bootstrap to get the 95% CI\n",
    "diversity_CI = bootstrap_CI(over_50_revenue, under_50_revenue)\n",
    "\n",
    "# printing the results\n",
    "print(\n",
    "    f\"\"\"\n",
    "The mean difference between in revenue between diverse and less diverse movies:\n",
    "    - Mean:                       {mean_diff_diversity}\n",
    "    - CI:                         {diversity_CI}\n",
    "\"\"\"\n",
    ")"
   ]
  },
  {
   "cell_type": "code",
   "execution_count": 29,
   "id": "eb04a452-ca30-4e02-85b3-16e0dba0640e",
   "metadata": {},
   "outputs": [
    {
     "data": {
      "text/plain": [
       "0.2733482325968203"
      ]
     },
     "execution_count": 29,
     "metadata": {},
     "output_type": "execute_result"
    }
   ],
   "source": [
    "# calculating the average revenue for under_50\n",
    "mean_under_50 = under_50_revenue.mean()\n",
    "\n",
    "# calculating the percentage difference in revenue\n",
    "diff_percent = mean_diff_diversity / mean_under_50\n",
    "\n",
    "# printing the results\n",
    "diff_percent"
   ]
  },
  {
   "cell_type": "markdown",
   "id": "5bbcc5db-5a71-4715-95dc-8292c352b7b2",
   "metadata": {},
   "source": [
    "#### Comment \n",
    "- The independent t-test gives us a small p-value (< 0.05), which indicates a statistically significant difference between the samples of diverse (ethnicity score > 0.5) and less diverse (ethnicity score ≤ 50) movies. The statistical power of the result is 0.5058. \n",
    "- Further, the mean difference shows that diverse movies generally have higher movie box office revenue. The confidence interval makes us confident in this result. \n",
    "- By dividing the average difference by the average revenue for less diverse movies, we get that diverse movie, on average, have a ~27.3% higher movie box office revenue. This shows that ethnicity is impactful on the movie box office revenue."
   ]
  },
  {
   "cell_type": "markdown",
   "id": "70120c85-01f2-4c65-b086-a153114bd5cc",
   "metadata": {
    "tags": []
   },
   "source": [
    "---\n",
    "## Gender"
   ]
  },
  {
   "cell_type": "markdown",
   "id": "da0e2b9f-5fdd-4fc2-8089-15126a50a4c6",
   "metadata": {},
   "source": [
    "---\n",
    "### Correlation between the number of females and revenue"
   ]
  },
  {
   "cell_type": "code",
   "execution_count": 30,
   "id": "df110f9e-1c62-44b7-b822-96150889d7ab",
   "metadata": {},
   "outputs": [
    {
     "name": "stdout",
     "output_type": "stream",
     "text": [
      "\n",
      "Total number of characters:                450669\n",
      "Number of characters without actor gender:  45609     \n",
      "\n"
     ]
    }
   ],
   "source": [
    "# checkint the amount of characters without 'actor_gender'\n",
    "num_characters = characters.shape[0]\n",
    "num_nan_gender = characters[characters[\"actor_gender\"].isna()].shape[0]\n",
    "\n",
    "# printing the results\n",
    "print(\n",
    "    f\"\"\"\n",
    "Total number of characters:                {num_characters}\n",
    "Number of characters without actor gender:  {num_nan_gender}     \n",
    "\"\"\"\n",
    ")"
   ]
  },
  {
   "cell_type": "code",
   "execution_count": 31,
   "id": "47cc1bf5-82d0-4353-adba-06554a69c810",
   "metadata": {},
   "outputs": [
    {
     "data": {
      "text/html": [
       "<div>\n",
       "<style scoped>\n",
       "    .dataframe tbody tr th:only-of-type {\n",
       "        vertical-align: middle;\n",
       "    }\n",
       "\n",
       "    .dataframe tbody tr th {\n",
       "        vertical-align: top;\n",
       "    }\n",
       "\n",
       "    .dataframe thead th {\n",
       "        text-align: right;\n",
       "    }\n",
       "</style>\n",
       "<table border=\"1\" class=\"dataframe\">\n",
       "  <thead>\n",
       "    <tr style=\"text-align: right;\">\n",
       "      <th></th>\n",
       "      <th>wikipedia_movie_ID</th>\n",
       "      <th>freebase_movie_ID</th>\n",
       "      <th>movie_name</th>\n",
       "      <th>movie_release_date</th>\n",
       "      <th>movie_box_office_revenue</th>\n",
       "      <th>movie_runtime</th>\n",
       "      <th>movie_languages</th>\n",
       "      <th>movie_countries</th>\n",
       "      <th>movie_genres</th>\n",
       "      <th>year_released</th>\n",
       "      <th>num_actors</th>\n",
       "      <th>num_ethnicities</th>\n",
       "      <th>ethnicity_score</th>\n",
       "      <th>num_female</th>\n",
       "    </tr>\n",
       "  </thead>\n",
       "  <tbody>\n",
       "    <tr>\n",
       "      <th>0</th>\n",
       "      <td>975900</td>\n",
       "      <td>/m/03vyhn</td>\n",
       "      <td>Ghosts of Mars</td>\n",
       "      <td>2001-08-24</td>\n",
       "      <td>2.340194e+06</td>\n",
       "      <td>98.0</td>\n",
       "      <td>{\"/m/02h40lc\": \"English Language\"}</td>\n",
       "      <td>{\"/m/09c7w0\": \"United States of America\"}</td>\n",
       "      <td>{\"/m/01jfsb\": \"Thriller\", \"/m/06n90\": \"Science...</td>\n",
       "      <td>2001.0</td>\n",
       "      <td>17</td>\n",
       "      <td>3</td>\n",
       "      <td>0.176471</td>\n",
       "      <td>6</td>\n",
       "    </tr>\n",
       "  </tbody>\n",
       "</table>\n",
       "</div>"
      ],
      "text/plain": [
       "   wikipedia_movie_ID freebase_movie_ID      movie_name movie_release_date  \\\n",
       "0              975900         /m/03vyhn  Ghosts of Mars         2001-08-24   \n",
       "\n",
       "   movie_box_office_revenue  movie_runtime  \\\n",
       "0              2.340194e+06           98.0   \n",
       "\n",
       "                      movie_languages  \\\n",
       "0  {\"/m/02h40lc\": \"English Language\"}   \n",
       "\n",
       "                             movie_countries  \\\n",
       "0  {\"/m/09c7w0\": \"United States of America\"}   \n",
       "\n",
       "                                        movie_genres  year_released  \\\n",
       "0  {\"/m/01jfsb\": \"Thriller\", \"/m/06n90\": \"Science...         2001.0   \n",
       "\n",
       "   num_actors  num_ethnicities  ethnicity_score  num_female  \n",
       "0          17                3         0.176471           6  "
      ]
     },
     "execution_count": 31,
     "metadata": {},
     "output_type": "execute_result"
    }
   ],
   "source": [
    "# add collumn for fraction of females\n",
    "\n",
    "# create frame with female actors\n",
    "female_characters = characters[characters[\"actor_gender\"] == \"F\"]\n",
    "\n",
    "# add column for number of female actors\n",
    "num_female = female_characters.groupby(\"freebase_movie_ID\")[\"actor_gender\"].count()\n",
    "\n",
    "# rename the series\n",
    "num_female.name = \"num_female\"\n",
    "movies = movies.merge(num_female, left_on=\"freebase_movie_ID\", right_index=True)\n",
    "\n",
    "# print result\n",
    "movies.head(1)"
   ]
  },
  {
   "cell_type": "code",
   "execution_count": 32,
   "id": "e7edb7ba-aeab-4349-ad0f-66d5485a7048",
   "metadata": {},
   "outputs": [
    {
     "data": {
      "image/png": "[encoded data removed]",
      "text/plain": [
       "<Figure size 432x288 with 1 Axes>"
      ]
     },
     "metadata": {
      "needs_background": "light"
     },
     "output_type": "display_data"
    }
   ],
   "source": [
    "# plot relationship between 'num_female' and 'movie_box_office_revenue'\n",
    "movies.plot.scatter(x=\"num_female\", y=\"movie_box_office_revenue\", s=1)\n",
    "plt.yscale(\"log\")\n",
    "plt.xlabel(\"Number of females\")\n",
    "plt.ylabel(\"Movie box office revenue\")\n",
    "plt.title(\"Relationship between number of females and movie box office revenue\")\n",
    "plt.show()"
   ]
  },
  {
   "cell_type": "code",
   "execution_count": 33,
   "id": "395fdde8-c779-4b58-9454-34967c98fbec",
   "metadata": {},
   "outputs": [
    {
     "data": {
      "text/plain": [
       "SpearmanrResult(correlation=0.057498367351206885, pvalue=1.768401222511799e-05)"
      ]
     },
     "execution_count": 33,
     "metadata": {},
     "output_type": "execute_result"
    }
   ],
   "source": [
    "# compute spearman correlation between 'num_female' and 'movie_box_office_revenue'\n",
    "stats.spearmanr(movies[\"num_female\"], movies[\"movie_box_office_revenue\"])"
   ]
  },
  {
   "cell_type": "markdown",
   "id": "d999d540-1788-43ef-8672-d68fc62668be",
   "metadata": {},
   "source": [
    "#### Comment \n",
    "- We observe a weak but significant correlation between `num_female` and `movie_box_office_revenue.`\n",
    "- It is difficult to interpret how big an impact `num_female` and `num_actors` have on `movie_box_office_revenue` separately since they are highly correlated (more actors will likely lead to more female actors as well).\n",
    "- To try to isolate the impact gender have on the revenue, we will instead look at the fraction of female, which is calculated as follow: $fraction\\: of\\: female = \\frac{number\\,of\\,female}{number\\,of\\,actors}$"
   ]
  },
  {
   "cell_type": "markdown",
   "id": "348c16dd-8b4f-4e3a-8ede-c2546332ed07",
   "metadata": {},
   "source": [
    "---\n",
    "### Correlation between the fraction of females and revenue"
   ]
  },
  {
   "cell_type": "code",
   "execution_count": 34,
   "id": "2b740103-fa96-43e8-9f7c-a64d8c674042",
   "metadata": {},
   "outputs": [
    {
     "data": {
      "text/html": [
       "<div>\n",
       "<style scoped>\n",
       "    .dataframe tbody tr th:only-of-type {\n",
       "        vertical-align: middle;\n",
       "    }\n",
       "\n",
       "    .dataframe tbody tr th {\n",
       "        vertical-align: top;\n",
       "    }\n",
       "\n",
       "    .dataframe thead th {\n",
       "        text-align: right;\n",
       "    }\n",
       "</style>\n",
       "<table border=\"1\" class=\"dataframe\">\n",
       "  <thead>\n",
       "    <tr style=\"text-align: right;\">\n",
       "      <th></th>\n",
       "      <th>wikipedia_movie_ID</th>\n",
       "      <th>freebase_movie_ID</th>\n",
       "      <th>movie_name</th>\n",
       "      <th>movie_release_date</th>\n",
       "      <th>movie_box_office_revenue</th>\n",
       "      <th>movie_runtime</th>\n",
       "      <th>movie_languages</th>\n",
       "      <th>movie_countries</th>\n",
       "      <th>movie_genres</th>\n",
       "      <th>year_released</th>\n",
       "      <th>num_actors</th>\n",
       "      <th>num_ethnicities</th>\n",
       "      <th>ethnicity_score</th>\n",
       "      <th>num_female</th>\n",
       "      <th>frac_female</th>\n",
       "    </tr>\n",
       "  </thead>\n",
       "  <tbody>\n",
       "    <tr>\n",
       "      <th>0</th>\n",
       "      <td>975900</td>\n",
       "      <td>/m/03vyhn</td>\n",
       "      <td>Ghosts of Mars</td>\n",
       "      <td>2001-08-24</td>\n",
       "      <td>2.340194e+06</td>\n",
       "      <td>98.0</td>\n",
       "      <td>{\"/m/02h40lc\": \"English Language\"}</td>\n",
       "      <td>{\"/m/09c7w0\": \"United States of America\"}</td>\n",
       "      <td>{\"/m/01jfsb\": \"Thriller\", \"/m/06n90\": \"Science...</td>\n",
       "      <td>2001.0</td>\n",
       "      <td>17</td>\n",
       "      <td>3</td>\n",
       "      <td>0.176471</td>\n",
       "      <td>6</td>\n",
       "      <td>0.352941</td>\n",
       "    </tr>\n",
       "  </tbody>\n",
       "</table>\n",
       "</div>"
      ],
      "text/plain": [
       "   wikipedia_movie_ID freebase_movie_ID      movie_name movie_release_date  \\\n",
       "0              975900         /m/03vyhn  Ghosts of Mars         2001-08-24   \n",
       "\n",
       "   movie_box_office_revenue  movie_runtime  \\\n",
       "0              2.340194e+06           98.0   \n",
       "\n",
       "                      movie_languages  \\\n",
       "0  {\"/m/02h40lc\": \"English Language\"}   \n",
       "\n",
       "                             movie_countries  \\\n",
       "0  {\"/m/09c7w0\": \"United States of America\"}   \n",
       "\n",
       "                                        movie_genres  year_released  \\\n",
       "0  {\"/m/01jfsb\": \"Thriller\", \"/m/06n90\": \"Science...         2001.0   \n",
       "\n",
       "   num_actors  num_ethnicities  ethnicity_score  num_female  frac_female  \n",
       "0          17                3         0.176471           6     0.352941  "
      ]
     },
     "execution_count": 34,
     "metadata": {},
     "output_type": "execute_result"
    }
   ],
   "source": [
    "# add column for fraction of females\n",
    "movies[\"frac_female\"] = movies[\"num_female\"] / movies[\"num_actors\"]\n",
    "\n",
    "# print result\n",
    "movies.head(1)"
   ]
  },
  {
   "cell_type": "code",
   "execution_count": 35,
   "id": "5cf437b0-3324-41f3-a9e3-a270dec962de",
   "metadata": {},
   "outputs": [
    {
     "data": {
      "image/png": "[encoded data removed]",
      "text/plain": [
       "<Figure size 432x288 with 1 Axes>"
      ]
     },
     "metadata": {
      "needs_background": "light"
     },
     "output_type": "display_data"
    }
   ],
   "source": [
    "# plot relationship between 'frac_female' and 'movie_box_office_revenue'\n",
    "movies.plot.scatter(x=\"frac_female\", y=\"movie_box_office_revenue\", s=1)\n",
    "plt.yscale(\"log\")\n",
    "plt.xlabel(\"Fraction of females\")\n",
    "plt.ylabel(\"Movie box office revenue\")\n",
    "plt.title(\"Relationship between fraction of females and movie box office revenue\")\n",
    "plt.show()"
   ]
  },
  {
   "cell_type": "code",
   "execution_count": 36,
   "id": "5b228912-065c-4876-bbc8-53c929f7388d",
   "metadata": {},
   "outputs": [
    {
     "data": {
      "text/plain": [
       "SpearmanrResult(correlation=-0.07211486758992075, pvalue=7.205097527992801e-08)"
      ]
     },
     "execution_count": 36,
     "metadata": {},
     "output_type": "execute_result"
    }
   ],
   "source": [
    "# compute spearman correlation between 'frac_female' and 'movie_box_office_revenue'\n",
    "stats.spearmanr(movies[\"frac_female\"], movies[\"movie_box_office_revenue\"])"
   ]
  },
  {
   "cell_type": "code",
   "execution_count": 37,
   "id": "66028946-f130-4c8a-9c5e-f3984a32f627",
   "metadata": {},
   "outputs": [],
   "source": [
    "# check difference between the revenue of movies with majority of men and majority of women\n",
    "majority_male_revenue = movies[movies[\"frac_female\"] <= 0.5][\"movie_box_office_revenue\"]\n",
    "majority_female_revenue = movies[movies[\"frac_female\"] > 0.5][\n",
    "    \"movie_box_office_revenue\"\n",
    "]"
   ]
  },
  {
   "cell_type": "code",
   "execution_count": 38,
   "id": "bc91c105-30c0-4e0d-abd8-b2429c4d9753",
   "metadata": {},
   "outputs": [
    {
     "data": {
      "text/plain": [
       "Ttest_indResult(statistic=3.729362998935785, pvalue=0.0001938737853779318)"
      ]
     },
     "execution_count": 38,
     "metadata": {},
     "output_type": "execute_result"
    }
   ],
   "source": [
    "# independent t-test\n",
    "stats.ttest_ind(majority_male_revenue, majority_female_revenue)"
   ]
  },
  {
   "cell_type": "markdown",
   "id": "bdddcded-35b2-4244-ae3c-1c04a22c7616",
   "metadata": {},
   "source": [
    "#### Comment\n",
    "- After trying to isolate the impact on the revenue, we still observe a significant correlation. The correlation is increased when we look at `frac_females` instead of `num_females,` but still weak."
   ]
  },
  {
   "cell_type": "markdown",
   "id": "d676ac38-c65f-4a6d-9474-d44e8dae9034",
   "metadata": {},
   "source": [
    "---\n",
    "### Difference in revenue between the movies with majority of male and female actors"
   ]
  },
  {
   "cell_type": "code",
   "execution_count": 39,
   "id": "31dd36a2-bb27-4422-a6bd-f129f28329be",
   "metadata": {},
   "outputs": [
    {
     "name": "stdout",
     "output_type": "stream",
     "text": [
      "\n",
      "The statistical power of:\n",
      "    - The independent sample t-test comparing the revenue of movies with majority of male and majority of female \n",
      "      actors: 0.9864\n",
      "\n"
     ]
    }
   ],
   "source": [
    "# calculate the statistical power\n",
    "\n",
    "# creating list to store the p-values\n",
    "p_val = np.zeros(10000)\n",
    "\n",
    "# running the simulation 10000 times\n",
    "for i in range(10000):\n",
    "\n",
    "    # sample over_50 and under_50\n",
    "    sample_majority_male = np.random.choice(\n",
    "        majority_male_revenue, size=majority_male_revenue.shape[0]\n",
    "    )\n",
    "    sample_majority_female = np.random.choice(\n",
    "        majority_female_revenue, size=majority_female_revenue.shape[0]\n",
    "    )\n",
    "\n",
    "    # independent t-test\n",
    "    p_val[i] = stats.ttest_ind(sample_majority_male, sample_majority_female)[1]\n",
    "\n",
    "# calculating the percentage of rejects\n",
    "power = len(p_val[p_val < 0.05]) / len(p_val)\n",
    "\n",
    "# printing the results\n",
    "print(\n",
    "    f\"\"\"\n",
    "The statistical power of:\n",
    "    - The independent sample t-test comparing the revenue of movies with majority of male and majority of female \n",
    "      actors: {power}\n",
    "\"\"\"\n",
    ")"
   ]
  },
  {
   "cell_type": "code",
   "execution_count": 40,
   "id": "92cdd629-5a15-46d2-bc8f-9e85c5182aa2",
   "metadata": {},
   "outputs": [
    {
     "name": "stdout",
     "output_type": "stream",
     "text": [
      "\n",
      "The mean difference between in revenue between diverse and less diverse movies:\n",
      "    - Mean:                       4508179.24936687\n",
      "    - CI:                         [2625456.793061592, 6161943.086081243]\n",
      "\n"
     ]
    }
   ],
   "source": [
    "# calculating the mean difference\n",
    "mean_diff_gender = majority_male_revenue.mean() - majority_female_revenue.mean()\n",
    "\n",
    "# performing bootstrap to get the 95% CI\n",
    "gender_CI = bootstrap_CI(majority_male_revenue, majority_female_revenue)\n",
    "\n",
    "# printing the results\n",
    "print(\n",
    "    f\"\"\"\n",
    "The mean difference between in revenue between diverse and less diverse movies:\n",
    "    - Mean:                       {mean_diff_gender}\n",
    "    - CI:                         {gender_CI}\n",
    "\"\"\"\n",
    ")"
   ]
  },
  {
   "cell_type": "code",
   "execution_count": 41,
   "id": "c2f23a0a-0d0b-4582-b7da-ea498373d875",
   "metadata": {},
   "outputs": [
    {
     "data": {
      "text/plain": [
       "0.5087155591156328"
      ]
     },
     "execution_count": 41,
     "metadata": {},
     "output_type": "execute_result"
    }
   ],
   "source": [
    "# calculating the average revenue for under_50\n",
    "mean_majority_female = majority_female_revenue.mean()\n",
    "\n",
    "# calculating the percentage difference in revenue\n",
    "diff_percent = mean_diff_gender / mean_majority_female\n",
    "\n",
    "# printing the results\n",
    "diff_percent"
   ]
  },
  {
   "cell_type": "markdown",
   "id": "15f8fbfd-1149-4596-a5b1-742304088a77",
   "metadata": {},
   "source": [
    "#### Comment\n",
    "- The independent t-test gives us a small p-value (<< 0.05), which indicates a statistically significant difference between the samples with the majority of male actors (fraction of females ≤ 0.5) and the samples with the majority of female actors (fraction of females > 50). The statistical power of 0.9864 makes us confident in this result.\n",
    "- Further, the mean difference tells us that the movies with the majority of male actors generally have a higher movie box office revenue. The confidence interval makes us confident in this result. \n",
    "- By dividing the average difference by the average revenue for movies with the majority of female actors, we get that movies with the majority of male actors, on average, have a ~50.9% higher movie box office revenue. This shows that the gender-composition is impactful on the movie box office revenue."
   ]
  },
  {
   "cell_type": "code",
   "execution_count": null,
   "id": "816d6779-0faa-41ab-9ecf-eb37861fa7e0",
   "metadata": {},
   "outputs": [],
   "source": []
  }
 ],
 "metadata": {
  "kernelspec": {
   "display_name": "Python 3 (ipykernel)",
   "language": "python",
   "name": "python3"
  },
  "language_info": {
   "codemirror_mode": {
    "name": "ipython",
    "version": 3
   },
   "file_extension": ".py",
   "mimetype": "text/x-python",
   "name": "python",
   "nbconvert_exporter": "python",
   "pygments_lexer": "ipython3",
   "version": "3.9.12"
  }
 },
 "nbformat": 4,
 "nbformat_minor": 5
}
