{
 "cells": [
  {
   "cell_type": "code",
   "execution_count": 1,
   "id": "c9182be7-0253-4326-aefe-827a4f5f3a65",
   "metadata": {},
   "outputs": [],
   "source": [
    "import pandas as pd"
   ]
  },
  {
   "cell_type": "code",
   "execution_count": 2,
   "id": "74d98b94-82f4-4786-94ff-2da93901895c",
   "metadata": {},
   "outputs": [],
   "source": [
    "# define collumn names\n",
    "colnames_movies = [\n",
    "    \"wikipedia_movie_ID\",\n",
    "    \"freebase_movie_ID\",\n",
    "    \"movie_name\",\n",
    "    \"movie_release_date\",\n",
    "    \"movie_box_office_revenue\",\n",
    "    \"movie_runtime\",\n",
    "    \"movie_languages\",\n",
    "    \"movie_countries\",\n",
    "    \"movie_genres\",\n",
    "]\n",
    "\n",
    "colnames_character = [\n",
    "    \"wikipedia_movie_ID\",\n",
    "    \"freebase_movie_ID\",\n",
    "    \"last_update\",\n",
    "    \"character_name\",\n",
    "    \"actor_DOB\",\n",
    "    \"actor_gender\",\n",
    "    \"actor_height\",\n",
    "    \"actor_ethnicity\",\n",
    "    \"actor_name\",\n",
    "    \"actor_age_at_movie_release\",\n",
    "    \"freebase_character/actor_map_ID\",\n",
    "    \"freebase_character_ID\",\n",
    "    \"freebase_actor_ID\",\n",
    "]"
   ]
  },
  {
   "cell_type": "code",
   "execution_count": 3,
   "id": "c64b31bd-f28a-4ed5-93e0-5073431b1509",
   "metadata": {},
   "outputs": [],
   "source": [
    "def get_path(url):\n",
    "    '''\n",
    "    Returns data path for input url. \n",
    "    Returned path can be used to make dataframe.\n",
    "    \n",
    "    Parameters\n",
    "    ----------\n",
    "    url: string\n",
    "        The url you desire to find path for\n",
    "\n",
    "    Returns\n",
    "    -------\n",
    "    path: string\n",
    "        The path which can be used to make dataframe in pandas\n",
    "        \n",
    "    '''\n",
    "    return 'https://drive.google.com/uc?id=' + url.split('/')[-2]"
   ]
  },
  {
   "cell_type": "code",
   "execution_count": 4,
   "id": "a2e37fae-30f5-4572-932f-a769d540f10b",
   "metadata": {},
   "outputs": [],
   "source": [
    "MOVIE_PATH = get_path('https://drive.google.com/file/d/18ZLIKZsH41qls54Gy1qSYW1xtovf9Ke9/view?usp=share_link')\n",
    "CHARACTER_PATH = get_path('https://drive.google.com/file/d/1b3_Jn3bBJl6prrtPagU-Yol-ijFMod2u/view?usp=share_link')\n",
    "IMDB_MOVIES_PATH = get_path('https://drive.google.com/file/d/1qR4JB7NndnzTGBamwE8hF49sk4nwjyb7/view?usp=share_link')\n",
    "RATING_PATH = get_path('https://drive.google.com/file/d/1Dj5PhOERTTv6zZDprLIQMMaot3JYFlWi/view?usp=share_link')\n",
    "BUDGET_PATH = get_path('https://drive.google.com/file/d/1pV-iP36u1wmELu3AOLPNZ7rJJGsgj7YB/view?usp=share_link')"
   ]
  },
  {
   "cell_type": "code",
   "execution_count": 5,
   "id": "e1d0cd88-4bdb-4349-ae09-ffee697b83e8",
   "metadata": {},
   "outputs": [],
   "source": [
    "# load data\n",
    "movies = pd.read_csv(MOVIE_PATH, sep=\"\\t\", names=colnames_movies, header=None)\n",
    "characters = pd.read_csv(\n",
    "    CHARACTER_PATH, sep=\"\\t\", names=colnames_character, header=None\n",
    ")\n",
    "budget = pd.read_csv(BUDGET_PATH, usecols=['id', 'budget', 'original_title', 'release_date', 'runtime'])\n",
    "imdb_ratings = pd.read_table(RATING_PATH, sep='\\t')\n",
    "imdb_movies = pd.read_table(IMDB_MOVIES_PATH, sep='\\t') #usecols=['tconst', 'originalTitle', 'startYear', 'runtimeMinutes'])"
   ]
  },
  {
   "cell_type": "code",
   "execution_count": 6,
   "id": "8bdea06a-e64c-46a9-bd27-592e0ccdcf4e",
   "metadata": {},
   "outputs": [
    {
     "data": {
      "text/html": [
       "<div>\n",
       "<style scoped>\n",
       "    .dataframe tbody tr th:only-of-type {\n",
       "        vertical-align: middle;\n",
       "    }\n",
       "\n",
       "    .dataframe tbody tr th {\n",
       "        vertical-align: top;\n",
       "    }\n",
       "\n",
       "    .dataframe thead th {\n",
       "        text-align: right;\n",
       "    }\n",
       "</style>\n",
       "<table border=\"1\" class=\"dataframe\">\n",
       "  <thead>\n",
       "    <tr style=\"text-align: right;\">\n",
       "      <th></th>\n",
       "      <th>&lt;!DOCTYPE html&gt;&lt;html&gt;&lt;head&gt;&lt;title&gt;Google Drive - Virus scan warning&lt;/title&gt;&lt;meta http-equiv=\"content-type\" content=\"text/html; charset=utf-8\"/&gt;&lt;style nonce=\"daT6UTVKZVKbxqczAVbONg\"&gt;/* Copyright 2022 Google Inc. All Rights Reserved. */</th>\n",
       "    </tr>\n",
       "  </thead>\n",
       "  <tbody>\n",
       "    <tr>\n",
       "      <th>0</th>\n",
       "      <td>.goog-inline-block{position:relative;display:-...</td>\n",
       "    </tr>\n",
       "  </tbody>\n",
       "</table>\n",
       "</div>"
      ],
      "text/plain": [
       "  <!DOCTYPE html><html><head><title>Google Drive - Virus scan warning</title><meta http-equiv=\"content-type\" content=\"text/html; charset=utf-8\"/><style nonce=\"daT6UTVKZVKbxqczAVbONg\">/* Copyright 2022 Google Inc. All Rights Reserved. */\n",
       "0  .goog-inline-block{position:relative;display:-...                                                                                                                                                                                        "
      ]
     },
     "execution_count": 6,
     "metadata": {},
     "output_type": "execute_result"
    }
   ],
   "source": [
    "imdb_movies"
   ]
  },
  {
   "cell_type": "code",
   "execution_count": null,
   "id": "c2ae03eb-3cda-4d5c-b94b-da2786ced114",
   "metadata": {},
   "outputs": [],
   "source": []
  }
 ],
 "metadata": {
  "kernelspec": {
   "display_name": "Python 3 (ipykernel)",
   "language": "python",
   "name": "python3"
  },
  "language_info": {
   "codemirror_mode": {
    "name": "ipython",
    "version": 3
   },
   "file_extension": ".py",
   "mimetype": "text/x-python",
   "name": "python",
   "nbconvert_exporter": "python",
   "pygments_lexer": "ipython3",
   "version": "3.9.13"
  }
 },
 "nbformat": 4,
 "nbformat_minor": 5
}
