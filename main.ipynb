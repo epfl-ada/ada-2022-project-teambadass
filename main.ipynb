{
 "cells": [
  {
   "cell_type": "markdown",
   "id": "f76c9806-55c7-4961-8ab6-35994b31561e",
   "metadata": {
    "tags": []
   },
   "source": [
    "---\n",
    "**Contents of notebook:**\n",
    "<div class=\"toc\"><ul class=\"toc-item\"><li><span><a href=\"#Data-Processing\" data-toc-modified-id=\"Data Processing\">Data Processing</a></span><ul class=\"toc-item\"><li><span><a href=\"#Loading-data\" data-toc-modified-id=\"Loading data\">Loading data</a></span><li><span><a href=\"#Removing-null-values\" data-toc-modified-id=\"Removing null values\">Removing null values</a></span></li></ul><li><span><a href=\"#Diversity\" data-toc-modified-id=\"Diversity\">Diversity</a></span><ul class=\"toc-item\"><li><span><a href=\"#Distributions\" data-toc-modified-id=\"Distributions\">Distributions</a></span></li><li><span><a href=\"#Ethnicities\" data-toc-modified-id=\"Ethnicities\">Ethnicities</a></span></li></ul><li><span><a href=\"#Cast\" data-toc-modified-id=\"Cast\">Cast</a></span><ul class=\"toc-item\"><li><span><a href=\"#Preprocessing\" data-toc-modified-id=\"Preprocessing\">Preprocessing</a></span></li><li><span><a href=\"#Understanding-Cast-Data\" data-toc-modified-id=\"Understanding Cast Data\">Understanding Cast Data</a></span></li><li><span><a href=\"#Exploring-method:-Linear-Regression\" data-toc-modified-id=\"Exploring Method: Linear Regression\">Exploring Method: Linear Regression</a></span></li></ul><li><span><a href=\"#Runtime\" data-toc-modified-id=\"Runtime\">Runtime</a></span><ul class=\"toc-item\"><li><span><a href=\"#Data-Processing\" data-toc-modified-id=\"Data Processing\">Data Preprocessing</a></span></li><li><span><a href=\"#Distribution-of-runtime\" data-toc-modified-id=\"Distribution of runtime\">Distribution of runtime</a></span></li><li><span><a href=\"#Regression-&-Scatterplot\" data-toc-modified-id=\"Regression & Scatterplot\">Regression & Scatterplot</a></span></li><li><span><a href=\"#Effect-of-short-runtime-on-revenue\" data-toc-modified-id=\"Effect of short runtime on revenue\">Effect of short runtime on revenue</a></span></li><li><span><a href=\"#Difference-in-runtime-between-blockbuster-vs-non-blockbuster\" data-toc-modified-id=\"Difference in runtime between blockbuster vs non-blockbuster\">Difference in runtime between blockbuster vs non-blockbuster</a></span></li></ul><li><span><a href=\"#Plot-Summary\" data-toc-modified-id=\"Plot Summary\">Plot Summary</a></span><ul class=\"toc-item\"><li><span><a href=\"#Data-Processing\" data-toc-modified-id=\"Data Processing\">Data Processing</a></span></li><li><span><a href=\"#Regression-&-Scatterplot\" data-toc-modified-id=\"Regression & Scatterplot\">Regression & Scatterplot</a></span></li><li><span><a href=\"#Difference-in-revenues-between-movies-with-more-positive-and-more-negative-plot\" data-toc-modified-id=\"Difference in revenues between movies with more positive and more negative plot\">Difference in revenues between movies with more positive and more negative plot</a></span></li><li><span><a href=\"#Difference-in-sentiment-proportion-between-blockbuster-vs-non-blockbuster\" data-toc-modified-id=\"Difference in sentiment proportion between blockbuster vs non-blockbuster\">Difference in sentiment proportion between blockbuster vs non-blockbuster</a></span></li>"
   ]
  },
  {
   "cell_type": "markdown",
   "id": "5d398600-8155-4bd7-913e-b057e36f2c62",
   "metadata": {
    "tags": []
   },
   "source": [
    "---\n",
    "## Data Processing"
   ]
  },
  {
   "cell_type": "markdown",
   "id": "f0c641ea-3f73-4789-b6c4-743571bd719c",
   "metadata": {
    "tags": []
   },
   "source": [
    "---\n",
    "### Loading data"
   ]
  },
  {
   "cell_type": "code",
   "execution_count": 1,
   "id": "48a56350-8e01-425c-95fd-4f84b29ea6b0",
   "metadata": {},
   "outputs": [],
   "source": [
    "# imports\n",
    "import pandas as pd\n",
    "import matplotlib.pyplot as plt\n",
    "import numpy as np\n",
    "from scipy import stats\n",
    "from helpers import bootstrap_CI, correct_for_inflation\n",
    "import statsmodels.api as sm\n",
    "import statsmodels.formula.api as smf\n",
    "import seaborn as sns\n",
    "import requests\n",
    "from datetime import datetime as dt\n",
    "\n",
    "# turn off warning\n",
    "# pd.options.mode.chained_assignment = None"
   ]
  },
  {
   "cell_type": "code",
   "execution_count": 2,
   "id": "6fc48924-f1e9-448f-9fcb-db7bc2473830",
   "metadata": {},
   "outputs": [],
   "source": [
    "# constants\n",
    "data_folder = './data/'\n",
    "MOVIE_PATH = data_folder + 'movie.metadata.tsv'\n",
    "CHARACTER_PATH = data_folder + 'character.metadata.tsv'\n",
    "IMDB_MOVIES_PATH = data_folder + 'title.basics.tsv'\n",
    "RATING_PATH = data_folder + 'title.ratings.tsv'\n",
    "BUDGET_PATH = data_folder + 'movies_metadata.csv'"
   ]
  },
  {
   "cell_type": "code",
   "execution_count": 3,
   "id": "cbbe2dc3-c282-4177-a410-f1fadd73a863",
   "metadata": {},
   "outputs": [],
   "source": [
    "# create dataframes\n",
    "\n",
    "# define collumn names\n",
    "colnames_movies = [\n",
    "    \"wikipedia_movie_ID\",\n",
    "    \"freebase_movie_ID\",\n",
    "    \"movie_name\",\n",
    "    \"movie_release_date\",\n",
    "    \"movie_box_office_revenue\",\n",
    "    \"movie_runtime\",\n",
    "    \"movie_languages\",\n",
    "    \"movie_countries\",\n",
    "    \"movie_genres\",\n",
    "]\n",
    "\n",
    "colnames_character = [\n",
    "    \"wikipedia_movie_ID\",\n",
    "    \"freebase_movie_ID\",\n",
    "    \"last_update\",\n",
    "    \"character_name\",\n",
    "    \"actor_DOB\",\n",
    "    \"actor_gender\",\n",
    "    \"actor_height\",\n",
    "    \"actor_ethnicity\",\n",
    "    \"actor_name\",\n",
    "    \"actor_age_at_movie_release\",\n",
    "    \"freebase_character/actor_map_ID\",\n",
    "    \"freebase_character_ID\",\n",
    "    \"freebase_actor_ID\",\n",
    "]\n",
    "\n",
    "\n",
    "# load data\n",
    "movies = pd.read_csv(MOVIE_PATH, sep=\"\\t\", names=colnames_movies, header=None)\n",
    "characters = pd.read_csv(\n",
    "    CHARACTER_PATH, sep=\"\\t\", names=colnames_character, header=None\n",
    ")\n",
    "budget = pd.read_csv(BUDGET_PATH, usecols=['id', 'budget', 'original_title', 'release_date', 'runtime'])\n",
    "imdb_movies = pd.read_table(IMDB_MOVIES_PATH, sep='\\t', usecols=['tconst', 'originalTitle', 'startYear', 'runtimeMinutes'])\n",
    "imdb_ratings = pd.read_table(RATING_PATH, sep='\\t')"
   ]
  },
  {
   "cell_type": "markdown",
   "id": "2f52ca0e-9053-4f54-8f63-68f3c7c1b579",
   "metadata": {},
   "source": [
    "---\n",
    "### Merging the dataframes"
   ]
  },
  {
   "cell_type": "markdown",
   "id": "050ddd61-b980-4abd-a5a2-cc4bbedbabb6",
   "metadata": {},
   "source": [
    "Movie.metadata.tsv identifies the movies with wikipedia ID, while the IMDB datasets use their own ID and the Kaggle dataset use another ID. We will use (movie name, release year, runtime) as an ID for merging the dataframes. "
   ]
  },
  {
   "cell_type": "code",
   "execution_count": 4,
   "id": "c6d3123e-168b-4df3-b9ca-0370be83c881",
   "metadata": {},
   "outputs": [],
   "source": [
    "# adding column for release year in movies and budget dataframes. \n",
    "# IMDb dataset already contains release year. \n",
    "movies[\"year_released\"] = pd.to_datetime(\n",
    "    movies[\"movie_release_date\"], infer_datetime_format=True, errors=\"coerce\"\n",
    ").dt.year\n",
    "\n",
    "budget[\"year_released\"] = pd.to_datetime(\n",
    "    budget[\"release_date\"], infer_datetime_format=True, errors=\"coerce\"\n",
    ").dt.year\n",
    "\n",
    "# removing rows with null values in year_released \n",
    "movies = movies[~movies[\"year_released\"].isna()]\n",
    "\n",
    "# renaming column names to match ('movie_name', 'release_year', 'movie_runtime') between the datasets\n",
    "imdb_movies = imdb_movies.rename(columns={'startYear':'year_released', 'originalTitle':'movie_name','runtimeMinutes':'movie_runtime'})\n",
    "budget = budget.rename(columns={'original_title':'movie_name', 'runtime':'movie_runtime'})\n",
    "\n",
    "# converting '\\\\N' values to np.nan\n",
    "budget.loc[budget['year_released']=='\\\\N', 'year_released'] = np.nan\n",
    "budget.loc[budget['movie_runtime']=='\\\\N', 'movie_runtime'] = np.nan\n",
    "\n",
    "imdb_movies.loc[imdb_movies['year_released']=='\\\\N', 'year_released'] = np.nan\n",
    "imdb_movies.loc[imdb_movies['movie_runtime']=='\\\\N', 'movie_runtime'] = np.nan\n",
    "\n",
    "# removing all rows containing np.nan\n",
    "budget = budget[budget['year_released'].notna()]\n",
    "imdb_movies = imdb_movies[imdb_movies['year_released'].notna()]\n",
    "\n",
    "# converting year released to 'int64'\n",
    "movies['year_released'] = movies[\"year_released\"].astype(\"int64\")\n",
    "budget['year_released'] = budget[\"year_released\"].astype(\"int64\", errors='ignore')\n",
    "imdb_movies['year_released'] = imdb_movies[\"year_released\"].astype(\"int64\")\n",
    "\n",
    "# converting runtime to 'float64'\n",
    "budget['movie_runtime'] = budget[\"movie_runtime\"].astype(\"float64\")\n",
    "imdb_movies['movie_runtime'] = imdb_movies[\"movie_runtime\"].astype(\"float64\", errors='ignore')"
   ]
  },
  {
   "cell_type": "code",
   "execution_count": 5,
   "id": "8c546def-541d-457e-a0c9-b4734c9686be",
   "metadata": {},
   "outputs": [],
   "source": [
    "# removing rows with duplicate of ('movie_name', 'release_year', 'movie_runtime') in movies\n",
    "movies = movies.drop_duplicates(subset=['movie_name', 'year_released', 'movie_runtime'])\n",
    "budget = budget.drop_duplicates(subset=['movie_name', 'year_released', 'movie_runtime'])\n",
    "imdb_movies = imdb_movies.drop_duplicates(subset=['movie_name', 'year_released', 'movie_runtime'])"
   ]
  },
  {
   "cell_type": "code",
   "execution_count": 6,
   "id": "a75d6a1e-4ebf-4c33-a4be-ee8c71c95f20",
   "metadata": {},
   "outputs": [],
   "source": [
    "# merge 'movies' with 'budget'\n",
    "movies = pd.merge(left=movies, right=budget, how='left', on=['movie_name', 'year_released', 'movie_runtime'])\n",
    "\n",
    "# merge 'imdb_movies' with 'imdb_ratings':\n",
    "imdb_movies = pd.merge(left=imdb_movies, right=imdb_ratings, on='tconst')\n",
    "\n",
    "# merge 'movies' with 'imdb_movies' + 'imdb_ratings'\n",
    "movies = pd.merge(left=movies, right=imdb_movies, how='left', on=['movie_name', 'year_released', 'movie_runtime'])\n",
    "\n",
    "# include relevant column names\n",
    "# extended_colnames_movies = colnames_movies.copy()\n",
    "# extended_colnames_movies.extend(['budget', 'averageRating', 'numVotes'])\n",
    "# movies = movies[extended_colnames_movies]"
   ]
  },
  {
   "cell_type": "code",
   "execution_count": 7,
   "id": "88133cdf-4580-4cea-b9be-e90dff0b7f06",
   "metadata": {},
   "outputs": [
    {
     "data": {
      "text/html": [
       "<div>\n",
       "<style scoped>\n",
       "    .dataframe tbody tr th:only-of-type {\n",
       "        vertical-align: middle;\n",
       "    }\n",
       "\n",
       "    .dataframe tbody tr th {\n",
       "        vertical-align: top;\n",
       "    }\n",
       "\n",
       "    .dataframe thead th {\n",
       "        text-align: right;\n",
       "    }\n",
       "</style>\n",
       "<table border=\"1\" class=\"dataframe\">\n",
       "  <thead>\n",
       "    <tr style=\"text-align: right;\">\n",
       "      <th></th>\n",
       "      <th>wikipedia_movie_ID</th>\n",
       "      <th>freebase_movie_ID</th>\n",
       "      <th>movie_name</th>\n",
       "      <th>movie_release_date</th>\n",
       "      <th>movie_box_office_revenue</th>\n",
       "      <th>movie_runtime</th>\n",
       "      <th>movie_languages</th>\n",
       "      <th>movie_countries</th>\n",
       "      <th>movie_genres</th>\n",
       "      <th>year_released</th>\n",
       "      <th>budget</th>\n",
       "      <th>id</th>\n",
       "      <th>release_date</th>\n",
       "      <th>tconst</th>\n",
       "      <th>averageRating</th>\n",
       "      <th>numVotes</th>\n",
       "    </tr>\n",
       "  </thead>\n",
       "  <tbody>\n",
       "    <tr>\n",
       "      <th>0</th>\n",
       "      <td>975900</td>\n",
       "      <td>/m/03vyhn</td>\n",
       "      <td>Ghosts of Mars</td>\n",
       "      <td>2001-08-24</td>\n",
       "      <td>14010832.0</td>\n",
       "      <td>98.0</td>\n",
       "      <td>{\"/m/02h40lc\": \"English Language\"}</td>\n",
       "      <td>{\"/m/09c7w0\": \"United States of America\"}</td>\n",
       "      <td>{\"/m/01jfsb\": \"Thriller\", \"/m/06n90\": \"Science...</td>\n",
       "      <td>2001</td>\n",
       "      <td>28000000</td>\n",
       "      <td>10016</td>\n",
       "      <td>2001-08-24</td>\n",
       "      <td>tt0228333</td>\n",
       "      <td>4.9</td>\n",
       "      <td>55271.0</td>\n",
       "    </tr>\n",
       "  </tbody>\n",
       "</table>\n",
       "</div>"
      ],
      "text/plain": [
       "   wikipedia_movie_ID freebase_movie_ID      movie_name movie_release_date  \\\n",
       "0              975900         /m/03vyhn  Ghosts of Mars         2001-08-24   \n",
       "\n",
       "   movie_box_office_revenue  movie_runtime  \\\n",
       "0                14010832.0           98.0   \n",
       "\n",
       "                      movie_languages  \\\n",
       "0  {\"/m/02h40lc\": \"English Language\"}   \n",
       "\n",
       "                             movie_countries  \\\n",
       "0  {\"/m/09c7w0\": \"United States of America\"}   \n",
       "\n",
       "                                        movie_genres  year_released    budget  \\\n",
       "0  {\"/m/01jfsb\": \"Thriller\", \"/m/06n90\": \"Science...           2001  28000000   \n",
       "\n",
       "      id release_date     tconst  averageRating  numVotes  \n",
       "0  10016   2001-08-24  tt0228333            4.9   55271.0  "
      ]
     },
     "execution_count": 7,
     "metadata": {},
     "output_type": "execute_result"
    }
   ],
   "source": [
    "# print the 'movie' data frame\n",
    "movies.head(1)"
   ]
  },
  {
   "cell_type": "code",
   "execution_count": 8,
   "id": "9c8e3216-5043-4834-9e53-11cad4090918",
   "metadata": {},
   "outputs": [
    {
     "data": {
      "text/html": [
       "<div>\n",
       "<style scoped>\n",
       "    .dataframe tbody tr th:only-of-type {\n",
       "        vertical-align: middle;\n",
       "    }\n",
       "\n",
       "    .dataframe tbody tr th {\n",
       "        vertical-align: top;\n",
       "    }\n",
       "\n",
       "    .dataframe thead th {\n",
       "        text-align: right;\n",
       "    }\n",
       "</style>\n",
       "<table border=\"1\" class=\"dataframe\">\n",
       "  <thead>\n",
       "    <tr style=\"text-align: right;\">\n",
       "      <th></th>\n",
       "      <th>wikipedia_movie_ID</th>\n",
       "      <th>freebase_movie_ID</th>\n",
       "      <th>last_update</th>\n",
       "      <th>character_name</th>\n",
       "      <th>actor_DOB</th>\n",
       "      <th>actor_gender</th>\n",
       "      <th>actor_height</th>\n",
       "      <th>actor_ethnicity</th>\n",
       "      <th>actor_name</th>\n",
       "      <th>actor_age_at_movie_release</th>\n",
       "      <th>freebase_character/actor_map_ID</th>\n",
       "      <th>freebase_character_ID</th>\n",
       "      <th>freebase_actor_ID</th>\n",
       "    </tr>\n",
       "  </thead>\n",
       "  <tbody>\n",
       "    <tr>\n",
       "      <th>0</th>\n",
       "      <td>975900</td>\n",
       "      <td>/m/03vyhn</td>\n",
       "      <td>2001-08-24</td>\n",
       "      <td>Akooshay</td>\n",
       "      <td>1958-08-26</td>\n",
       "      <td>F</td>\n",
       "      <td>1.62</td>\n",
       "      <td>NaN</td>\n",
       "      <td>Wanda De Jesus</td>\n",
       "      <td>42.0</td>\n",
       "      <td>/m/0bgchxw</td>\n",
       "      <td>/m/0bgcj3x</td>\n",
       "      <td>/m/03wcfv7</td>\n",
       "    </tr>\n",
       "  </tbody>\n",
       "</table>\n",
       "</div>"
      ],
      "text/plain": [
       "   wikipedia_movie_ID freebase_movie_ID last_update character_name  \\\n",
       "0              975900         /m/03vyhn  2001-08-24       Akooshay   \n",
       "\n",
       "    actor_DOB actor_gender  actor_height actor_ethnicity      actor_name  \\\n",
       "0  1958-08-26            F          1.62             NaN  Wanda De Jesus   \n",
       "\n",
       "   actor_age_at_movie_release freebase_character/actor_map_ID  \\\n",
       "0                        42.0                      /m/0bgchxw   \n",
       "\n",
       "  freebase_character_ID freebase_actor_ID  \n",
       "0            /m/0bgcj3x        /m/03wcfv7  "
      ]
     },
     "execution_count": 8,
     "metadata": {},
     "output_type": "execute_result"
    }
   ],
   "source": [
    "# print the 'characters' data frame\n",
    "characters.head(1)"
   ]
  },
  {
   "cell_type": "markdown",
   "id": "74e636c2-e0cb-4221-a427-0ba7d479f75f",
   "metadata": {
    "tags": []
   },
   "source": [
    "---\n",
    "### Removing null values\n",
    "This notebook intends to investigate the correlation between diversity and revenue; we will therefore filter out movies without `Movie box office revenue.`"
   ]
  },
  {
   "cell_type": "code",
   "execution_count": 9,
   "id": "dbe5f620-5fa6-405a-96ab-2510745f41f1",
   "metadata": {},
   "outputs": [
    {
     "name": "stdout",
     "output_type": "stream",
     "text": [
      "\n",
      "Total number of movies before filtering: 74821\n",
      "Number of movies after filtering:         8325     \n",
      "\n"
     ]
    }
   ],
   "source": [
    "# filtering out movies without revenue\n",
    "num_movies_before_filter = movies.shape[0]\n",
    "movies = movies[~movies[\"movie_box_office_revenue\"].isna()]\n",
    "num_movies_after_filter = movies.shape[0]\n",
    "\n",
    "# printing the results\n",
    "print(\n",
    "    f\"\"\"\n",
    "Total number of movies before filtering: {num_movies_before_filter}\n",
    "Number of movies after filtering:         {num_movies_after_filter}     \n",
    "\"\"\"\n",
    ")"
   ]
  },
  {
   "cell_type": "markdown",
   "id": "719bcc73-d143-4349-a296-27539c3576ed",
   "metadata": {
    "tags": []
   },
   "source": [
    "#### Comment\n",
    "- We observe that ~90% of the movies were filtered out.\n",
    "- We still got 8 401 which should be sufficient for the data analysis."
   ]
  },
  {
   "cell_type": "markdown",
   "id": "c23cfcbb-a5da-40ad-a2d9-3b425a8ab6d8",
   "metadata": {
    "tags": []
   },
   "source": [
    "---\n",
    "### Adjusting for inflation\n",
    "\n",
    "Our previous finding suggested that we had to adjust the `movie_box_office_revenue` for inflation to make movies more comparable."
   ]
  },
  {
   "cell_type": "code",
   "execution_count": 10,
   "id": "3982ce68-3fcd-42cd-9533-23d0a2fd2464",
   "metadata": {},
   "outputs": [],
   "source": [
    "# adjusting the 'movie_box_office_revenue' for inflation\n",
    "movies = correct_for_inflation(movies, \"movie_box_office_revenue\", start_year=1960, end_year=2014)"
   ]
  },
  {
   "cell_type": "markdown",
   "id": "22777b5a-73fe-474a-89ec-31b9280c9003",
   "metadata": {
    "jp-MarkdownHeadingCollapsed": true,
    "tags": []
   },
   "source": [
    "#### Comment\n",
    "\n",
    "**Problem:**\n",
    "- We observe that the dataset contains some old movies. The revenue will not be representable for such movies because of inflation.\n",
    "\n",
    "\n",
    "**Solution:**\n",
    "- A possible solution would be to collect a dataset of the inflation since ~1920 and adjust the revenues for inflation to make them comparable.\n",
    "\n",
    "**Conclusion:**\n",
    "- We need to collect an external dataset on inflation."
   ]
  },
  {
   "cell_type": "markdown",
   "id": "2a9c7d04-c5a2-48d1-8185-ed8bd5da4172",
   "metadata": {
    "tags": []
   },
   "source": [
    "# Diversity"
   ]
  },
  {
   "cell_type": "markdown",
   "id": "91ef8f4e-8a79-4cda-9f90-c100d7313a46",
   "metadata": {},
   "source": [
    "- This notebook intends to investigate the diversity of the [CMU Movie Summary Corpus](http://www.cs.cmu.edu/~ark/personas/) dataset.\n",
    "- The notebook will look at the distribution of ethnicities and gender and how it correlates with a movie's revenue."
   ]
  },
  {
   "cell_type": "markdown",
   "id": "45ed174a-3b58-4ba8-b74b-d78a2749e03b",
   "metadata": {},
   "source": [
    "---\n",
    "**Summary**\n",
    "- Diverse movies have, on average, ~27.3% higher movie box office revenue.\n",
    "- Movies with the majority of male actors have, on average, ~50.9% higher movie box office revenue.\n",
    "- The results are intriguing, and we would like to pursue this aspect in further analysis in milestone 3."
   ]
  },
  {
   "cell_type": "markdown",
   "id": "faecb06c-0011-400f-aa9f-e317f05a2ceb",
   "metadata": {
    "tags": []
   },
   "source": [
    "<div class=\"toc\"><ul class=\"toc-item\"><li><span><a href=\"#Data-Processing\" data-toc-modified-id=\"Data Processing\">Data Processing</a></span>\n",
    "<li><a href=\"#Distributions\" data-toc-modified-id=\"Distributions\">Distributions</a></li>\n",
    "<li><a href=\"#Gender\" data-toc-modified-id=\"Gender\">Gender</a></li>\n",
    "<li><a href=\"#Ethnicity\" data-toc-modified-id=\"Ethnicity\">Ethnicity</a></li>"
   ]
  },
  {
   "cell_type": "markdown",
   "id": "18ff9a13-3956-40d5-b581-424f3d0f8def",
   "metadata": {},
   "source": [
    "![Diversity](./img/diversity.jpeg)"
   ]
  },
  {
   "cell_type": "markdown",
   "id": "12f58986-0179-4557-b252-881306c17b2a",
   "metadata": {
    "tags": []
   },
   "source": [
    "---\n",
    "## Distributions"
   ]
  },
  {
   "cell_type": "markdown",
   "id": "f798e3ff-543c-4723-9760-d2586ecb84c0",
   "metadata": {
    "tags": []
   },
   "source": [
    "---\n",
    "### Distribution of release dates"
   ]
  },
  {
   "cell_type": "code",
   "execution_count": 11,
   "id": "cbc32d3e-ff53-42ef-bd0d-0d55f0d4e450",
   "metadata": {},
   "outputs": [
    {
     "data": {
      "text/html": [
       "<div>\n",
       "<style scoped>\n",
       "    .dataframe tbody tr th:only-of-type {\n",
       "        vertical-align: middle;\n",
       "    }\n",
       "\n",
       "    .dataframe tbody tr th {\n",
       "        vertical-align: top;\n",
       "    }\n",
       "\n",
       "    .dataframe thead th {\n",
       "        text-align: right;\n",
       "    }\n",
       "</style>\n",
       "<table border=\"1\" class=\"dataframe\">\n",
       "  <thead>\n",
       "    <tr style=\"text-align: right;\">\n",
       "      <th></th>\n",
       "      <th>wikipedia_movie_ID</th>\n",
       "      <th>freebase_movie_ID</th>\n",
       "      <th>movie_name</th>\n",
       "      <th>movie_release_date</th>\n",
       "      <th>movie_box_office_revenue</th>\n",
       "      <th>movie_runtime</th>\n",
       "      <th>movie_languages</th>\n",
       "      <th>movie_countries</th>\n",
       "      <th>movie_genres</th>\n",
       "      <th>year_released</th>\n",
       "      <th>budget</th>\n",
       "      <th>id</th>\n",
       "      <th>release_date</th>\n",
       "      <th>tconst</th>\n",
       "      <th>averageRating</th>\n",
       "      <th>numVotes</th>\n",
       "    </tr>\n",
       "  </thead>\n",
       "  <tbody>\n",
       "    <tr>\n",
       "      <th>0</th>\n",
       "      <td>975900</td>\n",
       "      <td>/m/03vyhn</td>\n",
       "      <td>Ghosts of Mars</td>\n",
       "      <td>2001-08-24</td>\n",
       "      <td>2.340194e+06</td>\n",
       "      <td>98.0</td>\n",
       "      <td>{\"/m/02h40lc\": \"English Language\"}</td>\n",
       "      <td>{\"/m/09c7w0\": \"United States of America\"}</td>\n",
       "      <td>{\"/m/01jfsb\": \"Thriller\", \"/m/06n90\": \"Science...</td>\n",
       "      <td>2001</td>\n",
       "      <td>28000000</td>\n",
       "      <td>10016</td>\n",
       "      <td>2001-08-24</td>\n",
       "      <td>tt0228333</td>\n",
       "      <td>4.9</td>\n",
       "      <td>55271.0</td>\n",
       "    </tr>\n",
       "  </tbody>\n",
       "</table>\n",
       "</div>"
      ],
      "text/plain": [
       "   wikipedia_movie_ID freebase_movie_ID      movie_name movie_release_date  \\\n",
       "0              975900         /m/03vyhn  Ghosts of Mars         2001-08-24   \n",
       "\n",
       "   movie_box_office_revenue  movie_runtime  \\\n",
       "0              2.340194e+06           98.0   \n",
       "\n",
       "                      movie_languages  \\\n",
       "0  {\"/m/02h40lc\": \"English Language\"}   \n",
       "\n",
       "                             movie_countries  \\\n",
       "0  {\"/m/09c7w0\": \"United States of America\"}   \n",
       "\n",
       "                                        movie_genres  year_released    budget  \\\n",
       "0  {\"/m/01jfsb\": \"Thriller\", \"/m/06n90\": \"Science...           2001  28000000   \n",
       "\n",
       "      id release_date     tconst  averageRating  numVotes  \n",
       "0  10016   2001-08-24  tt0228333            4.9   55271.0  "
      ]
     },
     "execution_count": 11,
     "metadata": {},
     "output_type": "execute_result"
    }
   ],
   "source": [
    "# adding column for year release\n",
    "movies[\"year_released\"] = pd.to_datetime(\n",
    "    movies[\"movie_release_date\"], infer_datetime_format=True, errors=\"coerce\"\n",
    ").dt.year\n",
    "\n",
    "# removing null values\n",
    "movies = movies[~movies[\"year_released\"].isna()]\n",
    "\n",
    "# converting to 'int64'\n",
    "movies[\"year_released\"].astype(\"int64\")\n",
    "\n",
    "# print result\n",
    "movies.head(1)"
   ]
  },
  {
   "cell_type": "code",
   "execution_count": 12,
   "id": "8e73ec86-c181-4a7a-87fb-9b373457ef8b",
   "metadata": {},
   "outputs": [
    {
     "data": {
      "image/png": "[encoded data removed]",
      "text/plain": [
       "<Figure size 640x480 with 1 Axes>"
      ]
     },
     "metadata": {},
     "output_type": "display_data"
    }
   ],
   "source": [
    "# plot the distribution of realese years\n",
    "bins = np.arange(1915, 2013) - 0.5  # -0.5 for center-aligned bins\n",
    "plt.hist(movies[\"year_released\"], histtype=\"step\", bins=bins, log=True)\n",
    "plt.xlabel(\"Release year\")\n",
    "plt.ylabel(\"Number of movies\")\n",
    "plt.title(\"Distribution of of movies released\")\n",
    "plt.show()"
   ]
  },
  {
   "cell_type": "markdown",
   "id": "a0405ce8-e6ab-4d9a-97f7-24ebac23da25",
   "metadata": {
    "tags": []
   },
   "source": [
    "---\n",
    "### Distribution of actors"
   ]
  },
  {
   "cell_type": "code",
   "execution_count": 13,
   "id": "d5c56b48-138e-4bfa-a92f-9806e9babb30",
   "metadata": {},
   "outputs": [
    {
     "data": {
      "text/html": [
       "<div>\n",
       "<style scoped>\n",
       "    .dataframe tbody tr th:only-of-type {\n",
       "        vertical-align: middle;\n",
       "    }\n",
       "\n",
       "    .dataframe tbody tr th {\n",
       "        vertical-align: top;\n",
       "    }\n",
       "\n",
       "    .dataframe thead th {\n",
       "        text-align: right;\n",
       "    }\n",
       "</style>\n",
       "<table border=\"1\" class=\"dataframe\">\n",
       "  <thead>\n",
       "    <tr style=\"text-align: right;\">\n",
       "      <th></th>\n",
       "      <th>wikipedia_movie_ID</th>\n",
       "      <th>freebase_movie_ID</th>\n",
       "      <th>movie_name</th>\n",
       "      <th>movie_release_date</th>\n",
       "      <th>movie_box_office_revenue</th>\n",
       "      <th>movie_runtime</th>\n",
       "      <th>movie_languages</th>\n",
       "      <th>movie_countries</th>\n",
       "      <th>movie_genres</th>\n",
       "      <th>year_released</th>\n",
       "      <th>budget</th>\n",
       "      <th>id</th>\n",
       "      <th>release_date</th>\n",
       "      <th>tconst</th>\n",
       "      <th>averageRating</th>\n",
       "      <th>numVotes</th>\n",
       "      <th>num_actors</th>\n",
       "    </tr>\n",
       "  </thead>\n",
       "  <tbody>\n",
       "    <tr>\n",
       "      <th>0</th>\n",
       "      <td>975900</td>\n",
       "      <td>/m/03vyhn</td>\n",
       "      <td>Ghosts of Mars</td>\n",
       "      <td>2001-08-24</td>\n",
       "      <td>2.340194e+06</td>\n",
       "      <td>98.0</td>\n",
       "      <td>{\"/m/02h40lc\": \"English Language\"}</td>\n",
       "      <td>{\"/m/09c7w0\": \"United States of America\"}</td>\n",
       "      <td>{\"/m/01jfsb\": \"Thriller\", \"/m/06n90\": \"Science...</td>\n",
       "      <td>2001</td>\n",
       "      <td>28000000</td>\n",
       "      <td>10016</td>\n",
       "      <td>2001-08-24</td>\n",
       "      <td>tt0228333</td>\n",
       "      <td>4.9</td>\n",
       "      <td>55271.0</td>\n",
       "      <td>17</td>\n",
       "    </tr>\n",
       "  </tbody>\n",
       "</table>\n",
       "</div>"
      ],
      "text/plain": [
       "   wikipedia_movie_ID freebase_movie_ID      movie_name movie_release_date  \\\n",
       "0              975900         /m/03vyhn  Ghosts of Mars         2001-08-24   \n",
       "\n",
       "   movie_box_office_revenue  movie_runtime  \\\n",
       "0              2.340194e+06           98.0   \n",
       "\n",
       "                      movie_languages  \\\n",
       "0  {\"/m/02h40lc\": \"English Language\"}   \n",
       "\n",
       "                             movie_countries  \\\n",
       "0  {\"/m/09c7w0\": \"United States of America\"}   \n",
       "\n",
       "                                        movie_genres  year_released    budget  \\\n",
       "0  {\"/m/01jfsb\": \"Thriller\", \"/m/06n90\": \"Science...           2001  28000000   \n",
       "\n",
       "      id release_date     tconst  averageRating  numVotes  num_actors  \n",
       "0  10016   2001-08-24  tt0228333            4.9   55271.0          17  "
      ]
     },
     "execution_count": 13,
     "metadata": {},
     "output_type": "execute_result"
    }
   ],
   "source": [
    "# add collumn for number of actors\n",
    "num_actors = characters.groupby(\"freebase_movie_ID\")[\"freebase_actor_ID\"].apply(\n",
    "    lambda x: x.count()\n",
    ")\n",
    "\n",
    "# rename the series\n",
    "num_actors.name = \"num_actors\"\n",
    "\n",
    "# merge with the movies data frame\n",
    "movies = movies.merge(num_actors, left_on=\"freebase_movie_ID\", right_index=True)\n",
    "\n",
    "# print result\n",
    "movies.head(1)"
   ]
  },
  {
   "cell_type": "code",
   "execution_count": 14,
   "id": "6677a06d-32a1-47b8-ac0b-0c3966c50c3d",
   "metadata": {},
   "outputs": [
    {
     "data": {
      "image/png": "[encoded data removed]",
      "text/plain": [
       "<Figure size 640x480 with 1 Axes>"
      ]
     },
     "metadata": {},
     "output_type": "display_data"
    }
   ],
   "source": [
    "# plot the distribution of actors\n",
    "bins = np.arange(100) - 0.5  # -0.5 for center-aligned bins\n",
    "plt.hist(movies[\"num_actors\"], histtype=\"step\", bins=bins, log=True)\n",
    "plt.xlabel(\"Number of actors\")\n",
    "plt.ylabel(\"Number of movies\")\n",
    "plt.title(\"Distribution of actors\")\n",
    "plt.show()"
   ]
  },
  {
   "cell_type": "code",
   "execution_count": 15,
   "id": "ae781ed0-6e4b-4515-a754-e722eeb1bcc2",
   "metadata": {},
   "outputs": [
    {
     "data": {
      "image/png": "[encoded data removed]",
      "text/plain": [
       "<Figure size 640x480 with 1 Axes>"
      ]
     },
     "metadata": {},
     "output_type": "display_data"
    }
   ],
   "source": [
    "# plot relationship between 'num_actors' and 'movie_box_office_revenue'\n",
    "movies.plot.scatter(x=\"num_actors\", y=\"movie_box_office_revenue\", s=1)\n",
    "plt.yscale(\"log\")\n",
    "plt.xlabel(\"Number of actors\")\n",
    "plt.ylabel(\"Movie box office revenue\")\n",
    "plt.title(\"Relationship between the number actors and the movie box office revenue\")\n",
    "plt.show()"
   ]
  },
  {
   "cell_type": "code",
   "execution_count": 16,
   "id": "692e615e-a71b-4202-8463-061c60e27d84",
   "metadata": {},
   "outputs": [
    {
     "data": {
      "text/plain": [
       "SpearmanrResult(correlation=0.3686575495322601, pvalue=2.6065915953621403e-261)"
      ]
     },
     "execution_count": 16,
     "metadata": {},
     "output_type": "execute_result"
    }
   ],
   "source": [
    "# compute spearman correlation between 'num_actors' and 'movie_box_office_revenue'\n",
    "stats.spearmanr(movies[\"num_actors\"], movies[\"movie_box_office_revenue\"])"
   ]
  },
  {
   "cell_type": "markdown",
   "id": "df8c096f-83f3-41a7-9e1d-911c5cac207e",
   "metadata": {},
   "source": [
    "#### Comment\n",
    "\n",
    " **Problem:**\n",
    "1. We observe that many movies only have a few actors. It´s unlikely that a movie only has one actor, which is the case for ~50 movies in the dataset. The reason is probably that the dataset initially focused on characters, which can be more difficult to extract than actors.\n",
    "\n",
    "2. We observe that movies with more actors have higher revenue. This is something to be aware of since more actors will likely provide more diversity.\n",
    "\n",
    "**Solution:**\n",
    "1. A possible solution would be to collect data about the number of actors from a different dataset. The problem with an external dataset will be finding data about ethnicity and gender. This was not included in the [IMDb datasets](https://www.imdb.com/interfaces/).\n",
    "\n",
    "2. It will be necessary to look at the number of ethnicities and females with the total number of actors.\n",
    "\n",
    "**Conclusion:**\n",
    "1. Setting a threshold for the number of actors is a good solution that still enables us to use the original dataset.\n",
    "\n",
    "2. Computing an `ethnicity_score` and `fraction_of_female` to also consider the total number of actors."
   ]
  },
  {
   "cell_type": "markdown",
   "id": "3dfef8c0-d95a-46c1-a8fe-c9568ac64108",
   "metadata": {
    "tags": []
   },
   "source": [
    "---\n",
    "### Threshold\n",
    "\n",
    "Our previous finding suggested that a threshold on the number of actors might be necessary."
   ]
  },
  {
   "cell_type": "code",
   "execution_count": 17,
   "id": "7fc6e536-d2bf-4392-be30-c83da054b276",
   "metadata": {},
   "outputs": [
    {
     "name": "stdout",
     "output_type": "stream",
     "text": [
      "\n",
      "Total number of movies before filtering: 8166\n",
      "Number of movies after filtering:        5670     \n",
      "\n"
     ]
    }
   ],
   "source": [
    "# filtering out movies with less than 10 actors\n",
    "num_movies_before_filter = movies.shape[0]\n",
    "movies = movies[movies[\"num_actors\"] > 9]\n",
    "num_movies_after_filter = movies.shape[0]\n",
    "\n",
    "# printing the results\n",
    "print(\n",
    "    f\"\"\"\n",
    "Total number of movies before filtering: {num_movies_before_filter}\n",
    "Number of movies after filtering:        {num_movies_after_filter}     \n",
    "\"\"\"\n",
    ")"
   ]
  },
  {
   "cell_type": "code",
   "execution_count": 18,
   "id": "11290831-a44a-4711-889d-9cda8858ceda",
   "metadata": {},
   "outputs": [
    {
     "data": {
      "image/png": "[encoded data removed]",
      "text/plain": [
       "<Figure size 640x480 with 1 Axes>"
      ]
     },
     "metadata": {},
     "output_type": "display_data"
    }
   ],
   "source": [
    "# plot the distribution of actors after threshold\n",
    "bins = np.arange(10, 100) - 0.5  # -0.5 for center-aligned bins\n",
    "plt.hist(movies[\"num_actors\"], histtype=\"step\", bins=bins, log=True)\n",
    "plt.xlabel(\"Number of actors\")\n",
    "plt.ylabel(\"Number of movies\")\n",
    "plt.title(\"Distribution of actors\")\n",
    "plt.show()"
   ]
  },
  {
   "cell_type": "code",
   "execution_count": 19,
   "id": "273ef132-eb3b-4ab1-a1ec-86485427a6d8",
   "metadata": {},
   "outputs": [
    {
     "data": {
      "text/plain": [
       "SpearmanrResult(correlation=0.2472972004124132, pvalue=9.135619215674016e-80)"
      ]
     },
     "execution_count": 19,
     "metadata": {},
     "output_type": "execute_result"
    }
   ],
   "source": [
    "# compute spearman correlation between 'num_actors' and 'movie_box_office_revenue'\n",
    "stats.spearmanr(movies[\"num_actors\"], movies[\"movie_box_office_revenue\"])"
   ]
  },
  {
   "cell_type": "markdown",
   "id": "e12ecda1-876e-4d63-bfaf-f86bfac01efc",
   "metadata": {},
   "source": [
    "#### Comment\n",
    "There is still a statistically significant correlation between `num_actors` and `movie_box_office_revenue` after introducing a threshold, but the correlation is weakened."
   ]
  },
  {
   "cell_type": "markdown",
   "id": "deaccccb-ee75-494c-8092-63e4b8737218",
   "metadata": {
    "tags": []
   },
   "source": [
    "---\n",
    "## Ethnicity"
   ]
  },
  {
   "cell_type": "markdown",
   "id": "714ac245-1e53-45b6-b778-929387e94e52",
   "metadata": {},
   "source": [
    "---\n",
    "### Correlation between the number of ethnicites and revenue"
   ]
  },
  {
   "cell_type": "code",
   "execution_count": 20,
   "id": "0d79c972-be00-4ecd-9e38-244be1fe99ef",
   "metadata": {},
   "outputs": [],
   "source": [
    "# add collumn for number of ethnicities\n",
    "num_ethnicities = characters.groupby(\"freebase_movie_ID\")[\"actor_ethnicity\"].apply(\n",
    "    lambda x: x.nunique()\n",
    ")\n",
    "\n",
    "# rename the series\n",
    "num_ethnicities.name = \"num_ethnicities\"\n",
    "\n",
    "# merge with the movies data frame\n",
    "movies = movies.merge(num_ethnicities, left_on=\"freebase_movie_ID\", right_index=True)"
   ]
  },
  {
   "cell_type": "code",
   "execution_count": 21,
   "id": "31063dee-211b-428c-9f1a-e58972ade51f",
   "metadata": {},
   "outputs": [
    {
     "data": {
      "image/png": "[encoded data removed]",
      "text/plain": [
       "<Figure size 640x480 with 1 Axes>"
      ]
     },
     "metadata": {},
     "output_type": "display_data"
    }
   ],
   "source": [
    "# plot relationship between 'num_ethnicities' and 'movie_box_office_revenue'\n",
    "movies.plot.scatter(x=\"num_ethnicities\", y=\"movie_box_office_revenue\", s=1)\n",
    "plt.yscale(\"log\")\n",
    "plt.xlabel(\"Number of ethnicities\")\n",
    "plt.ylabel(\"Movie box office revenue\")\n",
    "plt.title(\n",
    "    \"Relationship between the number of ethnicities and the movie box office revenue\"\n",
    ")\n",
    "plt.show()"
   ]
  },
  {
   "cell_type": "code",
   "execution_count": 22,
   "id": "ee5e00d4-b064-4064-a4cd-4f3f135f164a",
   "metadata": {},
   "outputs": [
    {
     "data": {
      "text/plain": [
       "SpearmanrResult(correlation=0.29608233736264755, pvalue=4.272922145284061e-115)"
      ]
     },
     "execution_count": 22,
     "metadata": {},
     "output_type": "execute_result"
    }
   ],
   "source": [
    "# compute spearman correlation between 'num_ethnicities' and 'movie_box_office_revenue'\n",
    "stats.spearmanr(movies[\"num_ethnicities\"], movies[\"movie_box_office_revenue\"])"
   ]
  },
  {
   "cell_type": "code",
   "execution_count": 23,
   "id": "a58ea1b0-b333-4954-864f-1f11b3e59ea4",
   "metadata": {},
   "outputs": [
    {
     "data": {
      "text/plain": [
       "SpearmanrResult(correlation=0.2472972004124132, pvalue=9.135619215674016e-80)"
      ]
     },
     "execution_count": 23,
     "metadata": {},
     "output_type": "execute_result"
    }
   ],
   "source": [
    "# compute spearman correlation between 'num_actors' and 'movie_box_office_revenue'\n",
    "stats.spearmanr(movies[\"num_actors\"], movies[\"movie_box_office_revenue\"])"
   ]
  },
  {
   "cell_type": "markdown",
   "id": "6fec8d82-a9da-43af-b086-a8aec443c0f2",
   "metadata": {},
   "source": [
    "#### Comment\n",
    "- We observe a significant correlation between `num_ethnicities` and `movie_box_office_revenue.`\n",
    "- Further, we observe that the correlation between `num_actors` and `movie_box_office_revenue` is reduced after we filtered out movies with less than ten actors. This indicates that the number of actors has the most significant impact when there are few actors, e.g., increasing from 5 to 6 will have a more substantial effect on the revenue than rising from 14 to 15.\n",
    "- There is still difficult to interpret how big an impact `num_ethnicities` and `num_actors` have on `movie_box_office_revenue` separately since they are highly correlated.\n",
    "- To try to isolate the impact ethnicities have on the revenue, we will instead look at an ethnicity_score, which is calculated as follow: $ethnicity\\: score = \\frac{number\\,of\\,ethnicities}{number\\,of\\,actors}$"
   ]
  },
  {
   "cell_type": "markdown",
   "id": "984512ab-309e-4a14-ba78-d2cf92ec2d6e",
   "metadata": {},
   "source": [
    "---\n",
    "### Correlation between the ethnicity score and revenue"
   ]
  },
  {
   "cell_type": "code",
   "execution_count": 24,
   "id": "017cc2a6-0a48-49e2-8cbc-5eb7213953c8",
   "metadata": {},
   "outputs": [],
   "source": [
    "# adding a collumn for num_etnicities / num_ectors\n",
    "movies[\"ethnicity_score\"] = movies[\"num_ethnicities\"] / movies[\"num_actors\"]"
   ]
  },
  {
   "cell_type": "code",
   "execution_count": 25,
   "id": "7da4fb06-efc7-4ac0-8f79-ee58bd298858",
   "metadata": {},
   "outputs": [
    {
     "data": {
      "image/png": "[encoded data removed]",
      "text/plain": [
       "<Figure size 640x480 with 1 Axes>"
      ]
     },
     "metadata": {},
     "output_type": "display_data"
    }
   ],
   "source": [
    "# plot relationship between 'ethnicity_score' and 'movie_box_office_revenue'\n",
    "movies.plot.scatter(x=\"ethnicity_score\", y=\"movie_box_office_revenue\", s=1)\n",
    "plt.yscale(\"log\")\n",
    "plt.xlabel(\"Ethnicity score\")\n",
    "plt.ylabel(\"Movie box office revenue\")\n",
    "plt.title(\"Relationship between the ethnicity score and the movie box office revenue\")\n",
    "plt.show()"
   ]
  },
  {
   "cell_type": "code",
   "execution_count": 26,
   "id": "bcc5880f-1ab0-4938-9c0c-7482921107d6",
   "metadata": {},
   "outputs": [
    {
     "data": {
      "text/plain": [
       "SpearmanrResult(correlation=0.20420275496002582, pvalue=1.95076523505999e-54)"
      ]
     },
     "execution_count": 26,
     "metadata": {},
     "output_type": "execute_result"
    }
   ],
   "source": [
    "# compute spearman correlation between 'ethnicity_score' and 'movie_box_office_revenue'\n",
    "stats.spearmanr(movies[\"ethnicity_score\"], movies[\"movie_box_office_revenue\"])"
   ]
  },
  {
   "cell_type": "markdown",
   "id": "67d64473-1b52-4b4f-ae38-02130b686ba0",
   "metadata": {},
   "source": [
    "#### Comment\n",
    "- After trying to isolate the impact ethnicities have on the revenue, we still observe a significant correlation."
   ]
  },
  {
   "cell_type": "markdown",
   "id": "0d26543a-55d2-4f67-8982-1ca44313805d",
   "metadata": {},
   "source": [
    "---\n",
    "### Difference in revenue between the diverse and less diverse movies"
   ]
  },
  {
   "cell_type": "code",
   "execution_count": 27,
   "id": "44b41975-f628-461e-a003-49d082a545c5",
   "metadata": {},
   "outputs": [],
   "source": [
    "# check difference between the revenue of movies with an without ethnicity score above 50\n",
    "over_50_revenue = movies[movies[\"ethnicity_score\"] > 0.5][\"movie_box_office_revenue\"]\n",
    "under_50_revenue = movies[movies[\"ethnicity_score\"] <= 0.5][\"movie_box_office_revenue\"]"
   ]
  },
  {
   "cell_type": "code",
   "execution_count": 28,
   "id": "222ed130-4df8-4591-884b-380bfcdfae1d",
   "metadata": {},
   "outputs": [
    {
     "data": {
      "text/plain": [
       "Ttest_indResult(statistic=1.987897730353979, pvalue=0.04687103344179442)"
      ]
     },
     "execution_count": 28,
     "metadata": {},
     "output_type": "execute_result"
    }
   ],
   "source": [
    "# independent t-test\n",
    "stats.ttest_ind(over_50_revenue, under_50_revenue)"
   ]
  },
  {
   "cell_type": "code",
   "execution_count": 29,
   "id": "a8966434-605a-4c7d-877a-0147739ab43b",
   "metadata": {},
   "outputs": [
    {
     "name": "stdout",
     "output_type": "stream",
     "text": [
      "\n",
      "The statistical power of:\n",
      "    - The independent sample t-test comparing the revenue of diveres and less diverse movies: 0.5013\n",
      "\n"
     ]
    }
   ],
   "source": [
    "# calculate the statistical power\n",
    "\n",
    "# creating list to store the p-values\n",
    "p_val = np.zeros(10000)\n",
    "\n",
    "# running the simulation 10000 times\n",
    "for i in range(10000):\n",
    "\n",
    "    # sample over_50 and under_50\n",
    "    sample_over_50 = np.random.choice(over_50_revenue, size=over_50_revenue.shape[0])\n",
    "    sample_under_50 = np.random.choice(under_50_revenue, size=under_50_revenue.shape[0])\n",
    "\n",
    "    # independent t-test\n",
    "    p_val[i] = stats.ttest_ind(sample_over_50, sample_under_50)[1]\n",
    "\n",
    "# calculating the percentage of rejects\n",
    "power = len(p_val[p_val < 0.05]) / len(p_val)\n",
    "\n",
    "# printing the results\n",
    "print(\n",
    "    f\"\"\"\n",
    "The statistical power of:\n",
    "    - The independent sample t-test comparing the revenue of diveres and less diverse movies: {power}\n",
    "\"\"\"\n",
    ")"
   ]
  },
  {
   "cell_type": "code",
   "execution_count": 30,
   "id": "926128c3-237b-4bf5-9830-51a321d2603b",
   "metadata": {},
   "outputs": [
    {
     "name": "stdout",
     "output_type": "stream",
     "text": [
      "\n",
      "The mean difference between in revenue between diverse and less diverse movies:\n",
      "    - Mean:                       3491243.051826192\n",
      "    - CI:                         [642026.6449929161, 6494247.037953646]\n",
      "\n"
     ]
    }
   ],
   "source": [
    "# calculating the mean difference\n",
    "mean_diff_diversity = over_50_revenue.mean() - under_50_revenue.mean()\n",
    "\n",
    "# performing bootstrap to get the 95% CI\n",
    "diversity_CI = bootstrap_CI(over_50_revenue, under_50_revenue)\n",
    "\n",
    "# printing the results\n",
    "print(\n",
    "    f\"\"\"\n",
    "The mean difference between in revenue between diverse and less diverse movies:\n",
    "    - Mean:                       {mean_diff_diversity}\n",
    "    - CI:                         {diversity_CI}\n",
    "\"\"\"\n",
    ")"
   ]
  },
  {
   "cell_type": "code",
   "execution_count": 31,
   "id": "eb04a452-ca30-4e02-85b3-16e0dba0640e",
   "metadata": {},
   "outputs": [
    {
     "data": {
      "text/plain": [
       "0.2733140950345961"
      ]
     },
     "execution_count": 31,
     "metadata": {},
     "output_type": "execute_result"
    }
   ],
   "source": [
    "# calculating the average revenue for under_50\n",
    "mean_under_50 = under_50_revenue.mean()\n",
    "\n",
    "# calculating the percentage difference in revenue\n",
    "diff_percent = mean_diff_diversity / mean_under_50\n",
    "\n",
    "# printing the results\n",
    "diff_percent"
   ]
  },
  {
   "cell_type": "markdown",
   "id": "5bbcc5db-5a71-4715-95dc-8292c352b7b2",
   "metadata": {},
   "source": [
    "#### Comment \n",
    "- The independent t-test gives us a small p-value (< 0.05), which indicates a statistically significant difference between the samples of diverse (ethnicity score > 0.5) and less diverse (ethnicity score ≤ 50) movies. The statistical power of the result is 0.5451. \n",
    "- Further, the mean difference shows that diverse movies generally have higher movie box office revenue. The confidence interval makes us confident in this result. \n",
    "- By dividing the average difference by the average revenue for less diverse movies, we get that diverse movie, on average, have a ~28% higher movie box office revenue. This shows that ethnicity is impactful on the movie box office revenue."
   ]
  },
  {
   "cell_type": "markdown",
   "id": "70120c85-01f2-4c65-b086-a153114bd5cc",
   "metadata": {
    "tags": []
   },
   "source": [
    "---\n",
    "## Gender"
   ]
  },
  {
   "cell_type": "markdown",
   "id": "da0e2b9f-5fdd-4fc2-8089-15126a50a4c6",
   "metadata": {},
   "source": [
    "---\n",
    "### Correlation between the number of females and revenue"
   ]
  },
  {
   "cell_type": "code",
   "execution_count": 32,
   "id": "df110f9e-1c62-44b7-b822-96150889d7ab",
   "metadata": {},
   "outputs": [
    {
     "name": "stdout",
     "output_type": "stream",
     "text": [
      "\n",
      "Total number of characters:                450669\n",
      "Number of characters without actor gender:  45609     \n",
      "\n"
     ]
    }
   ],
   "source": [
    "# checkint the amount of characters without 'actor_gender'\n",
    "num_characters = characters.shape[0]\n",
    "num_nan_gender = characters[characters[\"actor_gender\"].isna()].shape[0]\n",
    "\n",
    "# printing the results\n",
    "print(\n",
    "    f\"\"\"\n",
    "Total number of characters:                {num_characters}\n",
    "Number of characters without actor gender:  {num_nan_gender}     \n",
    "\"\"\"\n",
    ")"
   ]
  },
  {
   "cell_type": "code",
   "execution_count": 33,
   "id": "47cc1bf5-82d0-4353-adba-06554a69c810",
   "metadata": {},
   "outputs": [
    {
     "data": {
      "text/html": [
       "<div>\n",
       "<style scoped>\n",
       "    .dataframe tbody tr th:only-of-type {\n",
       "        vertical-align: middle;\n",
       "    }\n",
       "\n",
       "    .dataframe tbody tr th {\n",
       "        vertical-align: top;\n",
       "    }\n",
       "\n",
       "    .dataframe thead th {\n",
       "        text-align: right;\n",
       "    }\n",
       "</style>\n",
       "<table border=\"1\" class=\"dataframe\">\n",
       "  <thead>\n",
       "    <tr style=\"text-align: right;\">\n",
       "      <th></th>\n",
       "      <th>wikipedia_movie_ID</th>\n",
       "      <th>freebase_movie_ID</th>\n",
       "      <th>movie_name</th>\n",
       "      <th>movie_release_date</th>\n",
       "      <th>movie_box_office_revenue</th>\n",
       "      <th>movie_runtime</th>\n",
       "      <th>movie_languages</th>\n",
       "      <th>movie_countries</th>\n",
       "      <th>movie_genres</th>\n",
       "      <th>year_released</th>\n",
       "      <th>budget</th>\n",
       "      <th>id</th>\n",
       "      <th>release_date</th>\n",
       "      <th>tconst</th>\n",
       "      <th>averageRating</th>\n",
       "      <th>numVotes</th>\n",
       "      <th>num_actors</th>\n",
       "      <th>num_ethnicities</th>\n",
       "      <th>ethnicity_score</th>\n",
       "      <th>num_female</th>\n",
       "    </tr>\n",
       "  </thead>\n",
       "  <tbody>\n",
       "    <tr>\n",
       "      <th>0</th>\n",
       "      <td>975900</td>\n",
       "      <td>/m/03vyhn</td>\n",
       "      <td>Ghosts of Mars</td>\n",
       "      <td>2001-08-24</td>\n",
       "      <td>2.340194e+06</td>\n",
       "      <td>98.0</td>\n",
       "      <td>{\"/m/02h40lc\": \"English Language\"}</td>\n",
       "      <td>{\"/m/09c7w0\": \"United States of America\"}</td>\n",
       "      <td>{\"/m/01jfsb\": \"Thriller\", \"/m/06n90\": \"Science...</td>\n",
       "      <td>2001</td>\n",
       "      <td>28000000</td>\n",
       "      <td>10016</td>\n",
       "      <td>2001-08-24</td>\n",
       "      <td>tt0228333</td>\n",
       "      <td>4.9</td>\n",
       "      <td>55271.0</td>\n",
       "      <td>17</td>\n",
       "      <td>3</td>\n",
       "      <td>0.176471</td>\n",
       "      <td>6</td>\n",
       "    </tr>\n",
       "  </tbody>\n",
       "</table>\n",
       "</div>"
      ],
      "text/plain": [
       "   wikipedia_movie_ID freebase_movie_ID      movie_name movie_release_date  \\\n",
       "0              975900         /m/03vyhn  Ghosts of Mars         2001-08-24   \n",
       "\n",
       "   movie_box_office_revenue  movie_runtime  \\\n",
       "0              2.340194e+06           98.0   \n",
       "\n",
       "                      movie_languages  \\\n",
       "0  {\"/m/02h40lc\": \"English Language\"}   \n",
       "\n",
       "                             movie_countries  \\\n",
       "0  {\"/m/09c7w0\": \"United States of America\"}   \n",
       "\n",
       "                                        movie_genres  year_released    budget  \\\n",
       "0  {\"/m/01jfsb\": \"Thriller\", \"/m/06n90\": \"Science...           2001  28000000   \n",
       "\n",
       "      id release_date     tconst  averageRating  numVotes  num_actors  \\\n",
       "0  10016   2001-08-24  tt0228333            4.9   55271.0          17   \n",
       "\n",
       "   num_ethnicities  ethnicity_score  num_female  \n",
       "0                3         0.176471           6  "
      ]
     },
     "execution_count": 33,
     "metadata": {},
     "output_type": "execute_result"
    }
   ],
   "source": [
    "# add collumn for fraction of females\n",
    "\n",
    "# create frame with female actors\n",
    "female_characters = characters[characters[\"actor_gender\"] == \"F\"]\n",
    "\n",
    "# add column for number of female actors\n",
    "num_female = female_characters.groupby(\"freebase_movie_ID\")[\"actor_gender\"].count()\n",
    "\n",
    "# rename the series\n",
    "num_female.name = \"num_female\"\n",
    "movies = movies.merge(num_female, left_on=\"freebase_movie_ID\", right_index=True)\n",
    "\n",
    "# print result\n",
    "movies.head(1)"
   ]
  },
  {
   "cell_type": "code",
   "execution_count": 34,
   "id": "e7edb7ba-aeab-4349-ad0f-66d5485a7048",
   "metadata": {},
   "outputs": [
    {
     "data": {
      "image/png": "[encoded data removed]",
      "text/plain": [
       "<Figure size 640x480 with 1 Axes>"
      ]
     },
     "metadata": {},
     "output_type": "display_data"
    }
   ],
   "source": [
    "# plot relationship between 'num_female' and 'movie_box_office_revenue'\n",
    "movies.plot.scatter(x=\"num_female\", y=\"movie_box_office_revenue\", s=1)\n",
    "plt.yscale(\"log\")\n",
    "plt.xlabel(\"Number of females\")\n",
    "plt.ylabel(\"Movie box office revenue\")\n",
    "plt.title(\"Relationship between number of females and movie box office revenue\")\n",
    "plt.show()"
   ]
  },
  {
   "cell_type": "code",
   "execution_count": 35,
   "id": "395fdde8-c779-4b58-9454-34967c98fbec",
   "metadata": {},
   "outputs": [
    {
     "data": {
      "text/plain": [
       "SpearmanrResult(correlation=0.05734925371788329, pvalue=1.8626033737638904e-05)"
      ]
     },
     "execution_count": 35,
     "metadata": {},
     "output_type": "execute_result"
    }
   ],
   "source": [
    "# compute spearman correlation between 'num_female' and 'movie_box_office_revenue'\n",
    "stats.spearmanr(movies[\"num_female\"], movies[\"movie_box_office_revenue\"])"
   ]
  },
  {
   "cell_type": "markdown",
   "id": "d999d540-1788-43ef-8672-d68fc62668be",
   "metadata": {},
   "source": [
    "#### Comment \n",
    "- We observe a weak but significant correlation between `num_female` and `movie_box_office_revenue.`\n",
    "- It is difficult to interpret how big an impact `num_female` and `num_actors` have on `movie_box_office_revenue` separately since they are highly correlated (more actors will likely lead to more female actors as well).\n",
    "- To try to isolate the impact gender have on the revenue, we will instead look at the fraction of female, which is calculated as follow: $fraction\\: of\\: female = \\frac{number\\,of\\,female}{number\\,of\\,actors}$"
   ]
  },
  {
   "cell_type": "markdown",
   "id": "348c16dd-8b4f-4e3a-8ede-c2546332ed07",
   "metadata": {},
   "source": [
    "---\n",
    "### Correlation between the fraction of females and revenue"
   ]
  },
  {
   "cell_type": "code",
   "execution_count": 36,
   "id": "2b740103-fa96-43e8-9f7c-a64d8c674042",
   "metadata": {},
   "outputs": [
    {
     "data": {
      "text/html": [
       "<div>\n",
       "<style scoped>\n",
       "    .dataframe tbody tr th:only-of-type {\n",
       "        vertical-align: middle;\n",
       "    }\n",
       "\n",
       "    .dataframe tbody tr th {\n",
       "        vertical-align: top;\n",
       "    }\n",
       "\n",
       "    .dataframe thead th {\n",
       "        text-align: right;\n",
       "    }\n",
       "</style>\n",
       "<table border=\"1\" class=\"dataframe\">\n",
       "  <thead>\n",
       "    <tr style=\"text-align: right;\">\n",
       "      <th></th>\n",
       "      <th>wikipedia_movie_ID</th>\n",
       "      <th>freebase_movie_ID</th>\n",
       "      <th>movie_name</th>\n",
       "      <th>movie_release_date</th>\n",
       "      <th>movie_box_office_revenue</th>\n",
       "      <th>movie_runtime</th>\n",
       "      <th>movie_languages</th>\n",
       "      <th>movie_countries</th>\n",
       "      <th>movie_genres</th>\n",
       "      <th>year_released</th>\n",
       "      <th>...</th>\n",
       "      <th>id</th>\n",
       "      <th>release_date</th>\n",
       "      <th>tconst</th>\n",
       "      <th>averageRating</th>\n",
       "      <th>numVotes</th>\n",
       "      <th>num_actors</th>\n",
       "      <th>num_ethnicities</th>\n",
       "      <th>ethnicity_score</th>\n",
       "      <th>num_female</th>\n",
       "      <th>frac_female</th>\n",
       "    </tr>\n",
       "  </thead>\n",
       "  <tbody>\n",
       "    <tr>\n",
       "      <th>0</th>\n",
       "      <td>975900</td>\n",
       "      <td>/m/03vyhn</td>\n",
       "      <td>Ghosts of Mars</td>\n",
       "      <td>2001-08-24</td>\n",
       "      <td>2.340194e+06</td>\n",
       "      <td>98.0</td>\n",
       "      <td>{\"/m/02h40lc\": \"English Language\"}</td>\n",
       "      <td>{\"/m/09c7w0\": \"United States of America\"}</td>\n",
       "      <td>{\"/m/01jfsb\": \"Thriller\", \"/m/06n90\": \"Science...</td>\n",
       "      <td>2001</td>\n",
       "      <td>...</td>\n",
       "      <td>10016</td>\n",
       "      <td>2001-08-24</td>\n",
       "      <td>tt0228333</td>\n",
       "      <td>4.9</td>\n",
       "      <td>55271.0</td>\n",
       "      <td>17</td>\n",
       "      <td>3</td>\n",
       "      <td>0.176471</td>\n",
       "      <td>6</td>\n",
       "      <td>0.352941</td>\n",
       "    </tr>\n",
       "  </tbody>\n",
       "</table>\n",
       "<p>1 rows × 21 columns</p>\n",
       "</div>"
      ],
      "text/plain": [
       "   wikipedia_movie_ID freebase_movie_ID      movie_name movie_release_date  \\\n",
       "0              975900         /m/03vyhn  Ghosts of Mars         2001-08-24   \n",
       "\n",
       "   movie_box_office_revenue  movie_runtime  \\\n",
       "0              2.340194e+06           98.0   \n",
       "\n",
       "                      movie_languages  \\\n",
       "0  {\"/m/02h40lc\": \"English Language\"}   \n",
       "\n",
       "                             movie_countries  \\\n",
       "0  {\"/m/09c7w0\": \"United States of America\"}   \n",
       "\n",
       "                                        movie_genres  year_released  ...  \\\n",
       "0  {\"/m/01jfsb\": \"Thriller\", \"/m/06n90\": \"Science...           2001  ...   \n",
       "\n",
       "      id release_date     tconst averageRating  numVotes  num_actors  \\\n",
       "0  10016   2001-08-24  tt0228333           4.9   55271.0          17   \n",
       "\n",
       "   num_ethnicities  ethnicity_score  num_female  frac_female  \n",
       "0                3         0.176471           6     0.352941  \n",
       "\n",
       "[1 rows x 21 columns]"
      ]
     },
     "execution_count": 36,
     "metadata": {},
     "output_type": "execute_result"
    }
   ],
   "source": [
    "# add column for fraction of females\n",
    "movies[\"frac_female\"] = movies[\"num_female\"] / movies[\"num_actors\"]\n",
    "\n",
    "# print result\n",
    "movies.head(1)"
   ]
  },
  {
   "cell_type": "code",
   "execution_count": 37,
   "id": "5cf437b0-3324-41f3-a9e3-a270dec962de",
   "metadata": {},
   "outputs": [
    {
     "data": {
      "image/png": "[encoded data removed]",
      "text/plain": [
       "<Figure size 640x480 with 1 Axes>"
      ]
     },
     "metadata": {},
     "output_type": "display_data"
    }
   ],
   "source": [
    "# plot relationship between 'frac_female' and 'movie_box_office_revenue'\n",
    "movies.plot.scatter(x=\"frac_female\", y=\"movie_box_office_revenue\", s=1)\n",
    "plt.yscale(\"log\")\n",
    "plt.xlabel(\"Fraction of females\")\n",
    "plt.ylabel(\"Movie box office revenue\")\n",
    "plt.title(\"Relationship between fraction of females and movie box office revenue\")\n",
    "plt.show()"
   ]
  },
  {
   "cell_type": "code",
   "execution_count": 38,
   "id": "5b228912-065c-4876-bbc8-53c929f7388d",
   "metadata": {},
   "outputs": [
    {
     "data": {
      "text/plain": [
       "SpearmanrResult(correlation=-0.07217003160917894, pvalue=7.06043379673073e-08)"
      ]
     },
     "execution_count": 38,
     "metadata": {},
     "output_type": "execute_result"
    }
   ],
   "source": [
    "# compute spearman correlation between 'frac_female' and 'movie_box_office_revenue'\n",
    "stats.spearmanr(movies[\"frac_female\"], movies[\"movie_box_office_revenue\"])"
   ]
  },
  {
   "cell_type": "markdown",
   "id": "bdddcded-35b2-4244-ae3c-1c04a22c7616",
   "metadata": {},
   "source": [
    "#### Comment\n",
    "- After trying to isolate the impact on the revenue, we still observe a significant correlation, but this time we observe a negative correlation. The correlation between `frac_females` and `movie_box_office_revenue` is weak."
   ]
  },
  {
   "cell_type": "markdown",
   "id": "d676ac38-c65f-4a6d-9474-d44e8dae9034",
   "metadata": {},
   "source": [
    "---\n",
    "### Difference in revenue between the movies with majority of male and female actors"
   ]
  },
  {
   "cell_type": "code",
   "execution_count": 39,
   "id": "8b88ece1-daad-4623-81ed-bf52224fa48a",
   "metadata": {},
   "outputs": [],
   "source": [
    "# check difference between the revenue of movies with majority of men and majority of women\n",
    "majority_male_revenue = movies[movies[\"frac_female\"] <= 0.5][\"movie_box_office_revenue\"]\n",
    "majority_female_revenue = movies[movies[\"frac_female\"] > 0.5][\n",
    "    \"movie_box_office_revenue\"\n",
    "]"
   ]
  },
  {
   "cell_type": "code",
   "execution_count": 40,
   "id": "3830b104-6699-4a34-8034-e7e125a110ec",
   "metadata": {},
   "outputs": [
    {
     "data": {
      "text/plain": [
       "Ttest_indResult(statistic=3.7293999090104006, pvalue=0.00019384580627614174)"
      ]
     },
     "execution_count": 40,
     "metadata": {},
     "output_type": "execute_result"
    }
   ],
   "source": [
    "# independent t-test\n",
    "stats.ttest_ind(majority_male_revenue, majority_female_revenue)"
   ]
  },
  {
   "cell_type": "code",
   "execution_count": 41,
   "id": "e099e08f-f310-4e58-bc84-02b898b6dc19",
   "metadata": {},
   "outputs": [
    {
     "name": "stdout",
     "output_type": "stream",
     "text": [
      "\n",
      "The statistical power of:\n",
      "    - The independent sample t-test comparing the revenue of movies with majority of male and majority of female \n",
      "      actors: 0.9848\n",
      "\n"
     ]
    }
   ],
   "source": [
    "# calculate the statistical power\n",
    "\n",
    "# creating list to store the p-values\n",
    "p_val = np.zeros(10000)\n",
    "\n",
    "# running the simulation 10000 times\n",
    "for i in range(10000):\n",
    "\n",
    "    # sample over_50 and under_50\n",
    "    sample_majority_male = np.random.choice(\n",
    "        majority_male_revenue, size=majority_male_revenue.shape[0]\n",
    "    )\n",
    "    sample_majority_female = np.random.choice(\n",
    "        majority_female_revenue, size=majority_female_revenue.shape[0]\n",
    "    )\n",
    "\n",
    "    # independent t-test\n",
    "    p_val[i] = stats.ttest_ind(sample_majority_male, sample_majority_female)[1]\n",
    "\n",
    "# calculating the percentage of rejects\n",
    "power = len(p_val[p_val < 0.05]) / len(p_val)\n",
    "\n",
    "# printing the results\n",
    "print(\n",
    "    f\"\"\"\n",
    "The statistical power of:\n",
    "    - The independent sample t-test comparing the revenue of movies with majority of male and majority of female \n",
    "      actors: {power}\n",
    "\"\"\"\n",
    ")"
   ]
  },
  {
   "cell_type": "code",
   "execution_count": 42,
   "id": "92cdd629-5a15-46d2-bc8f-9e85c5182aa2",
   "metadata": {},
   "outputs": [
    {
     "name": "stdout",
     "output_type": "stream",
     "text": [
      "\n",
      "The mean difference between in revenue between diverse and less diverse movies:\n",
      "    - Mean:                       4508665.334243273\n",
      "    - CI:                         [2651869.147621017, 6105717.509989792]\n",
      "\n"
     ]
    }
   ],
   "source": [
    "# calculating the mean difference\n",
    "mean_diff_gender = majority_male_revenue.mean() - majority_female_revenue.mean()\n",
    "\n",
    "# performing bootstrap to get the 95% CI\n",
    "gender_CI = bootstrap_CI(majority_male_revenue, majority_female_revenue)\n",
    "\n",
    "# printing the results\n",
    "print(\n",
    "    f\"\"\"\n",
    "The mean difference between in revenue between diverse and less diverse movies:\n",
    "    - Mean:                       {mean_diff_gender}\n",
    "    - CI:                         {gender_CI}\n",
    "\"\"\"\n",
    ")"
   ]
  },
  {
   "cell_type": "code",
   "execution_count": 43,
   "id": "c2f23a0a-0d0b-4582-b7da-ea498373d875",
   "metadata": {},
   "outputs": [
    {
     "data": {
      "text/plain": [
       "0.5087704102930145"
      ]
     },
     "execution_count": 43,
     "metadata": {},
     "output_type": "execute_result"
    }
   ],
   "source": [
    "# calculating the average revenue for under_50\n",
    "mean_majority_female = majority_female_revenue.mean()\n",
    "\n",
    "# calculating the percentage difference in revenue\n",
    "diff_percent = mean_diff_gender / mean_majority_female\n",
    "\n",
    "# printing the results\n",
    "diff_percent"
   ]
  },
  {
   "cell_type": "markdown",
   "id": "15f8fbfd-1149-4596-a5b1-742304088a77",
   "metadata": {},
   "source": [
    "#### Comment\n",
    "- The independent t-test gives us a small p-value (<< 0.05), which indicates a statistically significant difference between the samples with the majority of male actors (fraction of females ≤ 0.5) and the samples with the majority of female actors (fraction of females > 50). The statistical power of 0.9884 makes us confident in this result.\n",
    "- Further, the mean difference tells us that the movies with the majority of male actors generally have a higher movie box office revenue. The confidence interval makes us confident in this result. \n",
    "- By dividing the average difference by the average revenue for movies with the majority of female actors, we get that movies with the majority of male actors, on average, have a ~50.9% higher movie box office revenue. This shows that the gender-composition is impactful on the movie box office revenue."
   ]
  },
  {
   "cell_type": "markdown",
   "id": "f0b28e35-40f9-4170-a4f1-569f8d150adb",
   "metadata": {
    "tags": []
   },
   "source": [
    "# Cast"
   ]
  },
  {
   "cell_type": "markdown",
   "id": "1da14708-06f3-4f79-b5f0-3df6e89ff958",
   "metadata": {
    "jp-MarkdownHeadingCollapsed": true,
    "tags": []
   },
   "source": [
    "- 'Cast' section intends to investigate the casts of the CMU Movie Summary Corpus dataset.\n",
    "- The notebook will do some initial analyses to see how individual movie actors affects the box office revenue. The aim of the analysis is to get an idea of relevant methods we could use, and understand how we can handle the data and data size. "
   ]
  },
  {
   "cell_type": "markdown",
   "id": "06140871-7aa4-4f2e-b1e7-d52bb95c8214",
   "metadata": {},
   "source": [
    "---\n",
    "**Summary**"
   ]
  },
  {
   "cell_type": "markdown",
   "id": "e2f5aba1-df51-44e1-8aed-3117555f01b0",
   "metadata": {},
   "source": [
    "- If we include all actors in a linear regression model, we exceed the maximum recursion depth running the model. In addition to this, we get multicollinearity problems if we do not restrict the amount of actors in our regression model. \n",
    "- By using all actors that have played in more than 10 movies as categorical predictors, our model explains 59% of the variance in box office revenue, with an adjusted R-squared equal to 50%. Using actors that have played in more than 15 movies as predictors explains 32% of the variance in box office revenue, with an adjusted R-squared equal to 27%.\n",
    "- Among the actors (as predictors) with p-value < 0.05, Alan Rickman (Professor Severus Snape) received the highest coefficient in our linear regression model. PS: This is only initial analysis and we will explain why the result cannot be trusted yet. Spoiler alert: Confounders."
   ]
  },
  {
   "cell_type": "markdown",
   "id": "cd47db07-4825-441b-9beb-2ec3544844fa",
   "metadata": {
    "tags": []
   },
   "source": [
    "---\n",
    "## Preprocessing"
   ]
  },
  {
   "cell_type": "markdown",
   "id": "a41e1a76-356d-4eef-890c-3adceafb18cf",
   "metadata": {
    "tags": []
   },
   "source": [
    "---\n",
    "### Loading data"
   ]
  },
  {
   "cell_type": "code",
   "execution_count": 44,
   "id": "f667f5ca-b7a9-4c9e-81d6-a6c8ac1ac22d",
   "metadata": {},
   "outputs": [],
   "source": [
    "# load data\n",
    "movies = pd.read_csv(MOVIE_PATH, sep=\"\\t\", names=colnames_movies, header=None)\n",
    "characters = pd.read_csv(\n",
    "    CHARACTER_PATH, sep=\"\\t\", names=colnames_character, header=None\n",
    ")"
   ]
  },
  {
   "cell_type": "markdown",
   "id": "7610dfe8-df6b-43cb-8df1-9753a8f0f5a0",
   "metadata": {
    "tags": []
   },
   "source": [
    "---\n",
    "### Null Values"
   ]
  },
  {
   "cell_type": "code",
   "execution_count": 45,
   "id": "e1bcc12f-56f7-4639-83f7-f5b2e1f6f70d",
   "metadata": {},
   "outputs": [
    {
     "data": {
      "text/plain": [
       "wikipedia_movie_ID              0\n",
       "freebase_movie_ID               0\n",
       "movie_name                      0\n",
       "movie_release_date           6902\n",
       "movie_box_office_revenue    73340\n",
       "movie_runtime               20450\n",
       "movie_languages                 0\n",
       "movie_countries                 0\n",
       "movie_genres                    0\n",
       "dtype: int64"
      ]
     },
     "execution_count": 45,
     "metadata": {},
     "output_type": "execute_result"
    }
   ],
   "source": [
    "movies.isna().sum()"
   ]
  },
  {
   "cell_type": "code",
   "execution_count": 46,
   "id": "82566b93-af4e-4dcd-8209-baa00af84867",
   "metadata": {},
   "outputs": [
    {
     "data": {
      "text/plain": [
       "wikipedia_movie_ID                      0\n",
       "freebase_movie_ID                       0\n",
       "last_update                          9995\n",
       "character_name                     257875\n",
       "actor_DOB                          106145\n",
       "actor_gender                        45609\n",
       "actor_height                       295845\n",
       "actor_ethnicity                    344611\n",
       "actor_name                           1228\n",
       "actor_age_at_movie_release         158113\n",
       "freebase_character/actor_map_ID         0\n",
       "freebase_character_ID              257865\n",
       "freebase_actor_ID                     815\n",
       "dtype: int64"
      ]
     },
     "execution_count": 46,
     "metadata": {},
     "output_type": "execute_result"
    }
   ],
   "source": [
    "characters.isna().sum()"
   ]
  },
  {
   "cell_type": "markdown",
   "id": "dfaad523-8abb-44c7-99ff-c32671e7b1c0",
   "metadata": {},
   "source": [
    "#### Comment\n",
    "Both box office revenue and freebase actor ID contain some Null values we want to remove before exploring the cast's effect on revenue made. "
   ]
  },
  {
   "cell_type": "code",
   "execution_count": 47,
   "id": "67333a08-7f6a-470d-a0a7-57e6449e1c6e",
   "metadata": {},
   "outputs": [],
   "source": [
    "# Removing characters/actors without freebase_actor_id\n",
    "characters = characters[characters['freebase_actor_ID'].notna()]\n",
    "\n",
    "# Removing movies without box_office_revenue\n",
    "movies = movies[movies['movie_box_office_revenue'].notna()]"
   ]
  },
  {
   "cell_type": "markdown",
   "id": "52c7c3b7-f050-4bb3-8466-0a74bd107b64",
   "metadata": {
    "tags": []
   },
   "source": [
    "---\n",
    "### Filtering and merging"
   ]
  },
  {
   "cell_type": "code",
   "execution_count": 48,
   "id": "0eaa4db4-be04-4f9d-9657-f43b2a820e3b",
   "metadata": {},
   "outputs": [],
   "source": [
    "# Removing movies from before 2000\n",
    "movies = movies[movies['movie_release_date'] >= '2000']"
   ]
  },
  {
   "cell_type": "code",
   "execution_count": 49,
   "id": "d99929d5-9c80-4a14-bc02-9841507fec6f",
   "metadata": {},
   "outputs": [],
   "source": [
    "# Merging movies with characters on wiki_id. \n",
    "movies_characters = pd.merge(left=movies, right=characters, \n",
    "                             on=['wikipedia_movie_ID', 'freebase_movie_ID'])"
   ]
  },
  {
   "cell_type": "code",
   "execution_count": 50,
   "id": "39513f03-dfd9-4368-9e4a-f1de381af368",
   "metadata": {},
   "outputs": [
    {
     "name": "stdout",
     "output_type": "stream",
     "text": [
      "\n",
      "    Total number of movies (with duplicates) in our merged dataset: 49799\n",
      "    Unique number of combinations of 'wikipedia_movie_ID' and 'freebase_actor_ID': 49281\n",
      "    \n"
     ]
    }
   ],
   "source": [
    "movie_count = movies_characters.shape[0]\n",
    "unique_combos = movies_characters.value_counts(subset=['wikipedia_movie_ID', 'freebase_actor_ID'], dropna=False).shape[0]\n",
    "\n",
    "print(\n",
    "    \"\"\"\n",
    "    Total number of movies (with duplicates) in our merged dataset: {}\n",
    "    Unique number of combinations of 'wikipedia_movie_ID' and 'freebase_actor_ID': {}\n",
    "    \"\"\".format(movie_count, unique_combos))"
   ]
  },
  {
   "cell_type": "markdown",
   "id": "5ce2502c-770b-495f-b1a6-5be0e1f66061",
   "metadata": {},
   "source": [
    "#### Comment\n",
    "Some actors are listed mulitple times because they play different characters in the same movie. We only want unique combinations of 'wikipedia_movie_ID' and 'freebase_actor_ID'. \n"
   ]
  },
  {
   "cell_type": "code",
   "execution_count": 51,
   "id": "9a894371-302c-489c-8c1e-aa7e6a4fa8dd",
   "metadata": {},
   "outputs": [
    {
     "data": {
      "text/plain": [
       "(49281, 20)"
      ]
     },
     "execution_count": 51,
     "metadata": {},
     "output_type": "execute_result"
    }
   ],
   "source": [
    "# We filter out duplicated combinations of 'wikipedia_movie_ID' and 'freebase_actor_ID'. \n",
    "# For now, we do not care which row/character we keep\n",
    "movies_characters = movies_characters.drop_duplicates(subset=['wikipedia_movie_ID', 'freebase_actor_ID'], keep='first')\n",
    "movies_characters.shape"
   ]
  },
  {
   "cell_type": "markdown",
   "id": "8269c9e1-a59d-41e3-9216-50af08023026",
   "metadata": {
    "tags": []
   },
   "source": [
    "---\n",
    "## Understanding Cast Data"
   ]
  },
  {
   "cell_type": "code",
   "execution_count": 52,
   "id": "e53d1e55-d796-4ef6-92da-3db7e826d49d",
   "metadata": {},
   "outputs": [
    {
     "name": "stdout",
     "output_type": "stream",
     "text": [
      "Number of unique movies: 3585\n"
     ]
    }
   ],
   "source": [
    "# Number of unique movies\n",
    "num_movies = movies_characters[\"wikipedia_movie_ID\"].nunique()\n",
    "print('Number of unique movies: {}'.format(num_movies))"
   ]
  },
  {
   "cell_type": "code",
   "execution_count": 53,
   "id": "7cfdc8a5-d15a-4882-b753-c220d7f5ef6a",
   "metadata": {},
   "outputs": [
    {
     "name": "stdout",
     "output_type": "stream",
     "text": [
      "Number of unique actors: 22934\n"
     ]
    }
   ],
   "source": [
    "# Number of unique actors in dataset\n",
    "num_actors_unique = movies_characters[\"freebase_actor_ID\"].nunique()\n",
    "print('Number of unique actors: {}'.format(num_actors_unique))"
   ]
  },
  {
   "cell_type": "code",
   "execution_count": 54,
   "id": "1c70cd33-29c5-47f0-9f8e-a311bbafa1c1",
   "metadata": {},
   "outputs": [
    {
     "name": "stdout",
     "output_type": "stream",
     "text": [
      "Number of rows containing freebase actor ID: 49281\n"
     ]
    }
   ],
   "source": [
    "# Checking number of actors in dataset, counting actors multiple times if they play\n",
    "# in multiple movies\n",
    "count_actors = movies_characters[\"freebase_actor_ID\"].count()\n",
    "print(\"Number of rows containing freebase actor ID: {}\".format(count_actors))"
   ]
  },
  {
   "cell_type": "code",
   "execution_count": 55,
   "id": "e05cbc0d-9308-4c2f-aa41-c1265429433d",
   "metadata": {},
   "outputs": [
    {
     "name": "stdout",
     "output_type": "stream",
     "text": [
      "Number of actors on average per movie: 13.746443514644351\n"
     ]
    }
   ],
   "source": [
    "# Number of actors on average per movie\n",
    "ratio = count_actors / num_movies\n",
    "print('Number of actors on average per movie: {}'.format(ratio))"
   ]
  },
  {
   "cell_type": "markdown",
   "id": "8898b5c6-8215-416e-b314-7cf240ae01be",
   "metadata": {
    "tags": []
   },
   "source": [
    "---\n",
    "## Exploring method: Linear Regression"
   ]
  },
  {
   "cell_type": "markdown",
   "id": "85592a0a-20be-4010-951e-748bdff6dc59",
   "metadata": {
    "tags": []
   },
   "source": [
    "---\n",
    "### One Hot Encoding of Actors"
   ]
  },
  {
   "cell_type": "code",
   "execution_count": 56,
   "id": "597d4595-8fd7-456c-83fd-b49ee7a63b85",
   "metadata": {},
   "outputs": [
    {
     "data": {
      "text/plain": [
       "(49281, 22953)"
      ]
     },
     "execution_count": 56,
     "metadata": {},
     "output_type": "execute_result"
    }
   ],
   "source": [
    "# One Hot Encoding of Actors\n",
    "movies_characters_dummy = pd.get_dummies(data=movies_characters, columns=['freebase_actor_ID'])\n",
    "movies_characters_dummy.shape"
   ]
  },
  {
   "cell_type": "code",
   "execution_count": 57,
   "id": "bd024ed2-4667-4010-bfcd-ef5b9e676996",
   "metadata": {},
   "outputs": [],
   "source": [
    "# Only include wikipedia movie ID and one hot encoding of actors in dataframe\n",
    "dummy_actor_columns = movies_characters_dummy.filter(regex='wikipedia_movie_ID|freebase_actor_ID_')"
   ]
  },
  {
   "cell_type": "code",
   "execution_count": 58,
   "id": "a759902f-b2c4-428e-b18b-b4d8b10c5739",
   "metadata": {},
   "outputs": [
    {
     "name": "stdout",
     "output_type": "stream",
     "text": [
      "Number of actors that have played in more than 10 movies: 647\n",
      "Number of actors that have played in more than 15 movies: 247\n"
     ]
    }
   ],
   "source": [
    "# We want to try different thresholds for how many actors we include.\n",
    "# Exploring actors that have played in more than 10 and 15 movies. \n",
    "dummy_actor_columns15 = dummy_actor_columns.loc[:, dummy_actor_columns.sum(axis=0) > 15]\n",
    "dummy_actor_columns10 = dummy_actor_columns.loc[:, dummy_actor_columns.sum(axis=0) > 10]\n",
    "print('Number of actors that have played in more than 10 movies: {}'.format(dummy_actor_columns10.shape[1]-1))\n",
    "print('Number of actors that have played in more than 15 movies: {}'.format(dummy_actor_columns15.shape[1]-1))"
   ]
  },
  {
   "cell_type": "markdown",
   "id": "2037c6df-8a4f-478f-bd64-9ed994672939",
   "metadata": {},
   "source": [
    "#### Comment\n",
    "By only including actors that have played in more than 15 movies, we reduce the dataframe size from . Reducing the threshold further to 15, we reduce the dataframe size from 22953 columns to 247 columns. This makes the linear regression possible without exceeding the maximum recursion depth. There might be actors excluded who actually have a big impact on revenue made, but for now, we want to explore the actors that have played in more than 16 movies. "
   ]
  },
  {
   "cell_type": "code",
   "execution_count": 59,
   "id": "220c30f3-add5-4283-ad50-80df634f5076",
   "metadata": {},
   "outputs": [
    {
     "data": {
      "text/html": [
       "<div>\n",
       "<style scoped>\n",
       "    .dataframe tbody tr th:only-of-type {\n",
       "        vertical-align: middle;\n",
       "    }\n",
       "\n",
       "    .dataframe tbody tr th {\n",
       "        vertical-align: top;\n",
       "    }\n",
       "\n",
       "    .dataframe thead th {\n",
       "        text-align: right;\n",
       "    }\n",
       "</style>\n",
       "<table border=\"1\" class=\"dataframe\">\n",
       "  <thead>\n",
       "    <tr style=\"text-align: right;\">\n",
       "      <th></th>\n",
       "      <th>wikipedia_movie_ID</th>\n",
       "      <th>freebase_movie_ID</th>\n",
       "      <th>movie_name</th>\n",
       "      <th>movie_release_date</th>\n",
       "      <th>movie_box_office_revenue</th>\n",
       "      <th>movie_runtime</th>\n",
       "      <th>movie_languages</th>\n",
       "      <th>movie_countries</th>\n",
       "      <th>movie_genres</th>\n",
       "      <th>freebase_actor_ID_/m/011zd3</th>\n",
       "      <th>...</th>\n",
       "      <th>freebase_actor_ID_/m/0p_pd</th>\n",
       "      <th>freebase_actor_ID_/m/0pmhf</th>\n",
       "      <th>freebase_actor_ID_/m/0prfz</th>\n",
       "      <th>freebase_actor_ID_/m/0pz91</th>\n",
       "      <th>freebase_actor_ID_/m/0q9kd</th>\n",
       "      <th>freebase_actor_ID_/m/0sw6g</th>\n",
       "      <th>freebase_actor_ID_/m/0sz28</th>\n",
       "      <th>freebase_actor_ID_/m/0ywqc</th>\n",
       "      <th>freebase_actor_ID_/m/0z4s</th>\n",
       "      <th>freebase_actor_ID_/m/0zcbl</th>\n",
       "    </tr>\n",
       "  </thead>\n",
       "  <tbody>\n",
       "    <tr>\n",
       "      <th>0</th>\n",
       "      <td>975900</td>\n",
       "      <td>/m/03vyhn</td>\n",
       "      <td>Ghosts of Mars</td>\n",
       "      <td>2001-08-24</td>\n",
       "      <td>14010832.0</td>\n",
       "      <td>98.0</td>\n",
       "      <td>{\"/m/02h40lc\": \"English Language\"}</td>\n",
       "      <td>{\"/m/09c7w0\": \"United States of America\"}</td>\n",
       "      <td>{\"/m/01jfsb\": \"Thriller\", \"/m/06n90\": \"Science...</td>\n",
       "      <td>0</td>\n",
       "      <td>...</td>\n",
       "      <td>0</td>\n",
       "      <td>0</td>\n",
       "      <td>0</td>\n",
       "      <td>0</td>\n",
       "      <td>0</td>\n",
       "      <td>0</td>\n",
       "      <td>0</td>\n",
       "      <td>0</td>\n",
       "      <td>0</td>\n",
       "      <td>0</td>\n",
       "    </tr>\n",
       "  </tbody>\n",
       "</table>\n",
       "<p>1 rows × 656 columns</p>\n",
       "</div>"
      ],
      "text/plain": [
       "   wikipedia_movie_ID freebase_movie_ID      movie_name movie_release_date  \\\n",
       "0              975900         /m/03vyhn  Ghosts of Mars         2001-08-24   \n",
       "\n",
       "   movie_box_office_revenue  movie_runtime  \\\n",
       "0                14010832.0           98.0   \n",
       "\n",
       "                      movie_languages  \\\n",
       "0  {\"/m/02h40lc\": \"English Language\"}   \n",
       "\n",
       "                             movie_countries  \\\n",
       "0  {\"/m/09c7w0\": \"United States of America\"}   \n",
       "\n",
       "                                        movie_genres  \\\n",
       "0  {\"/m/01jfsb\": \"Thriller\", \"/m/06n90\": \"Science...   \n",
       "\n",
       "   freebase_actor_ID_/m/011zd3  ...  freebase_actor_ID_/m/0p_pd  \\\n",
       "0                            0  ...                           0   \n",
       "\n",
       "   freebase_actor_ID_/m/0pmhf  freebase_actor_ID_/m/0prfz  \\\n",
       "0                           0                           0   \n",
       "\n",
       "   freebase_actor_ID_/m/0pz91  freebase_actor_ID_/m/0q9kd  \\\n",
       "0                           0                           0   \n",
       "\n",
       "   freebase_actor_ID_/m/0sw6g  freebase_actor_ID_/m/0sz28  \\\n",
       "0                           0                           0   \n",
       "\n",
       "   freebase_actor_ID_/m/0ywqc  freebase_actor_ID_/m/0z4s  \\\n",
       "0                           0                          0   \n",
       "\n",
       "   freebase_actor_ID_/m/0zcbl  \n",
       "0                           0  \n",
       "\n",
       "[1 rows x 656 columns]"
      ]
     },
     "execution_count": 59,
     "metadata": {},
     "output_type": "execute_result"
    }
   ],
   "source": [
    "# Grouping movies such that every movie correspond to only one row in the dataframe\n",
    "dummy_actor_columns10 = dummy_actor_columns10.groupby('wikipedia_movie_ID').agg('sum')\n",
    "dummy_actor_columns15 = dummy_actor_columns15.groupby('wikipedia_movie_ID').agg('sum')\n",
    "\n",
    "# Merging dummy actor columns with the movies\n",
    "movies_binary_actors10 = pd.merge(movies, dummy_actor_columns10, left_on='wikipedia_movie_ID', right_index=True)\n",
    "movies_binary_actors15 = pd.merge(movies, dummy_actor_columns15, left_on='wikipedia_movie_ID', right_index=True)\n",
    "movies_binary_actors10.head(1)"
   ]
  },
  {
   "cell_type": "markdown",
   "id": "0eafeef6-172b-4ef5-a2ab-eb07c06daa3e",
   "metadata": {
    "tags": []
   },
   "source": [
    "---\n",
    "### Linear Regression"
   ]
  },
  {
   "cell_type": "code",
   "execution_count": 60,
   "id": "c5a04a0d-dde4-4109-ab47-36822bab719a",
   "metadata": {},
   "outputs": [],
   "source": [
    "# Removing slashes in column names to avoid error in regression. \n",
    "movies_binary_actors10.columns = movies_binary_actors10.columns.str.replace('/', '')\n",
    "dummy_actor_columns10.columns = dummy_actor_columns10.columns.str.replace('/', '')\n",
    "\n",
    "movies_binary_actors15.columns = movies_binary_actors15.columns.str.replace('/', '')\n",
    "dummy_actor_columns15.columns = dummy_actor_columns15.columns.str.replace('/', '')"
   ]
  },
  {
   "cell_type": "code",
   "execution_count": 61,
   "id": "0fcc447d-25aa-4f0d-9478-4a0a815cb15d",
   "metadata": {},
   "outputs": [],
   "source": [
    "# Constructing formula used for regression\n",
    "# For now we only include actors as categorical predictors\n",
    "# We have two scenarios:\n",
    "# 1) All actors that have played in more than 10 movies\n",
    "# 2) All actors that have played in more than 15 movies\n",
    "formula10 = 'movie_box_office_revenue ~ '\n",
    "for col in dummy_actor_columns10.columns:\n",
    "    formula10 += 'C(' + col + ')+'\n",
    "    \n",
    "formula15 = 'movie_box_office_revenue ~ '\n",
    "for col in dummy_actor_columns15.columns:\n",
    "    formula15 += 'C(' + col + ')+'\n",
    "    \n",
    "formula10 = formula10[:-1] \n",
    "formula15 = formula15[:-1]"
   ]
  },
  {
   "cell_type": "code",
   "execution_count": 62,
   "id": "1d83c6c9-5b6d-4282-ad81-0454645915eb",
   "metadata": {},
   "outputs": [],
   "source": [
    "# Linear regression\n",
    "mod10 = smf.ols(formula=formula10, data=movies_binary_actors10)\n",
    "res10 = mod10.fit()\n",
    "res_summary10 = res10.summary()\n",
    "\n",
    "mod15 = smf.ols(formula=formula15, data=movies_binary_actors15)\n",
    "res15 = mod15.fit()\n",
    "res_summary15 = res15.summary()"
   ]
  },
  {
   "cell_type": "code",
   "execution_count": 63,
   "id": "cac1a69d-79a9-4110-b225-654c4aeeea5b",
   "metadata": {},
   "outputs": [
    {
     "name": "stdout",
     "output_type": "stream",
     "text": [
      "Our model with actors that played in more than 10 movies gets R-squared = 0.59\n",
      "The corresponding adjusted R-squared is: 0.50\n",
      "\n",
      "Our model with actors that played in more than 15 movies gets R-squared = 0.33\n",
      "The corresponding adjusted R-squared is: 0.28\n"
     ]
    }
   ],
   "source": [
    "print(\"Our model with actors that played in more than 10 movies gets R-squared = {:.2f}\".format(res10.rsquared))\n",
    "print(\"The corresponding adjusted R-squared is: {:.2f}\\n\".format(res10.rsquared_adj))\n",
    "\n",
    "print(\"Our model with actors that played in more than 15 movies gets R-squared = {:.2f}\".format(res15.rsquared))\n",
    "print(\"The corresponding adjusted R-squared is: {:.2f}\".format(res15.rsquared_adj))"
   ]
  },
  {
   "cell_type": "markdown",
   "id": "4d47ff2d-5477-4da2-82cd-f63a59dcccc9",
   "metadata": {},
   "source": [
    "#### Comment: \n",
    "Our model with actors that have played in more than 15 movies explains 30% of the variance in  box office revenue. However, we have many variables included (actors), which could make our model look more accurate even if there are many actors poorly contributing in some way. The adjusted R-squared score (51%) may be telling us that some variables (actors) are not contributing to our model’s R-squared properly. \n",
    "\n",
    "When we only include actors that have played in more than 15 movies, we get a lower R-squared, but there will also be less multicollinearity problems. \n",
    "\n",
    "For now we have only used actors as predictors, so there are likely to be confounders. Confounders could be budget, genre, release_date and more. However, the large R-squared tells us that we should continue exploring how actors and cast affect the box office revenue. "
   ]
  },
  {
   "cell_type": "code",
   "execution_count": 64,
   "id": "705534f0-13b0-460e-a061-75014f00c774",
   "metadata": {},
   "outputs": [],
   "source": [
    "# Turning result summary into a dataframe \n",
    "# (actors that have played in more than 15 movies)\n",
    "res_as_html = res_summary15.tables[1].as_html()\n",
    "summary_df = pd.read_html(res_as_html, header=0, index_col=0)[0]"
   ]
  },
  {
   "cell_type": "code",
   "execution_count": 65,
   "id": "9254ca86-d516-4051-9609-7f2e44586346",
   "metadata": {},
   "outputs": [
    {
     "data": {
      "text/html": [
       "<div>\n",
       "<style scoped>\n",
       "    .dataframe tbody tr th:only-of-type {\n",
       "        vertical-align: middle;\n",
       "    }\n",
       "\n",
       "    .dataframe tbody tr th {\n",
       "        vertical-align: top;\n",
       "    }\n",
       "\n",
       "    .dataframe thead th {\n",
       "        text-align: right;\n",
       "    }\n",
       "</style>\n",
       "<table border=\"1\" class=\"dataframe\">\n",
       "  <thead>\n",
       "    <tr style=\"text-align: right;\">\n",
       "      <th></th>\n",
       "      <th>coef</th>\n",
       "      <th>std err</th>\n",
       "      <th>t</th>\n",
       "      <th>P&gt;|t|</th>\n",
       "      <th>[0.025</th>\n",
       "      <th>0.975]</th>\n",
       "    </tr>\n",
       "  </thead>\n",
       "  <tbody>\n",
       "    <tr>\n",
       "      <th>C(freebase_actor_ID_m09y20)[T.1]</th>\n",
       "      <td>237900000.0</td>\n",
       "      <td>34000000.0</td>\n",
       "      <td>7.004</td>\n",
       "      <td>0.0</td>\n",
       "      <td>171000000.0</td>\n",
       "      <td>304000000.0</td>\n",
       "    </tr>\n",
       "    <tr>\n",
       "      <th>C(freebase_actor_ID_m01f6zc)[T.1]</th>\n",
       "      <td>217600000.0</td>\n",
       "      <td>35100000.0</td>\n",
       "      <td>6.193</td>\n",
       "      <td>0.0</td>\n",
       "      <td>149000000.0</td>\n",
       "      <td>286000000.0</td>\n",
       "    </tr>\n",
       "    <tr>\n",
       "      <th>C(freebase_actor_ID_m05qg6g)[T.1]</th>\n",
       "      <td>206800000.0</td>\n",
       "      <td>30600000.0</td>\n",
       "      <td>6.766</td>\n",
       "      <td>0.0</td>\n",
       "      <td>147000000.0</td>\n",
       "      <td>267000000.0</td>\n",
       "    </tr>\n",
       "  </tbody>\n",
       "</table>\n",
       "</div>"
      ],
      "text/plain": [
       "                                          coef     std err      t  P>|t|  \\\n",
       "C(freebase_actor_ID_m09y20)[T.1]   237900000.0  34000000.0  7.004    0.0   \n",
       "C(freebase_actor_ID_m01f6zc)[T.1]  217600000.0  35100000.0  6.193    0.0   \n",
       "C(freebase_actor_ID_m05qg6g)[T.1]  206800000.0  30600000.0  6.766    0.0   \n",
       "\n",
       "                                        [0.025       0.975]  \n",
       "C(freebase_actor_ID_m09y20)[T.1]   171000000.0  304000000.0  \n",
       "C(freebase_actor_ID_m01f6zc)[T.1]  149000000.0  286000000.0  \n",
       "C(freebase_actor_ID_m05qg6g)[T.1]  147000000.0  267000000.0  "
      ]
     },
     "execution_count": 65,
     "metadata": {},
     "output_type": "execute_result"
    }
   ],
   "source": [
    "# Only including actors with p-value < 0.05.\n",
    "# Statistically significant actors\n",
    "summary_df = summary_df[summary_df['P>|t|'] < 0.05]\n",
    "\n",
    "# Sorting the dataframe in descending order according to coefficient\n",
    "summary_df.sort_values(by='coef', ascending=False, inplace=True)\n",
    "\n",
    "# The top 3 actors with highest coefficient\n",
    "summary_df.head(3)"
   ]
  },
  {
   "cell_type": "code",
   "execution_count": 66,
   "id": "afc99e02-5967-4908-9d7c-76d79fc3b314",
   "metadata": {},
   "outputs": [
    {
     "data": {
      "text/html": [
       "<div>\n",
       "<style scoped>\n",
       "    .dataframe tbody tr th:only-of-type {\n",
       "        vertical-align: middle;\n",
       "    }\n",
       "\n",
       "    .dataframe tbody tr th {\n",
       "        vertical-align: top;\n",
       "    }\n",
       "\n",
       "    .dataframe thead th {\n",
       "        text-align: right;\n",
       "    }\n",
       "</style>\n",
       "<table border=\"1\" class=\"dataframe\">\n",
       "  <thead>\n",
       "    <tr style=\"text-align: right;\">\n",
       "      <th></th>\n",
       "      <th>wikipedia_movie_ID</th>\n",
       "      <th>freebase_movie_ID</th>\n",
       "      <th>movie_name</th>\n",
       "      <th>movie_release_date</th>\n",
       "      <th>movie_box_office_revenue</th>\n",
       "      <th>movie_runtime</th>\n",
       "      <th>movie_languages</th>\n",
       "      <th>movie_countries</th>\n",
       "      <th>movie_genres</th>\n",
       "      <th>last_update</th>\n",
       "      <th>character_name</th>\n",
       "      <th>actor_DOB</th>\n",
       "      <th>actor_gender</th>\n",
       "      <th>actor_height</th>\n",
       "      <th>actor_ethnicity</th>\n",
       "      <th>actor_name</th>\n",
       "      <th>actor_age_at_movie_release</th>\n",
       "      <th>freebase_character/actor_map_ID</th>\n",
       "      <th>freebase_character_ID</th>\n",
       "      <th>freebase_actor_ID</th>\n",
       "    </tr>\n",
       "  </thead>\n",
       "  <tbody>\n",
       "    <tr>\n",
       "      <th>18865</th>\n",
       "      <td>31941988</td>\n",
       "      <td>/m/0gvsynb</td>\n",
       "      <td>Harry Potter and the Deathly Hallows – Part 2</td>\n",
       "      <td>2011-07-07</td>\n",
       "      <td>1.328111e+09</td>\n",
       "      <td>130.0</td>\n",
       "      <td>{\"/m/02h40lc\": \"English Language\"}</td>\n",
       "      <td>{\"/m/09c7w0\": \"United States of America\", \"/m/...</td>\n",
       "      <td>{\"/m/07s9rl0\": \"Drama\", \"/m/02n4kr\": \"Mystery\"...</td>\n",
       "      <td>2011-07-07</td>\n",
       "      <td>Professor Severus Snape</td>\n",
       "      <td>1946-02-21</td>\n",
       "      <td>M</td>\n",
       "      <td>1.854</td>\n",
       "      <td>/m/0d7wh</td>\n",
       "      <td>Alan Rickman</td>\n",
       "      <td>65.0</td>\n",
       "      <td>/m/09lybcv</td>\n",
       "      <td>/m/0c2l5</td>\n",
       "      <td>/m/09y20</td>\n",
       "    </tr>\n",
       "    <tr>\n",
       "      <th>5918</th>\n",
       "      <td>14482638</td>\n",
       "      <td>/m/04jpg2p</td>\n",
       "      <td>Alice in Wonderland</td>\n",
       "      <td>2010-03-05</td>\n",
       "      <td>1.024300e+09</td>\n",
       "      <td>108.0</td>\n",
       "      <td>{\"/m/02h40lc\": \"English Language\"}</td>\n",
       "      <td>{\"/m/09c7w0\": \"United States of America\", \"/m/...</td>\n",
       "      <td>{\"/m/01zhp\": \"Computer Animation\", \"/m/0hqxf\":...</td>\n",
       "      <td>2010-03-05</td>\n",
       "      <td>Caterpillar</td>\n",
       "      <td>1946-02-21</td>\n",
       "      <td>M</td>\n",
       "      <td>1.854</td>\n",
       "      <td>/m/0d7wh</td>\n",
       "      <td>Alan Rickman</td>\n",
       "      <td>64.0</td>\n",
       "      <td>/m/04zcxdl</td>\n",
       "      <td>/m/04xlmy</td>\n",
       "      <td>/m/09y20</td>\n",
       "    </tr>\n",
       "    <tr>\n",
       "      <th>43430</th>\n",
       "      <td>667361</td>\n",
       "      <td>/m/03176f</td>\n",
       "      <td>Harry Potter and the Philosopher's Stone</td>\n",
       "      <td>2001-11-16</td>\n",
       "      <td>9.747554e+08</td>\n",
       "      <td>153.0</td>\n",
       "      <td>{\"/m/02h40lc\": \"English Language\"}</td>\n",
       "      <td>{\"/m/09c7w0\": \"United States of America\", \"/m/...</td>\n",
       "      <td>{\"/m/0hj3n2k\": \"Fantasy Adventure\", \"/m/03k9fj...</td>\n",
       "      <td>2001-11-16</td>\n",
       "      <td>Professor Severus Snape</td>\n",
       "      <td>1946-02-21</td>\n",
       "      <td>M</td>\n",
       "      <td>1.854</td>\n",
       "      <td>/m/0d7wh</td>\n",
       "      <td>Alan Rickman</td>\n",
       "      <td>55.0</td>\n",
       "      <td>/m/02_752k</td>\n",
       "      <td>/m/0c2l5</td>\n",
       "      <td>/m/09y20</td>\n",
       "    </tr>\n",
       "  </tbody>\n",
       "</table>\n",
       "</div>"
      ],
      "text/plain": [
       "       wikipedia_movie_ID freebase_movie_ID  \\\n",
       "18865            31941988        /m/0gvsynb   \n",
       "5918             14482638        /m/04jpg2p   \n",
       "43430              667361         /m/03176f   \n",
       "\n",
       "                                          movie_name movie_release_date  \\\n",
       "18865  Harry Potter and the Deathly Hallows – Part 2         2011-07-07   \n",
       "5918                             Alice in Wonderland         2010-03-05   \n",
       "43430       Harry Potter and the Philosopher's Stone         2001-11-16   \n",
       "\n",
       "       movie_box_office_revenue  movie_runtime  \\\n",
       "18865              1.328111e+09          130.0   \n",
       "5918               1.024300e+09          108.0   \n",
       "43430              9.747554e+08          153.0   \n",
       "\n",
       "                          movie_languages  \\\n",
       "18865  {\"/m/02h40lc\": \"English Language\"}   \n",
       "5918   {\"/m/02h40lc\": \"English Language\"}   \n",
       "43430  {\"/m/02h40lc\": \"English Language\"}   \n",
       "\n",
       "                                         movie_countries  \\\n",
       "18865  {\"/m/09c7w0\": \"United States of America\", \"/m/...   \n",
       "5918   {\"/m/09c7w0\": \"United States of America\", \"/m/...   \n",
       "43430  {\"/m/09c7w0\": \"United States of America\", \"/m/...   \n",
       "\n",
       "                                            movie_genres last_update  \\\n",
       "18865  {\"/m/07s9rl0\": \"Drama\", \"/m/02n4kr\": \"Mystery\"...  2011-07-07   \n",
       "5918   {\"/m/01zhp\": \"Computer Animation\", \"/m/0hqxf\":...  2010-03-05   \n",
       "43430  {\"/m/0hj3n2k\": \"Fantasy Adventure\", \"/m/03k9fj...  2001-11-16   \n",
       "\n",
       "                character_name   actor_DOB actor_gender  actor_height  \\\n",
       "18865  Professor Severus Snape  1946-02-21            M         1.854   \n",
       "5918               Caterpillar  1946-02-21            M         1.854   \n",
       "43430  Professor Severus Snape  1946-02-21            M         1.854   \n",
       "\n",
       "      actor_ethnicity    actor_name  actor_age_at_movie_release  \\\n",
       "18865        /m/0d7wh  Alan Rickman                        65.0   \n",
       "5918         /m/0d7wh  Alan Rickman                        64.0   \n",
       "43430        /m/0d7wh  Alan Rickman                        55.0   \n",
       "\n",
       "      freebase_character/actor_map_ID freebase_character_ID freebase_actor_ID  \n",
       "18865                      /m/09lybcv              /m/0c2l5          /m/09y20  \n",
       "5918                       /m/04zcxdl             /m/04xlmy          /m/09y20  \n",
       "43430                      /m/02_752k              /m/0c2l5          /m/09y20  "
      ]
     },
     "execution_count": 66,
     "metadata": {},
     "output_type": "execute_result"
    }
   ],
   "source": [
    "# Checking the number 1 actor we received from our \n",
    "# initial analysis (by only considering actors as predictor)\n",
    "\n",
    "movies_characters[movies_characters['freebase_actor_ID']=='/m/09y20'].sort_values(by='movie_box_office_revenue', ascending=False).head(3)"
   ]
  },
  {
   "cell_type": "markdown",
   "id": "1956878b-bf16-44ba-85a1-5a3cd084a31a",
   "metadata": {},
   "source": [
    "#### Comment\n",
    "We cannot be sure whether Alan Rickman aka Professor Severus Snape has the highest effect on box office revenue. However, Alan Rickman has performed  in several movies with extremely high box office revenue, so the result is an indication that our choice of method could be further explored to gain insight into what actors affect box office revenue the most. The most urgent improvement of the model is to include more predictors (both categorical and continous) to avoid confounders."
   ]
  },
  {
   "cell_type": "markdown",
   "id": "a579afa0-3956-47b9-8f61-8139f7b7f451",
   "metadata": {},
   "source": [
    "\n",
    "\n",
    "\n",
    "\n",
    "\n",
    "\n",
    "\n",
    "![snape](img/snape.jpeg)"
   ]
  },
  {
   "cell_type": "markdown",
   "id": "0f039a63-383c-4c48-a0c7-a292633157c4",
   "metadata": {
    "id": "vMs6GnI3daPp"
   },
   "source": [
    "# Runtime"
   ]
  },
  {
   "cell_type": "markdown",
   "id": "6619bf68-4ea6-488a-b828-cfbf79920a65",
   "metadata": {},
   "source": [
    "- This notebook intends to investigate the runtime of the [CMU Movie Summary Corpus](http://www.cs.cmu.edu/~ark/personas/) dataset.\n",
    "- The notebook will look at the distribution of runtime and how it correlates with a movie's revenue."
   ]
  },
  {
   "cell_type": "markdown",
   "id": "1b9d6a4d-6a7d-47e9-891b-32572656d5b5",
   "metadata": {},
   "source": [
    "---\n",
    "### Summary\n",
    "- We cannot conclude there is a linear relationship between movie runtime and revenue.\n",
    "- Blockbuster movies ($400 million+) have, on average, 10.1% longer runtime than non-blockbuster movies.\n",
    "- Movies with short runtime (<80min) have 59.8% less revenue than non-short movies."
   ]
  },
  {
   "cell_type": "markdown",
   "id": "de985ef6-20e3-44c7-a543-3d3f6bc3000d",
   "metadata": {},
   "source": [
    "---\n",
    "### Data Processing"
   ]
  },
  {
   "cell_type": "markdown",
   "id": "c36e9cf9-ee43-4aa5-bab1-2988875605c1",
   "metadata": {
    "tags": []
   },
   "source": [
    "---\n",
    "#### Loading data"
   ]
  },
  {
   "cell_type": "code",
   "execution_count": 67,
   "id": "7fa50252-426e-4912-a86b-d47668df50ee",
   "metadata": {},
   "outputs": [],
   "source": [
    "# Filter for movies with runtime\n",
    "df_runtime = movies[movies[\"movie_runtime\"].notnull()]"
   ]
  },
  {
   "cell_type": "markdown",
   "id": "acfb3330-9bcf-4235-971e-db5d410d3104",
   "metadata": {},
   "source": [
    "---\n",
    "#### Outlier Removal\n",
    "We will find outliers by calculating IQR and remove data outside the lower/upper bound."
   ]
  },
  {
   "cell_type": "code",
   "execution_count": 68,
   "id": "f6f4cb16-b3d3-4c56-a719-956aca4dd912",
   "metadata": {},
   "outputs": [
    {
     "data": {
      "text/html": [
       "<div>\n",
       "<style scoped>\n",
       "    .dataframe tbody tr th:only-of-type {\n",
       "        vertical-align: middle;\n",
       "    }\n",
       "\n",
       "    .dataframe tbody tr th {\n",
       "        vertical-align: top;\n",
       "    }\n",
       "\n",
       "    .dataframe thead th {\n",
       "        text-align: right;\n",
       "    }\n",
       "</style>\n",
       "<table border=\"1\" class=\"dataframe\">\n",
       "  <thead>\n",
       "    <tr style=\"text-align: right;\">\n",
       "      <th></th>\n",
       "      <th>wikipedia_movie_ID</th>\n",
       "      <th>freebase_movie_ID</th>\n",
       "      <th>movie_name</th>\n",
       "      <th>movie_release_date</th>\n",
       "      <th>movie_box_office_revenue</th>\n",
       "      <th>movie_runtime</th>\n",
       "      <th>movie_languages</th>\n",
       "      <th>movie_countries</th>\n",
       "      <th>movie_genres</th>\n",
       "    </tr>\n",
       "  </thead>\n",
       "  <tbody>\n",
       "    <tr>\n",
       "      <th>0</th>\n",
       "      <td>975900</td>\n",
       "      <td>/m/03vyhn</td>\n",
       "      <td>Ghosts of Mars</td>\n",
       "      <td>2001-08-24</td>\n",
       "      <td>14010832.0</td>\n",
       "      <td>98.0</td>\n",
       "      <td>{\"/m/02h40lc\": \"English Language\"}</td>\n",
       "      <td>{\"/m/09c7w0\": \"United States of America\"}</td>\n",
       "      <td>{\"/m/01jfsb\": \"Thriller\", \"/m/06n90\": \"Science...</td>\n",
       "    </tr>\n",
       "  </tbody>\n",
       "</table>\n",
       "</div>"
      ],
      "text/plain": [
       "   wikipedia_movie_ID freebase_movie_ID      movie_name movie_release_date  \\\n",
       "0              975900         /m/03vyhn  Ghosts of Mars         2001-08-24   \n",
       "\n",
       "   movie_box_office_revenue  movie_runtime  \\\n",
       "0                14010832.0           98.0   \n",
       "\n",
       "                      movie_languages  \\\n",
       "0  {\"/m/02h40lc\": \"English Language\"}   \n",
       "\n",
       "                             movie_countries  \\\n",
       "0  {\"/m/09c7w0\": \"United States of America\"}   \n",
       "\n",
       "                                        movie_genres  \n",
       "0  {\"/m/01jfsb\": \"Thriller\", \"/m/06n90\": \"Science...  "
      ]
     },
     "execution_count": 68,
     "metadata": {},
     "output_type": "execute_result"
    }
   ],
   "source": [
    "# IQR\n",
    "Q1 = np.percentile(df_runtime[\"movie_runtime\"], 25)\n",
    "Q3 = np.percentile(df_runtime[\"movie_runtime\"], 75)\n",
    "IQR = Q3 - Q1\n",
    "lower, upper = Q1 - 1.5 * IQR, Q3 + 1.5 * IQR\n",
    "\n",
    "# Remove outlier\n",
    "df_runtime = df_runtime[\n",
    "    (df_runtime[\"movie_runtime\"] >= lower) & (df_runtime[\"movie_runtime\"] <= upper)\n",
    "]\n",
    "df_runtime.head(1)"
   ]
  },
  {
   "cell_type": "markdown",
   "id": "bf0c07c8-1f2d-4f1e-8564-8df0b21bdb12",
   "metadata": {},
   "source": [
    "---\n",
    "### Distribution of runtime"
   ]
  },
  {
   "cell_type": "code",
   "execution_count": 69,
   "id": "1d971572-c036-482a-b163-3397e8d24396",
   "metadata": {},
   "outputs": [
    {
     "data": {
      "image/png": "[encoded data removed]",
      "text/plain": [
       "<Figure size 640x480 with 1 Axes>"
      ]
     },
     "metadata": {},
     "output_type": "display_data"
    }
   ],
   "source": [
    "# histogram plot\n",
    "plt.hist(df_runtime[\"movie_runtime\"], histtype=\"step\", log=True, bins=20)\n",
    "plt.title(\"Distribution of movie runtime\")\n",
    "plt.xlabel(\"Length of movie runtime (minute)\")\n",
    "plt.ylabel(\"Number of movies\")\n",
    "plt.show()"
   ]
  },
  {
   "cell_type": "markdown",
   "id": "4c00bce4-f954-4462-99e3-9644d1a5a2e7",
   "metadata": {},
   "source": [
    "#### Comment\n",
    "\n",
    "From the log histogram, we can see that most of the movies have runtime within the 85-120 minute interval."
   ]
  },
  {
   "cell_type": "markdown",
   "id": "5b42d3c5-1349-4ee8-8373-f22f618cb88f",
   "metadata": {
    "tags": []
   },
   "source": [
    "---\n",
    "### Regression & Scatterplot"
   ]
  },
  {
   "cell_type": "code",
   "execution_count": 70,
   "id": "c817108e-6355-4b68-8798-fefee8e9fb79",
   "metadata": {
    "colab": {
     "base_uri": "https://localhost:8080/"
    },
    "id": "lxjIxPShydx4",
    "outputId": "6514d896-edfb-4d70-cb34-6f732e4a763c"
   },
   "outputs": [
    {
     "data": {
      "text/html": [
       "<table class=\"simpletable\">\n",
       "<caption>OLS Regression Results</caption>\n",
       "<tr>\n",
       "  <th>Dep. Variable:</th>    <td>movie_box_office_revenue</td> <th>  R-squared:         </th> <td>   0.035</td> \n",
       "</tr>\n",
       "<tr>\n",
       "  <th>Model:</th>                       <td>OLS</td>           <th>  Adj. R-squared:    </th> <td>   0.035</td> \n",
       "</tr>\n",
       "<tr>\n",
       "  <th>Method:</th>                 <td>Least Squares</td>      <th>  F-statistic:       </th> <td>   128.3</td> \n",
       "</tr>\n",
       "<tr>\n",
       "  <th>Date:</th>                 <td>Wed, 16 Nov 2022</td>     <th>  Prob (F-statistic):</th> <td>3.10e-29</td> \n",
       "</tr>\n",
       "<tr>\n",
       "  <th>Time:</th>                     <td>23:38:33</td>         <th>  Log-Likelihood:    </th> <td> -70824.</td> \n",
       "</tr>\n",
       "<tr>\n",
       "  <th>No. Observations:</th>          <td>  3537</td>          <th>  AIC:               </th> <td>1.417e+05</td>\n",
       "</tr>\n",
       "<tr>\n",
       "  <th>Df Residuals:</th>              <td>  3535</td>          <th>  BIC:               </th> <td>1.417e+05</td>\n",
       "</tr>\n",
       "<tr>\n",
       "  <th>Df Model:</th>                  <td>     1</td>          <th>                     </th>     <td> </td>    \n",
       "</tr>\n",
       "<tr>\n",
       "  <th>Covariance Type:</th>          <td>nonrobust</td>        <th>                     </th>     <td> </td>    \n",
       "</tr>\n",
       "</table>\n",
       "<table class=\"simpletable\">\n",
       "<tr>\n",
       "        <td></td>           <th>coef</th>     <th>std err</th>      <th>t</th>      <th>P>|t|</th>  <th>[0.025</th>    <th>0.975]</th>  \n",
       "</tr>\n",
       "<tr>\n",
       "  <th>Intercept</th>     <td>-9.517e+07</td> <td> 1.41e+07</td> <td>   -6.756</td> <td> 0.000</td> <td>-1.23e+08</td> <td>-6.75e+07</td>\n",
       "</tr>\n",
       "<tr>\n",
       "  <th>movie_runtime</th> <td> 1.516e+06</td> <td> 1.34e+05</td> <td>   11.326</td> <td> 0.000</td> <td> 1.25e+06</td> <td> 1.78e+06</td>\n",
       "</tr>\n",
       "</table>\n",
       "<table class=\"simpletable\">\n",
       "<tr>\n",
       "  <th>Omnibus:</th>       <td>3041.410</td> <th>  Durbin-Watson:     </th> <td>   2.055</td> \n",
       "</tr>\n",
       "<tr>\n",
       "  <th>Prob(Omnibus):</th>  <td> 0.000</td>  <th>  Jarque-Bera (JB):  </th> <td>89839.879</td>\n",
       "</tr>\n",
       "<tr>\n",
       "  <th>Skew:</th>           <td> 4.065</td>  <th>  Prob(JB):          </th> <td>    0.00</td> \n",
       "</tr>\n",
       "<tr>\n",
       "  <th>Kurtosis:</th>       <td>26.314</td>  <th>  Cond. No.          </th> <td>    733.</td> \n",
       "</tr>\n",
       "</table><br/><br/>Notes:<br/>[1] Standard Errors assume that the covariance matrix of the errors is correctly specified."
      ],
      "text/plain": [
       "<class 'statsmodels.iolib.summary.Summary'>\n",
       "\"\"\"\n",
       "                               OLS Regression Results                               \n",
       "====================================================================================\n",
       "Dep. Variable:     movie_box_office_revenue   R-squared:                       0.035\n",
       "Model:                                  OLS   Adj. R-squared:                  0.035\n",
       "Method:                       Least Squares   F-statistic:                     128.3\n",
       "Date:                      Wed, 16 Nov 2022   Prob (F-statistic):           3.10e-29\n",
       "Time:                              23:38:33   Log-Likelihood:                -70824.\n",
       "No. Observations:                      3537   AIC:                         1.417e+05\n",
       "Df Residuals:                          3535   BIC:                         1.417e+05\n",
       "Df Model:                                 1                                         \n",
       "Covariance Type:                  nonrobust                                         \n",
       "=================================================================================\n",
       "                    coef    std err          t      P>|t|      [0.025      0.975]\n",
       "---------------------------------------------------------------------------------\n",
       "Intercept     -9.517e+07   1.41e+07     -6.756      0.000   -1.23e+08   -6.75e+07\n",
       "movie_runtime  1.516e+06   1.34e+05     11.326      0.000    1.25e+06    1.78e+06\n",
       "==============================================================================\n",
       "Omnibus:                     3041.410   Durbin-Watson:                   2.055\n",
       "Prob(Omnibus):                  0.000   Jarque-Bera (JB):            89839.879\n",
       "Skew:                           4.065   Prob(JB):                         0.00\n",
       "Kurtosis:                      26.314   Cond. No.                         733.\n",
       "==============================================================================\n",
       "\n",
       "Notes:\n",
       "[1] Standard Errors assume that the covariance matrix of the errors is correctly specified.\n",
       "\"\"\""
      ]
     },
     "execution_count": 70,
     "metadata": {},
     "output_type": "execute_result"
    }
   ],
   "source": [
    "runtime_model = smf.ols(\"movie_box_office_revenue ~ movie_runtime\", data=df_runtime).fit()\n",
    "\n",
    "# summarize our model\n",
    "runtime_model_summary = runtime_model.summary()\n",
    "runtime_model_summary"
   ]
  },
  {
   "cell_type": "code",
   "execution_count": 71,
   "id": "41d942da-61fe-476b-9da5-fd38c681a4e3",
   "metadata": {},
   "outputs": [
    {
     "data": {
      "image/png": "[encoded data removed]",
      "text/plain": [
       "<Figure size 900x600 with 1 Axes>"
      ]
     },
     "metadata": {},
     "output_type": "display_data"
    }
   ],
   "source": [
    "fig = plt.figure(figsize=(9, 6))\n",
    "\n",
    "# pass in the model as the first parameter, then specify the\n",
    "# predictor variable we want to analyze\n",
    "fig = sns.regplot(\n",
    "    x=\"movie_runtime\",\n",
    "    y=\"movie_box_office_revenue\",\n",
    "    data=df_runtime,\n",
    "    ci=95,\n",
    "    scatter_kws={\"color\": \"blue\"},\n",
    "    line_kws={\"color\": \"red\"},\n",
    ")"
   ]
  },
  {
   "cell_type": "markdown",
   "id": "902ec368-9b23-45e1-9c5e-83c294c1007e",
   "metadata": {},
   "source": [
    "#### Comment\n",
    "- From the scatterplot, we see that there is a slight positive linear relationship between runtime and revenue. \n",
    "- However from previous regression analysis, the R squared value (0.038) is too small to justify the dependency between runtime and revenue. \n",
    "- We also see that movie with runtime between 80-120 minutes have similar distribution of revenue and movies with runtime less than 80 minutes generate less revenue (highet revenue is below $400000000). - Thus we can raise the question that if 80 minute could be a threshold for movie's revenue performance and we will address it in the next section."
   ]
  },
  {
   "cell_type": "markdown",
   "id": "c5b47a09-757b-4a31-8c08-82d29c73df0c",
   "metadata": {},
   "source": [
    "---\n",
    "### Effect of short runtime on revenue\n",
    "We define **short** movie to have runtime < 80min\\\n",
    "and other (non-short) movie to have runtime >= 80min."
   ]
  },
  {
   "cell_type": "code",
   "execution_count": 72,
   "id": "8a3e5043-75e2-4eef-b94c-4469a092d9e8",
   "metadata": {},
   "outputs": [],
   "source": [
    "# Filter short movie to be under 80min\n",
    "df_short = df_runtime[df_runtime[\"movie_runtime\"] < 80]\n",
    "\n",
    "# Filter non-short movie to be above or equal to 80min\n",
    "df_non_short = df_runtime[df_runtime[\"movie_runtime\"] >= 80]"
   ]
  },
  {
   "cell_type": "code",
   "execution_count": 73,
   "id": "e528717c-e01b-4129-82e9-7f094717bd41",
   "metadata": {},
   "outputs": [
    {
     "data": {
      "text/plain": [
       "Ttest_indResult(statistic=-6.274683159208168, pvalue=7.789827189159679e-09)"
      ]
     },
     "execution_count": 73,
     "metadata": {},
     "output_type": "execute_result"
    }
   ],
   "source": [
    "# independent t-test between short and non-short movies\n",
    "stats.ttest_ind(a=df_short[\"movie_box_office_revenue\"], b=df_non_short[\"movie_box_office_revenue\"], equal_var=False)"
   ]
  },
  {
   "cell_type": "code",
   "execution_count": 74,
   "id": "d8c8cb7d-c3c9-4bf2-86a7-daa252a451b3",
   "metadata": {},
   "outputs": [
    {
     "name": "stdout",
     "output_type": "stream",
     "text": [
      "The mean difference in revenue is: -35616604.01529867\n"
     ]
    }
   ],
   "source": [
    "# calculate mean difference\n",
    "mean_diff = df_short[\"movie_box_office_revenue\"].mean() - df_non_short[\"movie_box_office_revenue\"].mean()\n",
    "\n",
    "# print the mean difference\n",
    "print(f\"The mean difference in revenue is: {mean_diff}\")"
   ]
  },
  {
   "cell_type": "code",
   "execution_count": 75,
   "id": "f0a56f39-833c-4afc-bc66-4adc8a74a8bf",
   "metadata": {},
   "outputs": [
    {
     "data": {
      "text/plain": [
       "-0.5606223849324339"
      ]
     },
     "execution_count": 75,
     "metadata": {},
     "output_type": "execute_result"
    }
   ],
   "source": [
    "# calculating the percentage difference in revenue between the mean and non-short\n",
    "diff_percent = mean_diff / df_non_short[\"movie_box_office_revenue\"].mean()\n",
    "\n",
    "# printing the results\n",
    "diff_percent"
   ]
  },
  {
   "cell_type": "markdown",
   "id": "03c81946-d20b-49cb-b2dd-6f4c79be5602",
   "metadata": {},
   "source": [
    "#### Comment\n",
    "- The independent t-test gives us a small p-value (<< 0.05), which indicates a statistically significant difference between the samples.\n",
    "- Further, the mean difference tells us that short movies (< 80min) generally generates less revenue than non-short (>=80min) movies.\n",
    "- We can conclude that movies should not be too short as short movies have 59.8% less revenue than non-short movies."
   ]
  },
  {
   "cell_type": "markdown",
   "id": "90129178-5dbb-4ca4-b768-59c1e4c3181d",
   "metadata": {},
   "source": [
    "---\n",
    "### Difference in runtime between blockbuster vs non-blockbuster\n",
    "We define **blockbusters** as movies with revenue >= 400 million USD\\\n",
    "and **non-blockbusters** as movies with revenue < 400 million USD."
   ]
  },
  {
   "cell_type": "code",
   "execution_count": 76,
   "id": "6871619c-5880-4d1c-b9b0-3082d625ae39",
   "metadata": {},
   "outputs": [],
   "source": [
    "# Filter blockbuster movies\n",
    "df_bb = df_runtime[df_runtime[\"movie_box_office_revenue\"] >= 400000000]\n",
    "\n",
    "# Filter non-blockbuster movies\n",
    "df_non_bb = df_runtime[df_runtime[\"movie_box_office_revenue\"] < 400000000]"
   ]
  },
  {
   "cell_type": "code",
   "execution_count": 77,
   "id": "754f1f3e-560f-4808-b02e-312b0962c30f",
   "metadata": {},
   "outputs": [
    {
     "data": {
      "text/plain": [
       "Ttest_indResult(statistic=5.333453547364087, pvalue=6.144534731432997e-07)"
      ]
     },
     "execution_count": 77,
     "metadata": {},
     "output_type": "execute_result"
    }
   ],
   "source": [
    "# independent t-test\n",
    "stats.ttest_ind(a=df_bb[\"movie_runtime\"], b=df_non_bb[\"movie_runtime\"], equal_var=False)"
   ]
  },
  {
   "cell_type": "code",
   "execution_count": 78,
   "id": "e345105e-2685-46d0-9595-48e085fcaf72",
   "metadata": {},
   "outputs": [
    {
     "name": "stdout",
     "output_type": "stream",
     "text": [
      "The mean difference in runtime is: 10.109648358035457\n"
     ]
    }
   ],
   "source": [
    "# calculate mean difference\n",
    "mean_diff = df_bb[\"movie_runtime\"].mean() - df_non_bb[\"movie_runtime\"].mean()\n",
    "\n",
    "# print the mean difference\n",
    "print(f\"The mean difference in runtime is: {mean_diff}\")"
   ]
  },
  {
   "cell_type": "code",
   "execution_count": 79,
   "id": "7da8680e-ddab-42c6-ba8b-9ceef72f1fe6",
   "metadata": {},
   "outputs": [
    {
     "data": {
      "text/plain": [
       "0.0973107530993461"
      ]
     },
     "execution_count": 79,
     "metadata": {},
     "output_type": "execute_result"
    }
   ],
   "source": [
    "# calculating the percentage difference in runtime between the mean and non-blockbuster\n",
    "diff_percent = mean_diff / df_non_bb[\"movie_runtime\"].mean()\n",
    "\n",
    "# printing the results\n",
    "diff_percent"
   ]
  },
  {
   "cell_type": "markdown",
   "id": "b9484812-e974-4fa2-a404-c81bd428947e",
   "metadata": {},
   "source": [
    "#### Comment\n",
    "- The independent t-test gives us a small p-value (<< 0.05), which indicates a statistically significant difference between the samples.  \n",
    "- Further, the mean difference tells us that the blockbuster runtime is generally longer than non-blockbuster.  \n",
    "- We can conclude that longer runtime are more successful, as blockbuster movies have 10.08% longer runtime than non-blockbuster movies. "
   ]
  },
  {
   "cell_type": "markdown",
   "id": "97b4e70d-2dc8-4d86-98f7-a04ca728c8ea",
   "metadata": {
    "id": "vMs6GnI3daPp"
   },
   "source": [
    "# Plot Summary"
   ]
  },
  {
   "cell_type": "markdown",
   "id": "f339f46d-5a08-4bee-af20-aa361f8ff43b",
   "metadata": {},
   "source": [
    "- This notebook intends to investigate the plot summary of the [CMU Movie Summary Corpus](http://www.cs.cmu.edu/~ark/personas/) dataset.\n",
    "- The notebook will look at the sentiments within plot summary of movies and how they correlate with a movie's revenue."
   ]
  },
  {
   "cell_type": "markdown",
   "id": "e926306b-8174-467c-9170-da8d3f850aa7",
   "metadata": {},
   "source": [
    "---\n",
    "### Summary\n",
    "- We analyze plot summary from three sentiments: positive, negative and violent words and analyze if their proportion in plot summary affects revenue.\n",
    "- Movies with more negative plot have on average 43.5% more revenue than those with more positive plots.\n",
    "- Movies with more violent plot are more likely to generate revenue since blockbuster movies have 25.4% higher violent word porportion than non-blockbuster movies."
   ]
  },
  {
   "cell_type": "markdown",
   "id": "7021d4cc-51b2-43cf-819c-4040408d18d8",
   "metadata": {},
   "source": [
    "---\n",
    "### Data Processing"
   ]
  },
  {
   "cell_type": "markdown",
   "id": "2ebccc56-df9b-4d5e-a0e1-84c780ae01e6",
   "metadata": {
    "tags": []
   },
   "source": [
    "---\n",
    "#### Loading data"
   ]
  },
  {
   "cell_type": "code",
   "execution_count": 80,
   "id": "4323e9bd-9be7-41a8-bf25-88b225a42241",
   "metadata": {
    "colab": {
     "base_uri": "https://localhost:8080/",
     "height": 424
    },
    "id": "ph5IQSSygfEh",
    "outputId": "798628c9-ddcf-4abb-b2fc-5f3fcb7d5113"
   },
   "outputs": [],
   "source": [
    "# Read summary data and filter movies with summary not null\n",
    "df_summary = pd.read_csv(\n",
    "    \"./data/plot_summaries.txt\", sep=\"\\t\", header=None, names=[\"wikipedia_movie_ID\", \"summary\"]\n",
    ")\n",
    "df_summary = df_summary[df_summary[\"summary\"].notnull()]"
   ]
  },
  {
   "cell_type": "code",
   "execution_count": 81,
   "id": "676c430a-b062-4ea5-9209-288211169101",
   "metadata": {
    "id": "0JOUic-Hmkci",
    "tags": []
   },
   "outputs": [
    {
     "data": {
      "text/html": [
       "<div>\n",
       "<style scoped>\n",
       "    .dataframe tbody tr th:only-of-type {\n",
       "        vertical-align: middle;\n",
       "    }\n",
       "\n",
       "    .dataframe tbody tr th {\n",
       "        vertical-align: top;\n",
       "    }\n",
       "\n",
       "    .dataframe thead th {\n",
       "        text-align: right;\n",
       "    }\n",
       "</style>\n",
       "<table border=\"1\" class=\"dataframe\">\n",
       "  <thead>\n",
       "    <tr style=\"text-align: right;\">\n",
       "      <th></th>\n",
       "      <th>wikipedia_movie_ID</th>\n",
       "      <th>summary</th>\n",
       "      <th>movie_box_office_revenue</th>\n",
       "    </tr>\n",
       "  </thead>\n",
       "  <tbody>\n",
       "    <tr>\n",
       "      <th>0</th>\n",
       "      <td>975900</td>\n",
       "      <td>Set in the second half of the 22nd century, th...</td>\n",
       "      <td>14010832.0</td>\n",
       "    </tr>\n",
       "    <tr>\n",
       "      <th>1</th>\n",
       "      <td>156558</td>\n",
       "      <td>A young 20-year-old named Jody  lives with his...</td>\n",
       "      <td>29381649.0</td>\n",
       "    </tr>\n",
       "    <tr>\n",
       "      <th>2</th>\n",
       "      <td>12008535</td>\n",
       "      <td>In the fictional farming village of Tlachtlán,...</td>\n",
       "      <td>11091868.0</td>\n",
       "    </tr>\n",
       "    <tr>\n",
       "      <th>3</th>\n",
       "      <td>5708633</td>\n",
       "      <td>The Great New Wonderful is a series of vignett...</td>\n",
       "      <td>172055.0</td>\n",
       "    </tr>\n",
       "    <tr>\n",
       "      <th>4</th>\n",
       "      <td>3873713</td>\n",
       "      <td>An officer in the violent crimes division, Dae...</td>\n",
       "      <td>4736013.0</td>\n",
       "    </tr>\n",
       "  </tbody>\n",
       "</table>\n",
       "</div>"
      ],
      "text/plain": [
       "   wikipedia_movie_ID                                            summary  \\\n",
       "0              975900  Set in the second half of the 22nd century, th...   \n",
       "1              156558  A young 20-year-old named Jody  lives with his...   \n",
       "2            12008535  In the fictional farming village of Tlachtlán,...   \n",
       "3             5708633  The Great New Wonderful is a series of vignett...   \n",
       "4             3873713  An officer in the violent crimes division, Dae...   \n",
       "\n",
       "   movie_box_office_revenue  \n",
       "0                14010832.0  \n",
       "1                29381649.0  \n",
       "2                11091868.0  \n",
       "3                  172055.0  \n",
       "4                 4736013.0  "
      ]
     },
     "execution_count": 81,
     "metadata": {},
     "output_type": "execute_result"
    }
   ],
   "source": [
    "# Merge metadata and summary data and filter for revenue and summary\n",
    "df_merge = pd.merge(movies, df_summary, on=[\"wikipedia_movie_ID\"], how=\"inner\")\n",
    "df_merge = df_merge[[\"wikipedia_movie_ID\", \"summary\", \"movie_box_office_revenue\"]]\n",
    "df_merge.head(5)"
   ]
  },
  {
   "cell_type": "markdown",
   "id": "2170ce90-5223-478a-afe1-451eef912548",
   "metadata": {},
   "source": [
    "---\n",
    "#### Positive / Negative / Violent Vocab Collection\n",
    "We decide to examine if positivity, negativity and violence in plot will affect movie revenue.\\\n",
    "First, we collect vocabulary with positive, negative and violent connotation."
   ]
  },
  {
   "cell_type": "code",
   "execution_count": 82,
   "id": "a19e6b52-ad10-4c91-a77b-2ac939000f7d",
   "metadata": {},
   "outputs": [],
   "source": [
    "# Sentiment List\n",
    "sentiment = [\"positive\", \"negative\", \"violent\"]"
   ]
  },
  {
   "cell_type": "code",
   "execution_count": 83,
   "id": "cd382846-045b-4e6a-8e32-3f0f8f8cf182",
   "metadata": {},
   "outputs": [],
   "source": [
    "# collecting the positive words list\n",
    "\n",
    "# requesting the url\n",
    "r = requests.get(\"https://ptrckprry.com/course/ssd/data/positive-words.txt\")\n",
    "\n",
    "# extracting and decoding the content from the request\n",
    "text = r.content.decode(\"us-ascii\")\n",
    "\n",
    "# extracting the text containing the positive words\n",
    "pos_text = text.split(\"\\n\\n\")\n",
    "\n",
    "# converting the text into a list\n",
    "pos_list = pos_text[1].split(\"\\n\")"
   ]
  },
  {
   "cell_type": "code",
   "execution_count": 84,
   "id": "e42796e3-90db-49dd-a446-e6866c6f16d6",
   "metadata": {},
   "outputs": [],
   "source": [
    "# collecting the neagative words list\n",
    "\n",
    "# requesting the url\n",
    "r = requests.get(\"https://ptrckprry.com/course/ssd/data/negative-words.txt\")\n",
    "\n",
    "# extracting and decoding the content from the request\n",
    "text = r.content.decode(\"iso-8859-1\")\n",
    "\n",
    "# extracting the text containing the negative words\n",
    "neg_text = text.split(\"\\n\\n\")\n",
    "\n",
    "# converting the text into a list\n",
    "neg_list = neg_text[1].split(\"\\n\")"
   ]
  },
  {
   "cell_type": "code",
   "execution_count": 85,
   "id": "5c3e2be4-0619-42d2-8e66-1efd28115c1f",
   "metadata": {},
   "outputs": [],
   "source": [
    "# collecting the violence words list\n",
    "# source: https://myvocabulary.com/word-list/violence-vocabulary/\n",
    "\n",
    "# Read from txt file\n",
    "violent_file = open(\"./data/violent_word_list.txt\", \"r\")\n",
    "violent_words = violent_file.read()\n",
    "\n",
    "# Split into list\n",
    "vio_list = violent_words.split(\", \")\n",
    "\n",
    "# Map every word into lower case\n",
    "vio_list = list(map(lambda x: x.lower(), vio_list))"
   ]
  },
  {
   "cell_type": "markdown",
   "id": "7ae0a528-a60c-435d-878c-5c922d4a6665",
   "metadata": {},
   "source": [
    "---\n",
    "#### Positive / Negative / Violent proportion in summary\n",
    "We calculate the proportion of words with positive / negative / violent connotation out of all words in movie summary."
   ]
  },
  {
   "cell_type": "code",
   "execution_count": 86,
   "id": "ac68bf41-9295-46f4-a690-169694bb8df2",
   "metadata": {},
   "outputs": [],
   "source": [
    "# creating a function to calculate proportion in summary\n",
    "def check_summary(summary, list_):\n",
    "    \"\"\"\n",
    "    Count what proportion of words from a list the summary contains\n",
    "\n",
    "    Parameters\n",
    "    ----------\n",
    "    summary: string\n",
    "        The summary you desire to check\n",
    "    list_: array\n",
    "        The list to do look up in\n",
    "\n",
    "    Returns\n",
    "    -------\n",
    "    int\n",
    "        Proportion of words contained from given list (0-1)\n",
    "    \"\"\"\n",
    "    cnt = 0\n",
    "    summary_lst = summary.lower().split()\n",
    "    for word in summary_lst:\n",
    "        if word in list_:\n",
    "            cnt += 1\n",
    "    return cnt / len(summary_lst)"
   ]
  },
  {
   "cell_type": "code",
   "execution_count": null,
   "id": "672769cc-ea4b-41b6-a6e1-775de19bff0e",
   "metadata": {},
   "outputs": [],
   "source": [
    "# adding column for positive sentiment\n",
    "df_merge[\"positive\"] = df_merge[\"summary\"].apply(lambda x: check_summary(x, pos_list))\n",
    "\n",
    "# adding a columns for negative sentiment\n",
    "df_merge[\"negative\"] = df_merge[\"summary\"].apply(lambda x: check_summary(x, neg_list))\n",
    "\n",
    "# adding a columns for violent sentiment\n",
    "df_merge[\"violent\"] = df_merge[\"summary\"].apply(lambda x: check_summary(x, vio_list))"
   ]
  },
  {
   "cell_type": "code",
   "execution_count": null,
   "id": "bb236fa0-35e6-43ea-82bf-2e07f057de4b",
   "metadata": {},
   "outputs": [],
   "source": [
    "df_merge.head(2)"
   ]
  },
  {
   "cell_type": "markdown",
   "id": "c4d1b6a4-85b1-47c8-bc50-e8cbe6d3826c",
   "metadata": {},
   "source": [
    "---\n",
    "### Regression & Scatterplot"
   ]
  },
  {
   "cell_type": "code",
   "execution_count": null,
   "id": "3ccb87cd-a558-45f6-a6ac-4862a2f97421",
   "metadata": {},
   "outputs": [],
   "source": [
    "fig, ax = plt.subplots(3, 1)\n",
    "\n",
    "# sentiment to ax position mapping\n",
    "sen2ax = {\"positive\": ax[0], \"negative\": ax[1], \"violent\": ax[2]}\n",
    "\n",
    "# Plot for each sentiment: positive, negative, violent\n",
    "for s in sentiment:\n",
    "    ax = sen2ax[s]\n",
    "    ax.plot(df_merge[s], df_merge[\"movie_box_office_revenue\"], \"o\")\n",
    "\n",
    "    # obtain m (slope) and b(intercept) of linear regression line\n",
    "    m, b = np.polyfit(df_merge[s], df_merge[\"movie_box_office_revenue\"], 1)\n",
    "    # add linear regression line to scatterplot\n",
    "    ax.plot(df_merge[s], m * df_merge[s] + b)\n",
    "\n",
    "    ax.set_title(\"Number of \" + s + \" words vs movie_box_office_revenue\")\n",
    "    ax.set_xlabel(s + \" words count\")\n",
    "    ax.set_ylabel(\"Revenue\")\n",
    "    ax.set_ylim(0, 3000000000)\n",
    "\n",
    "# Combine all the operations and display\n",
    "plt.subplots_adjust(left=0.1, bottom=0.1, right=0.9, top=1.7, wspace=0.4, hspace=0.4)\n",
    "plt.show()\n",
    "\n",
    "# sns.lmplot(x='positive', y='revenue', data=df_merge)"
   ]
  },
  {
   "cell_type": "code",
   "execution_count": null,
   "id": "40400fc5-20ff-4a94-ae4d-dd31edbb9fec",
   "metadata": {},
   "outputs": [],
   "source": [
    "# Regression analysis for positive word proportion vs revenue\n",
    "positive_revenue_model = smf.ols(\"movie_box_office_revenue ~ positive\", data=df_merge).fit()\n",
    "positive_revenue_model_summary = positive_revenue_model.summary()\n",
    "positive_revenue_model_summary"
   ]
  },
  {
   "cell_type": "code",
   "execution_count": null,
   "id": "ce26badc-5049-4a5e-9f37-3e0d40fefa86",
   "metadata": {},
   "outputs": [],
   "source": [
    "# Regression analysis for negative word proportion vs revenue\n",
    "negative_revenue_model = smf.ols(\"movie_box_office_revenue ~ negative\", data=df_merge).fit()\n",
    "negative_revenue_model_summary = negative_revenue_model.summary()\n",
    "negative_revenue_model_summary"
   ]
  },
  {
   "cell_type": "code",
   "execution_count": null,
   "id": "03e719e4-0429-4982-9a8e-46b877869cc2",
   "metadata": {},
   "outputs": [],
   "source": [
    "# Regression analysis for violent word proportion vs revenue\n",
    "violence_revenue_model = smf.ols(\"movie_box_office_revenue ~ violent\", data=df_merge).fit()\n",
    "violence_revenue_model_summary = violence_revenue_model.summary()\n",
    "violence_revenue_model_summary"
   ]
  },
  {
   "cell_type": "markdown",
   "id": "00e25691-cf51-4abb-8d2f-a3d222b68338",
   "metadata": {},
   "source": [
    "#### Comment\n",
    "- From the scatterplot, we see that there is a slight negative linear relationship between positive word proportion and revenue. There is also a slight negative linear relationship between negative word proportion and revenue. In contrast, there is a slight positive linear relationship between violent word proportion and revenue. \n",
    "- However from previous regression analysis, the R squared value (0.005 - positive, 0.000 - negative, 0.003 - violent) is too small to justify the dependency between all sentiments and revenue. \n",
    "- We see a opposing relationship between positive and negative and we will discover if more positive plot or more negative plot can boost the revenue in the following section."
   ]
  },
  {
   "cell_type": "markdown",
   "id": "228a1ce1-26d6-4291-8bbf-a5cbdef21b65",
   "metadata": {},
   "source": [
    "---\n",
    "### Difference in revenues between movies with more positive and more negative plot\n",
    "We will analyze if plots with more positive word proportions will generate more revenues than those with more negative word proportions. "
   ]
  },
  {
   "cell_type": "code",
   "execution_count": null,
   "id": "b467f978-527f-477e-9d47-3a314fb14047",
   "metadata": {},
   "outputs": [],
   "source": [
    "# Filter for movies that have higher proportion of positive words than negative words\n",
    "df_pos_majority = df_merge[df_merge[\"positive\"] > df_merge[\"negative\"]]\n",
    "\n",
    "# Filter for movies that higher proportion of negative words than positive words\n",
    "df_neg_majority = df_merge[df_merge[\"negative\"] > df_merge[\"positive\"]]"
   ]
  },
  {
   "cell_type": "code",
   "execution_count": null,
   "id": "543eace9-4c68-42eb-8caa-2a7166471697",
   "metadata": {},
   "outputs": [],
   "source": [
    "# independent t-test\n",
    "stats.ttest_ind(\n",
    "    a=df_pos_majority[\"movie_box_office_revenue\"], b=df_neg_majority[\"movie_box_office_revenue\"], equal_var=False\n",
    ")"
   ]
  },
  {
   "cell_type": "code",
   "execution_count": null,
   "id": "a999f73f-44b6-4d69-b176-776c76c4b1d7",
   "metadata": {},
   "outputs": [],
   "source": [
    "# calculate mean difference\n",
    "mean_diff = df_pos_majority[\"movie_box_office_revenue\"].mean() - df_neg_majority[\"movie_box_office_revenue\"].mean()\n",
    "\n",
    "# print the mean difference\n",
    "print(f\"The mean difference in revenue is: {mean_diff}\")"
   ]
  },
  {
   "cell_type": "code",
   "execution_count": null,
   "id": "6e964510-ce2c-4140-b727-ea2b4e844de9",
   "metadata": {},
   "outputs": [],
   "source": [
    "# calculating the percentage difference in revenue between the mean and negative\n",
    "diff_percent = mean_diff / df_neg_majority[\"movie_box_office_revenue\"].mean()\n",
    "\n",
    "# printing the results\n",
    "diff_percent"
   ]
  },
  {
   "cell_type": "markdown",
   "id": "9760e13e-f0e8-44c1-9488-a8be888855c6",
   "metadata": {},
   "source": [
    "#### Comment\n",
    "- The independent t-test gives us a small p-value (<< 0.05), which indicates a statistically significant difference between the samples.\n",
    "- Further, the mean difference tells us that movies with more positive plot generally has less revenue than movies with more negative plot.\n",
    "- We can conclude that movies with more negative plot are more successful, as movies with more negative plot have 43.5% more revenue than movies with more positive plot."
   ]
  },
  {
   "cell_type": "markdown",
   "id": "fa0c7b3a-06b6-4bd6-bc50-d684845b88a6",
   "metadata": {},
   "source": [
    "---\n",
    "### Difference in sentiment proportion between blockbuster vs non-blockbuster\n",
    "We define **blockbusters** as movies with revenue >= 400 million USD\\\n",
    "and **non-blockbusters** as movies with revenue < 400 million USD."
   ]
  },
  {
   "cell_type": "code",
   "execution_count": null,
   "id": "b9ad2e28-16da-43b0-aa9d-98499b231d59",
   "metadata": {},
   "outputs": [],
   "source": [
    "# Filter blockbuster movies\n",
    "df_bb = df_merge[df_merge[\"movie_box_office_revenue\"] >= 400000000]\n",
    "\n",
    "# Filter non-blockbuster movies\n",
    "df_non_bb = df_merge[df_merge[\"movie_box_office_revenue\"] < 400000000]"
   ]
  },
  {
   "cell_type": "code",
   "execution_count": null,
   "id": "76363728-edde-4524-ad9b-254af6e36fea",
   "metadata": {},
   "outputs": [],
   "source": [
    "# For each sentiment\n",
    "for s in sentiment:\n",
    "    # independent t-test\n",
    "    print(stats.ttest_ind(a=df_bb[s], b=df_non_bb[s], equal_var=False))\n",
    "\n",
    "    # calculate mean difference\n",
    "    mean_diff = df_bb[s].mean() - df_non_bb[s].mean()\n",
    "\n",
    "    # print the mean difference\n",
    "    print(f\"The mean difference in proportion of {s} words in summary is: {mean_diff}\")\n",
    "\n",
    "    # calculating the percentage difference between the mean and non-blockbuster\n",
    "    diff_percent = mean_diff / df_non_bb[s].mean()\n",
    "\n",
    "    # printing the results\n",
    "    print(\n",
    "        f\"The percentage difference in porportion of {s} words in summary between mean and non-blockbuster is: {diff_percent * 100}%\\n\"\n",
    "    )"
   ]
  },
  {
   "cell_type": "markdown",
   "id": "ef7757e3-2165-405d-9ce5-755864bde0b3",
   "metadata": {
    "tags": []
   },
   "source": [
    "#### positive\n",
    "- The independent t-test for positive words gives us a small p-value (<< 0.05), which indicates a statistically significant difference between the samples.  \n",
    "- Further, the mean difference tells us that blockbuster movies generally has smaller positive word proportion in summary than non-blockbuster.  \n",
    "- We can conclude that less positive plot components are more successful, as blockbuster movies have 15.21% less positive word usage than non-blockbuster movies. "
   ]
  },
  {
   "cell_type": "markdown",
   "id": "e77c7457-d6a1-42b8-8076-8139a2ffa789",
   "metadata": {},
   "source": [
    "#### negative\n",
    "- The independent t-test for negative words gives us a small p-value (<< 0.05), which indicates a statistically significant difference between the samples.  \n",
    "- Further, the mean difference tells us that blockbuster movies generally has higher negative word proportion in summary than non-blockbuster.  \n",
    "- We can conclude that more negative plot components are more successful, as blockbuster movies have 6.93% more negative word proportion than non-blockbuster movies. "
   ]
  },
  {
   "cell_type": "markdown",
   "id": "dc6ad6be-aca1-4615-9047-4b277ecc72da",
   "metadata": {},
   "source": [
    "#### violent\n",
    "- The independent t-test for violent words gives us a small p-value (<< 0.05), which indicates a statistically significant difference between the samples.  \n",
    "- Further, the mean difference tells us that blockbuster movies generally has higher violent word proportion in summary than non-blockbuster.  \n",
    "- We can conclude that more violent plot components are more successful as blockbuster movies have 25.4% higher violent word porportion than non-blockbuster movies. "
   ]
  },
  {
   "cell_type": "markdown",
   "id": "d3bb728a-20b1-48fe-853e-9d7d7c56da37",
   "metadata": {},
   "source": [
    "# Release Date"
   ]
  },
  {
   "cell_type": "markdown",
   "id": "5cea7f75",
   "metadata": {},
   "source": [
    "- This notebook intends to investigate the runtime of the [CMU Movie Summary Corpus](http://www.cs.cmu.edu/~ark/personas/) dataset.\n",
    "- The notebook will look at the distribution of release dates and how these correlate with a movie's revenue."
   ]
  },
  {
   "cell_type": "markdown",
   "id": "b38f1417",
   "metadata": {},
   "source": [
    "---\n",
    "### Summary\n",
    "- TODO"
   ]
  },
  {
   "cell_type": "markdown",
   "id": "b6d9f280",
   "metadata": {},
   "source": [
    "---\n",
    "### Data Processing"
   ]
  },
  {
   "cell_type": "markdown",
   "id": "4514b5ce",
   "metadata": {},
   "source": [
    "---\n",
    "### Loading Data"
   ]
  },
  {
   "cell_type": "code",
   "execution_count": null,
   "id": "3783f658",
   "metadata": {},
   "outputs": [],
   "source": [
    "data_folder = './data/'\n",
    "movies = pd.read_table(data_folder + 'movie.metadata.tsv', names=['wiki_id','freebase_id','name','release_date','box_office_revenue','length','language','country','genre'])"
   ]
  },
  {
   "cell_type": "code",
   "execution_count": null,
   "id": "33b1e339",
   "metadata": {},
   "outputs": [],
   "source": [
    "# extract if month and day are given in the release date\n",
    "def extract_day(x):\n",
    "    format = \"%Y-%m-%d\"\n",
    "    try:\n",
    "        res = bool(dt.strptime(x, format))\n",
    "    except ValueError:\n",
    "        res = False\n",
    "    return res\n",
    "\n",
    "def extract_month(x):\n",
    "    format = \"%Y-%m\"\n",
    "    try:\n",
    "        res = bool(dt.strptime(x, format))\n",
    "    except ValueError:\n",
    "        res = False\n",
    "    return res\n",
    "    \n",
    "# columns that indicate whether a month/ day was given in the dataset\n",
    "movies['default_month'] = movies['release_date'].apply(lambda x: extract_month(str(x)))\n",
    "movies['default_month_day'] = movies['release_date'].apply(lambda x: extract_day(str(x)))"
   ]
  },
  {
   "cell_type": "code",
   "execution_count": null,
   "id": "74b3a248",
   "metadata": {},
   "outputs": [],
   "source": [
    "# transform the string representation to date-time representation\n",
    "movies['release_date'] = pd.to_datetime(movies['release_date'], errors= 'coerce', utc= True)\n",
    "\n",
    "# extract year, month and day (if no month/day are given the default is set to 01.01)\n",
    "movies['year'] = pd.DatetimeIndex(movies['release_date']).year\n",
    "movies['month'] = pd.DatetimeIndex(movies['release_date']).month\n",
    "movies['day'] = pd.DatetimeIndex(movies['release_date']).day\n",
    "movies['release_date_ord'] = movies['release_date'].map(dt.toordinal)\n",
    "\n",
    "# filter out NaN/NaT values for box_office_revenue and release date\n",
    "movies = movies[movies['box_office_revenue'].notna()]\n",
    "movies = movies[movies['release_date'].notna()]"
   ]
  },
  {
   "cell_type": "markdown",
   "id": "08a42165",
   "metadata": {},
   "source": [
    "### Plots"
   ]
  },
  {
   "cell_type": "code",
   "execution_count": null,
   "id": "4bb051b4",
   "metadata": {},
   "outputs": [
    {
     "ename": "NameError",
     "evalue": "name 'plt' is not defined",
     "output_type": "error",
     "traceback": [
      "\u001b[1;31m---------------------------------------------------------------------------\u001b[0m\n",
      "\u001b[1;31mNameError\u001b[0m                                 Traceback (most recent call last)\n",
      "\u001b[1;32mc:\\Users\\ann-k\\ada-2022-project-teambadass\\main.ipynb Zelle 186\u001b[0m in \u001b[0;36m<cell line: 1>\u001b[1;34m()\u001b[0m\n",
      "\u001b[1;32m----> <a href='vscode-notebook-cell:/c%3A/Users/ann-k/ada-2022-project-teambadass/main.ipynb#Y356sZmlsZQ%3D%3D?line=0'>1</a>\u001b[0m plt\u001b[39m.\u001b[39mhist(movies[\u001b[39m'\u001b[39m\u001b[39myear\u001b[39m\u001b[39m'\u001b[39m], histtype\u001b[39m=\u001b[39m\u001b[39m'\u001b[39m\u001b[39mstep\u001b[39m\u001b[39m'\u001b[39m, bins \u001b[39m=\u001b[39m \u001b[39m50\u001b[39m)\n",
      "\u001b[0;32m      <a href='vscode-notebook-cell:/c%3A/Users/ann-k/ada-2022-project-teambadass/main.ipynb#Y356sZmlsZQ%3D%3D?line=1'>2</a>\u001b[0m plt\u001b[39m.\u001b[39mtitle(\u001b[39m\"\u001b[39m\u001b[39mNumber of movies released over the years\u001b[39m\u001b[39m\"\u001b[39m)\n",
      "\u001b[0;32m      <a href='vscode-notebook-cell:/c%3A/Users/ann-k/ada-2022-project-teambadass/main.ipynb#Y356sZmlsZQ%3D%3D?line=2'>3</a>\u001b[0m plt\u001b[39m.\u001b[39mxlabel(\u001b[39m\"\u001b[39m\u001b[39myears\u001b[39m\u001b[39m\"\u001b[39m)\n",
      "\n",
      "\u001b[1;31mNameError\u001b[0m: name 'plt' is not defined"
     ]
    }
   ],
   "source": [
    "plt.hist(movies['year'], histtype='step', bins = 50)\n",
    "plt.title(\"Number of movies released over the years\")\n",
    "plt.xlabel(\"years\")\n",
    "plt.ylabel(\"number of movies\")\n",
    "plt.show()"
   ]
  },
  {
   "cell_type": "code",
   "execution_count": null,
   "id": "003e1e6a",
   "metadata": {},
   "outputs": [],
   "source": [
    "# filter out month values that were generated as default\n",
    "month_data = movies.loc[(movies['default_month'] == True) | (movies['default_month_day'] == True)]\n",
    "\n",
    "plt.hist(month_data['month'], histtype='step', bins = 10)\n",
    "plt.title(\"Number of movies released over the months\")\n",
    "plt.xlabel(\"month\")\n",
    "plt.ylabel(\"number of movies\")\n",
    "plt.show()"
   ]
  },
  {
   "cell_type": "code",
   "execution_count": null,
   "id": "b2f9afb9",
   "metadata": {},
   "outputs": [],
   "source": [
    "plt.plot(month_data.groupby(['month'])['box_office_revenue'].mean())\n",
    "plt.title(\"Revenue per month\")\n",
    "plt.xlabel(\"month\")\n",
    "plt.ylabel(\"revenue\")\n",
    "plt.show()"
   ]
  },
  {
   "cell_type": "code",
   "execution_count": null,
   "id": "8497df6e",
   "metadata": {},
   "outputs": [],
   "source": [
    "# filter out day values that were generated as default\n",
    "day_data = movies.loc[movies['default_month_day'] == True]\n",
    "plt.hist(day_data['day'], histtype='step', bins = 10)\n",
    "plt.title(\"Number of movies released over the days of a month\")\n",
    "plt.xlabel(\"day\")\n",
    "plt.ylabel(\"number of movies\")\n",
    "plt.show()"
   ]
  },
  {
   "cell_type": "code",
   "execution_count": null,
   "id": "b7055f59",
   "metadata": {},
   "outputs": [],
   "source": [
    "plt.scatter(movies['year'], movies['box_office_revenue'])\n",
    "plt.title(\"Correlation between year and revenue\")\n",
    "plt.xlabel(\"year\")\n",
    "plt.ylabel(\"box office revenue\")\n",
    "plt.show()"
   ]
  },
  {
   "cell_type": "markdown",
   "id": "632bbfbd",
   "metadata": {},
   "source": [
    "### Statistics"
   ]
  },
  {
   "cell_type": "code",
   "execution_count": null,
   "id": "ac2d0665",
   "metadata": {},
   "outputs": [],
   "source": [
    "corr_pearsonr = stats.pearsonr(movies['year'],movies['box_office_revenue'])\n",
    "corr_spearmanr = stats.spearmanr(movies['year'],movies['box_office_revenue'])\n",
    "print('Pearson-test for Correlation between revenue and year: ', corr_pearsonr)\n",
    "print(corr_spearmanr)\n",
    "print('This indicates that there is a small, but significant (p < 0.05) positive correlation.')"
   ]
  },
  {
   "cell_type": "code",
   "execution_count": null,
   "id": "b134fe7f",
   "metadata": {},
   "outputs": [],
   "source": [
    "corr_pearsonr = stats.pearsonr(month_data['month'],month_data['box_office_revenue'])\n",
    "corr_spearmanr = stats.spearmanr(month_data['month'],month_data['box_office_revenue'])\n",
    "print('Pearson-test for Correlation between revenue and month: ', corr_pearsonr)\n",
    "print(corr_spearmanr)\n",
    "print('This indicates that there is a very small, but significant (p < 0.05) positive correlation.')"
   ]
  },
  {
   "cell_type": "code",
   "execution_count": null,
   "id": "2c1d4f0a",
   "metadata": {},
   "outputs": [],
   "source": [
    "corr_pearsonr = stats.pearsonr(day_data['day'],day_data['box_office_revenue'])\n",
    "corr_spearmanr = stats.spearmanr(day_data['day'],day_data['box_office_revenue'])\n",
    "print('Pearson-test for Correlation between revenue and day: ', corr_pearsonr)\n",
    "print(corr_spearmanr)\n",
    "print('Since p > 0.05 we do not reject the null-hypothesis that states that there is no correlation.')"
   ]
  },
  {
   "cell_type": "code",
   "execution_count": null,
   "id": "13b1d685",
   "metadata": {},
   "outputs": [],
   "source": [
    "res = stats.f_oneway(month_data['box_office_revenue'][month_data['month'] == 1],\n",
    "                month_data['box_office_revenue'][month_data['month'] == 2],\n",
    "                month_data['box_office_revenue'][month_data['month'] == 3],\n",
    "                month_data['box_office_revenue'][month_data['month'] == 4],\n",
    "                month_data['box_office_revenue'][month_data['month'] == 5],\n",
    "                month_data['box_office_revenue'][month_data['month'] == 6],\n",
    "                month_data['box_office_revenue'][month_data['month'] == 7],\n",
    "                month_data['box_office_revenue'][month_data['month'] == 8],\n",
    "                month_data['box_office_revenue'][month_data['month'] == 9],\n",
    "                month_data['box_office_revenue'][month_data['month'] == 10],\n",
    "                month_data['box_office_revenue'][month_data['month'] == 11],\n",
    "                month_data['box_office_revenue'][month_data['month'] == 12]\n",
    ")\n",
    "print(res)\n",
    "print('Since the p-value is < 0.05 the differences between some of the means appear to be statistically significant.')"
   ]
  },
  {
   "cell_type": "code",
   "execution_count": null,
   "id": "38dc2a0a",
   "metadata": {},
   "outputs": [],
   "source": [
    "res = stats.f_oneway(day_data['box_office_revenue'][day_data['day'] == 1],\n",
    "                day_data['box_office_revenue'][day_data['day'] == 2],\n",
    "                day_data['box_office_revenue'][day_data['day'] == 3],\n",
    "                day_data['box_office_revenue'][day_data['day'] == 4],\n",
    "                day_data['box_office_revenue'][day_data['day'] == 5],\n",
    "                day_data['box_office_revenue'][day_data['day'] == 6],\n",
    "                day_data['box_office_revenue'][day_data['day'] == 7],\n",
    "                day_data['box_office_revenue'][day_data['day'] == 8],\n",
    "                day_data['box_office_revenue'][day_data['day'] == 9],\n",
    "                day_data['box_office_revenue'][day_data['day'] == 10],\n",
    "                day_data['box_office_revenue'][day_data['day'] == 11],\n",
    "                day_data['box_office_revenue'][day_data['day'] == 12],\n",
    "                day_data['box_office_revenue'][day_data['day'] == 13],\n",
    "                day_data['box_office_revenue'][day_data['day'] == 14],\n",
    "                day_data['box_office_revenue'][day_data['day'] == 15],\n",
    "                day_data['box_office_revenue'][day_data['day'] == 16],\n",
    "                day_data['box_office_revenue'][day_data['day'] == 17],\n",
    "                day_data['box_office_revenue'][day_data['day'] == 18],\n",
    "                day_data['box_office_revenue'][day_data['day'] == 19],\n",
    "                day_data['box_office_revenue'][day_data['day'] == 20],\n",
    "                day_data['box_office_revenue'][day_data['day'] == 21],\n",
    "                day_data['box_office_revenue'][day_data['day'] == 22],\n",
    "                day_data['box_office_revenue'][day_data['day'] == 23],\n",
    "                day_data['box_office_revenue'][day_data['day'] == 24],\n",
    "                day_data['box_office_revenue'][day_data['day'] == 25],\n",
    "                day_data['box_office_revenue'][day_data['day'] == 26],\n",
    "                day_data['box_office_revenue'][day_data['day'] == 27],\n",
    "                day_data['box_office_revenue'][day_data['day'] == 28],\n",
    "                day_data['box_office_revenue'][day_data['day'] == 29],\n",
    "                day_data['box_office_revenue'][day_data['day'] == 30],\n",
    "                day_data['box_office_revenue'][day_data['day'] == 31]\n",
    ")\n",
    "print(res)\n",
    "print('Since the p-value is > 0.05 the differences between the means are considered as not statistically significant.')"
   ]
  }
 ],
 "metadata": {
  "kernelspec": {
   "display_name": "Python 3.9.12 ('base')",
   "language": "python",
   "name": "python3"
  },
  "language_info": {
   "codemirror_mode": {
    "name": "ipython",
    "version": 3
   },
   "file_extension": ".py",
   "mimetype": "text/x-python",
   "name": "python",
   "nbconvert_exporter": "python",
   "pygments_lexer": "ipython3",
   "version": "3.9.12"
  },
  "vscode": {
   "interpreter": {
    "hash": "c644cd62b853cb390effc1c1d0b2d0b1b8d9a0baca484cd874cced7143ddf131"
   }
  }
 },
 "nbformat": 4,
 "nbformat_minor": 5
}
