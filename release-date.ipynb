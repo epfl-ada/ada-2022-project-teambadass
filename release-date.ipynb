{
 "cells": [
  {
   "cell_type": "markdown",
   "metadata": {},
   "source": [
    "## Analysis of release date in the MCU movie data set"
   ]
  },
  {
   "cell_type": "markdown",
   "metadata": {},
   "source": []
  },
  {
   "cell_type": "code",
   "execution_count": 120,
   "metadata": {},
   "outputs": [],
   "source": [
    "# imports\n",
    "\n",
    "import pandas as pd\n",
    "import matplotlib.pyplot as plt\n",
    "import numpy as np\n",
    "import os"
   ]
  },
  {
   "cell_type": "code",
   "execution_count": 121,
   "metadata": {},
   "outputs": [],
   "source": [
    "# load data\n",
    "\n",
    "data = pd.read_csv('movie.metadata.tsv', header=None,  delimiter='\\t', on_bad_lines = 'warn') "
   ]
  },
  {
   "cell_type": "code",
   "execution_count": 122,
   "metadata": {},
   "outputs": [
    {
     "name": "stdout",
     "output_type": "stream",
     "text": [
      "Number of NaN values:  6902\n",
      "Number of NaN values:  6903\n"
     ]
    },
    {
     "data": {
      "text/html": [
       "<div>\n",
       "<style scoped>\n",
       "    .dataframe tbody tr th:only-of-type {\n",
       "        vertical-align: middle;\n",
       "    }\n",
       "\n",
       "    .dataframe tbody tr th {\n",
       "        vertical-align: top;\n",
       "    }\n",
       "\n",
       "    .dataframe thead th {\n",
       "        text-align: right;\n",
       "    }\n",
       "</style>\n",
       "<table border=\"1\" class=\"dataframe\">\n",
       "  <thead>\n",
       "    <tr style=\"text-align: right;\">\n",
       "      <th></th>\n",
       "      <th>wiki_ID</th>\n",
       "      <th>freebase_ID</th>\n",
       "      <th>movie_name</th>\n",
       "      <th>release_date</th>\n",
       "      <th>box_office_revenue</th>\n",
       "      <th>runtime</th>\n",
       "      <th>language</th>\n",
       "      <th>countries</th>\n",
       "      <th>genres</th>\n",
       "    </tr>\n",
       "  </thead>\n",
       "  <tbody>\n",
       "    <tr>\n",
       "      <th>0</th>\n",
       "      <td>975900</td>\n",
       "      <td>/m/03vyhn</td>\n",
       "      <td>Ghosts of Mars</td>\n",
       "      <td>2001-08-24 00:00:00+00:00</td>\n",
       "      <td>14010832.0</td>\n",
       "      <td>98.0</td>\n",
       "      <td>{\"/m/02h40lc\": \"English Language\"}</td>\n",
       "      <td>{\"/m/09c7w0\": \"United States of America\"}</td>\n",
       "      <td>{\"/m/01jfsb\": \"Thriller\", \"/m/06n90\": \"Science...</td>\n",
       "    </tr>\n",
       "    <tr>\n",
       "      <th>1</th>\n",
       "      <td>3196793</td>\n",
       "      <td>/m/08yl5d</td>\n",
       "      <td>Getting Away with Murder: The JonBenét Ramsey ...</td>\n",
       "      <td>2000-02-16 00:00:00+00:00</td>\n",
       "      <td>NaN</td>\n",
       "      <td>95.0</td>\n",
       "      <td>{\"/m/02h40lc\": \"English Language\"}</td>\n",
       "      <td>{\"/m/09c7w0\": \"United States of America\"}</td>\n",
       "      <td>{\"/m/02n4kr\": \"Mystery\", \"/m/03bxz7\": \"Biograp...</td>\n",
       "    </tr>\n",
       "    <tr>\n",
       "      <th>2</th>\n",
       "      <td>28463795</td>\n",
       "      <td>/m/0crgdbh</td>\n",
       "      <td>Brun bitter</td>\n",
       "      <td>1988-01-01 00:00:00+00:00</td>\n",
       "      <td>NaN</td>\n",
       "      <td>83.0</td>\n",
       "      <td>{\"/m/05f_3\": \"Norwegian Language\"}</td>\n",
       "      <td>{\"/m/05b4w\": \"Norway\"}</td>\n",
       "      <td>{\"/m/0lsxr\": \"Crime Fiction\", \"/m/07s9rl0\": \"D...</td>\n",
       "    </tr>\n",
       "    <tr>\n",
       "      <th>3</th>\n",
       "      <td>9363483</td>\n",
       "      <td>/m/0285_cd</td>\n",
       "      <td>White Of The Eye</td>\n",
       "      <td>1987-01-01 00:00:00+00:00</td>\n",
       "      <td>NaN</td>\n",
       "      <td>110.0</td>\n",
       "      <td>{\"/m/02h40lc\": \"English Language\"}</td>\n",
       "      <td>{\"/m/07ssc\": \"United Kingdom\"}</td>\n",
       "      <td>{\"/m/01jfsb\": \"Thriller\", \"/m/0glj9q\": \"Erotic...</td>\n",
       "    </tr>\n",
       "    <tr>\n",
       "      <th>4</th>\n",
       "      <td>261236</td>\n",
       "      <td>/m/01mrr1</td>\n",
       "      <td>A Woman in Flames</td>\n",
       "      <td>1983-01-01 00:00:00+00:00</td>\n",
       "      <td>NaN</td>\n",
       "      <td>106.0</td>\n",
       "      <td>{\"/m/04306rv\": \"German Language\"}</td>\n",
       "      <td>{\"/m/0345h\": \"Germany\"}</td>\n",
       "      <td>{\"/m/07s9rl0\": \"Drama\"}</td>\n",
       "    </tr>\n",
       "    <tr>\n",
       "      <th>5</th>\n",
       "      <td>13696889</td>\n",
       "      <td>/m/03cfc81</td>\n",
       "      <td>The Gangsters</td>\n",
       "      <td>1913-05-29 00:00:00+00:00</td>\n",
       "      <td>NaN</td>\n",
       "      <td>35.0</td>\n",
       "      <td>{\"/m/06ppq\": \"Silent film\", \"/m/02h40lc\": \"Eng...</td>\n",
       "      <td>{\"/m/09c7w0\": \"United States of America\"}</td>\n",
       "      <td>{\"/m/02hmvc\": \"Short Film\", \"/m/06ppq\": \"Silen...</td>\n",
       "    </tr>\n",
       "    <tr>\n",
       "      <th>6</th>\n",
       "      <td>18998739</td>\n",
       "      <td>/m/04jcqvw</td>\n",
       "      <td>The Sorcerer's Apprentice</td>\n",
       "      <td>2002-01-01 00:00:00+00:00</td>\n",
       "      <td>NaN</td>\n",
       "      <td>86.0</td>\n",
       "      <td>{\"/m/02h40lc\": \"English Language\"}</td>\n",
       "      <td>{\"/m/0hzlz\": \"South Africa\"}</td>\n",
       "      <td>{\"/m/0hqxf\": \"Family Film\", \"/m/01hmnh\": \"Fant...</td>\n",
       "    </tr>\n",
       "    <tr>\n",
       "      <th>7</th>\n",
       "      <td>10408933</td>\n",
       "      <td>/m/02qc0j7</td>\n",
       "      <td>Alexander's Ragtime Band</td>\n",
       "      <td>1938-08-16 00:00:00+00:00</td>\n",
       "      <td>3600000.0</td>\n",
       "      <td>106.0</td>\n",
       "      <td>{\"/m/02h40lc\": \"English Language\"}</td>\n",
       "      <td>{\"/m/09c7w0\": \"United States of America\"}</td>\n",
       "      <td>{\"/m/04t36\": \"Musical\", \"/m/01z4y\": \"Comedy\", ...</td>\n",
       "    </tr>\n",
       "    <tr>\n",
       "      <th>8</th>\n",
       "      <td>9997961</td>\n",
       "      <td>/m/06_y2j7</td>\n",
       "      <td>Contigo y aquí</td>\n",
       "      <td>1974-01-01 00:00:00+00:00</td>\n",
       "      <td>NaN</td>\n",
       "      <td>NaN</td>\n",
       "      <td>{\"/m/06nm1\": \"Spanish Language\"}</td>\n",
       "      <td>{\"/m/0jgd\": \"Argentina\"}</td>\n",
       "      <td>{\"/m/04t36\": \"Musical\", \"/m/07s9rl0\": \"Drama\",...</td>\n",
       "    </tr>\n",
       "    <tr>\n",
       "      <th>9</th>\n",
       "      <td>2345652</td>\n",
       "      <td>/m/075f66</td>\n",
       "      <td>City of the Dead</td>\n",
       "      <td>1960-01-01 00:00:00+00:00</td>\n",
       "      <td>NaN</td>\n",
       "      <td>76.0</td>\n",
       "      <td>{\"/m/02h40lc\": \"English Language\"}</td>\n",
       "      <td>{\"/m/07ssc\": \"United Kingdom\"}</td>\n",
       "      <td>{\"/m/03npn\": \"Horror\", \"/m/0fdjb\": \"Supernatur...</td>\n",
       "    </tr>\n",
       "  </tbody>\n",
       "</table>\n",
       "</div>"
      ],
      "text/plain": [
       "    wiki_ID freebase_ID                                         movie_name  \\\n",
       "0    975900   /m/03vyhn                                     Ghosts of Mars   \n",
       "1   3196793   /m/08yl5d  Getting Away with Murder: The JonBenét Ramsey ...   \n",
       "2  28463795  /m/0crgdbh                                        Brun bitter   \n",
       "3   9363483  /m/0285_cd                                   White Of The Eye   \n",
       "4    261236   /m/01mrr1                                  A Woman in Flames   \n",
       "5  13696889  /m/03cfc81                                      The Gangsters   \n",
       "6  18998739  /m/04jcqvw                          The Sorcerer's Apprentice   \n",
       "7  10408933  /m/02qc0j7                           Alexander's Ragtime Band   \n",
       "8   9997961  /m/06_y2j7                                     Contigo y aquí   \n",
       "9   2345652   /m/075f66                                   City of the Dead   \n",
       "\n",
       "               release_date  box_office_revenue  runtime  \\\n",
       "0 2001-08-24 00:00:00+00:00          14010832.0     98.0   \n",
       "1 2000-02-16 00:00:00+00:00                 NaN     95.0   \n",
       "2 1988-01-01 00:00:00+00:00                 NaN     83.0   \n",
       "3 1987-01-01 00:00:00+00:00                 NaN    110.0   \n",
       "4 1983-01-01 00:00:00+00:00                 NaN    106.0   \n",
       "5 1913-05-29 00:00:00+00:00                 NaN     35.0   \n",
       "6 2002-01-01 00:00:00+00:00                 NaN     86.0   \n",
       "7 1938-08-16 00:00:00+00:00           3600000.0    106.0   \n",
       "8 1974-01-01 00:00:00+00:00                 NaN      NaN   \n",
       "9 1960-01-01 00:00:00+00:00                 NaN     76.0   \n",
       "\n",
       "                                            language  \\\n",
       "0                 {\"/m/02h40lc\": \"English Language\"}   \n",
       "1                 {\"/m/02h40lc\": \"English Language\"}   \n",
       "2                 {\"/m/05f_3\": \"Norwegian Language\"}   \n",
       "3                 {\"/m/02h40lc\": \"English Language\"}   \n",
       "4                  {\"/m/04306rv\": \"German Language\"}   \n",
       "5  {\"/m/06ppq\": \"Silent film\", \"/m/02h40lc\": \"Eng...   \n",
       "6                 {\"/m/02h40lc\": \"English Language\"}   \n",
       "7                 {\"/m/02h40lc\": \"English Language\"}   \n",
       "8                   {\"/m/06nm1\": \"Spanish Language\"}   \n",
       "9                 {\"/m/02h40lc\": \"English Language\"}   \n",
       "\n",
       "                                   countries  \\\n",
       "0  {\"/m/09c7w0\": \"United States of America\"}   \n",
       "1  {\"/m/09c7w0\": \"United States of America\"}   \n",
       "2                     {\"/m/05b4w\": \"Norway\"}   \n",
       "3             {\"/m/07ssc\": \"United Kingdom\"}   \n",
       "4                    {\"/m/0345h\": \"Germany\"}   \n",
       "5  {\"/m/09c7w0\": \"United States of America\"}   \n",
       "6               {\"/m/0hzlz\": \"South Africa\"}   \n",
       "7  {\"/m/09c7w0\": \"United States of America\"}   \n",
       "8                   {\"/m/0jgd\": \"Argentina\"}   \n",
       "9             {\"/m/07ssc\": \"United Kingdom\"}   \n",
       "\n",
       "                                              genres  \n",
       "0  {\"/m/01jfsb\": \"Thriller\", \"/m/06n90\": \"Science...  \n",
       "1  {\"/m/02n4kr\": \"Mystery\", \"/m/03bxz7\": \"Biograp...  \n",
       "2  {\"/m/0lsxr\": \"Crime Fiction\", \"/m/07s9rl0\": \"D...  \n",
       "3  {\"/m/01jfsb\": \"Thriller\", \"/m/0glj9q\": \"Erotic...  \n",
       "4                            {\"/m/07s9rl0\": \"Drama\"}  \n",
       "5  {\"/m/02hmvc\": \"Short Film\", \"/m/06ppq\": \"Silen...  \n",
       "6  {\"/m/0hqxf\": \"Family Film\", \"/m/01hmnh\": \"Fant...  \n",
       "7  {\"/m/04t36\": \"Musical\", \"/m/01z4y\": \"Comedy\", ...  \n",
       "8  {\"/m/04t36\": \"Musical\", \"/m/07s9rl0\": \"Drama\",...  \n",
       "9  {\"/m/03npn\": \"Horror\", \"/m/0fdjb\": \"Supernatur...  "
      ]
     },
     "execution_count": 122,
     "metadata": {},
     "output_type": "execute_result"
    }
   ],
   "source": [
    "# preparations of the data\n",
    "\n",
    "data.columns = ['wiki_ID', 'freebase_ID', 'movie_name', 'release_date', 'box_office_revenue', 'runtime', 'language', 'countries', 'genres']\n",
    "number_nan_values = data['release_date'].isna().sum()\n",
    "print('Number of NaN values: ', number_nan_values)\n",
    "\n",
    "# transform the string representation to date-time representation\n",
    "# coerce sets invalid parsing to NaT, this applies for one date which is out of bounds\n",
    "data['release_date'] = pd.to_datetime(data['release_date'], errors= 'coerce', utc= True)\n",
    "\n",
    "number_nan_values = data['release_date'].isnull().sum()\n",
    "print('Number of NaN values: ', number_nan_values)\n",
    "\n",
    "data.head(10)\n"
   ]
  },
  {
   "cell_type": "code",
   "execution_count": 123,
   "metadata": {},
   "outputs": [
    {
     "name": "stdout",
     "output_type": "stream",
     "text": [
      "min                1888-01-01 00:00:00+00:00\n",
      "max                2016-06-08 00:00:00+00:00\n",
      "mean     1977-10-12 11:46:07.610037696+00:00\n",
      "median             1985-05-18 12:00:00+00:00\n",
      "Name: release_date, dtype: datetime64[ns, UTC]\n",
      "1980-06-20T00:00:00.000000000\n"
     ]
    }
   ],
   "source": [
    "# statistics of the release date\n",
    "print(data['release_date'].agg(['min', 'max', 'mean', 'median']))\n",
    "quantils = data['release_date'].astype('int64').quantile().astype('datetime64[ns]')\n",
    "print(quantils)"
   ]
  },
  {
   "cell_type": "code",
   "execution_count": 124,
   "metadata": {},
   "outputs": [
    {
     "ename": "TypeError",
     "evalue": "'str' object is not callable",
     "output_type": "error",
     "traceback": [
      "\u001b[1;31m---------------------------------------------------------------------------\u001b[0m",
      "\u001b[1;31mTypeError\u001b[0m                                 Traceback (most recent call last)",
      "\u001b[1;32mc:\\Users\\ann-k\\OneDrive\\Dokumente\\uni\\epfl\\Applied Data Analysis\\MovieSummaries\\release-date.ipynb Zelle 7\u001b[0m in \u001b[0;36m<cell line: 6>\u001b[1;34m()\u001b[0m\n\u001b[0;32m      <a href='vscode-notebook-cell:/c%3A/Users/ann-k/OneDrive/Dokumente/uni/epfl/Applied%20Data%20Analysis/MovieSummaries/release-date.ipynb#X13sZmlsZQ%3D%3D?line=3'>4</a>\u001b[0m plt\u001b[39m.\u001b[39mtitle(\u001b[39m\"\u001b[39m\u001b[39mNumber of movies released over the years\u001b[39m\u001b[39m\"\u001b[39m)\n\u001b[0;32m      <a href='vscode-notebook-cell:/c%3A/Users/ann-k/OneDrive/Dokumente/uni/epfl/Applied%20Data%20Analysis/MovieSummaries/release-date.ipynb#X13sZmlsZQ%3D%3D?line=4'>5</a>\u001b[0m plt\u001b[39m.\u001b[39mxlabel(\u001b[39m\"\u001b[39m\u001b[39myears\u001b[39m\u001b[39m\"\u001b[39m)\n\u001b[1;32m----> <a href='vscode-notebook-cell:/c%3A/Users/ann-k/OneDrive/Dokumente/uni/epfl/Applied%20Data%20Analysis/MovieSummaries/release-date.ipynb#X13sZmlsZQ%3D%3D?line=5'>6</a>\u001b[0m plt\u001b[39m.\u001b[39;49mylabel(\u001b[39m\"\u001b[39;49m\u001b[39myears\u001b[39;49m\u001b[39m\"\u001b[39;49m)\n\u001b[0;32m      <a href='vscode-notebook-cell:/c%3A/Users/ann-k/OneDrive/Dokumente/uni/epfl/Applied%20Data%20Analysis/MovieSummaries/release-date.ipynb#X13sZmlsZQ%3D%3D?line=6'>7</a>\u001b[0m plt\u001b[39m.\u001b[39mshow()\n",
      "\u001b[1;31mTypeError\u001b[0m: 'str' object is not callable"
     ]
    },
    {
     "data": {
      "image/png": "[encoded data removed]",
      "text/plain": [
       "<Figure size 432x288 with 1 Axes>"
      ]
     },
     "metadata": {
      "needs_background": "light"
     },
     "output_type": "display_data"
    }
   ],
   "source": [
    "# plots\n",
    "plt.plot(data['release_date'].groupby([data[\"release_date\"].dt.year]).count())\n",
    "\n",
    "plt.title(\"Number of movies released over the years\")\n",
    "plt.xlabel(\"years\")\n",
    "plt.ylabel(\"years\")\n",
    "plt.show()"
   ]
  },
  {
   "cell_type": "code",
   "execution_count": null,
   "metadata": {},
   "outputs": [
    {
     "data": {
      "text/plain": [
       "[<matplotlib.lines.Line2D at 0x26600ac6760>]"
      ]
     },
     "execution_count": 102,
     "metadata": {},
     "output_type": "execute_result"
    },
    {
     "data": {
      "image/png": "[encoded data removed]",
      "text/plain": [
       "<Figure size 432x288 with 1 Axes>"
      ]
     },
     "metadata": {
      "needs_background": "light"
     },
     "output_type": "display_data"
    }
   ],
   "source": [
    "# if no month/day is given the default january, the first\n",
    "plt.plot(data['release_date'].groupby([data[\"release_date\"].dt.month]).count())"
   ]
  },
  {
   "cell_type": "code",
   "execution_count": null,
   "metadata": {},
   "outputs": [],
   "source": []
  },
  {
   "cell_type": "code",
   "execution_count": null,
   "metadata": {},
   "outputs": [],
   "source": []
  }
 ],
 "metadata": {
  "kernelspec": {
   "display_name": "Python 3.9.12 ('base')",
   "language": "python",
   "name": "python3"
  },
  "language_info": {
   "codemirror_mode": {
    "name": "ipython",
    "version": 3
   },
   "file_extension": ".py",
   "mimetype": "text/x-python",
   "name": "python",
   "nbconvert_exporter": "python",
   "pygments_lexer": "ipython3",
   "version": "3.9.12"
  },
  "orig_nbformat": 4,
  "vscode": {
   "interpreter": {
    "hash": "c644cd62b853cb390effc1c1d0b2d0b1b8d9a0baca484cd874cced7143ddf131"
   }
  }
 },
 "nbformat": 4,
 "nbformat_minor": 2
}
